{
 "cells": [
  {
   "cell_type": "markdown",
   "metadata": {},
   "source": [
    "### Import required libraries"
   ]
  },
  {
   "cell_type": "code",
   "execution_count": 1,
   "metadata": {
    "inputHidden": false,
    "outputHidden": false
   },
   "outputs": [],
   "source": [
    "import numpy as np\n",
    "import pandas as pd"
   ]
  },
  {
   "cell_type": "code",
   "execution_count": 2,
   "metadata": {
    "inputHidden": false,
    "outputHidden": false
   },
   "outputs": [
    {
     "data": {
      "text/plain": [
       "(2274, 6)"
      ]
     },
     "execution_count": 2,
     "metadata": {},
     "output_type": "execute_result"
    }
   ],
   "source": [
    "df = pd.read_excel('data/life_tables.xlsx')\n",
    "df.shape"
   ]
  },
  {
   "cell_type": "code",
   "execution_count": 3,
   "metadata": {},
   "outputs": [
    {
     "data": {
      "text/html": [
       "<div>\n",
       "<style scoped>\n",
       "    .dataframe tbody tr th:only-of-type {\n",
       "        vertical-align: middle;\n",
       "    }\n",
       "\n",
       "    .dataframe tbody tr th {\n",
       "        vertical-align: top;\n",
       "    }\n",
       "\n",
       "    .dataframe thead th {\n",
       "        text-align: right;\n",
       "    }\n",
       "</style>\n",
       "<table border=\"1\" class=\"dataframe\">\n",
       "  <thead>\n",
       "    <tr style=\"text-align: right;\">\n",
       "      <th></th>\n",
       "      <th>table</th>\n",
       "      <th>gender</th>\n",
       "      <th>age</th>\n",
       "      <th>qx</th>\n",
       "      <th>lx</th>\n",
       "      <th>dx</th>\n",
       "    </tr>\n",
       "  </thead>\n",
       "  <tbody>\n",
       "    <tr>\n",
       "      <th>0</th>\n",
       "      <td>AT2000 (Suavizada 10%)</td>\n",
       "      <td>F</td>\n",
       "      <td>0</td>\n",
       "      <td>0.001615</td>\n",
       "      <td>1000000.000000</td>\n",
       "      <td>1615.000000</td>\n",
       "    </tr>\n",
       "    <tr>\n",
       "      <th>1</th>\n",
       "      <td>AT2000 (Suavizada 10%)</td>\n",
       "      <td>F</td>\n",
       "      <td>1</td>\n",
       "      <td>0.000680</td>\n",
       "      <td>998385.000000</td>\n",
       "      <td>678.901800</td>\n",
       "    </tr>\n",
       "    <tr>\n",
       "      <th>2</th>\n",
       "      <td>AT2000 (Suavizada 10%)</td>\n",
       "      <td>F</td>\n",
       "      <td>2</td>\n",
       "      <td>0.000353</td>\n",
       "      <td>997706.098200</td>\n",
       "      <td>352.190253</td>\n",
       "    </tr>\n",
       "    <tr>\n",
       "      <th>3</th>\n",
       "      <td>AT2000 (Suavizada 10%)</td>\n",
       "      <td>F</td>\n",
       "      <td>3</td>\n",
       "      <td>0.000261</td>\n",
       "      <td>997353.907947</td>\n",
       "      <td>260.309370</td>\n",
       "    </tr>\n",
       "    <tr>\n",
       "      <th>4</th>\n",
       "      <td>AT2000 (Suavizada 10%)</td>\n",
       "      <td>F</td>\n",
       "      <td>4</td>\n",
       "      <td>0.000209</td>\n",
       "      <td>997093.598577</td>\n",
       "      <td>208.392562</td>\n",
       "    </tr>\n",
       "  </tbody>\n",
       "</table>\n",
       "</div>"
      ],
      "text/plain": [
       "                     table gender  age        qx              lx           dx\n",
       "0   AT2000 (Suavizada 10%)      F    0  0.001615  1000000.000000  1615.000000\n",
       "1   AT2000 (Suavizada 10%)      F    1  0.000680   998385.000000   678.901800\n",
       "2   AT2000 (Suavizada 10%)      F    2  0.000353   997706.098200   352.190253\n",
       "3   AT2000 (Suavizada 10%)      F    3  0.000261   997353.907947   260.309370\n",
       "4   AT2000 (Suavizada 10%)      F    4  0.000209   997093.598577   208.392562"
      ]
     },
     "execution_count": 3,
     "metadata": {},
     "output_type": "execute_result"
    }
   ],
   "source": [
    "df.head()"
   ]
  },
  {
   "cell_type": "code",
   "execution_count": 4,
   "metadata": {
    "inputHidden": false,
    "outputHidden": false
   },
   "outputs": [
    {
     "data": {
      "text/plain": [
       "Index(['table', 'gender', 'age', 'qx', 'lx', 'dx'], dtype='object')"
      ]
     },
     "execution_count": 4,
     "metadata": {},
     "output_type": "execute_result"
    }
   ],
   "source": [
    "df.columns"
   ]
  },
  {
   "cell_type": "code",
   "execution_count": 5,
   "metadata": {},
   "outputs": [
    {
     "data": {
      "text/plain": [
       "[{'label': ' AT2000 (Suavizada 10%)', 'value': 1},\n",
       " {'label': ' AT2000', 'value': 2},\n",
       " {'label': 'AT-49', 'value': 3},\n",
       " {'label': 'BR-EMSmt-v.2010', 'value': 4},\n",
       " {'label': 'BR-EMSsb-v.2010', 'value': 5},\n",
       " {'label': 'BR-EMSmt-v.2015', 'value': 6},\n",
       " {'label': 'BR-EMSsb-v.2015', 'value': 7},\n",
       " {'label': 'IBGE 2006', 'value': 8},\n",
       " {'label': 'IBGE 2008', 'value': 9},\n",
       " {'label': 'IBGE 2007', 'value': 10},\n",
       " {'label': 'IBGE 2009', 'value': 11}]"
      ]
     },
     "execution_count": 5,
     "metadata": {},
     "output_type": "execute_result"
    }
   ],
   "source": [
    "tables = list(df['table'].unique())\n",
    "\n",
    "[{'value':i+1, 'label':tb} for i, tb in enumerate(tables)]"
   ]
  },
  {
   "cell_type": "code",
   "execution_count": 6,
   "metadata": {},
   "outputs": [],
   "source": [
    "df_interest = pd.read_excel(\"data/risk_free.xlsx\")"
   ]
  },
  {
   "cell_type": "code",
   "execution_count": 7,
   "metadata": {},
   "outputs": [
    {
     "data": {
      "text/plain": [
       "0.0416"
      ]
     },
     "execution_count": 7,
     "metadata": {},
     "output_type": "execute_result"
    }
   ],
   "source": [
    "df_interest[df_interest['month'] == df_interest['month'].max()]['selic_year'].values[0]/100"
   ]
  },
  {
   "cell_type": "code",
   "execution_count": 8,
   "metadata": {},
   "outputs": [
    {
     "data": {
      "text/plain": [
       "0.0"
      ]
     },
     "execution_count": 8,
     "metadata": {},
     "output_type": "execute_result"
    }
   ],
   "source": [
    "df['lx'].values.min()"
   ]
  },
  {
   "cell_type": "code",
   "execution_count": 9,
   "metadata": {},
   "outputs": [],
   "source": [
    "df_ = df.query('table == \" AT2000\" and gender == \"M\"').reset_index(drop=True).copy()"
   ]
  },
  {
   "cell_type": "code",
   "execution_count": 10,
   "metadata": {},
   "outputs": [
    {
     "data": {
      "text/plain": [
       "(116,)"
      ]
     },
     "execution_count": 10,
     "metadata": {},
     "output_type": "execute_result"
    }
   ],
   "source": [
    "df_['lx'].values.shape"
   ]
  },
  {
   "cell_type": "code",
   "execution_count": 11,
   "metadata": {},
   "outputs": [],
   "source": [
    "def pv_calc(i_rate, n):\n",
    "    '''\n",
    "    This function calculates the present value factor v\n",
    "    Input:\n",
    "        i_rate: Interest rate --> float\n",
    "        n: period --> int or np.array\n",
    "    Output:\n",
    "        A float or a vector of floats with the factor (1+rate)**(-n)\n",
    "    '''\n",
    "    return 1/(1+i_rate)**n\n",
    "\n",
    "def calc_Dx(age, lx, i_rate):\n",
    "    '''\n",
    "    This function calculated the Dx commutation\n",
    "    Input:\n",
    "          age: a value or a vector of age values --> int or np.array\n",
    "          lx: a value or a vector with the number of survivals in an specific age --> int or np.array\n",
    "          i_rate: Interest rate --> float\n",
    "    Output:\n",
    "          An np.array with Dx commutation\n",
    "    '''\n",
    "    return lx*pv_calc(i_rate, age)\n",
    "\n",
    "def calc_Cx(age, dx, i_rate):\n",
    "    '''\n",
    "    This function calculated the Cx commutation\n",
    "    Input:\n",
    "          age: a value or a vector of age values --> int or np.array\n",
    "          dx: a value or a vector with the number of deaths in an specific age --> int or np.array\n",
    "          i_rate: Interest rate --> float\n",
    "    Output:\n",
    "          An np.array with Cx commutation\n",
    "    '''\n",
    "    age_ = age + 1\n",
    "    return dx*pv_calc(i_rate, age_)\n",
    "    \n",
    "def calc_Mx(Cx, ini=0):\n",
    "    '''\n",
    "    This function calculated the Nx commutation\n",
    "    Input:\n",
    "          Cx: An np.array with Dx commutations calculated --> np.array\n",
    "          ini: Starting point of the commutation (it would be the first age to be used) --> int\n",
    "    Output:\n",
    "          An np.array with Mx commutation\n",
    "    '''\n",
    "    size = Cx.shape[0]\n",
    "    if ini > size - 1:\n",
    "        return 0\n",
    "    else:\n",
    "        Cx_ = Cx[ini:].copy()\n",
    "        return Cx_[::-1].cumsum()[::-1]\n",
    "\n",
    "def calc_Nx(Dx, ini=0):\n",
    "    '''\n",
    "    Thist function calculated the Nx commutation\n",
    "    Input:\n",
    "          Dx: An np.array with Dx commutations calculated --> np.array\n",
    "          ini: Starting point of the commutation (it would be the first age to be used) --> int\n",
    "    Output:\n",
    "          An np.array with Nx commutation\n",
    "    '''\n",
    "    size = Dx.shape[0]\n",
    "    if ini > size - 1:\n",
    "        return 0\n",
    "    else:\n",
    "        Dx_ = Dx[ini:].copy()\n",
    "        return Dx_[::-1].cumsum()[::-1]\n",
    "\n",
    "def comut_calc(df, i_rate, which=\"Dx\"):\n",
    "    '''\n",
    "    This function calculates Dx and Cx commutations based on a life table\n",
    "    Input:\n",
    "          df: life table dataframe --> pd.DaraFrame\n",
    "          i_rate: interest rate --> float\n",
    "          which: Commutation to be calculated (Dx or Cx) --> string\n",
    "    Output:\n",
    "          An array of commutations --> np.array\n",
    "    '''\n",
    "    age = df['age'].values\n",
    "    lx = df['lx'].values\n",
    "    dx = df['dx'].values\n",
    "    \n",
    "    if which == \"Dx\":\n",
    "        return calc_Dx(age, lx, i_rate)\n",
    "    elif which == \"Cx\":\n",
    "        return calc_Cx(age, dx, i_rate)"
   ]
  },
  {
   "cell_type": "code",
   "execution_count": 12,
   "metadata": {},
   "outputs": [],
   "source": [
    "Dx = comut_calc(df_, 0.0416)\n",
    "Cx = comut_calc(df_, 0.0416, 'Cx')\n",
    "\n",
    "Mx = calc_Mx(Cx)\n",
    "Nx = calc_Nx(Dx)"
   ]
  },
  {
   "cell_type": "code",
   "execution_count": 13,
   "metadata": {},
   "outputs": [
    {
     "data": {
      "text/plain": [
       "0.001662205643568587"
      ]
     },
     "execution_count": 13,
     "metadata": {},
     "output_type": "execute_result"
    }
   ],
   "source": [
    "Dx.min()"
   ]
  },
  {
   "cell_type": "code",
   "execution_count": 14,
   "metadata": {},
   "outputs": [],
   "source": [
    "def calc_pup(NMx, Dx, dif, term, antecip=True, age=None, prod='a'):\n",
    "    '''\n",
    "    This function calcultes the net sigle premium of an Annuity, Insurance or Endowment\n",
    "    Input: \n",
    "           NMx: Commutation NMX (Nx for annuities, Mx for Insurance) --> np.array\n",
    "           Dx: Dx Commutation  --> np.array\n",
    "           dif: deferment period --> int\n",
    "           term: product term --> int\n",
    "           antecip: True if the annuity is anticipated --> Boolean\n",
    "           age: List of ages to be selected, not required --> List\n",
    "           prod: A, a, E for Insurance, annuity, Endowment\n",
    "           \n",
    "    Output: \n",
    "          A vector np.array of net sigle premiums --> np.array\n",
    "    '''\n",
    "\n",
    "    #Antecip or postecip, for insurance it is always post\n",
    "    add_one = 0 if antecip == True or prod == 'A' else 1\n",
    "    \n",
    "    #Copes with the differences between whole life and term products\n",
    "    if term == np.inf:\n",
    "        ini_ = dif + add_one if dif + add_one > 0 else None\n",
    "        ini_sign = ini_ if ini_ is None else - ini_\n",
    "        #Insurance and annuities\n",
    "        #(Mx+n) / Dx or (Nx+n) / Dx, n = 0,1,2,3,...\n",
    "        result = NMx[ini_:] / Dx[:ini_sign] \n",
    "    else:\n",
    "        #Copes with deferment period\n",
    "    \n",
    "        if prod == 'D' or prod == 'd':\n",
    "            dif = 0\n",
    "            add_one = 0\n",
    "            \n",
    "        #Avoid a dif + term greater than life table's size\n",
    "        term_ = min(term, NMx.shape[0] - 1 - dif - add_one)\n",
    "        ini_dif = dif + term_ + add_one\n",
    "        ini_term = dif + add_one\n",
    "        len_ = NMx[ini_dif:].shape[0]\n",
    "        fin_term = ini_term + len_\n",
    "        \n",
    "        if prod == 'D':\n",
    "            #Endowment\n",
    "            #(Mx+m - Mx+m + Dx+m) / Dx\n",
    "            result = (NMx[ini_term:fin_term] - NMx[ini_dif:] + Dx[ini_dif:]) / Dx[:len_]\n",
    "        elif prod == 'd':\n",
    "            #Endowment\n",
    "            #(Dx+m) / Dx\n",
    "            result = Dx[ini_dif:] / Dx[:len_]\n",
    "        else:\n",
    "            #Insurance and annuities\n",
    "            #(Mx+n - Mx+n+m) / Dx or (Nx+n - Nx+n+m) / Dx, n = 0,1,2,3,...\n",
    "            result = (NMx[ini_term:fin_term] - NMx[ini_dif:]) / Dx[:len_]\n",
    "            \n",
    "    return result if age is None else result[age]"
   ]
  },
  {
   "cell_type": "code",
   "execution_count": 20,
   "metadata": {},
   "outputs": [],
   "source": [
    "dotal_misto = calc_pup(Mx, Dx, 0, 10, True, None, 'D')\n",
    "dotal_puro  = calc_pup(Mx, Dx, 0, 20, True, None, 'd')\n",
    "seguro = calc_pup(Mx, Dx, 2, 20, True, None, 'A')\n",
    "anuidade_antecip = calc_pup(Nx, Dx, 2, 15, True, None, 'a')\n",
    "anuidade_postecip = calc_pup(Nx, Dx, 2, 15, True, None, 'a')"
   ]
  },
  {
   "cell_type": "code",
   "execution_count": 30,
   "metadata": {},
   "outputs": [],
   "source": [
    "max_shape = max(dotal_misto.shape[0], \n",
    "                dotal_puro.shape[0], \n",
    "                seguro.shape[0], \n",
    "                anuidade_antecip.shape[0], \n",
    "                anuidade_postecip.shape[0])"
   ]
  },
  {
   "cell_type": "code",
   "execution_count": 47,
   "metadata": {},
   "outputs": [],
   "source": [
    "list_prods = [dotal_misto, dotal_puro, seguro, \n",
    "              anuidade_antecip, anuidade_postecip]\n",
    "\n",
    "list_prods_out = []\n",
    "\n",
    "for prod in list_prods:\n",
    "    zeros = np.zeros((max_shape, ), dtype=prod.dtype)\n",
    "    zeros[:prod.shape[0]] = prod\n",
    "    \n",
    "    list_prods_out.append(zeros)\n",
    "    "
   ]
  },
  {
   "cell_type": "code",
   "execution_count": 49,
   "metadata": {},
   "outputs": [
    {
     "data": {
      "text/plain": [
       "5"
      ]
     },
     "execution_count": 49,
     "metadata": {},
     "output_type": "execute_result"
    }
   ],
   "source": [
    "len(list_prods_out)"
   ]
  },
  {
   "cell_type": "code",
   "execution_count": 51,
   "metadata": {},
   "outputs": [],
   "source": [
    "out_simu = pd.DataFrame().from_dict({'dotal_misto_10':list_prods_out[0],\n",
    "                          'dotal_puro_20':list_prods_out[1],\n",
    "                          'seguro_2_20':list_prods_out[2],\n",
    "                          'anu_antecip_2_15':list_prods_out[3],\n",
    "                          'anu_postecip_2_15':list_prods_out[4]})"
   ]
  },
  {
   "cell_type": "code",
   "execution_count": 52,
   "metadata": {},
   "outputs": [],
   "source": [
    "out_simu.to_excel('data/simu.xlsx', index=False)\n"
   ]
  }
 ],
 "metadata": {
  "kernel_info": {
   "name": "python3"
  },
  "kernelspec": {
   "display_name": "Python 3",
   "language": "python",
   "name": "python3"
  },
  "language_info": {
   "codemirror_mode": {
    "name": "ipython",
    "version": 3
   },
   "file_extension": ".py",
   "mimetype": "text/x-python",
   "name": "python",
   "nbconvert_exporter": "python",
   "pygments_lexer": "ipython3",
   "version": "3.5.6"
  }
 },
 "nbformat": 4,
 "nbformat_minor": 4
}
