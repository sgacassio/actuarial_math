{
 "cells": [
  {
   "cell_type": "markdown",
   "metadata": {},
   "source": [
    "### Import required libraries"
   ]
  },
  {
   "cell_type": "code",
   "execution_count": 30,
   "metadata": {},
   "outputs": [],
   "source": [
    "#Use if you don't have this packages intalled\n",
    "#!pip install numpy\n",
    "#!pip install pandas\n",
    "#!pip install plotly"
   ]
  },
  {
   "cell_type": "code",
   "execution_count": 31,
   "metadata": {
    "inputHidden": false,
    "outputHidden": false
   },
   "outputs": [],
   "source": [
    "import numpy as np\n",
    "import pandas as pd\n",
    "import plotly.graph_objects as go\n",
    "import plotly.express as px\n",
    "%matplotlib inline"
   ]
  },
  {
   "cell_type": "code",
   "execution_count": 32,
   "metadata": {
    "inputHidden": false,
    "outputHidden": false
   },
   "outputs": [
    {
     "data": {
      "text/plain": [
       "(2274, 6)"
      ]
     },
     "execution_count": 32,
     "metadata": {},
     "output_type": "execute_result"
    }
   ],
   "source": [
    "#Import life tables\n",
    "df = pd.read_excel('data/life_tables.xlsx')\n",
    "df.shape"
   ]
  },
  {
   "cell_type": "code",
   "execution_count": 33,
   "metadata": {
    "inputHidden": false,
    "outputHidden": false
   },
   "outputs": [
    {
     "data": {
      "text/plain": [
       "Index(['table', 'gender', 'age', 'qx', 'lx', 'dx'], dtype='object')"
      ]
     },
     "execution_count": 33,
     "metadata": {},
     "output_type": "execute_result"
    }
   ],
   "source": [
    "df.columns"
   ]
  },
  {
   "cell_type": "code",
   "execution_count": 34,
   "metadata": {},
   "outputs": [
    {
     "data": {
      "text/plain": [
       "[{'label': ' AT2000 (Suavizada 10%)', 'value': 1},\n",
       " {'label': ' AT2000', 'value': 2},\n",
       " {'label': 'AT-49', 'value': 3},\n",
       " {'label': 'BR-EMSmt-v.2010', 'value': 4},\n",
       " {'label': 'BR-EMSsb-v.2010', 'value': 5},\n",
       " {'label': 'BR-EMSmt-v.2015', 'value': 6},\n",
       " {'label': 'BR-EMSsb-v.2015', 'value': 7},\n",
       " {'label': 'IBGE 2006', 'value': 8},\n",
       " {'label': 'IBGE 2008', 'value': 9},\n",
       " {'label': 'IBGE 2007', 'value': 10},\n",
       " {'label': 'IBGE 2009', 'value': 11}]"
      ]
     },
     "execution_count": 34,
     "metadata": {},
     "output_type": "execute_result"
    }
   ],
   "source": [
    "tables = list(df['table'].unique())\n",
    "[{'value':i+1, 'label':tb} for i, tb in enumerate(tables)]"
   ]
  },
  {
   "cell_type": "code",
   "execution_count": 35,
   "metadata": {},
   "outputs": [],
   "source": [
    "#selic\n",
    "df_interest = pd.read_excel(\"data/risk_free.xlsx\")"
   ]
  },
  {
   "cell_type": "code",
   "execution_count": 36,
   "metadata": {},
   "outputs": [
    {
     "data": {
      "text/plain": [
       "0.0416"
      ]
     },
     "execution_count": 36,
     "metadata": {},
     "output_type": "execute_result"
    }
   ],
   "source": [
    "df_interest[df_interest['month'] == df_interest['month'].max()]['selic_year'].values[0]/100"
   ]
  },
  {
   "cell_type": "code",
   "execution_count": 63,
   "metadata": {},
   "outputs": [
    {
     "data": {
      "text/plain": [
       "0"
      ]
     },
     "execution_count": 63,
     "metadata": {},
     "output_type": "execute_result"
    }
   ],
   "source": [
    "np.array([1,2,1,4,5]).argmin()"
   ]
  },
  {
   "cell_type": "code",
   "execution_count": 147,
   "metadata": {},
   "outputs": [],
   "source": [
    "class InsuranceHandler():\n",
    "    '''\n",
    "        This class is responsible to calculated a range of variable related to insurance pricing,\n",
    "        such as net level premium, reserves.\n",
    "        Four different products area allowed each one with its variations:\n",
    "            Pure Endowment: d\n",
    "            Endowment:D\n",
    "            Life Insurance: A\n",
    "            Annuity: a\n",
    "                        \n",
    "    '''\n",
    "    def __init__(self, df):\n",
    "        '''\n",
    "            Class constructor:\n",
    "                Input: pandas dataframe --> required\n",
    "            All variables are populated according to the methods used.\n",
    "            Example:\n",
    "                When calc_premium is called all the variables required on premiums calculation are\n",
    "                populated.\n",
    "        '''\n",
    "        #all life tables\n",
    "        self.df = df\n",
    "        #filtered life table which will be used on the calculations\n",
    "        self.df_ = None\n",
    "        #interest rate provided\n",
    "        self.last_i_rate_used = None\n",
    "        #max age of the table\n",
    "        self.max_age = None\n",
    "        #commutations\n",
    "        self.Dx = None\n",
    "        self.Cx = None\n",
    "        self.Nx = None\n",
    "        self.Mx = None\n",
    "        #age\n",
    "        self.age = None\n",
    "        #net single premium\n",
    "        self.pup = None\n",
    "        #self.anui is \"a\" in the formula Pa = A, where P is net level premium\n",
    "        self.anui = None\n",
    "        #net level premium\n",
    "        self.pna = None\n",
    "        #benefit differed period\n",
    "        self.dif_benef = None\n",
    "        #benefit term\n",
    "        self.term_benef = None\n",
    "        #antecipated indicator\n",
    "        self.antecip_benef = None\n",
    "        #product\n",
    "        self.prod = None\n",
    "        #payment diferred period\n",
    "        self.dif_pay = None\n",
    "        #payment term\n",
    "        self.term_pay = None\n",
    "        #antecipated indicator for payment\n",
    "        self.antecip_pay = None\n",
    "\n",
    "        #commutation used on reserves calculation\n",
    "        self.Dx__ = None\n",
    "        self.Cx__ = None\n",
    "        self.Nx__ = None\n",
    "        self.Mx__ = None\n",
    "        \n",
    "        #reserves\n",
    "        self.last_prosp_reserve = None\n",
    "        self.last_retro_reserve = None\n",
    "        \n",
    "        #paid up\n",
    "        self.paidup = None\n",
    "        #extended\n",
    "        self.extended = None\n",
    "        \n",
    "    def __pv_calc__(self, n, i=0):        \n",
    "        '''\n",
    "            This method calculates the present value factor v\n",
    "            Input:\n",
    "                n: period --> int or np.array\n",
    "                i: interest rate --> float\n",
    "            Output:\n",
    "                A float or a vector of floats with the factor (1+rate)**(-n)\n",
    "        '''\n",
    "        rate = i if i>0 else self.last_i_rate_used \n",
    "        return 1/(1 + rate)**n\n",
    "\n",
    "    def __calc_Dx__(self, i=0):\n",
    "        '''\n",
    "            This method calculates the Dx commutation\n",
    "            Input:\n",
    "                i: interest rate, default = 0 --> float\n",
    "            Output:\n",
    "                  An np.array with Dx commutation\n",
    "        '''\n",
    "        lx = self.df_['lx'].values\n",
    "        age = self.df_['age'].values\n",
    "        \n",
    "        return lx*self.__pv_calc__(age, i)\n",
    "        \n",
    "    def __calc_Nx__(self, option='normal'):\n",
    "        '''\n",
    "            Thist method calculates the Nx commutation\n",
    "            Input:\n",
    "                option: normal or reserves, default = normal --> str\n",
    "            Output:\n",
    "                  An np.array with Nx commutation\n",
    "        '''\n",
    "        if option=='normal':\n",
    "            return self.Dx[::-1].cumsum()[::-1]\n",
    "        else:\n",
    "            return self.Dx__[::-1].cumsum()[::-1]\n",
    "    \n",
    "    def __calc_Cx__(self, i=0):\n",
    "        '''\n",
    "            This method calculates the Cx commutation\n",
    "            Input:\n",
    "                i: interest rate, default = 0 --> float\n",
    "            Output:\n",
    "                  An np.array with Cx commutation\n",
    "        '''\n",
    "        dx = self.df_['dx'].values\n",
    "        age = self.df_['age'].values\n",
    "        age_ = age + 1\n",
    "        \n",
    "        return dx*self.__pv_calc__(age_,i)\n",
    "    \n",
    "    def __calc_Mx__(self, option='normal'):\n",
    "        '''\n",
    "            This method calculates the Nx commutation\n",
    "            Input:\n",
    "                option: normal or reserves, default = normal --> str\n",
    "            Output:\n",
    "                  An np.array with Mx commutation\n",
    "        '''\n",
    "        if option=='normal':\n",
    "            return self.Cx[::-1].cumsum()[::-1]\n",
    "        else:\n",
    "            return self.Cx__[::-1].cumsum()[::-1]\n",
    "    \n",
    "    def __verify_prod__(self, x, n, m, antecip, prod):\n",
    "        '''\n",
    "            This method verify whetheer the combination of age, differed period and term make is aceptable\n",
    "            or not, based on the life table length\n",
    "            Input:\n",
    "                x: age\n",
    "                b: deffered period\n",
    "                m: term\n",
    "                antecip: indicates whether the product is antecipated or not \n",
    "            Output:\n",
    "                raise and exception if the combination is not valid\n",
    "        '''\n",
    "        max_age = self.max_age\n",
    "        \n",
    "        add_one = 1 if antecip and prod == 'a' else 0\n",
    "        \n",
    "        m_ = 0 if m == np.inf else m\n",
    "        \n",
    "        criteria = x + n + m_ - add_one\n",
    "        \n",
    "        #pure endowment with diferred period\n",
    "        if prod == 'd' and n > 0:\n",
    "            raise Exception('Não existe dotal puro diferido')\n",
    "        \n",
    "        #whole life endowment    \n",
    "        if (prod == 'd' or prod == 'D') and m == np.inf:\n",
    "            raise Exception('Não existe dotal vitalício')\n",
    "            \n",
    "        #combination of periods not supported by the table\n",
    "        if criteria > max_age:\n",
    "            raise Exception('Idade + diferimento + parazo = {} > {} idade máxima'.format(criteria, max_age))\n",
    "        \n",
    "    def __calc_pup__(self, dif, age, term=np.inf, antecip=True, prod='a', option = 'normal'):\n",
    "\n",
    "        if option == 'normal':\n",
    "            Dx = self.Dx\n",
    "            Cx = self.Cx\n",
    "            Nx = self.Nx\n",
    "            Mx = self.Mx\n",
    "        else:\n",
    "            Dx = self.Dx__\n",
    "            Cx = self.Cx__\n",
    "            Nx = self.Nx__\n",
    "            Mx = self.Mx__\n",
    "            \n",
    "        max_age = self.max_age\n",
    "        \n",
    "        x = age\n",
    "        n = dif\n",
    "        m = term\n",
    "        \n",
    "        add_one = 0 if antecip and prod == 'a' else 1\n",
    "        #remove_term used to settle whole life and m years products in the same formula\n",
    "        remove_term = 0 if term == np.inf else 1\n",
    "        m_ = max_age - x - n - add_one if m == np.inf else m\n",
    "        \n",
    "        self.__verify_prod__(x, n, m, antecip, prod)\n",
    "        #Endowment net single premium\n",
    "        if prod == \"D\":\n",
    "            pup = (Mx[x + n] - Mx[x + n + m_] + Dx[x + n + m_]) / \\\n",
    "                    Dx[x]\n",
    "        #Pure Endowment net single premium\n",
    "        elif prod == \"d\":\n",
    "            pup = Dx[x + m_] / Dx[x]\n",
    "        #Life insurance net single premium\n",
    "        elif prod == \"A\":\n",
    "            pup = (Mx[x + n] - remove_term*Mx[x + n + m_]) / \\\n",
    "                    Dx[x]\n",
    "        #Annuity net single premium\n",
    "        elif prod == \"a\":\n",
    "            pup = (Nx[x + n + add_one] - remove_term*Nx[x + n + m_ + add_one]) / \\\n",
    "                     Dx[x]     \n",
    "        return pup\n",
    "    \n",
    "    def __calc_prov_retro__(self, t):\n",
    "        '''\n",
    "            This method calculates reserves using the retrospective method\n",
    "            Input:\n",
    "                t: evaluation time\n",
    "            Output:\n",
    "                \n",
    "        '''\n",
    "        max_x = self.max_age\n",
    "        x = self.age\n",
    "        n = self.dif_benef\n",
    "        m = self.term_benef\n",
    "        i = self.dif_pay\n",
    "        k = self.term_pay\n",
    "        prod = self.prod\n",
    "        pay_antecip = self.antecip_pay\n",
    "        benef_antecip = self.antecip_benef\n",
    "        \n",
    "        adjust_pay = 1 if pay_antecip else 0\n",
    "        adjust_benef = 1 if benef_antecip and prod == 'a' else 0\n",
    "\n",
    "        P = self.pna\n",
    "        #present value factor\n",
    "        E = 1/self.__calc_pup__(0, x, t, pay_antecip, 'd', 'reserves')\n",
    "        #payment\n",
    "        if  0 < t <= i - adjust_pay:\n",
    "            a = 0\n",
    "        elif i - adjust_pay < t:\n",
    "            #The net single premium function is used varying only the parameter according to \n",
    "            #the position of \"t\"\n",
    "            #The option \"reserves\" is given to allow simulations with different values of interest rate\n",
    "            a = self.__calc_pup__(i, x, min(t-i, k), pay_antecip, 'a', 'reserves')\n",
    "\n",
    "            \n",
    "        #benefit     \n",
    "        if 0 < t <= n - adjust_benef:\n",
    "            A = 0\n",
    "        elif n - adjust_benef < t:\n",
    "            #adjustment for endowments\n",
    "            #For restrospective method the endowment must be seen as a life insurance while t is \n",
    "            #smaller than m + n\n",
    "            if prod == \"D\" and t<=m+n:\n",
    "                A = self.__calc_pup__(n, x, min(t-n,m), benef_antecip, \"A\", 'reserves')\n",
    "            elif prod == 'd' and t <= m:\n",
    "                #for t <= m you only can \"see\" the payments \n",
    "                A = 0\n",
    "            else:\n",
    "                #general case\n",
    "                A = self.__calc_pup__(n, x, min(t-n,m), benef_antecip, prod, 'reserves')\n",
    "\n",
    "        #Adjustment for points with zero reserves\n",
    "        if t == 0:\n",
    "            A = 0\n",
    "            a = 0\n",
    "\n",
    "        if t < n and t < i:\n",
    "            A = 0\n",
    "            a = 0\n",
    "        \n",
    "        if t > m+n and t > k+i:\n",
    "            a = 0\n",
    "            A = 0\n",
    "\n",
    "        V = (P*a - A)*E\n",
    "        return V\n",
    "\n",
    "    def __calc_paidup__(self, A, V, i, k, t, n, m, prod, benef_antecip):\n",
    "        '''\n",
    "            This method calculates a paidup insurance, annuity or endowment\n",
    "            Input:\n",
    "                A: product net single premium until t\n",
    "                V: reserve until t\n",
    "            Output:\n",
    "            \n",
    "        '''\n",
    "        if i < t < k:\n",
    "            self.paidup = V/A\n",
    "        else:\n",
    "            self.paidup = 0\n",
    "            \n",
    "            \n",
    "        if  i < t < k:\n",
    "            if prod == 'A' or prod == 'a':\n",
    "                #search for the m which minimize the distance between V and the new A\n",
    "                #As the time unit measure is year the difference between V and A will be > 0\n",
    "                values_ = list()\n",
    "                for period in range(1, min(m, self.max_age-t)):\n",
    "                    try:\n",
    "                        prod_values = self.__calc_pup__(n, self.age+t, term=period, \n",
    "                                                    antecip=benef_antecip,\n",
    "                                                    prod=prod, option = 'normal')\n",
    "                        values_.append(abs(V - prod_values))\n",
    "                    except:\n",
    "                        pass\n",
    "                \n",
    "                if values_:\n",
    "                    self.extended = [np.array([values_]).argmin() + 1]\n",
    "                else:\n",
    "                    self.extended = [0]\n",
    "                    \n",
    "            elif prod == 'D':\n",
    "                insurance = 0\n",
    "                try:\n",
    "                    insurance = self.__calc_pup__(n, self.age+t, term=m, \n",
    "                                              antecip=benef_antecip,\n",
    "                                              prod='A', option = 'normal') \n",
    "                except:\n",
    "                    pass\n",
    "                \n",
    "                if V >= insurance:\n",
    "                    d = 1\n",
    "                    try:\n",
    "                        d = self.__calc_pup__(0, self.age+t, term=m+n, \n",
    "                                          antecip=benef_antecip,\n",
    "                                          prod='d', option = 'normal') \n",
    "                    except:\n",
    "                        pass\n",
    "                    \n",
    "                    endowment = (V - insurance) / d\n",
    "                    self.extended = [m, endowment]\n",
    "                else:\n",
    "                    values_ = list()\n",
    "                    for period in range(1, min(m, self.max_age-t)):\n",
    "                        try:\n",
    "                            prod_values = self.__calc_pup__(n, self.age+t, term=period, \n",
    "                                                        antecip=benef_antecip,\n",
    "                                                        prod='A', option = 'normal')\n",
    "                            values_.append(abs(V - prod_values))\n",
    "                        except:\n",
    "                            pass\n",
    "                    if values_:\n",
    "                        self.extended = [np.array([values_]).argmin() + 1]\n",
    "                    else:\n",
    "                        self.extended = [0]\n",
    "            elif prod == 'd':\n",
    "                self.extended = [0]\n",
    "        else:\n",
    "            self.extended = [0]\n",
    "            \n",
    "    def __calc_prov_prosp__(self, t):\n",
    "        '''\n",
    "            This method calculates reserves using the prospective method\n",
    "            Input:\n",
    "                t: evaluation time\n",
    "            Output:\n",
    "                \n",
    "        '''\n",
    "        \n",
    "        max_x = self.max_age\n",
    "        x = self.age\n",
    "        n = self.dif_benef\n",
    "        m = self.term_benef\n",
    "        i = self.dif_pay\n",
    "        k = self.term_pay\n",
    "        prod = self.prod\n",
    "        pay_antecip = self.antecip_pay\n",
    "        benef_antecip = self.antecip_benef\n",
    "        \n",
    "        adjust_pay = 1 if pay_antecip else 0\n",
    "        adjust_benef = 1 if benef_antecip and prod == 'a' else 0\n",
    "\n",
    "        P = self.pna\n",
    "\n",
    "        #payment\n",
    "        \n",
    "        #The net single premium function is used varying only the parameter according to \n",
    "        #the position of \"t\"\n",
    "        #The option \"reserves\" is given to allow simulations with different values of interest rate\n",
    "        if 0 < t <= i - adjust_pay:\n",
    "            a = self.__calc_pup__(max(i-t, 0), x+t, k, pay_antecip, 'a', 'reserves')\n",
    "        elif i - adjust_pay < t: \n",
    "            a = self.__calc_pup__(0, x+t, max(i+k-t,0), pay_antecip, 'a', 'reserves')\n",
    "         \n",
    "        #benefit   \n",
    "        #The net single premium function is used varying only the parameter according to \n",
    "        #the position of \"t\"\n",
    "        #The option \"reserves\" is given to allow simulations with different values of interest rate\n",
    "        if 0 < t <= n - adjust_benef:\n",
    "            A = self.__calc_pup__(max(n-t,0), x+t, m, benef_antecip, prod, 'reserves')\n",
    "        elif n - adjust_benef < t <= n + m - adjust_benef:\n",
    "            A = self.__calc_pup__(0, x+t, max(n + m - t,0), benef_antecip, prod, 'reserves')\n",
    "        elif t > n + m - adjust_benef:\n",
    "            A = 0\n",
    "        \n",
    "        \n",
    "        #Adjustment for points with zero reserves\n",
    "        if t == 0:\n",
    "            A = 0\n",
    "            a = 0\n",
    "            \n",
    "        if t < n and t < i:\n",
    "            A = 0\n",
    "            a = 0\n",
    "        \n",
    "        if t > m+n and t > k+i:\n",
    "            a = 0\n",
    "            A = 0\n",
    "         \n",
    "        self.__calc_paidup__(A, A - P*a, i, k, t, n, m, prod, benef_antecip)\n",
    "        V = A - P*a\n",
    "        return V\n",
    "     \n",
    "    def select_table(self, table, gender):\n",
    "        '''\n",
    "            This method selects a life table based on gender and life table name\n",
    "            Input:\n",
    "                table: life table name --> str\n",
    "                gender: gender --> str\n",
    "            Output:\n",
    "                \n",
    "        '''\n",
    "        query_string = 'table == \"{}\" and gender == \"{}\"'.\\\n",
    "                                          format(table, gender)\n",
    "        self.df_ = self.df.query(query_string).\\\n",
    "                                          reset_index(drop=True).copy()\n",
    "        self.max_age = self.df_['age'].max()\n",
    "        \n",
    "    def gen_commutations(self, i_rate):\n",
    "        '''\n",
    "            This method calculates all the commutation functions based on a given interest rate\n",
    "            Input:\n",
    "                i_rate: interest rate --> float\n",
    "            Ouput:\n",
    "                \n",
    "        '''\n",
    "        if self.df_ is None:\n",
    "            raise Exception('Life table must be filtered')\n",
    "            \n",
    "        self.last_i_rate_used = i_rate\n",
    "        \n",
    "        self.Dx = self.__calc_Dx__()\n",
    "        self.Nx = self.__calc_Nx__()\n",
    "        self.Cx = self.__calc_Cx__()\n",
    "        self.Mx = self.__calc_Mx__()\n",
    "              \n",
    "    def calc_premium(self, age, dif_benef=0, term_benef=np.inf, \n",
    "                     antecip_benef=True, prod='a', \n",
    "                     dif_pay=0, term_pay=np.inf, antecip_pay=True):\n",
    "        \n",
    "        '''\n",
    "            This method calculates the net single premium and net level premium\n",
    "            Input:\n",
    "                age: age --> int\n",
    "                dif_benef: diferred period, default=0 --> int\n",
    "                term_benef: benefit term, default=np.inf --> int \n",
    "                antecip_benef: indicates whether the benefit is atecipated or not, default=True --> boolean\n",
    "                prod: product (D:Endowment,d:pure endowment,A: life insurance,a:annuity), default=a --> str \n",
    "                dif_pay: payment diferred period, default=0 --> int\n",
    "                term_pay: payment term, default=np.inf --> int \n",
    "                antecip_pay: indicates whether the paymeent is atecipated or not, default=True --> boolean\n",
    "            Ouput:\n",
    "        '''\n",
    "        self.age = age\n",
    "        \n",
    "        self.pup = self.__calc_pup__(dif_benef, age, term_benef, \n",
    "                                     antecip_benef, prod)\n",
    "        self.dif_benef = dif_benef\n",
    "        self.term_benef = term_benef \n",
    "        self.antecip_benef = antecip_benef\n",
    "        self.prod = prod\n",
    "        \n",
    "        self.anui = self.__calc_pup__(dif_pay, age, term_pay, antecip_pay, \"a\")\n",
    "        self.dif_pay = dif_pay\n",
    "        self.term_pay = term_pay\n",
    "        self.antecip_pay = antecip_pay\n",
    "        \n",
    "        self.pna = self.pup / self.anui\n",
    "        \n",
    "    def calc_reserves(self, t, kind=\"prosp\", rate=0):\n",
    "        '''\n",
    "            This method calculates reserves using the prospective and retrospective method\n",
    "            Input:\n",
    "                t: evaluation time\n",
    "                kind: method (prosp or retrosp), default=prosp --> str\n",
    "                rate: interest rate. Used to simulate interest rate variations, if not provided will use\n",
    "                      the interest rate used to calculate the nsp and nlp\n",
    "            Output:\n",
    "                Reserve at time t --> float\n",
    "        '''\n",
    "        self.Dx__ = self.__calc_Dx__(rate)\n",
    "        self.Nx__ = self.__calc_Nx__('reserves')\n",
    "        self.Cx__ = self.__calc_Cx__(rate)\n",
    "        self.Mx__ = self.__calc_Mx__('reserves')\n",
    "        \n",
    "        if kind == 'prosp':\n",
    "            result = self.__calc_prov_prosp__(t)\n",
    "            self.last_prosp_reserve = result\n",
    "        elif kind == 'retrosp':\n",
    "            result = self.__calc_prov_retro__(t)\n",
    "            self.last_retro_reserve = result\n",
    "            \n",
    "        return result"
   ]
  },
  {
   "cell_type": "markdown",
   "metadata": {},
   "source": [
    "#### For simulations you just have to change the parameters"
   ]
  },
  {
   "cell_type": "code",
   "execution_count": 148,
   "metadata": {},
   "outputs": [],
   "source": [
    "#Using life table AT2000, gender M with an interest rate almost equal selic\n",
    "b = InsuranceHandler(df)\n",
    "b.select_table(\" AT2000\", \"M\")\n",
    "b.gen_commutations(0.04)"
   ]
  },
  {
   "cell_type": "code",
   "execution_count": 149,
   "metadata": {},
   "outputs": [
    {
     "data": {
      "text/plain": [
       "0.04"
      ]
     },
     "execution_count": 149,
     "metadata": {},
     "output_type": "execute_result"
    }
   ],
   "source": [
    "#note that the variable last_i_rate_used is now populated\n",
    "b.last_i_rate_used"
   ]
  },
  {
   "cell_type": "code",
   "execution_count": 150,
   "metadata": {},
   "outputs": [
    {
     "data": {
      "text/plain": [
       "True"
      ]
     },
     "execution_count": 150,
     "metadata": {},
     "output_type": "execute_result"
    }
   ],
   "source": [
    "#but not the net single premium, because calc_premium wasn't called yet\n",
    "b.pup is None"
   ]
  },
  {
   "cell_type": "code",
   "execution_count": 151,
   "metadata": {},
   "outputs": [],
   "source": [
    "#Calculating the premiums of a Endowment diferred. Note that the payment is also diferred\n",
    "b.calc_premium(age=33, dif_benef=10, \n",
    "               term_benef=20, dif_pay=0, term_pay=10, antecip_pay=False, prod='D')"
   ]
  },
  {
   "cell_type": "code",
   "execution_count": 152,
   "metadata": {},
   "outputs": [
    {
     "data": {
      "text/plain": [
       "0.3143468829818735"
      ]
     },
     "execution_count": 152,
     "metadata": {},
     "output_type": "execute_result"
    }
   ],
   "source": [
    "#Now the net single premium is populated\n",
    "b.pup"
   ]
  },
  {
   "cell_type": "code",
   "execution_count": 153,
   "metadata": {},
   "outputs": [
    {
     "data": {
      "text/plain": [
       "0.038926163965558716"
      ]
     },
     "execution_count": 153,
     "metadata": {},
     "output_type": "execute_result"
    }
   ],
   "source": [
    "#Net level premium\n",
    "b.pna"
   ]
  },
  {
   "cell_type": "code",
   "execution_count": 154,
   "metadata": {},
   "outputs": [
    {
     "data": {
      "text/plain": [
       "0.5063559758963578"
      ]
     },
     "execution_count": 154,
     "metadata": {},
     "output_type": "execute_result"
    }
   ],
   "source": [
    "#Reserve retrospective method\n",
    "b.calc_reserves(12, 'retrosp')"
   ]
  },
  {
   "cell_type": "code",
   "execution_count": 155,
   "metadata": {},
   "outputs": [
    {
     "data": {
      "text/plain": [
       "0.5063559758963578"
      ]
     },
     "execution_count": 155,
     "metadata": {},
     "output_type": "execute_result"
    }
   ],
   "source": [
    "#Reserve prospective method\n",
    "b.calc_reserves(12)"
   ]
  },
  {
   "cell_type": "code",
   "execution_count": 156,
   "metadata": {},
   "outputs": [
    {
     "data": {
      "text/plain": [
       "0"
      ]
     },
     "execution_count": 156,
     "metadata": {},
     "output_type": "execute_result"
    }
   ],
   "source": [
    "#Paidup Insurance - It is calculated inside the method __calc_prov_prosp__\n",
    "b.paidup"
   ]
  },
  {
   "cell_type": "code",
   "execution_count": 157,
   "metadata": {},
   "outputs": [
    {
     "data": {
      "text/plain": [
       "[0]"
      ]
     },
     "execution_count": 157,
     "metadata": {},
     "output_type": "execute_result"
    }
   ],
   "source": [
    "#If the product is a Endowment and V > A, the result is the pup of a life insurance a pure dotal\n",
    "b.extended"
   ]
  },
  {
   "cell_type": "markdown",
   "metadata": {},
   "source": [
    "### Charts\n"
   ]
  },
  {
   "cell_type": "code",
   "execution_count": 158,
   "metadata": {},
   "outputs": [],
   "source": [
    "############################################\n",
    "#Charts"
   ]
  },
  {
   "cell_type": "code",
   "execution_count": 159,
   "metadata": {},
   "outputs": [],
   "source": [
    "values = []\n",
    "for i_rate in [0.02, 0.025, 0.03, 0.035, 0.04, 0.045, 0.05,\n",
    "               0.055, 0.06, 0.065, 0.07, 0.075, 0.08, 0.085, 0.09, 0.095, 0.1]:\n",
    "    for age in range(0, 81):\n",
    "        cell = []\n",
    "        b.gen_commutations(i_rate)    \n",
    "        b.calc_premium(age=age, term_benef=20, term_pay=10, prod='D')\n",
    "        cell = [age, i_rate*100, b.pup*150000]\n",
    "        values.append(cell)"
   ]
  },
  {
   "cell_type": "code",
   "execution_count": 160,
   "metadata": {},
   "outputs": [],
   "source": [
    "df_3d = pd.DataFrame(np.array(values))"
   ]
  },
  {
   "cell_type": "code",
   "execution_count": 161,
   "metadata": {},
   "outputs": [],
   "source": [
    "df_matrix = pd.crosstab(index=df_3d[0], columns= df_3d[1], values=df_3d[2], aggfunc=np.sum)"
   ]
  },
  {
   "cell_type": "code",
   "execution_count": 162,
   "metadata": {},
   "outputs": [
    {
     "data": {
      "application/vnd.plotly.v1+json": {
       "config": {
        "plotlyServerURL": "https://plot.ly"
       },
       "data": [
        {
         "type": "surface",
         "x": [
          2,
          2.5,
          3,
          3.5000000000000004,
          4,
          4.5,
          5,
          5.5,
          6,
          6.5,
          7.000000000000001,
          7.5,
          8,
          8.5,
          9,
          9.5,
          10
         ],
         "y": [
          0,
          1,
          2,
          3,
          4,
          5,
          6,
          7,
          8,
          9,
          10,
          11,
          12,
          13,
          14,
          15,
          16,
          17,
          18,
          19,
          20,
          21,
          22,
          23,
          24,
          25,
          26,
          27,
          28,
          29,
          30,
          31,
          32,
          33,
          34,
          35,
          36,
          37,
          38,
          39,
          40,
          41,
          42,
          43,
          44,
          45,
          46,
          47,
          48,
          49,
          50,
          51,
          52,
          53,
          54,
          55,
          56,
          57,
          58,
          59,
          60,
          61,
          62,
          63,
          64,
          65,
          66,
          67,
          68,
          69,
          70,
          71,
          72,
          73,
          74,
          75,
          76,
          77,
          78,
          79,
          80
         ],
         "z": [
          [
           101223.73378751348,
           91867.88737721804,
           83421.47741724079,
           75792.23754924319,
           68897.64551061661,
           62663.85411885934,
           57024.7438738453,
           51921.082853419066,
           47299.78132192838,
           43113.229996265625,
           39318.71224808088,
           35877.88168873873,
           32756.297606614004,
           29923.011623036742,
           27350.199719643326,
           25012.834480089103,
           22888.392995139915
          ],
          [
           101137.88869591274,
           91765.87705499107,
           83304.99982352558,
           75662.81862763243,
           68756.65723286178,
           62512.53056012703,
           56864.19554252533,
           51752.30947230059,
           47123.68323455936,
           42930.618352089325,
           39130.3181021567,
           35684.36413619862,
           32558.251058217644,
           29720.97231603772,
           27144.65154746421,
           24804.214214849544,
           22677.09496873661
          ],
          [
           101115.43005132362,
           91739.1125336176,
           83274.35323882081,
           75628.67274972727,
           68719.35796435033,
           62472.390665877145,
           56821.4979832643,
           51707.31038595369,
           47076.61460423899,
           42881.69039516318,
           39079.72141088559,
           35632.271596964594,
           32504.81957330293,
           29666.34434921407,
           27088.95651226782,
           24747.56972230987,
           22619.60794946429
          ],
          [
           101111.50493979237,
           91734.34140009116,
           83268.78512330439,
           75622.35428244986,
           68712.33344618767,
           62464.70215273705,
           56813.18537295038,
           51698.411506289434,
           47067.165301458714,
           42871.724621766574,
           39069.27131231209,
           35621.367596579075,
           32493.490455296327,
           29654.617339117776,
           27076.85735485913,
           24735.122756751283,
           22606.836181573926
          ],
          [
           101112.38522802005,
           91735.2605190318,
           83269.69131479514,
           75623.20389914923,
           68713.08991081287,
           62465.335044933534,
           56813.669628177406,
           51698.7267130413,
           47067.29508483458,
           42871.65610287925,
           39068.99463431928,
           35620.875509250815,
           32492.777951021937,
           29653.68133412153,
           27075.696410152595,
           24733.73683401512,
           22605.226429744504
          ],
          [
           101116.21624434328,
           91739.67273377396,
           83274.57081551448,
           75628.45138975575,
           68718.61897419192,
           62471.07061044151,
           56819.54661952395,
           51704.68885506283,
           47073.29385027949,
           42877.64978261505,
           39074.94751637701,
           35626.75715387846,
           32498.562550459632,
           29659.347147161374,
           27081.225262731863,
           24739.11367813239,
           22610.438953902365
          ],
          [
           101122.33953373582,
           91746.80084830981,
           83282.54230482533,
           75637.12439806125,
           68727.86896657226,
           62480.78836382125,
           56829.63644697614,
           51715.067035855944,
           47083.88724142741,
           42888.39459061329,
           39085.78821036954,
           35637.64550374584,
           32509.456775287617,
           29670.211161279338,
           27092.02800802765,
           24749.8285326841,
           22621.043208140094
          ],
          [
           101130.43627893382,
           91756.27093708138,
           83293.18458430811,
           75648.76146824863,
           68740.34445596824,
           62493.96452031367,
           56843.392006691814,
           51729.29533727299,
           47098.49455596936,
           42903.298644409675,
           39100.916874900904,
           35652.93563574976,
           32524.853188637397,
           29685.665715595103,
           27107.498800579746,
           24765.279181730362,
           22636.442217229538
          ],
          [
           101140.25691129532,
           91767.79114476811,
           83306.1699379976,
           75663.00478872069,
           68755.66270844082,
           62510.19606687836,
           56860.394174644396,
           51746.942266238686,
           47116.675291191954,
           42921.91544749067,
           39119.88372670823,
           35672.17690922743,
           32544.302471891147,
           29705.264767949713,
           27127.196626343804,
           24785.0312081966,
           22656.209565015524
          ],
          [
           101149.12847945474,
           91778.18141679751,
           83317.86283023319,
           75675.8097251444,
           68769.41168803546,
           62524.741070943885,
           56875.60487387064,
           51762.70399220265,
           47132.88724121633,
           42938.48909553682,
           39136.74141625304,
           35689.250606947266,
           32561.532663495913,
           29722.599479724136,
           27144.59055789605,
           24802.444963622896,
           22673.608971191592
          ],
          [
           101157.37891939086,
           91787.82954026824,
           83328.7038056703,
           75687.66321063029,
           68782.11899775291,
           62538.162671209495,
           56889.618169701986,
           51777.2013701086,
           47147.77433804723,
           42953.68326686516,
           39152.170380939846,
           35704.851247341096,
           32577.2499631621,
           29738.385582751394,
           27160.403935717088,
           24818.249676944637,
           22689.374016089983
          ],
          [
           101165.25292860862,
           91797.02550847075,
           83339.02300495117,
           75698.93088476374,
           68794.181579059,
           62550.88532152659,
           56902.88260705869,
           51790.90394734569,
           47161.824343719854,
           42968.001422328925,
           39166.687510656106,
           35719.50710218379,
           32591.9921789175,
           29753.168758118238,
           27175.18881597187,
           24833.002431070137,
           22704.06559659979
          ],
          [
           101172.95121892107,
           91806.00830863952,
           83349.09375204268,
           75709.91681743039,
           68805.93097395079,
           62563.26505117064,
           56915.77598116646,
           51804.20880411731,
           47175.45136174844,
           42981.8726272433,
           39180.7349537392,
           35733.67169092219,
           32606.22264182296,
           29767.420728256537,
           27189.42401947412,
           24847.18796851894,
           22718.17330660483
          ],
          [
           101180.67851451234,
           91815.02290132227,
           83359.1975700388,
           75720.93572137854,
           68817.71198772485,
           62575.67391371543,
           56928.694981481734,
           51817.53486609538,
           47189.09434957816,
           42995.753845605206,
           39194.785820096884,
           35747.83255991707,
           32620.441764152078,
           29781.65332849675,
           27203.631479147465,
           24861.33710230349,
           22732.23572101212
          ],
          [
           101188.54598222845,
           91824.20398668139,
           83369.49113101503,
           75732.1647509265,
           68829.7208383691,
           62588.32584222986,
           56941.86997605928,
           51831.12772293358,
           47203.01296977286,
           43009.91772672308,
           39209.12471984821,
           35762.28531202889,
           32634.95522889406,
           29796.181462379063,
           27218.134510127224,
           24875.780798435182,
           22746.59074188379
          ],
          [
           101196.67501882052,
           91833.69871047714,
           83380.14569342733,
           75743.79773318612,
           68842.17246485755,
           62601.45551324123,
           56955.55408264473,
           51845.25771096217,
           47217.4936242683,
           43024.66565098086,
           39224.06698686074,
           35777.35826840091,
           32650.103433763936,
           29811.356745911587,
           27233.295137948073,
           24890.890729964365,
           22761.61897192327
          ],
          [
           101205.04900171731,
           91843.49015707085,
           83391.14515233657,
           75755.82030297055,
           68855.05501758069,
           62615.054234331394,
           56969.74229024332,
           51859.92392234739,
           47232.539840801575,
           43040.00583640886,
           39239.62571677897,
           35793.06953129681,
           32665.909566353155,
           29827.207487500775,
           27249.146790333816,
           24906.705410942828,
           22777.363951862997
          ],
          [
           101213.69980809143,
           91853.61918930324,
           83402.53958046221,
           75768.29189506754,
           68868.43738267277,
           62629.20037748411,
           56984.522443676266,
           51875.22362069442,
           47248.25821243342,
           43056.054086051474,
           39255.925777576886,
           35809.55286703355,
           32682.516106793315,
           29843.884681801548,
           27265.84876521856,
           24923.392221866285,
           22794.000916752666
          ],
          [
           101222.46875404264,
           91863.89957772446,
           83414.11902904585,
           75780.98224841586,
           68882.07201860426,
           62643.631816759626,
           56999.62022810733,
           51890.872428761126,
           47264.3561851929,
           43072.5113393275,
           39272.66307923904,
           35826.500460653355,
           32699.61266514406,
           29861.076375586817,
           27283.088434103436,
           24940.638636373893,
           22811.218120900034
          ],
          [
           101231.33942960254,
           91874.31099958163,
           83425.85953177883,
           75793.86407869875,
           68895.92868812915,
           62658.3157528324,
           57015.000687549815,
           51906.833644839244,
           47280.79572087723,
           43089.338623340045,
           39289.798104107125,
           35843.87262442094,
           32717.159740529758,
           29878.743592258426,
           27300.827661395742,
           24958.407655235147,
           22828.979975139013
          ],
          [
           101240.23538337786,
           91884.75924626457,
           83437.6499305417,
           75806.81016056573,
           68909.86503113536,
           62673.095653417506,
           57030.494093835936,
           51922.92532154694,
           47297.3836192315,
           43106.33243247566,
           39307.117963254284,
           35861.447977586686,
           32734.928317530706,
           29896.65050184202,
           27318.824583843212,
           24976.452123297164,
           22847.034733439534
          ],
          [
           101249.12044147537,
           91895.19514247666,
           83449.42732418238,
           75819.74344896365,
           68923.7896927884,
           62687.865893916045,
           57045.98075912313,
           51939.01404735282,
           47313.97318925681,
           43123.3333211783,
           39324.45104196482,
           35879.043365201476,
           32752.724359244432,
           29914.592861326768,
           27336.865435990487,
           24994.549436142548,
           22865.151629212607
          ],
          [
           101258.00145098695,
           91905.61786791813,
           83461.18090584171,
           75832.64136478557,
           68937.66698745007,
           62702.57672845389,
           57061.39624311424,
           51955.02032028287,
           47330.46972175323,
           43140.23141033104,
           39341.67247805989,
           35896.519249911034,
           32770.39405770199,
           29932.40307260659,
           27354.769368346504,
           25012.506074973808,
           22883.12508713887
          ],
          [
           101266.98180866618,
           91916.13871143856,
           83473.02491069624,
           75845.61700074935,
           68951.60551453666,
           62717.32954662593,
           57076.83255322964,
           51971.0250589921,
           47346.94173763763,
           43157.08185257055,
           39358.82337241517,
           35913.90223986636,
           32787.94929129367,
           29950.07821781042,
           27372.5187419542,
           25030.28987169341,
           22900.908697236646
          ],
          [
           101276.22049543413,
           91926.93240428086,
           83485.14303955891,
           75858.85733725206,
           68965.79078925778,
           62732.304471710886,
           57092.46120099027,
           51987.18855329537,
           47363.53622023284,
           43174.016691176825,
           39376.01958147338,
           35931.29108842844,
           32805.471075643676,
           29967.681179142237,
           27390.15811182254,
           25047.92703004825,
           22918.51042968678
          ],
          [
           101285.93303133258,
           91938.2385281501,
           83497.79034858037,
           75872.62562205433,
           68980.48810420504,
           62747.763682843644,
           57108.53695292758,
           52003.75460374977,
           47380.48309719205,
           43191.249633393985,
           39393.45672778626,
           35948.86188568949,
           32823.114878766806,
           29985.346020028468,
           27407.79961677471,
           25065.507467777825,
           22935.99787419778
          ],
          [
           101296.53463008864,
           91950.53265833775,
           83511.48982502334,
           75887.48105736518,
           68996.28321826608,
           62764.31118774638,
           57125.67494227117,
           52021.34338412286,
           47398.402407443165,
           43209.39620408341,
           39411.74213913685,
           35967.21068752628,
           32841.462940455094,
           30003.639082369016,
           27425.992021268725,
           25083.56104169484,
           22953.88095252368
          ],
          [
           101308.49573440604,
           91964.35545318521,
           83526.83806119542,
           75904.06375081082,
           69013.84897742776,
           62782.64324001134,
           57144.58677298055,
           52040.67491245614,
           47418.016632975516,
           43229.17626608287,
           39431.58873788534,
           35987.039823250416,
           32861.2039309572,
           30023.23282526002,
           27445.38947091029,
           25102.721874637555,
           22972.772398447116
          ],
          [
           101322.47702003118,
           91980.47459578043,
           83544.69187595912,
           75923.30395473151,
           69034.17528737467,
           62803.797321625745,
           57166.34693512476,
           52062.85145517992,
           47440.447768474536,
           43251.72454216954,
           39454.13790226245,
           36009.49207453646,
           32883.47750910385,
           30045.259899851655,
           27467.114290949827,
           25124.099147898163,
           22993.765872385313
          ],
          [
           101339.18862251016,
           91999.71806248766,
           83565.97855656043,
           75946.21190162866,
           69058.3408847984,
           62828.90794384467,
           57192.13450681898,
           52089.086802913735,
           47466.93566606134,
           43278.29936481781,
           39480.659814954524,
           36035.84368931883,
           32909.56095403319,
           30070.99424939255,
           27492.433313789632,
           25148.94933354316,
           23018.10470262929
          ],
          [
           101359.38467670964,
           92022.9683242214,
           83591.69002409626,
           75973.87219243956,
           69087.50816819134,
           62859.20210572593,
           57223.22939518193,
           52120.70342152059,
           47498.83620027288,
           43310.28193791683,
           39512.55388588056,
           36067.5060137202,
           32940.87204014995,
           30101.855248688495,
           27522.763293607582,
           25178.682885497426,
           23047.18984609051
          ],
          [
           101383.95894022186,
           92051.27679427246,
           83623.0144754999,
           76007.5911651038,
           69123.08497018465,
           62896.17427636672,
           57261.19944953491,
           52159.330719883066,
           47537.82980561404,
           43349.39434116528,
           39551.57549375076,
           36106.26030670726,
           32979.21131964029,
           30139.65690203949,
           27559.926514722665,
           25215.1257960205,
           23082.846969001934
          ],
          [
           101413.81069924169,
           92085.70436341029,
           83661.15419930761,
           76048.69438850222,
           69166.50389772939,
           62941.34954202129,
           57307.64918865957,
           52206.64096093846,
           47585.64602160989,
           43397.41402057134,
           39599.541607803374,
           36153.95556510328,
           33026.453119790225,
           30186.292888591972,
           27605.83067618158,
           25260.195034136104,
           23126.998084385206
          ],
          [
           101449.8926148996,
           92127.37859052642,
           83707.39129552855,
           76098.60018844351,
           69219.30302200708,
           62996.37088894732,
           57364.31316825751,
           52264.44826059484,
           47644.16771859152,
           43456.28287929698,
           39658.444419576816,
           36212.62640535949,
           33084.667413092684,
           30243.862184922127,
           27662.598053720605,
           25316.03105396154,
           23181.79723147207
          ],
          [
           101492.92139213333,
           92177.14914882614,
           83762.69341128452,
           76158.38063807931,
           69282.64659854207,
           63062.48368804657,
           57432.50786978451,
           52334.1311653871,
           47714.82732964113,
           43527.479842284316,
           39729.80266025364,
           36283.82532101611,
           33155.43499263386,
           30313.968947228514,
           27731.851707256108,
           25384.2717922396,
           23248.893589219795
          ],
          [
           101543.70448317632,
           92235.97644697876,
           83828.15798459106,
           76229.25578363375,
           69357.86421808132,
           63141.11523534745,
           57513.74756053583,
           52417.28117815404,
           47799.28475971995,
           43612.72519927439,
           39815.38972558162,
           36369.37220390078,
           33240.616242476666,
           30398.50859750766,
           27815.51714099255,
           25466.8683322579,
           23330.259727974168
          ],
          [
           101603.09031203591,
           92304.87308247607,
           83904.94610242773,
           76312.52096381866,
           69446.3725375842,
           63233.79174971972,
           57609.65732818523,
           52515.61252333922,
           47899.33450739591,
           43713.88564735728,
           39917.13714860145,
           36471.25670688985,
           33342.2528057474,
           30499.569172094696,
           27915.723671310494,
           25565.986597250576,
           23428.093904963014
          ],
          [
           101671.91185539274,
           92384.83743367062,
           83994.20741453813,
           76409.46422064993,
           69549.5862430291,
           63342.04383566866,
           57721.87389633196,
           52630.85908319457,
           48016.79941391135,
           43832.8654775238,
           40037.02378788873,
           36591.52594398923,
           33462.45425828028,
           30619.317387171104,
           28034.690263448374,
           25683.89330252015,
           23544.70644458564
          ],
          [
           101749.77059468636,
           92475.40439563837,
           84095.42037334669,
           76519.51647588244,
           69666.89654812409,
           63465.229858028804,
           57849.72878804817,
           52762.33079264982,
           48150.97241343317,
           43968.9446215696,
           40174.320050685725,
           36729.443815733524,
           33600.48060546567,
           30757.01160583853,
           28171.675574528672,
           25819.849056342005,
           23679.36131734784
          ],
          [
           101836.5580272677,
           92576.45503574077,
           84208.46049409658,
           76642.55186056737,
           69798.17974575872,
           63603.23127312596,
           57993.11114841814,
           52909.92659456635,
           48301.763992088534,
           44122.04653728456,
           40328.9635186123,
           36884.96293946177,
           33756.30020360075,
           30912.636445759475,
           28326.680849615976,
           25973.871962352456,
           23832.093600655833
          ],
          [
           101931.9445772803,
           92687.60821791211,
           84332.90448325926,
           76778.11315463668,
           69942.95188517951,
           63755.54368112022,
           58151.50160262708,
           53073.11690015989,
           48468.63847847827,
           44291.63304617141,
           40500.416591052424,
           37057.548944662885,
           33929.38418288561,
           31085.67047210008,
           28499.193726820253,
           26145.4601087873,
           24002.41298067491
          ],
          [
           102035.54620105757,
           92808.41646923046,
           84468.2515553484,
           76925.65519817383,
           70100.63132284771,
           63921.55591483596,
           58324.26559249143,
           53251.24915743262,
           48650.93007024075,
           44477.029257836024,
           40687.99893537539,
           37246.51924317945,
           34119.05047837809,
           31275.434559403628,
           28688.540114470412,
           26333.946246155538,
           24189.6606047023
          ],
          [
           102146.91589742132,
           92938.35316555428,
           84613.90575832326,
           77084.52194930415,
           70270.51021399029,
           64100.51575752068,
           58510.61318965733,
           53443.50169310613,
           48847.7906912434,
           44677.365472906386,
           40890.82350204755,
           37450.97325218377,
           34324.38837991947,
           31481.010906034688,
           28893.797821944998,
           26538.406197080596,
           24392.91244040798
          ],
          [
           102265.57842125834,
           93076.85138988757,
           84769.21764749313,
           77253.98983427527,
           70451.79856532757,
           64291.573869429645,
           58709.64219348915,
           53648.92538927082,
           49058.22975023431,
           44891.61461023738,
           41107.83127931891,
           37669.8241980718,
           34544.28716136507,
           31701.268311930773,
           29113.8183497495,
           26757.677057498713,
           24610.993817017734
          ],
          [
           102391.16169604787,
           93223.45820841957,
           84933.65831574932,
           77433.45877975281,
           70643.82983418238,
           64494.00179965177,
           58920.566650998095,
           53866.68102820649,
           49281.35882383969,
           45118.84291577102,
           41338.04687042644,
           37902.058541881976,
           34777.69845603581,
           31935.126714131085,
           29347.492891213693,
           26990.62405584354,
           24842.746608919282
          ],
          [
           102523.5301371202,
           93377.9919497742,
           85106.997669328,
           77622.6488474509,
           70846.2735714743,
           64707.4185431954,
           59142.955462431295,
           54096.28828500781,
           49516.64955697856,
           45358.4754541763,
           41580.85040514707,
           38147.013269147086,
           35023.91799906765,
           32181.842559240253,
           29594.04060503527,
           27236.431078099322,
           25087.321439288728
          ],
          [
           102662.91773130652,
           93540.70007904743,
           85289.48437477207,
           77821.7998085491,
           71059.35242617849,
           64932.02300105356,
           59376.97852296863,
           54337.88395717969,
           49764.20254870224,
           45610.574365038985,
           41836.26401154171,
           38404.669540314266,
           35282.88552569969,
           32441.314114194374,
           29853.31858897233,
           27494.914632090513,
           25344.495032119405
          ],
          [
           102810.06603171979,
           93712.42354287354,
           85482.03391811863,
           78031.88053931182,
           71284.07073264771,
           65168.83982450981,
           59623.66807865194,
           54592.4972575961,
           50025.03516161696,
           45876.13790713325,
           42105.260938828695,
           38675.97084910033,
           35555.511024084364,
           32714.4149646437,
           30126.161858088843,
           27766.86961496035,
           25615.02114608315
          ],
          [
           102966.08173827478,
           93894.42743050307,
           85686.03509273897,
           78254.3737892361,
           71521.97975309716,
           65419.46709570974,
           59884.650604321694,
           54861.767467403144,
           50300.78636581687,
           46156.793765715825,
           42389.44847238654,
           38962.49657550378,
           35843.339854904065,
           33002.65153899676,
           30414.034029968225,
           28053.7138438105,
           25900.269569994372
          ],
          [
           103132.5165827961,
           94088.49667076586,
           85903.4601030219,
           78491.39939925511,
           71775.31282266365,
           65686.22230860972,
           60162.302618882546,
           55148.108666619446,
           50593.88954210103,
           46454.97915602432,
           42691.25463012157,
           39266.654627486925,
           36148.75074597208,
           33308.36591435138,
           30719.234447161645,
           28357.699042899316,
           26202.440562586213
          ],
          [
           103311.29856811617,
           94296.85545785567,
           86136.77378220171,
           78745.61470464389,
           72046.87814567042,
           65972.02860618154,
           60459.631271310616,
           55454.585455393215,
           50907.44401947345,
           46773.80876647635,
           43013.79302141657,
           39591.54365688997,
           36474.81574670321,
           33634.593839507404,
           31044.754554103423,
           28681.76582126816,
           26524.418644383757
          ],
          [
           103504.52535356561,
           94521.92445713331,
           86388.6592958303,
           79019.91281932525,
           72339.73322406357,
           66280.06846148118,
           60779.909985040875,
           55784.532924478706,
           51244.82143026483,
           47116.66929105756,
           43360.44711699752,
           39940.528423948585,
           36824.8678671371,
           33984.62567356252,
           31393.833025289117,
           29029.093762732824,
           26869.318319089285
          ],
          [
           103714.51921181692,
           94766.38989037782,
           86662.10117998795,
           79317.51933903327,
           72657.29484818023,
           66613.906509031,
           61126.81362999748,
           56141.7036290287,
           51609.823919691546,
           47487.388291418574,
           43735.04917132842,
           40317.42818553291,
           37202.6983409342,
           34362.21194048619,
           31770.169039808843,
           29403.321863214685,
           27240.711133261364
          ],
          [
           103943.78934239308,
           95033.16254072581,
           86960.34272159597,
           79641.9494881599,
           73003.29714870261,
           66977.44942295666,
           61504.38096111083,
           56530.23316151654,
           52006.65329031006,
           47890.2072333649,
           44141.857372657556,
           40726.49809662742,
           37612.54234584703,
           34771.55337737651,
           32177.916617433242,
           29808.547074609745,
           27642.62831531098
          ],
          [
           104194.94637151895,
           95325.27966519623,
           87286.7778638439,
           79996.89222949866,
           73381.66979911359,
           67374.81981789574,
           61916.88557633526,
           56954.509309771514,
           52439.77931483799,
           48329.64974540287,
           44585.42469580257,
           41172.29918228326,
           38058.950512751784,
           35217.174306039706,
           32621.56009857122,
           30249.202070563042,
           28079.44094600771
          ],
          [
           104470.86091517849,
           95646.0969072991,
           87645.17431430038,
           80386.4625648572,
           73796.81764288626,
           67810.66146157654,
           62369.16508724475,
           57419.523662349704,
           52914.31234857405,
           48810.91389831865,
           45071.009589970876,
           41660.12624958172,
           38547.23294694844,
           35704.38171312916,
           33106.38729255697,
           30730.541527939287,
           28556.358490190047
          ],
          [
           104774.78610749541,
           95999.43503015167,
           88039.84252747336,
           80815.39104529304,
           74253.82921020252,
           68290.36544915786,
           62866.86375026571,
           57931.12962333452,
           53436.275764098325,
           49340.158190581446,
           45604.87472714949,
           42196.31868167003,
           39083.78141138768,
           36239.59821889091,
           33638.832674105426,
           31258.99503314208,
           29079.79093003119
          ],
          [
           105110.36126996348,
           96389.58459852006,
           88475.64160343278,
           81289.03113601102,
           74758.48582954297,
           68820.08136028534,
           63416.44597634203,
           58496.05858214439,
           54012.62508285214,
           49924.52393253356,
           46194.31291523987,
           42788.29013893445,
           39676.10305580294,
           36830.400053732534,
           34226.519805625525,
           31842.214127018204,
           29657.4005879815
          ],
          [
           105481.5484545155,
           96821.23197408977,
           88957.89652171473,
           81813.26932524286,
           75317.16610817656,
           69406.61747789009,
           64025.093533995794,
           59121.815234689166,
           54651.14244420068,
           50572.02979673308,
           46847.54257372215,
           43444.42572134163,
           40332.71995061169,
           37485.41957789834,
           34878.167391629795,
           32488.98238276027,
           30298.016661429523
          ],
          [
           105892.60794822662,
           97299.43193313175,
           89492.36898841971,
           82394.49523589798,
           75936.81626638697,
           70057.41223003423,
           64700.67891483735,
           59816.65362343585,
           55360.41600948911,
           51291.55521753456,
           47573.69570580356,
           44174.07503897246,
           41063.16773354786,
           38214.34993678734,
           35603.60033303826,
           33209.233209912316,
           31011.660090107507
          ],
          [
           106347.34359668878,
           97828.70928418219,
           90084.22984911191,
           83038.45790659047,
           76623.70207970636,
           70779.19243855096,
           65450.339503509866,
           60588.0759181077,
           56148.27121107381,
           52091.21121772789,
           48381.134738330045,
           44985.820894064644,
           41876.22141568069,
           39026.1327793392,
           36411.90370087462,
           34012.174023933854,
           31807.641498351495
          ],
          [
           106848.8282124182,
           98412.73262404314,
           90737.6865699231,
           83749.85180576459,
           77382.9577293909,
           71577.48886176012,
           66279.96327139667,
           61442.29136629047,
           57021.20575192639,
           52977.75396986212,
           49276.846908565916,
           45886.85653484725,
           42779.25734550362,
           39928.30659818121,
           37310.75895948301,
           34905.61171719684,
           32693.87715091836
          ],
          [
           107399.38480176238,
           99054.29279884064,
           91455.95944671269,
           84532.29121092254,
           78218.55869749028,
           72456.60788828213,
           67194.15950040647,
           62384.18623613784,
           57984.358921796535,
           53956.553612552205,
           50266.4126849396,
           46882.953767151084,
           43778.221083696604,
           40926.97442875706,
           38306.41154266558,
           35895.9201582325,
           33676.85641653429
          ],
          [
           108000.48482915944,
           99755.18222041114,
           92241.14395587292,
           85388.15733804795,
           79133.15521184218,
           73419.45265411404,
           68196.06877150314,
           63417.12373883701,
           59041.302396799016,
           55031.37676636448,
           51353.780747675344,
           47978.231069039146,
           44877.38925183048,
           42026.559971699215,
           39403.42173638892,
           36987.78627506379,
           34761.38345146193
          ],
          [
           108652.74065984016,
           100516.18598097972,
           93094.20063775142,
           86318.58704802203,
           80128.05979642668,
           74467.50943229908,
           69287.34816995909,
           64542.9280119776,
           60194.02295412952,
           56204.367927449486,
           52541.2480062089,
           49175.13217654777,
           46079.34663254077,
           43229.78315658261,
           40604.63865942867,
           38184.18241104888,
           35950.54789443352
          ],
          [
           109355.9554105048,
           101337.14092887891,
           94015.02231053372,
           87323.54720228181,
           81203.32785614472,
           75600.93361167502,
           70468.26189468688,
           65761.97866253693,
           61443.02031332204,
           57476.15002868917,
           53829.56235462528,
           50474.53055668289,
           47385.09192858218,
           44537.766797388475,
           41911.307464302095,
           39486.4737561247,
           37245.832246109334
          ],
          [
           110109.060777276,
           102216.86050876252,
           95002.34673268542,
           88401.73587253239,
           82357.64808390857,
           76818.42988540811,
           71737.55175413475,
           67073.07204491699,
           62787.159626281544,
           58845.6685321558,
           55217.75872241588,
           51875.557742087345,
           48793.858680548816,
           45949.85036929035,
           43322.8762289403,
           40894.218591572804,
           38646.905689792424
          ],
          [
           110910.11606610035,
           103153.13145165643,
           96053.75032154033,
           89550.57253827548,
           83588.32865896147,
           78117.23403470776,
           73092.41417524147,
           68473.39318372385,
           64223.6380455778,
           60310.15241282429,
           56703.11427747544,
           53375.55258744489,
           50303.05843782903,
           47463.52697949439,
           44836.92663445567,
           42405.09260127793,
           40151.54198033759
          ],
          [
           111756.3532504541,
           104142.76531272691,
           97165.70465493281,
           90766.25819590579,
           84891.35974893154,
           79493.1767355266,
           74528.56433888737,
           69958.57936238391,
           65748.046980301,
           61865.17437602462,
           58281.20597152279,
           54970.11557395565,
           51908.33131148391,
           49074.48971041649,
           46449.21568799436,
           44014.92560661426,
           41755.650862407885
          ],
          [
           112644.34657613562,
           105181.79895605355,
           98333.80413129581,
           92044.02685605337,
           86261.6858331949,
           80940.97398848868,
           76040.54225767491,
           71523.03962335816,
           67354.70300227746,
           63504.99134067121,
           59946.25893969409,
           56653.46361601876,
           53603.90581504704,
           50776.99524452571,
           48154.04199251401,
           45718.06944237736,
           43453.64660462314
          ],
          [
           113570.81161213249,
           106266.4513977515,
           99553.86688014676,
           93379.37805889102,
           87694.55849539232,
           82455.68988225276,
           77623.27612353215,
           73161.61014245212,
           69038.38743754852,
           65224.36111382257,
           61693.033734585646,
           58420.381883443806,
           55384.609803676154,
           52565.92890244865,
           49946.36027702581,
           47509.55774570792,
           45240.649153057806
          ],
          [
           114532.7195502407,
           107393.2661836656,
           100822.1048317644,
           94768.27418168692,
           89185.76045838608,
           84032.98679916115,
           79272.35808989342,
           74869.85496355506,
           70794.6714064989,
           67018.89107156961,
           63517.1979707751,
           60266.617724266005,
           57246.28598540733,
           54437.24105147357,
           51822.23801255243,
           49385.58209343685,
           47112.97910962366
          ],
          [
           115527.31489654463,
           108559.13763776788,
           102135.1597969938,
           96207.18746339872,
           90731.6645201588,
           85669.19709520582,
           80984.12940680484,
           76644.16518935715,
           72620.02957024917,
           68885.16687011518,
           65415.470327136376,
           62189.04021025932,
           59185.96719446695,
           56388.13823051656,
           53779.062457922024,
           51343.714988746884,
           49068.39663558397
          ],
          [
           116552.11678930638,
           109761.31661361309,
           103490.11507764964,
           97693.11879306143,
           92329.26073546891,
           87361.35978971954,
           82755.72763662583,
           78481.81764830301,
           74511.9110856604,
           70820.83644161164,
           67385.7182567592,
           64185.75215913985,
           61202.00325334901,
           58417.22531340396,
           55815.698523563646,
           53383.08376686611,
           51106.29168655517
          ],
          [
           117604.5820848721,
           110997.00769138591,
           104884.03311740873,
           99223.08171213735,
           93975.59224971333,
           89106.61331952042,
           84584.44105092283,
           80380.29531409919,
           76468.03010713928,
           72823.87433893936,
           69426.19965632439,
           66255.31234988576,
           63293.26671279748,
           60523.69752616088,
           57931.66960819208,
           55503.54259721986,
           53226.84934377368
          ],
          [
           118681.15240390891,
           112262.21934245837,
           106312.62306573053,
           100792.60066598604,
           95666.09660348376,
           90900.3914047509,
           86465.76976916463,
           82335.22368864591,
           78484.1866974184,
           74890.29581886918,
           71533.17817231233,
           68394.25955075397,
           65456.59258744439,
           62704.70239928541,
           60124.44783348121,
           57702.896654140095,
           55428.21319123494
          ],
          [
           119776.98907762713,
           113551.43217946416,
           107769.84308608383,
           102395.24844753652,
           97394.07964961487,
           92735.83498454557,
           88392.77742007279,
           84339.66401922621,
           80553.50352096102,
           77013.33899446923,
           73700.05283416627,
           70596.19167425098,
           67685.80907651357,
           64954.32408736231,
           62388.393973796716,
           59975.79963680789,
           57705.34236743414
          ],
          [
           120886.381953404,
           114858.07503842673,
           109248.43306981282,
           104023.22622396544,
           99151.33474298505,
           94604.44345132021,
           90356.76821085287,
           86384.8107945522,
           82667.13906504758,
           79184.18970185268,
           75918.09103556407,
           72852.50382452947,
           69972.47805381341,
           67264.3240518643,
           64715.49641058758,
           62314.48936267033,
           60050.74241863325
          ],
          [
           122002.7958766128,
           116174.56568410603,
           110739.94462724085,
           105667.3786680752,
           100928.13955802667,
           96496.05030286372,
           92347.23908690193,
           88459.91854114283,
           84814.18759764984,
           81391.85348722235,
           78176.27171467761,
           75152.2020904785,
           72305.67911304612,
           69623.89518645013,
           67095.09532630931,
           64708.4821553974,
           62454.130121945476
          ],
          [
           123119.32679516403,
           117492.84567747168,
           112235.34367051083,
           107317.85444951348,
           102713.96578608835,
           98399.57432755991,
           94352.66556307668,
           90553.11623963785,
           86982.51680344346,
           83624.01171704705,
           80462.15574523584,
           77482.7845164587,
           74672.89785541713,
           72020.55454924067,
           69514.7773571083,
           67145.4672036346,
           64903.32561181136
          ],
          [
           124229.47924005848,
           118805.30101553169,
           113726.05809175232,
           108965.26659161666,
           104498.73937604508,
           100304.36832459203,
           96361.92875590609,
           92652.90360139201,
           89160.3252159687,
           85868.63294831415,
           82763.54480335039,
           79831.94171544797,
           77061.76311488269,
           74441.91261513146,
           71962.17277690767,
           69613.12801845408,
           67386.09484225781
          ]
         ]
        }
       ],
       "layout": {
        "autosize": true,
        "height": 500,
        "margin": {
         "b": 65,
         "l": 65,
         "r": 50,
         "t": 90
        },
        "scene": {
         "xaxis": {
          "title": {
           "text": "Taxa de Juros a.a"
          }
         },
         "yaxis": {
          "title": {
           "text": "Idade"
          }
         },
         "zaxis": {
          "title": {
           "text": "PNA"
          }
         }
        },
        "template": {
         "data": {
          "bar": [
           {
            "error_x": {
             "color": "#2a3f5f"
            },
            "error_y": {
             "color": "#2a3f5f"
            },
            "marker": {
             "line": {
              "color": "#E5ECF6",
              "width": 0.5
             }
            },
            "type": "bar"
           }
          ],
          "barpolar": [
           {
            "marker": {
             "line": {
              "color": "#E5ECF6",
              "width": 0.5
             }
            },
            "type": "barpolar"
           }
          ],
          "carpet": [
           {
            "aaxis": {
             "endlinecolor": "#2a3f5f",
             "gridcolor": "white",
             "linecolor": "white",
             "minorgridcolor": "white",
             "startlinecolor": "#2a3f5f"
            },
            "baxis": {
             "endlinecolor": "#2a3f5f",
             "gridcolor": "white",
             "linecolor": "white",
             "minorgridcolor": "white",
             "startlinecolor": "#2a3f5f"
            },
            "type": "carpet"
           }
          ],
          "choropleth": [
           {
            "colorbar": {
             "outlinewidth": 0,
             "ticks": ""
            },
            "type": "choropleth"
           }
          ],
          "contour": [
           {
            "colorbar": {
             "outlinewidth": 0,
             "ticks": ""
            },
            "colorscale": [
             [
              0,
              "#0d0887"
             ],
             [
              0.1111111111111111,
              "#46039f"
             ],
             [
              0.2222222222222222,
              "#7201a8"
             ],
             [
              0.3333333333333333,
              "#9c179e"
             ],
             [
              0.4444444444444444,
              "#bd3786"
             ],
             [
              0.5555555555555556,
              "#d8576b"
             ],
             [
              0.6666666666666666,
              "#ed7953"
             ],
             [
              0.7777777777777778,
              "#fb9f3a"
             ],
             [
              0.8888888888888888,
              "#fdca26"
             ],
             [
              1,
              "#f0f921"
             ]
            ],
            "type": "contour"
           }
          ],
          "contourcarpet": [
           {
            "colorbar": {
             "outlinewidth": 0,
             "ticks": ""
            },
            "type": "contourcarpet"
           }
          ],
          "heatmap": [
           {
            "colorbar": {
             "outlinewidth": 0,
             "ticks": ""
            },
            "colorscale": [
             [
              0,
              "#0d0887"
             ],
             [
              0.1111111111111111,
              "#46039f"
             ],
             [
              0.2222222222222222,
              "#7201a8"
             ],
             [
              0.3333333333333333,
              "#9c179e"
             ],
             [
              0.4444444444444444,
              "#bd3786"
             ],
             [
              0.5555555555555556,
              "#d8576b"
             ],
             [
              0.6666666666666666,
              "#ed7953"
             ],
             [
              0.7777777777777778,
              "#fb9f3a"
             ],
             [
              0.8888888888888888,
              "#fdca26"
             ],
             [
              1,
              "#f0f921"
             ]
            ],
            "type": "heatmap"
           }
          ],
          "heatmapgl": [
           {
            "colorbar": {
             "outlinewidth": 0,
             "ticks": ""
            },
            "colorscale": [
             [
              0,
              "#0d0887"
             ],
             [
              0.1111111111111111,
              "#46039f"
             ],
             [
              0.2222222222222222,
              "#7201a8"
             ],
             [
              0.3333333333333333,
              "#9c179e"
             ],
             [
              0.4444444444444444,
              "#bd3786"
             ],
             [
              0.5555555555555556,
              "#d8576b"
             ],
             [
              0.6666666666666666,
              "#ed7953"
             ],
             [
              0.7777777777777778,
              "#fb9f3a"
             ],
             [
              0.8888888888888888,
              "#fdca26"
             ],
             [
              1,
              "#f0f921"
             ]
            ],
            "type": "heatmapgl"
           }
          ],
          "histogram": [
           {
            "marker": {
             "colorbar": {
              "outlinewidth": 0,
              "ticks": ""
             }
            },
            "type": "histogram"
           }
          ],
          "histogram2d": [
           {
            "colorbar": {
             "outlinewidth": 0,
             "ticks": ""
            },
            "colorscale": [
             [
              0,
              "#0d0887"
             ],
             [
              0.1111111111111111,
              "#46039f"
             ],
             [
              0.2222222222222222,
              "#7201a8"
             ],
             [
              0.3333333333333333,
              "#9c179e"
             ],
             [
              0.4444444444444444,
              "#bd3786"
             ],
             [
              0.5555555555555556,
              "#d8576b"
             ],
             [
              0.6666666666666666,
              "#ed7953"
             ],
             [
              0.7777777777777778,
              "#fb9f3a"
             ],
             [
              0.8888888888888888,
              "#fdca26"
             ],
             [
              1,
              "#f0f921"
             ]
            ],
            "type": "histogram2d"
           }
          ],
          "histogram2dcontour": [
           {
            "colorbar": {
             "outlinewidth": 0,
             "ticks": ""
            },
            "colorscale": [
             [
              0,
              "#0d0887"
             ],
             [
              0.1111111111111111,
              "#46039f"
             ],
             [
              0.2222222222222222,
              "#7201a8"
             ],
             [
              0.3333333333333333,
              "#9c179e"
             ],
             [
              0.4444444444444444,
              "#bd3786"
             ],
             [
              0.5555555555555556,
              "#d8576b"
             ],
             [
              0.6666666666666666,
              "#ed7953"
             ],
             [
              0.7777777777777778,
              "#fb9f3a"
             ],
             [
              0.8888888888888888,
              "#fdca26"
             ],
             [
              1,
              "#f0f921"
             ]
            ],
            "type": "histogram2dcontour"
           }
          ],
          "mesh3d": [
           {
            "colorbar": {
             "outlinewidth": 0,
             "ticks": ""
            },
            "type": "mesh3d"
           }
          ],
          "parcoords": [
           {
            "line": {
             "colorbar": {
              "outlinewidth": 0,
              "ticks": ""
             }
            },
            "type": "parcoords"
           }
          ],
          "pie": [
           {
            "automargin": true,
            "type": "pie"
           }
          ],
          "scatter": [
           {
            "marker": {
             "colorbar": {
              "outlinewidth": 0,
              "ticks": ""
             }
            },
            "type": "scatter"
           }
          ],
          "scatter3d": [
           {
            "line": {
             "colorbar": {
              "outlinewidth": 0,
              "ticks": ""
             }
            },
            "marker": {
             "colorbar": {
              "outlinewidth": 0,
              "ticks": ""
             }
            },
            "type": "scatter3d"
           }
          ],
          "scattercarpet": [
           {
            "marker": {
             "colorbar": {
              "outlinewidth": 0,
              "ticks": ""
             }
            },
            "type": "scattercarpet"
           }
          ],
          "scattergeo": [
           {
            "marker": {
             "colorbar": {
              "outlinewidth": 0,
              "ticks": ""
             }
            },
            "type": "scattergeo"
           }
          ],
          "scattergl": [
           {
            "marker": {
             "colorbar": {
              "outlinewidth": 0,
              "ticks": ""
             }
            },
            "type": "scattergl"
           }
          ],
          "scattermapbox": [
           {
            "marker": {
             "colorbar": {
              "outlinewidth": 0,
              "ticks": ""
             }
            },
            "type": "scattermapbox"
           }
          ],
          "scatterpolar": [
           {
            "marker": {
             "colorbar": {
              "outlinewidth": 0,
              "ticks": ""
             }
            },
            "type": "scatterpolar"
           }
          ],
          "scatterpolargl": [
           {
            "marker": {
             "colorbar": {
              "outlinewidth": 0,
              "ticks": ""
             }
            },
            "type": "scatterpolargl"
           }
          ],
          "scatterternary": [
           {
            "marker": {
             "colorbar": {
              "outlinewidth": 0,
              "ticks": ""
             }
            },
            "type": "scatterternary"
           }
          ],
          "surface": [
           {
            "colorbar": {
             "outlinewidth": 0,
             "ticks": ""
            },
            "colorscale": [
             [
              0,
              "#0d0887"
             ],
             [
              0.1111111111111111,
              "#46039f"
             ],
             [
              0.2222222222222222,
              "#7201a8"
             ],
             [
              0.3333333333333333,
              "#9c179e"
             ],
             [
              0.4444444444444444,
              "#bd3786"
             ],
             [
              0.5555555555555556,
              "#d8576b"
             ],
             [
              0.6666666666666666,
              "#ed7953"
             ],
             [
              0.7777777777777778,
              "#fb9f3a"
             ],
             [
              0.8888888888888888,
              "#fdca26"
             ],
             [
              1,
              "#f0f921"
             ]
            ],
            "type": "surface"
           }
          ],
          "table": [
           {
            "cells": {
             "fill": {
              "color": "#EBF0F8"
             },
             "line": {
              "color": "white"
             }
            },
            "header": {
             "fill": {
              "color": "#C8D4E3"
             },
             "line": {
              "color": "white"
             }
            },
            "type": "table"
           }
          ]
         },
         "layout": {
          "annotationdefaults": {
           "arrowcolor": "#2a3f5f",
           "arrowhead": 0,
           "arrowwidth": 1
          },
          "coloraxis": {
           "colorbar": {
            "outlinewidth": 0,
            "ticks": ""
           }
          },
          "colorscale": {
           "diverging": [
            [
             0,
             "#8e0152"
            ],
            [
             0.1,
             "#c51b7d"
            ],
            [
             0.2,
             "#de77ae"
            ],
            [
             0.3,
             "#f1b6da"
            ],
            [
             0.4,
             "#fde0ef"
            ],
            [
             0.5,
             "#f7f7f7"
            ],
            [
             0.6,
             "#e6f5d0"
            ],
            [
             0.7,
             "#b8e186"
            ],
            [
             0.8,
             "#7fbc41"
            ],
            [
             0.9,
             "#4d9221"
            ],
            [
             1,
             "#276419"
            ]
           ],
           "sequential": [
            [
             0,
             "#0d0887"
            ],
            [
             0.1111111111111111,
             "#46039f"
            ],
            [
             0.2222222222222222,
             "#7201a8"
            ],
            [
             0.3333333333333333,
             "#9c179e"
            ],
            [
             0.4444444444444444,
             "#bd3786"
            ],
            [
             0.5555555555555556,
             "#d8576b"
            ],
            [
             0.6666666666666666,
             "#ed7953"
            ],
            [
             0.7777777777777778,
             "#fb9f3a"
            ],
            [
             0.8888888888888888,
             "#fdca26"
            ],
            [
             1,
             "#f0f921"
            ]
           ],
           "sequentialminus": [
            [
             0,
             "#0d0887"
            ],
            [
             0.1111111111111111,
             "#46039f"
            ],
            [
             0.2222222222222222,
             "#7201a8"
            ],
            [
             0.3333333333333333,
             "#9c179e"
            ],
            [
             0.4444444444444444,
             "#bd3786"
            ],
            [
             0.5555555555555556,
             "#d8576b"
            ],
            [
             0.6666666666666666,
             "#ed7953"
            ],
            [
             0.7777777777777778,
             "#fb9f3a"
            ],
            [
             0.8888888888888888,
             "#fdca26"
            ],
            [
             1,
             "#f0f921"
            ]
           ]
          },
          "colorway": [
           "#636efa",
           "#EF553B",
           "#00cc96",
           "#ab63fa",
           "#FFA15A",
           "#19d3f3",
           "#FF6692",
           "#B6E880",
           "#FF97FF",
           "#FECB52"
          ],
          "font": {
           "color": "#2a3f5f"
          },
          "geo": {
           "bgcolor": "white",
           "lakecolor": "white",
           "landcolor": "#E5ECF6",
           "showlakes": true,
           "showland": true,
           "subunitcolor": "white"
          },
          "hoverlabel": {
           "align": "left"
          },
          "hovermode": "closest",
          "mapbox": {
           "style": "light"
          },
          "paper_bgcolor": "white",
          "plot_bgcolor": "#E5ECF6",
          "polar": {
           "angularaxis": {
            "gridcolor": "white",
            "linecolor": "white",
            "ticks": ""
           },
           "bgcolor": "#E5ECF6",
           "radialaxis": {
            "gridcolor": "white",
            "linecolor": "white",
            "ticks": ""
           }
          },
          "scene": {
           "xaxis": {
            "backgroundcolor": "#E5ECF6",
            "gridcolor": "white",
            "gridwidth": 2,
            "linecolor": "white",
            "showbackground": true,
            "ticks": "",
            "zerolinecolor": "white"
           },
           "yaxis": {
            "backgroundcolor": "#E5ECF6",
            "gridcolor": "white",
            "gridwidth": 2,
            "linecolor": "white",
            "showbackground": true,
            "ticks": "",
            "zerolinecolor": "white"
           },
           "zaxis": {
            "backgroundcolor": "#E5ECF6",
            "gridcolor": "white",
            "gridwidth": 2,
            "linecolor": "white",
            "showbackground": true,
            "ticks": "",
            "zerolinecolor": "white"
           }
          },
          "shapedefaults": {
           "line": {
            "color": "#2a3f5f"
           }
          },
          "ternary": {
           "aaxis": {
            "gridcolor": "white",
            "linecolor": "white",
            "ticks": ""
           },
           "baxis": {
            "gridcolor": "white",
            "linecolor": "white",
            "ticks": ""
           },
           "bgcolor": "#E5ECF6",
           "caxis": {
            "gridcolor": "white",
            "linecolor": "white",
            "ticks": ""
           }
          },
          "title": {
           "x": 0.05
          },
          "xaxis": {
           "automargin": true,
           "gridcolor": "white",
           "linecolor": "white",
           "ticks": "",
           "title": {
            "standoff": 15
           },
           "zerolinecolor": "white",
           "zerolinewidth": 2
          },
          "yaxis": {
           "automargin": true,
           "gridcolor": "white",
           "linecolor": "white",
           "ticks": "",
           "title": {
            "standoff": 15
           },
           "zerolinecolor": "white",
           "zerolinewidth": 2
          }
         }
        },
        "title": {
         "text": "Dotal Misto"
        },
        "width": 500
       }
      },
      "text/html": [
       "<div>\n",
       "        \n",
       "        \n",
       "            <div id=\"1e8e7a3b-083b-49ca-90b4-9c5e41199a7f\" class=\"plotly-graph-div\" style=\"height:500px; width:500px;\"></div>\n",
       "            <script type=\"text/javascript\">\n",
       "                require([\"plotly\"], function(Plotly) {\n",
       "                    window.PLOTLYENV=window.PLOTLYENV || {};\n",
       "                    \n",
       "                if (document.getElementById(\"1e8e7a3b-083b-49ca-90b4-9c5e41199a7f\")) {\n",
       "                    Plotly.newPlot(\n",
       "                        '1e8e7a3b-083b-49ca-90b4-9c5e41199a7f',\n",
       "                        [{\"type\": \"surface\", \"x\": [2.0, 2.5, 3.0, 3.5000000000000004, 4.0, 4.5, 5.0, 5.5, 6.0, 6.5, 7.000000000000001, 7.5, 8.0, 8.5, 9.0, 9.5, 10.0], \"y\": [0.0, 1.0, 2.0, 3.0, 4.0, 5.0, 6.0, 7.0, 8.0, 9.0, 10.0, 11.0, 12.0, 13.0, 14.0, 15.0, 16.0, 17.0, 18.0, 19.0, 20.0, 21.0, 22.0, 23.0, 24.0, 25.0, 26.0, 27.0, 28.0, 29.0, 30.0, 31.0, 32.0, 33.0, 34.0, 35.0, 36.0, 37.0, 38.0, 39.0, 40.0, 41.0, 42.0, 43.0, 44.0, 45.0, 46.0, 47.0, 48.0, 49.0, 50.0, 51.0, 52.0, 53.0, 54.0, 55.0, 56.0, 57.0, 58.0, 59.0, 60.0, 61.0, 62.0, 63.0, 64.0, 65.0, 66.0, 67.0, 68.0, 69.0, 70.0, 71.0, 72.0, 73.0, 74.0, 75.0, 76.0, 77.0, 78.0, 79.0, 80.0], \"z\": [[101223.73378751348, 91867.88737721804, 83421.47741724079, 75792.23754924319, 68897.64551061661, 62663.85411885934, 57024.7438738453, 51921.082853419066, 47299.78132192838, 43113.229996265625, 39318.71224808088, 35877.88168873873, 32756.297606614004, 29923.011623036742, 27350.199719643326, 25012.834480089103, 22888.392995139915], [101137.88869591274, 91765.87705499107, 83304.99982352558, 75662.81862763243, 68756.65723286178, 62512.53056012703, 56864.19554252533, 51752.30947230059, 47123.68323455936, 42930.618352089325, 39130.3181021567, 35684.36413619862, 32558.251058217644, 29720.97231603772, 27144.65154746421, 24804.214214849544, 22677.09496873661], [101115.43005132362, 91739.1125336176, 83274.35323882081, 75628.67274972727, 68719.35796435033, 62472.390665877145, 56821.4979832643, 51707.31038595369, 47076.61460423899, 42881.69039516318, 39079.72141088559, 35632.271596964594, 32504.81957330293, 29666.34434921407, 27088.95651226782, 24747.56972230987, 22619.60794946429], [101111.50493979237, 91734.34140009116, 83268.78512330439, 75622.35428244986, 68712.33344618767, 62464.70215273705, 56813.18537295038, 51698.411506289434, 47067.165301458714, 42871.724621766574, 39069.27131231209, 35621.367596579075, 32493.490455296327, 29654.617339117776, 27076.85735485913, 24735.122756751283, 22606.836181573926], [101112.38522802005, 91735.2605190318, 83269.69131479514, 75623.20389914923, 68713.08991081287, 62465.335044933534, 56813.669628177406, 51698.7267130413, 47067.29508483458, 42871.65610287925, 39068.99463431928, 35620.875509250815, 32492.777951021937, 29653.68133412153, 27075.696410152595, 24733.73683401512, 22605.226429744504], [101116.21624434328, 91739.67273377396, 83274.57081551448, 75628.45138975575, 68718.61897419192, 62471.07061044151, 56819.54661952395, 51704.68885506283, 47073.29385027949, 42877.64978261505, 39074.94751637701, 35626.75715387846, 32498.562550459632, 29659.347147161374, 27081.225262731863, 24739.11367813239, 22610.438953902365], [101122.33953373582, 91746.80084830981, 83282.54230482533, 75637.12439806125, 68727.86896657226, 62480.78836382125, 56829.63644697614, 51715.067035855944, 47083.88724142741, 42888.39459061329, 39085.78821036954, 35637.64550374584, 32509.456775287617, 29670.211161279338, 27092.02800802765, 24749.8285326841, 22621.043208140094], [101130.43627893382, 91756.27093708138, 83293.18458430811, 75648.76146824863, 68740.34445596824, 62493.96452031367, 56843.392006691814, 51729.29533727299, 47098.49455596936, 42903.298644409675, 39100.916874900904, 35652.93563574976, 32524.853188637397, 29685.665715595103, 27107.498800579746, 24765.279181730362, 22636.442217229538], [101140.25691129532, 91767.79114476811, 83306.1699379976, 75663.00478872069, 68755.66270844082, 62510.19606687836, 56860.394174644396, 51746.942266238686, 47116.675291191954, 42921.91544749067, 39119.88372670823, 35672.17690922743, 32544.302471891147, 29705.264767949713, 27127.196626343804, 24785.0312081966, 22656.209565015524], [101149.12847945474, 91778.18141679751, 83317.86283023319, 75675.8097251444, 68769.41168803546, 62524.741070943885, 56875.60487387064, 51762.70399220265, 47132.88724121633, 42938.48909553682, 39136.74141625304, 35689.250606947266, 32561.532663495913, 29722.599479724136, 27144.59055789605, 24802.444963622896, 22673.608971191592], [101157.37891939086, 91787.82954026824, 83328.7038056703, 75687.66321063029, 68782.11899775291, 62538.162671209495, 56889.618169701986, 51777.2013701086, 47147.77433804723, 42953.68326686516, 39152.170380939846, 35704.851247341096, 32577.2499631621, 29738.385582751394, 27160.403935717088, 24818.249676944637, 22689.374016089983], [101165.25292860862, 91797.02550847075, 83339.02300495117, 75698.93088476374, 68794.181579059, 62550.88532152659, 56902.88260705869, 51790.90394734569, 47161.824343719854, 42968.001422328925, 39166.687510656106, 35719.50710218379, 32591.9921789175, 29753.168758118238, 27175.18881597187, 24833.002431070137, 22704.06559659979], [101172.95121892107, 91806.00830863952, 83349.09375204268, 75709.91681743039, 68805.93097395079, 62563.26505117064, 56915.77598116646, 51804.20880411731, 47175.45136174844, 42981.8726272433, 39180.7349537392, 35733.67169092219, 32606.22264182296, 29767.420728256537, 27189.42401947412, 24847.18796851894, 22718.17330660483], [101180.67851451234, 91815.02290132227, 83359.1975700388, 75720.93572137854, 68817.71198772485, 62575.67391371543, 56928.694981481734, 51817.53486609538, 47189.09434957816, 42995.753845605206, 39194.785820096884, 35747.83255991707, 32620.441764152078, 29781.65332849675, 27203.631479147465, 24861.33710230349, 22732.23572101212], [101188.54598222845, 91824.20398668139, 83369.49113101503, 75732.1647509265, 68829.7208383691, 62588.32584222986, 56941.86997605928, 51831.12772293358, 47203.01296977286, 43009.91772672308, 39209.12471984821, 35762.28531202889, 32634.95522889406, 29796.181462379063, 27218.134510127224, 24875.780798435182, 22746.59074188379], [101196.67501882052, 91833.69871047714, 83380.14569342733, 75743.79773318612, 68842.17246485755, 62601.45551324123, 56955.55408264473, 51845.25771096217, 47217.4936242683, 43024.66565098086, 39224.06698686074, 35777.35826840091, 32650.103433763936, 29811.356745911587, 27233.295137948073, 24890.890729964365, 22761.61897192327], [101205.04900171731, 91843.49015707085, 83391.14515233657, 75755.82030297055, 68855.05501758069, 62615.054234331394, 56969.74229024332, 51859.92392234739, 47232.539840801575, 43040.00583640886, 39239.62571677897, 35793.06953129681, 32665.909566353155, 29827.207487500775, 27249.146790333816, 24906.705410942828, 22777.363951862997], [101213.69980809143, 91853.61918930324, 83402.53958046221, 75768.29189506754, 68868.43738267277, 62629.20037748411, 56984.522443676266, 51875.22362069442, 47248.25821243342, 43056.054086051474, 39255.925777576886, 35809.55286703355, 32682.516106793315, 29843.884681801548, 27265.84876521856, 24923.392221866285, 22794.000916752666], [101222.46875404264, 91863.89957772446, 83414.11902904585, 75780.98224841586, 68882.07201860426, 62643.631816759626, 56999.62022810733, 51890.872428761126, 47264.3561851929, 43072.5113393275, 39272.66307923904, 35826.500460653355, 32699.61266514406, 29861.076375586817, 27283.088434103436, 24940.638636373893, 22811.218120900034], [101231.33942960254, 91874.31099958163, 83425.85953177883, 75793.86407869875, 68895.92868812915, 62658.3157528324, 57015.000687549815, 51906.833644839244, 47280.79572087723, 43089.338623340045, 39289.798104107125, 35843.87262442094, 32717.159740529758, 29878.743592258426, 27300.827661395742, 24958.407655235147, 22828.979975139013], [101240.23538337786, 91884.75924626457, 83437.6499305417, 75806.81016056573, 68909.86503113536, 62673.095653417506, 57030.494093835936, 51922.92532154694, 47297.3836192315, 43106.33243247566, 39307.117963254284, 35861.447977586686, 32734.928317530706, 29896.65050184202, 27318.824583843212, 24976.452123297164, 22847.034733439534], [101249.12044147537, 91895.19514247666, 83449.42732418238, 75819.74344896365, 68923.7896927884, 62687.865893916045, 57045.98075912313, 51939.01404735282, 47313.97318925681, 43123.3333211783, 39324.45104196482, 35879.043365201476, 32752.724359244432, 29914.592861326768, 27336.865435990487, 24994.549436142548, 22865.151629212607], [101258.00145098695, 91905.61786791813, 83461.18090584171, 75832.64136478557, 68937.66698745007, 62702.57672845389, 57061.39624311424, 51955.02032028287, 47330.46972175323, 43140.23141033104, 39341.67247805989, 35896.519249911034, 32770.39405770199, 29932.40307260659, 27354.769368346504, 25012.506074973808, 22883.12508713887], [101266.98180866618, 91916.13871143856, 83473.02491069624, 75845.61700074935, 68951.60551453666, 62717.32954662593, 57076.83255322964, 51971.0250589921, 47346.94173763763, 43157.08185257055, 39358.82337241517, 35913.90223986636, 32787.94929129367, 29950.07821781042, 27372.5187419542, 25030.28987169341, 22900.908697236646], [101276.22049543413, 91926.93240428086, 83485.14303955891, 75858.85733725206, 68965.79078925778, 62732.304471710886, 57092.46120099027, 51987.18855329537, 47363.53622023284, 43174.016691176825, 39376.01958147338, 35931.29108842844, 32805.471075643676, 29967.681179142237, 27390.15811182254, 25047.92703004825, 22918.51042968678], [101285.93303133258, 91938.2385281501, 83497.79034858037, 75872.62562205433, 68980.48810420504, 62747.763682843644, 57108.53695292758, 52003.75460374977, 47380.48309719205, 43191.249633393985, 39393.45672778626, 35948.86188568949, 32823.114878766806, 29985.346020028468, 27407.79961677471, 25065.507467777825, 22935.99787419778], [101296.53463008864, 91950.53265833775, 83511.48982502334, 75887.48105736518, 68996.28321826608, 62764.31118774638, 57125.67494227117, 52021.34338412286, 47398.402407443165, 43209.39620408341, 39411.74213913685, 35967.21068752628, 32841.462940455094, 30003.639082369016, 27425.992021268725, 25083.56104169484, 22953.88095252368], [101308.49573440604, 91964.35545318521, 83526.83806119542, 75904.06375081082, 69013.84897742776, 62782.64324001134, 57144.58677298055, 52040.67491245614, 47418.016632975516, 43229.17626608287, 39431.58873788534, 35987.039823250416, 32861.2039309572, 30023.23282526002, 27445.38947091029, 25102.721874637555, 22972.772398447116], [101322.47702003118, 91980.47459578043, 83544.69187595912, 75923.30395473151, 69034.17528737467, 62803.797321625745, 57166.34693512476, 52062.85145517992, 47440.447768474536, 43251.72454216954, 39454.13790226245, 36009.49207453646, 32883.47750910385, 30045.259899851655, 27467.114290949827, 25124.099147898163, 22993.765872385313], [101339.18862251016, 91999.71806248766, 83565.97855656043, 75946.21190162866, 69058.3408847984, 62828.90794384467, 57192.13450681898, 52089.086802913735, 47466.93566606134, 43278.29936481781, 39480.659814954524, 36035.84368931883, 32909.56095403319, 30070.99424939255, 27492.433313789632, 25148.94933354316, 23018.10470262929], [101359.38467670964, 92022.9683242214, 83591.69002409626, 75973.87219243956, 69087.50816819134, 62859.20210572593, 57223.22939518193, 52120.70342152059, 47498.83620027288, 43310.28193791683, 39512.55388588056, 36067.5060137202, 32940.87204014995, 30101.855248688495, 27522.763293607582, 25178.682885497426, 23047.18984609051], [101383.95894022186, 92051.27679427246, 83623.0144754999, 76007.5911651038, 69123.08497018465, 62896.17427636672, 57261.19944953491, 52159.330719883066, 47537.82980561404, 43349.39434116528, 39551.57549375076, 36106.26030670726, 32979.21131964029, 30139.65690203949, 27559.926514722665, 25215.1257960205, 23082.846969001934], [101413.81069924169, 92085.70436341029, 83661.15419930761, 76048.69438850222, 69166.50389772939, 62941.34954202129, 57307.64918865957, 52206.64096093846, 47585.64602160989, 43397.41402057134, 39599.541607803374, 36153.95556510328, 33026.453119790225, 30186.292888591972, 27605.83067618158, 25260.195034136104, 23126.998084385206], [101449.8926148996, 92127.37859052642, 83707.39129552855, 76098.60018844351, 69219.30302200708, 62996.37088894732, 57364.31316825751, 52264.44826059484, 47644.16771859152, 43456.28287929698, 39658.444419576816, 36212.62640535949, 33084.667413092684, 30243.862184922127, 27662.598053720605, 25316.03105396154, 23181.79723147207], [101492.92139213333, 92177.14914882614, 83762.69341128452, 76158.38063807931, 69282.64659854207, 63062.48368804657, 57432.50786978451, 52334.1311653871, 47714.82732964113, 43527.479842284316, 39729.80266025364, 36283.82532101611, 33155.43499263386, 30313.968947228514, 27731.851707256108, 25384.2717922396, 23248.893589219795], [101543.70448317632, 92235.97644697876, 83828.15798459106, 76229.25578363375, 69357.86421808132, 63141.11523534745, 57513.74756053583, 52417.28117815404, 47799.28475971995, 43612.72519927439, 39815.38972558162, 36369.37220390078, 33240.616242476666, 30398.50859750766, 27815.51714099255, 25466.8683322579, 23330.259727974168], [101603.09031203591, 92304.87308247607, 83904.94610242773, 76312.52096381866, 69446.3725375842, 63233.79174971972, 57609.65732818523, 52515.61252333922, 47899.33450739591, 43713.88564735728, 39917.13714860145, 36471.25670688985, 33342.2528057474, 30499.569172094696, 27915.723671310494, 25565.986597250576, 23428.093904963014], [101671.91185539274, 92384.83743367062, 83994.20741453813, 76409.46422064993, 69549.5862430291, 63342.04383566866, 57721.87389633196, 52630.85908319457, 48016.79941391135, 43832.8654775238, 40037.02378788873, 36591.52594398923, 33462.45425828028, 30619.317387171104, 28034.690263448374, 25683.89330252015, 23544.70644458564], [101749.77059468636, 92475.40439563837, 84095.42037334669, 76519.51647588244, 69666.89654812409, 63465.229858028804, 57849.72878804817, 52762.33079264982, 48150.97241343317, 43968.9446215696, 40174.320050685725, 36729.443815733524, 33600.48060546567, 30757.01160583853, 28171.675574528672, 25819.849056342005, 23679.36131734784], [101836.5580272677, 92576.45503574077, 84208.46049409658, 76642.55186056737, 69798.17974575872, 63603.23127312596, 57993.11114841814, 52909.92659456635, 48301.763992088534, 44122.04653728456, 40328.9635186123, 36884.96293946177, 33756.30020360075, 30912.636445759475, 28326.680849615976, 25973.871962352456, 23832.093600655833], [101931.9445772803, 92687.60821791211, 84332.90448325926, 76778.11315463668, 69942.95188517951, 63755.54368112022, 58151.50160262708, 53073.11690015989, 48468.63847847827, 44291.63304617141, 40500.416591052424, 37057.548944662885, 33929.38418288561, 31085.67047210008, 28499.193726820253, 26145.4601087873, 24002.41298067491], [102035.54620105757, 92808.41646923046, 84468.2515553484, 76925.65519817383, 70100.63132284771, 63921.55591483596, 58324.26559249143, 53251.24915743262, 48650.93007024075, 44477.029257836024, 40687.99893537539, 37246.51924317945, 34119.05047837809, 31275.434559403628, 28688.540114470412, 26333.946246155538, 24189.6606047023], [102146.91589742132, 92938.35316555428, 84613.90575832326, 77084.52194930415, 70270.51021399029, 64100.51575752068, 58510.61318965733, 53443.50169310613, 48847.7906912434, 44677.365472906386, 40890.82350204755, 37450.97325218377, 34324.38837991947, 31481.010906034688, 28893.797821944998, 26538.406197080596, 24392.91244040798], [102265.57842125834, 93076.85138988757, 84769.21764749313, 77253.98983427527, 70451.79856532757, 64291.573869429645, 58709.64219348915, 53648.92538927082, 49058.22975023431, 44891.61461023738, 41107.83127931891, 37669.8241980718, 34544.28716136507, 31701.268311930773, 29113.8183497495, 26757.677057498713, 24610.993817017734], [102391.16169604787, 93223.45820841957, 84933.65831574932, 77433.45877975281, 70643.82983418238, 64494.00179965177, 58920.566650998095, 53866.68102820649, 49281.35882383969, 45118.84291577102, 41338.04687042644, 37902.058541881976, 34777.69845603581, 31935.126714131085, 29347.492891213693, 26990.62405584354, 24842.746608919282], [102523.5301371202, 93377.9919497742, 85106.997669328, 77622.6488474509, 70846.2735714743, 64707.4185431954, 59142.955462431295, 54096.28828500781, 49516.64955697856, 45358.4754541763, 41580.85040514707, 38147.013269147086, 35023.91799906765, 32181.842559240253, 29594.04060503527, 27236.431078099322, 25087.321439288728], [102662.91773130652, 93540.70007904743, 85289.48437477207, 77821.7998085491, 71059.35242617849, 64932.02300105356, 59376.97852296863, 54337.88395717969, 49764.20254870224, 45610.574365038985, 41836.26401154171, 38404.669540314266, 35282.88552569969, 32441.314114194374, 29853.31858897233, 27494.914632090513, 25344.495032119405], [102810.06603171979, 93712.42354287354, 85482.03391811863, 78031.88053931182, 71284.07073264771, 65168.83982450981, 59623.66807865194, 54592.4972575961, 50025.03516161696, 45876.13790713325, 42105.260938828695, 38675.97084910033, 35555.511024084364, 32714.4149646437, 30126.161858088843, 27766.86961496035, 25615.02114608315], [102966.08173827478, 93894.42743050307, 85686.03509273897, 78254.3737892361, 71521.97975309716, 65419.46709570974, 59884.650604321694, 54861.767467403144, 50300.78636581687, 46156.793765715825, 42389.44847238654, 38962.49657550378, 35843.339854904065, 33002.65153899676, 30414.034029968225, 28053.7138438105, 25900.269569994372], [103132.5165827961, 94088.49667076586, 85903.4601030219, 78491.39939925511, 71775.31282266365, 65686.22230860972, 60162.302618882546, 55148.108666619446, 50593.88954210103, 46454.97915602432, 42691.25463012157, 39266.654627486925, 36148.75074597208, 33308.36591435138, 30719.234447161645, 28357.699042899316, 26202.440562586213], [103311.29856811617, 94296.85545785567, 86136.77378220171, 78745.61470464389, 72046.87814567042, 65972.02860618154, 60459.631271310616, 55454.585455393215, 50907.44401947345, 46773.80876647635, 43013.79302141657, 39591.54365688997, 36474.81574670321, 33634.593839507404, 31044.754554103423, 28681.76582126816, 26524.418644383757], [103504.52535356561, 94521.92445713331, 86388.6592958303, 79019.91281932525, 72339.73322406357, 66280.06846148118, 60779.909985040875, 55784.532924478706, 51244.82143026483, 47116.66929105756, 43360.44711699752, 39940.528423948585, 36824.8678671371, 33984.62567356252, 31393.833025289117, 29029.093762732824, 26869.318319089285], [103714.51921181692, 94766.38989037782, 86662.10117998795, 79317.51933903327, 72657.29484818023, 66613.906509031, 61126.81362999748, 56141.7036290287, 51609.823919691546, 47487.388291418574, 43735.04917132842, 40317.42818553291, 37202.6983409342, 34362.21194048619, 31770.169039808843, 29403.321863214685, 27240.711133261364], [103943.78934239308, 95033.16254072581, 86960.34272159597, 79641.9494881599, 73003.29714870261, 66977.44942295666, 61504.38096111083, 56530.23316151654, 52006.65329031006, 47890.2072333649, 44141.857372657556, 40726.49809662742, 37612.54234584703, 34771.55337737651, 32177.916617433242, 29808.547074609745, 27642.62831531098], [104194.94637151895, 95325.27966519623, 87286.7778638439, 79996.89222949866, 73381.66979911359, 67374.81981789574, 61916.88557633526, 56954.509309771514, 52439.77931483799, 48329.64974540287, 44585.42469580257, 41172.29918228326, 38058.950512751784, 35217.174306039706, 32621.56009857122, 30249.202070563042, 28079.44094600771], [104470.86091517849, 95646.0969072991, 87645.17431430038, 80386.4625648572, 73796.81764288626, 67810.66146157654, 62369.16508724475, 57419.523662349704, 52914.31234857405, 48810.91389831865, 45071.009589970876, 41660.12624958172, 38547.23294694844, 35704.38171312916, 33106.38729255697, 30730.541527939287, 28556.358490190047], [104774.78610749541, 95999.43503015167, 88039.84252747336, 80815.39104529304, 74253.82921020252, 68290.36544915786, 62866.86375026571, 57931.12962333452, 53436.275764098325, 49340.158190581446, 45604.87472714949, 42196.31868167003, 39083.78141138768, 36239.59821889091, 33638.832674105426, 31258.99503314208, 29079.79093003119], [105110.36126996348, 96389.58459852006, 88475.64160343278, 81289.03113601102, 74758.48582954297, 68820.08136028534, 63416.44597634203, 58496.05858214439, 54012.62508285214, 49924.52393253356, 46194.31291523987, 42788.29013893445, 39676.10305580294, 36830.400053732534, 34226.519805625525, 31842.214127018204, 29657.4005879815], [105481.5484545155, 96821.23197408977, 88957.89652171473, 81813.26932524286, 75317.16610817656, 69406.61747789009, 64025.093533995794, 59121.815234689166, 54651.14244420068, 50572.02979673308, 46847.54257372215, 43444.42572134163, 40332.71995061169, 37485.41957789834, 34878.167391629795, 32488.98238276027, 30298.016661429523], [105892.60794822662, 97299.43193313175, 89492.36898841971, 82394.49523589798, 75936.81626638697, 70057.41223003423, 64700.67891483735, 59816.65362343585, 55360.41600948911, 51291.55521753456, 47573.69570580356, 44174.07503897246, 41063.16773354786, 38214.34993678734, 35603.60033303826, 33209.233209912316, 31011.660090107507], [106347.34359668878, 97828.70928418219, 90084.22984911191, 83038.45790659047, 76623.70207970636, 70779.19243855096, 65450.339503509866, 60588.0759181077, 56148.27121107381, 52091.21121772789, 48381.134738330045, 44985.820894064644, 41876.22141568069, 39026.1327793392, 36411.90370087462, 34012.174023933854, 31807.641498351495], [106848.8282124182, 98412.73262404314, 90737.6865699231, 83749.85180576459, 77382.9577293909, 71577.48886176012, 66279.96327139667, 61442.29136629047, 57021.20575192639, 52977.75396986212, 49276.846908565916, 45886.85653484725, 42779.25734550362, 39928.30659818121, 37310.75895948301, 34905.61171719684, 32693.87715091836], [107399.38480176238, 99054.29279884064, 91455.95944671269, 84532.29121092254, 78218.55869749028, 72456.60788828213, 67194.15950040647, 62384.18623613784, 57984.358921796535, 53956.553612552205, 50266.4126849396, 46882.953767151084, 43778.221083696604, 40926.97442875706, 38306.41154266558, 35895.9201582325, 33676.85641653429], [108000.48482915944, 99755.18222041114, 92241.14395587292, 85388.15733804795, 79133.15521184218, 73419.45265411404, 68196.06877150314, 63417.12373883701, 59041.302396799016, 55031.37676636448, 51353.780747675344, 47978.231069039146, 44877.38925183048, 42026.559971699215, 39403.42173638892, 36987.78627506379, 34761.38345146193], [108652.74065984016, 100516.18598097972, 93094.20063775142, 86318.58704802203, 80128.05979642668, 74467.50943229908, 69287.34816995909, 64542.9280119776, 60194.02295412952, 56204.367927449486, 52541.2480062089, 49175.13217654777, 46079.34663254077, 43229.78315658261, 40604.63865942867, 38184.18241104888, 35950.54789443352], [109355.9554105048, 101337.14092887891, 94015.02231053372, 87323.54720228181, 81203.32785614472, 75600.93361167502, 70468.26189468688, 65761.97866253693, 61443.02031332204, 57476.15002868917, 53829.56235462528, 50474.53055668289, 47385.09192858218, 44537.766797388475, 41911.307464302095, 39486.4737561247, 37245.832246109334], [110109.060777276, 102216.86050876252, 95002.34673268542, 88401.73587253239, 82357.64808390857, 76818.42988540811, 71737.55175413475, 67073.07204491699, 62787.159626281544, 58845.6685321558, 55217.75872241588, 51875.557742087345, 48793.858680548816, 45949.85036929035, 43322.8762289403, 40894.218591572804, 38646.905689792424], [110910.11606610035, 103153.13145165643, 96053.75032154033, 89550.57253827548, 83588.32865896147, 78117.23403470776, 73092.41417524147, 68473.39318372385, 64223.6380455778, 60310.15241282429, 56703.11427747544, 53375.55258744489, 50303.05843782903, 47463.52697949439, 44836.92663445567, 42405.09260127793, 40151.54198033759], [111756.3532504541, 104142.76531272691, 97165.70465493281, 90766.25819590579, 84891.35974893154, 79493.1767355266, 74528.56433888737, 69958.57936238391, 65748.046980301, 61865.17437602462, 58281.20597152279, 54970.11557395565, 51908.33131148391, 49074.48971041649, 46449.21568799436, 44014.92560661426, 41755.650862407885], [112644.34657613562, 105181.79895605355, 98333.80413129581, 92044.02685605337, 86261.6858331949, 80940.97398848868, 76040.54225767491, 71523.03962335816, 67354.70300227746, 63504.99134067121, 59946.25893969409, 56653.46361601876, 53603.90581504704, 50776.99524452571, 48154.04199251401, 45718.06944237736, 43453.64660462314], [113570.81161213249, 106266.4513977515, 99553.86688014676, 93379.37805889102, 87694.55849539232, 82455.68988225276, 77623.27612353215, 73161.61014245212, 69038.38743754852, 65224.36111382257, 61693.033734585646, 58420.381883443806, 55384.609803676154, 52565.92890244865, 49946.36027702581, 47509.55774570792, 45240.649153057806], [114532.7195502407, 107393.2661836656, 100822.1048317644, 94768.27418168692, 89185.76045838608, 84032.98679916115, 79272.35808989342, 74869.85496355506, 70794.6714064989, 67018.89107156961, 63517.1979707751, 60266.617724266005, 57246.28598540733, 54437.24105147357, 51822.23801255243, 49385.58209343685, 47112.97910962366], [115527.31489654463, 108559.13763776788, 102135.1597969938, 96207.18746339872, 90731.6645201588, 85669.19709520582, 80984.12940680484, 76644.16518935715, 72620.02957024917, 68885.16687011518, 65415.470327136376, 62189.04021025932, 59185.96719446695, 56388.13823051656, 53779.062457922024, 51343.714988746884, 49068.39663558397], [116552.11678930638, 109761.31661361309, 103490.11507764964, 97693.11879306143, 92329.26073546891, 87361.35978971954, 82755.72763662583, 78481.81764830301, 74511.9110856604, 70820.83644161164, 67385.7182567592, 64185.75215913985, 61202.00325334901, 58417.22531340396, 55815.698523563646, 53383.08376686611, 51106.29168655517], [117604.5820848721, 110997.00769138591, 104884.03311740873, 99223.08171213735, 93975.59224971333, 89106.61331952042, 84584.44105092283, 80380.29531409919, 76468.03010713928, 72823.87433893936, 69426.19965632439, 66255.31234988576, 63293.26671279748, 60523.69752616088, 57931.66960819208, 55503.54259721986, 53226.84934377368], [118681.15240390891, 112262.21934245837, 106312.62306573053, 100792.60066598604, 95666.09660348376, 90900.3914047509, 86465.76976916463, 82335.22368864591, 78484.1866974184, 74890.29581886918, 71533.17817231233, 68394.25955075397, 65456.59258744439, 62704.70239928541, 60124.44783348121, 57702.896654140095, 55428.21319123494], [119776.98907762713, 113551.43217946416, 107769.84308608383, 102395.24844753652, 97394.07964961487, 92735.83498454557, 88392.77742007279, 84339.66401922621, 80553.50352096102, 77013.33899446923, 73700.05283416627, 70596.19167425098, 67685.80907651357, 64954.32408736231, 62388.393973796716, 59975.79963680789, 57705.34236743414], [120886.381953404, 114858.07503842673, 109248.43306981282, 104023.22622396544, 99151.33474298505, 94604.44345132021, 90356.76821085287, 86384.8107945522, 82667.13906504758, 79184.18970185268, 75918.09103556407, 72852.50382452947, 69972.47805381341, 67264.3240518643, 64715.49641058758, 62314.48936267033, 60050.74241863325], [122002.7958766128, 116174.56568410603, 110739.94462724085, 105667.3786680752, 100928.13955802667, 96496.05030286372, 92347.23908690193, 88459.91854114283, 84814.18759764984, 81391.85348722235, 78176.27171467761, 75152.2020904785, 72305.67911304612, 69623.89518645013, 67095.09532630931, 64708.4821553974, 62454.130121945476], [123119.32679516403, 117492.84567747168, 112235.34367051083, 107317.85444951348, 102713.96578608835, 98399.57432755991, 94352.66556307668, 90553.11623963785, 86982.51680344346, 83624.01171704705, 80462.15574523584, 77482.7845164587, 74672.89785541713, 72020.55454924067, 69514.7773571083, 67145.4672036346, 64903.32561181136], [124229.47924005848, 118805.30101553169, 113726.05809175232, 108965.26659161666, 104498.73937604508, 100304.36832459203, 96361.92875590609, 92652.90360139201, 89160.3252159687, 85868.63294831415, 82763.54480335039, 79831.94171544797, 77061.76311488269, 74441.91261513146, 71962.17277690767, 69613.12801845408, 67386.09484225781]]}],\n",
       "                        {\"autosize\": true, \"height\": 500, \"margin\": {\"b\": 65, \"l\": 65, \"r\": 50, \"t\": 90}, \"scene\": {\"xaxis\": {\"title\": {\"text\": \"Taxa de Juros a.a\"}}, \"yaxis\": {\"title\": {\"text\": \"Idade\"}}, \"zaxis\": {\"title\": {\"text\": \"PNA\"}}}, \"template\": {\"data\": {\"bar\": [{\"error_x\": {\"color\": \"#2a3f5f\"}, \"error_y\": {\"color\": \"#2a3f5f\"}, \"marker\": {\"line\": {\"color\": \"#E5ECF6\", \"width\": 0.5}}, \"type\": \"bar\"}], \"barpolar\": [{\"marker\": {\"line\": {\"color\": \"#E5ECF6\", \"width\": 0.5}}, \"type\": \"barpolar\"}], \"carpet\": [{\"aaxis\": {\"endlinecolor\": \"#2a3f5f\", \"gridcolor\": \"white\", \"linecolor\": \"white\", \"minorgridcolor\": \"white\", \"startlinecolor\": \"#2a3f5f\"}, \"baxis\": {\"endlinecolor\": \"#2a3f5f\", \"gridcolor\": \"white\", \"linecolor\": \"white\", \"minorgridcolor\": \"white\", \"startlinecolor\": \"#2a3f5f\"}, \"type\": \"carpet\"}], \"choropleth\": [{\"colorbar\": {\"outlinewidth\": 0, \"ticks\": \"\"}, \"type\": \"choropleth\"}], \"contour\": [{\"colorbar\": {\"outlinewidth\": 0, \"ticks\": \"\"}, \"colorscale\": [[0.0, \"#0d0887\"], [0.1111111111111111, \"#46039f\"], [0.2222222222222222, \"#7201a8\"], [0.3333333333333333, \"#9c179e\"], [0.4444444444444444, \"#bd3786\"], [0.5555555555555556, \"#d8576b\"], [0.6666666666666666, \"#ed7953\"], [0.7777777777777778, \"#fb9f3a\"], [0.8888888888888888, \"#fdca26\"], [1.0, \"#f0f921\"]], \"type\": \"contour\"}], \"contourcarpet\": [{\"colorbar\": {\"outlinewidth\": 0, \"ticks\": \"\"}, \"type\": \"contourcarpet\"}], \"heatmap\": [{\"colorbar\": {\"outlinewidth\": 0, \"ticks\": \"\"}, \"colorscale\": [[0.0, \"#0d0887\"], [0.1111111111111111, \"#46039f\"], [0.2222222222222222, \"#7201a8\"], [0.3333333333333333, \"#9c179e\"], [0.4444444444444444, \"#bd3786\"], [0.5555555555555556, \"#d8576b\"], [0.6666666666666666, \"#ed7953\"], [0.7777777777777778, \"#fb9f3a\"], [0.8888888888888888, \"#fdca26\"], [1.0, \"#f0f921\"]], \"type\": \"heatmap\"}], \"heatmapgl\": [{\"colorbar\": {\"outlinewidth\": 0, \"ticks\": \"\"}, \"colorscale\": [[0.0, \"#0d0887\"], [0.1111111111111111, \"#46039f\"], [0.2222222222222222, \"#7201a8\"], [0.3333333333333333, \"#9c179e\"], [0.4444444444444444, \"#bd3786\"], [0.5555555555555556, \"#d8576b\"], [0.6666666666666666, \"#ed7953\"], [0.7777777777777778, \"#fb9f3a\"], [0.8888888888888888, \"#fdca26\"], [1.0, \"#f0f921\"]], \"type\": \"heatmapgl\"}], \"histogram\": [{\"marker\": {\"colorbar\": {\"outlinewidth\": 0, \"ticks\": \"\"}}, \"type\": \"histogram\"}], \"histogram2d\": [{\"colorbar\": {\"outlinewidth\": 0, \"ticks\": \"\"}, \"colorscale\": [[0.0, \"#0d0887\"], [0.1111111111111111, \"#46039f\"], [0.2222222222222222, \"#7201a8\"], [0.3333333333333333, \"#9c179e\"], [0.4444444444444444, \"#bd3786\"], [0.5555555555555556, \"#d8576b\"], [0.6666666666666666, \"#ed7953\"], [0.7777777777777778, \"#fb9f3a\"], [0.8888888888888888, \"#fdca26\"], [1.0, \"#f0f921\"]], \"type\": \"histogram2d\"}], \"histogram2dcontour\": [{\"colorbar\": {\"outlinewidth\": 0, \"ticks\": \"\"}, \"colorscale\": [[0.0, \"#0d0887\"], [0.1111111111111111, \"#46039f\"], [0.2222222222222222, \"#7201a8\"], [0.3333333333333333, \"#9c179e\"], [0.4444444444444444, \"#bd3786\"], [0.5555555555555556, \"#d8576b\"], [0.6666666666666666, \"#ed7953\"], [0.7777777777777778, \"#fb9f3a\"], [0.8888888888888888, \"#fdca26\"], [1.0, \"#f0f921\"]], \"type\": \"histogram2dcontour\"}], \"mesh3d\": [{\"colorbar\": {\"outlinewidth\": 0, \"ticks\": \"\"}, \"type\": \"mesh3d\"}], \"parcoords\": [{\"line\": {\"colorbar\": {\"outlinewidth\": 0, \"ticks\": \"\"}}, \"type\": \"parcoords\"}], \"pie\": [{\"automargin\": true, \"type\": \"pie\"}], \"scatter\": [{\"marker\": {\"colorbar\": {\"outlinewidth\": 0, \"ticks\": \"\"}}, \"type\": \"scatter\"}], \"scatter3d\": [{\"line\": {\"colorbar\": {\"outlinewidth\": 0, \"ticks\": \"\"}}, \"marker\": {\"colorbar\": {\"outlinewidth\": 0, \"ticks\": \"\"}}, \"type\": \"scatter3d\"}], \"scattercarpet\": [{\"marker\": {\"colorbar\": {\"outlinewidth\": 0, \"ticks\": \"\"}}, \"type\": \"scattercarpet\"}], \"scattergeo\": [{\"marker\": {\"colorbar\": {\"outlinewidth\": 0, \"ticks\": \"\"}}, \"type\": \"scattergeo\"}], \"scattergl\": [{\"marker\": {\"colorbar\": {\"outlinewidth\": 0, \"ticks\": \"\"}}, \"type\": \"scattergl\"}], \"scattermapbox\": [{\"marker\": {\"colorbar\": {\"outlinewidth\": 0, \"ticks\": \"\"}}, \"type\": \"scattermapbox\"}], \"scatterpolar\": [{\"marker\": {\"colorbar\": {\"outlinewidth\": 0, \"ticks\": \"\"}}, \"type\": \"scatterpolar\"}], \"scatterpolargl\": [{\"marker\": {\"colorbar\": {\"outlinewidth\": 0, \"ticks\": \"\"}}, \"type\": \"scatterpolargl\"}], \"scatterternary\": [{\"marker\": {\"colorbar\": {\"outlinewidth\": 0, \"ticks\": \"\"}}, \"type\": \"scatterternary\"}], \"surface\": [{\"colorbar\": {\"outlinewidth\": 0, \"ticks\": \"\"}, \"colorscale\": [[0.0, \"#0d0887\"], [0.1111111111111111, \"#46039f\"], [0.2222222222222222, \"#7201a8\"], [0.3333333333333333, \"#9c179e\"], [0.4444444444444444, \"#bd3786\"], [0.5555555555555556, \"#d8576b\"], [0.6666666666666666, \"#ed7953\"], [0.7777777777777778, \"#fb9f3a\"], [0.8888888888888888, \"#fdca26\"], [1.0, \"#f0f921\"]], \"type\": \"surface\"}], \"table\": [{\"cells\": {\"fill\": {\"color\": \"#EBF0F8\"}, \"line\": {\"color\": \"white\"}}, \"header\": {\"fill\": {\"color\": \"#C8D4E3\"}, \"line\": {\"color\": \"white\"}}, \"type\": \"table\"}]}, \"layout\": {\"annotationdefaults\": {\"arrowcolor\": \"#2a3f5f\", \"arrowhead\": 0, \"arrowwidth\": 1}, \"coloraxis\": {\"colorbar\": {\"outlinewidth\": 0, \"ticks\": \"\"}}, \"colorscale\": {\"diverging\": [[0, \"#8e0152\"], [0.1, \"#c51b7d\"], [0.2, \"#de77ae\"], [0.3, \"#f1b6da\"], [0.4, \"#fde0ef\"], [0.5, \"#f7f7f7\"], [0.6, \"#e6f5d0\"], [0.7, \"#b8e186\"], [0.8, \"#7fbc41\"], [0.9, \"#4d9221\"], [1, \"#276419\"]], \"sequential\": [[0.0, \"#0d0887\"], [0.1111111111111111, \"#46039f\"], [0.2222222222222222, \"#7201a8\"], [0.3333333333333333, \"#9c179e\"], [0.4444444444444444, \"#bd3786\"], [0.5555555555555556, \"#d8576b\"], [0.6666666666666666, \"#ed7953\"], [0.7777777777777778, \"#fb9f3a\"], [0.8888888888888888, \"#fdca26\"], [1.0, \"#f0f921\"]], \"sequentialminus\": [[0.0, \"#0d0887\"], [0.1111111111111111, \"#46039f\"], [0.2222222222222222, \"#7201a8\"], [0.3333333333333333, \"#9c179e\"], [0.4444444444444444, \"#bd3786\"], [0.5555555555555556, \"#d8576b\"], [0.6666666666666666, \"#ed7953\"], [0.7777777777777778, \"#fb9f3a\"], [0.8888888888888888, \"#fdca26\"], [1.0, \"#f0f921\"]]}, \"colorway\": [\"#636efa\", \"#EF553B\", \"#00cc96\", \"#ab63fa\", \"#FFA15A\", \"#19d3f3\", \"#FF6692\", \"#B6E880\", \"#FF97FF\", \"#FECB52\"], \"font\": {\"color\": \"#2a3f5f\"}, \"geo\": {\"bgcolor\": \"white\", \"lakecolor\": \"white\", \"landcolor\": \"#E5ECF6\", \"showlakes\": true, \"showland\": true, \"subunitcolor\": \"white\"}, \"hoverlabel\": {\"align\": \"left\"}, \"hovermode\": \"closest\", \"mapbox\": {\"style\": \"light\"}, \"paper_bgcolor\": \"white\", \"plot_bgcolor\": \"#E5ECF6\", \"polar\": {\"angularaxis\": {\"gridcolor\": \"white\", \"linecolor\": \"white\", \"ticks\": \"\"}, \"bgcolor\": \"#E5ECF6\", \"radialaxis\": {\"gridcolor\": \"white\", \"linecolor\": \"white\", \"ticks\": \"\"}}, \"scene\": {\"xaxis\": {\"backgroundcolor\": \"#E5ECF6\", \"gridcolor\": \"white\", \"gridwidth\": 2, \"linecolor\": \"white\", \"showbackground\": true, \"ticks\": \"\", \"zerolinecolor\": \"white\"}, \"yaxis\": {\"backgroundcolor\": \"#E5ECF6\", \"gridcolor\": \"white\", \"gridwidth\": 2, \"linecolor\": \"white\", \"showbackground\": true, \"ticks\": \"\", \"zerolinecolor\": \"white\"}, \"zaxis\": {\"backgroundcolor\": \"#E5ECF6\", \"gridcolor\": \"white\", \"gridwidth\": 2, \"linecolor\": \"white\", \"showbackground\": true, \"ticks\": \"\", \"zerolinecolor\": \"white\"}}, \"shapedefaults\": {\"line\": {\"color\": \"#2a3f5f\"}}, \"ternary\": {\"aaxis\": {\"gridcolor\": \"white\", \"linecolor\": \"white\", \"ticks\": \"\"}, \"baxis\": {\"gridcolor\": \"white\", \"linecolor\": \"white\", \"ticks\": \"\"}, \"bgcolor\": \"#E5ECF6\", \"caxis\": {\"gridcolor\": \"white\", \"linecolor\": \"white\", \"ticks\": \"\"}}, \"title\": {\"x\": 0.05}, \"xaxis\": {\"automargin\": true, \"gridcolor\": \"white\", \"linecolor\": \"white\", \"ticks\": \"\", \"title\": {\"standoff\": 15}, \"zerolinecolor\": \"white\", \"zerolinewidth\": 2}, \"yaxis\": {\"automargin\": true, \"gridcolor\": \"white\", \"linecolor\": \"white\", \"ticks\": \"\", \"title\": {\"standoff\": 15}, \"zerolinecolor\": \"white\", \"zerolinewidth\": 2}}}, \"title\": {\"text\": \"Dotal Misto\"}, \"width\": 500},\n",
       "                        {\"responsive\": true}\n",
       "                    ).then(function(){\n",
       "                            \n",
       "var gd = document.getElementById('1e8e7a3b-083b-49ca-90b4-9c5e41199a7f');\n",
       "var x = new MutationObserver(function (mutations, observer) {{\n",
       "        var display = window.getComputedStyle(gd).display;\n",
       "        if (!display || display === 'none') {{\n",
       "            console.log([gd, 'removed!']);\n",
       "            Plotly.purge(gd);\n",
       "            observer.disconnect();\n",
       "        }}\n",
       "}});\n",
       "\n",
       "// Listen for the removal of the full notebook cells\n",
       "var notebookContainer = gd.closest('#notebook-container');\n",
       "if (notebookContainer) {{\n",
       "    x.observe(notebookContainer, {childList: true});\n",
       "}}\n",
       "\n",
       "// Listen for the clearing of the current output cell\n",
       "var outputEl = gd.closest('.output');\n",
       "if (outputEl) {{\n",
       "    x.observe(outputEl, {childList: true});\n",
       "}}\n",
       "\n",
       "                        })\n",
       "                };\n",
       "                });\n",
       "            </script>\n",
       "        </div>"
      ]
     },
     "metadata": {},
     "output_type": "display_data"
    }
   ],
   "source": [
    "fig = go.Figure(data=[go.Surface(z=df_matrix, y=np.array(list(df_matrix.index)), \n",
    "                                 x=np.array(list(df_matrix.columns)))])\n",
    "\n",
    "\n",
    "fig.update_layout(title='Dotal Misto', autosize=True,\n",
    "                  width=500, height=500,\n",
    "                  margin=dict(l=65, r=50, b=65, t=90),\n",
    "                 scene = dict(\n",
    "                    xaxis_title='Taxa de Juros a.a',\n",
    "                    yaxis_title='Idade',\n",
    "                    zaxis_title='PNA'),)\n",
    "\n",
    "fig.show()"
   ]
  },
  {
   "cell_type": "code",
   "execution_count": 163,
   "metadata": {},
   "outputs": [],
   "source": [
    "i_rates = [0.02, 0.025, 0.03, 0.035, 0.04, 0.045, 0.05,\n",
    "               0.055, 0.06, 0.065, 0.07, 0.075, 0.08, 0.085, 0.09, 0.095, 0.1]\n",
    "retro = []\n",
    "prosp = []\n",
    "t_ = []\n",
    "\n",
    "for t in range(0,100):\n",
    "    try:\n",
    "        retro.append(b.calc_reserves(t, 'retrosp')*1000)\n",
    "        prosp.append(b.calc_reserves(t)*1000)\n",
    "        t_.append(t)\n",
    "    except:\n",
    "        pass"
   ]
  },
  {
   "cell_type": "code",
   "execution_count": 164,
   "metadata": {},
   "outputs": [
    {
     "data": {
      "text/plain": [
       "36"
      ]
     },
     "execution_count": 164,
     "metadata": {},
     "output_type": "execute_result"
    }
   ],
   "source": [
    "len(t_)"
   ]
  },
  {
   "cell_type": "code",
   "execution_count": 165,
   "metadata": {},
   "outputs": [
    {
     "data": {
      "text/plain": [
       "36"
      ]
     },
     "execution_count": 165,
     "metadata": {},
     "output_type": "execute_result"
    }
   ],
   "source": [
    "len(retro)"
   ]
  },
  {
   "cell_type": "code",
   "execution_count": 166,
   "metadata": {},
   "outputs": [
    {
     "data": {
      "text/plain": [
       "36"
      ]
     },
     "execution_count": 166,
     "metadata": {},
     "output_type": "execute_result"
    }
   ],
   "source": [
    "len(prosp)"
   ]
  },
  {
   "cell_type": "code",
   "execution_count": 167,
   "metadata": {},
   "outputs": [],
   "source": [
    "l1 = len(t_)\n",
    "l2 = len(retro)\n",
    "l3 = len(prosp)\n",
    "t_ = t_[:min(l1,l2,l3)]\n",
    "retro = retro[:min(l1,l2,l3)]\n",
    "prosp = prosp[:min(l1,l2,l3)]"
   ]
  },
  {
   "cell_type": "code",
   "execution_count": 168,
   "metadata": {},
   "outputs": [
    {
     "data": {
      "application/vnd.plotly.v1+json": {
       "config": {
        "plotlyServerURL": "https://plot.ly"
       },
       "data": [
        {
         "mode": "lines",
         "name": "Retro",
         "type": "scatter",
         "x": [
          0,
          1,
          2,
          3,
          4,
          5,
          6,
          7,
          8,
          9,
          10,
          11,
          12,
          13,
          14,
          15,
          16,
          17,
          18,
          19,
          20,
          21,
          22,
          23,
          24,
          25,
          26,
          27,
          28,
          29,
          30,
          31,
          32,
          33,
          34,
          35
         ],
         "y": [
          0,
          43.102738978461794,
          88.14833909009694,
          135.5599820708977,
          185.92769420511456,
          240.06776197079017,
          299.10013814240983,
          364.57100753961464,
          438.62532466213844,
          524.2621773209084,
          625.7271456929736,
          643.9291608546964,
          662.8542661239018,
          682.9911258873419,
          705.0661392883153,
          730.1616587718645,
          759.9012200584949,
          796.7531034254692,
          844.5192561983467,
          909.090909090907,
          999.9999999999981,
          0,
          0,
          0,
          0,
          0,
          0,
          0,
          0,
          0,
          0,
          0,
          0,
          0,
          0,
          0
         ]
        },
        {
         "mode": "lines+markers",
         "name": "Prosp",
         "type": "scatter",
         "x": [
          0,
          1,
          2,
          3,
          4,
          5,
          6,
          7,
          8,
          9,
          10,
          11,
          12,
          13,
          14,
          15,
          16,
          17,
          18,
          19,
          20,
          21,
          22,
          23,
          24,
          25,
          26,
          27,
          28,
          29,
          30,
          31,
          32,
          33,
          34,
          35
         ],
         "y": [
          0,
          43.10273897846179,
          88.1483390900969,
          135.55998207089763,
          185.9276942051145,
          240.06776197079,
          299.1001381424097,
          364.57100753961436,
          438.62532466213844,
          524.2621773209082,
          625.7271456929736,
          643.9291608546964,
          662.8542661239018,
          682.9911258873419,
          705.0661392883158,
          730.1616587718646,
          759.9012200584942,
          796.7531034254692,
          844.5192561983471,
          909.0909090909089,
          1000,
          0,
          0,
          0,
          0,
          0,
          0,
          0,
          0,
          0,
          0,
          0,
          0,
          0,
          0,
          0
         ]
        }
       ],
       "layout": {
        "template": {
         "data": {
          "bar": [
           {
            "error_x": {
             "color": "#2a3f5f"
            },
            "error_y": {
             "color": "#2a3f5f"
            },
            "marker": {
             "line": {
              "color": "#E5ECF6",
              "width": 0.5
             }
            },
            "type": "bar"
           }
          ],
          "barpolar": [
           {
            "marker": {
             "line": {
              "color": "#E5ECF6",
              "width": 0.5
             }
            },
            "type": "barpolar"
           }
          ],
          "carpet": [
           {
            "aaxis": {
             "endlinecolor": "#2a3f5f",
             "gridcolor": "white",
             "linecolor": "white",
             "minorgridcolor": "white",
             "startlinecolor": "#2a3f5f"
            },
            "baxis": {
             "endlinecolor": "#2a3f5f",
             "gridcolor": "white",
             "linecolor": "white",
             "minorgridcolor": "white",
             "startlinecolor": "#2a3f5f"
            },
            "type": "carpet"
           }
          ],
          "choropleth": [
           {
            "colorbar": {
             "outlinewidth": 0,
             "ticks": ""
            },
            "type": "choropleth"
           }
          ],
          "contour": [
           {
            "colorbar": {
             "outlinewidth": 0,
             "ticks": ""
            },
            "colorscale": [
             [
              0,
              "#0d0887"
             ],
             [
              0.1111111111111111,
              "#46039f"
             ],
             [
              0.2222222222222222,
              "#7201a8"
             ],
             [
              0.3333333333333333,
              "#9c179e"
             ],
             [
              0.4444444444444444,
              "#bd3786"
             ],
             [
              0.5555555555555556,
              "#d8576b"
             ],
             [
              0.6666666666666666,
              "#ed7953"
             ],
             [
              0.7777777777777778,
              "#fb9f3a"
             ],
             [
              0.8888888888888888,
              "#fdca26"
             ],
             [
              1,
              "#f0f921"
             ]
            ],
            "type": "contour"
           }
          ],
          "contourcarpet": [
           {
            "colorbar": {
             "outlinewidth": 0,
             "ticks": ""
            },
            "type": "contourcarpet"
           }
          ],
          "heatmap": [
           {
            "colorbar": {
             "outlinewidth": 0,
             "ticks": ""
            },
            "colorscale": [
             [
              0,
              "#0d0887"
             ],
             [
              0.1111111111111111,
              "#46039f"
             ],
             [
              0.2222222222222222,
              "#7201a8"
             ],
             [
              0.3333333333333333,
              "#9c179e"
             ],
             [
              0.4444444444444444,
              "#bd3786"
             ],
             [
              0.5555555555555556,
              "#d8576b"
             ],
             [
              0.6666666666666666,
              "#ed7953"
             ],
             [
              0.7777777777777778,
              "#fb9f3a"
             ],
             [
              0.8888888888888888,
              "#fdca26"
             ],
             [
              1,
              "#f0f921"
             ]
            ],
            "type": "heatmap"
           }
          ],
          "heatmapgl": [
           {
            "colorbar": {
             "outlinewidth": 0,
             "ticks": ""
            },
            "colorscale": [
             [
              0,
              "#0d0887"
             ],
             [
              0.1111111111111111,
              "#46039f"
             ],
             [
              0.2222222222222222,
              "#7201a8"
             ],
             [
              0.3333333333333333,
              "#9c179e"
             ],
             [
              0.4444444444444444,
              "#bd3786"
             ],
             [
              0.5555555555555556,
              "#d8576b"
             ],
             [
              0.6666666666666666,
              "#ed7953"
             ],
             [
              0.7777777777777778,
              "#fb9f3a"
             ],
             [
              0.8888888888888888,
              "#fdca26"
             ],
             [
              1,
              "#f0f921"
             ]
            ],
            "type": "heatmapgl"
           }
          ],
          "histogram": [
           {
            "marker": {
             "colorbar": {
              "outlinewidth": 0,
              "ticks": ""
             }
            },
            "type": "histogram"
           }
          ],
          "histogram2d": [
           {
            "colorbar": {
             "outlinewidth": 0,
             "ticks": ""
            },
            "colorscale": [
             [
              0,
              "#0d0887"
             ],
             [
              0.1111111111111111,
              "#46039f"
             ],
             [
              0.2222222222222222,
              "#7201a8"
             ],
             [
              0.3333333333333333,
              "#9c179e"
             ],
             [
              0.4444444444444444,
              "#bd3786"
             ],
             [
              0.5555555555555556,
              "#d8576b"
             ],
             [
              0.6666666666666666,
              "#ed7953"
             ],
             [
              0.7777777777777778,
              "#fb9f3a"
             ],
             [
              0.8888888888888888,
              "#fdca26"
             ],
             [
              1,
              "#f0f921"
             ]
            ],
            "type": "histogram2d"
           }
          ],
          "histogram2dcontour": [
           {
            "colorbar": {
             "outlinewidth": 0,
             "ticks": ""
            },
            "colorscale": [
             [
              0,
              "#0d0887"
             ],
             [
              0.1111111111111111,
              "#46039f"
             ],
             [
              0.2222222222222222,
              "#7201a8"
             ],
             [
              0.3333333333333333,
              "#9c179e"
             ],
             [
              0.4444444444444444,
              "#bd3786"
             ],
             [
              0.5555555555555556,
              "#d8576b"
             ],
             [
              0.6666666666666666,
              "#ed7953"
             ],
             [
              0.7777777777777778,
              "#fb9f3a"
             ],
             [
              0.8888888888888888,
              "#fdca26"
             ],
             [
              1,
              "#f0f921"
             ]
            ],
            "type": "histogram2dcontour"
           }
          ],
          "mesh3d": [
           {
            "colorbar": {
             "outlinewidth": 0,
             "ticks": ""
            },
            "type": "mesh3d"
           }
          ],
          "parcoords": [
           {
            "line": {
             "colorbar": {
              "outlinewidth": 0,
              "ticks": ""
             }
            },
            "type": "parcoords"
           }
          ],
          "pie": [
           {
            "automargin": true,
            "type": "pie"
           }
          ],
          "scatter": [
           {
            "marker": {
             "colorbar": {
              "outlinewidth": 0,
              "ticks": ""
             }
            },
            "type": "scatter"
           }
          ],
          "scatter3d": [
           {
            "line": {
             "colorbar": {
              "outlinewidth": 0,
              "ticks": ""
             }
            },
            "marker": {
             "colorbar": {
              "outlinewidth": 0,
              "ticks": ""
             }
            },
            "type": "scatter3d"
           }
          ],
          "scattercarpet": [
           {
            "marker": {
             "colorbar": {
              "outlinewidth": 0,
              "ticks": ""
             }
            },
            "type": "scattercarpet"
           }
          ],
          "scattergeo": [
           {
            "marker": {
             "colorbar": {
              "outlinewidth": 0,
              "ticks": ""
             }
            },
            "type": "scattergeo"
           }
          ],
          "scattergl": [
           {
            "marker": {
             "colorbar": {
              "outlinewidth": 0,
              "ticks": ""
             }
            },
            "type": "scattergl"
           }
          ],
          "scattermapbox": [
           {
            "marker": {
             "colorbar": {
              "outlinewidth": 0,
              "ticks": ""
             }
            },
            "type": "scattermapbox"
           }
          ],
          "scatterpolar": [
           {
            "marker": {
             "colorbar": {
              "outlinewidth": 0,
              "ticks": ""
             }
            },
            "type": "scatterpolar"
           }
          ],
          "scatterpolargl": [
           {
            "marker": {
             "colorbar": {
              "outlinewidth": 0,
              "ticks": ""
             }
            },
            "type": "scatterpolargl"
           }
          ],
          "scatterternary": [
           {
            "marker": {
             "colorbar": {
              "outlinewidth": 0,
              "ticks": ""
             }
            },
            "type": "scatterternary"
           }
          ],
          "surface": [
           {
            "colorbar": {
             "outlinewidth": 0,
             "ticks": ""
            },
            "colorscale": [
             [
              0,
              "#0d0887"
             ],
             [
              0.1111111111111111,
              "#46039f"
             ],
             [
              0.2222222222222222,
              "#7201a8"
             ],
             [
              0.3333333333333333,
              "#9c179e"
             ],
             [
              0.4444444444444444,
              "#bd3786"
             ],
             [
              0.5555555555555556,
              "#d8576b"
             ],
             [
              0.6666666666666666,
              "#ed7953"
             ],
             [
              0.7777777777777778,
              "#fb9f3a"
             ],
             [
              0.8888888888888888,
              "#fdca26"
             ],
             [
              1,
              "#f0f921"
             ]
            ],
            "type": "surface"
           }
          ],
          "table": [
           {
            "cells": {
             "fill": {
              "color": "#EBF0F8"
             },
             "line": {
              "color": "white"
             }
            },
            "header": {
             "fill": {
              "color": "#C8D4E3"
             },
             "line": {
              "color": "white"
             }
            },
            "type": "table"
           }
          ]
         },
         "layout": {
          "annotationdefaults": {
           "arrowcolor": "#2a3f5f",
           "arrowhead": 0,
           "arrowwidth": 1
          },
          "coloraxis": {
           "colorbar": {
            "outlinewidth": 0,
            "ticks": ""
           }
          },
          "colorscale": {
           "diverging": [
            [
             0,
             "#8e0152"
            ],
            [
             0.1,
             "#c51b7d"
            ],
            [
             0.2,
             "#de77ae"
            ],
            [
             0.3,
             "#f1b6da"
            ],
            [
             0.4,
             "#fde0ef"
            ],
            [
             0.5,
             "#f7f7f7"
            ],
            [
             0.6,
             "#e6f5d0"
            ],
            [
             0.7,
             "#b8e186"
            ],
            [
             0.8,
             "#7fbc41"
            ],
            [
             0.9,
             "#4d9221"
            ],
            [
             1,
             "#276419"
            ]
           ],
           "sequential": [
            [
             0,
             "#0d0887"
            ],
            [
             0.1111111111111111,
             "#46039f"
            ],
            [
             0.2222222222222222,
             "#7201a8"
            ],
            [
             0.3333333333333333,
             "#9c179e"
            ],
            [
             0.4444444444444444,
             "#bd3786"
            ],
            [
             0.5555555555555556,
             "#d8576b"
            ],
            [
             0.6666666666666666,
             "#ed7953"
            ],
            [
             0.7777777777777778,
             "#fb9f3a"
            ],
            [
             0.8888888888888888,
             "#fdca26"
            ],
            [
             1,
             "#f0f921"
            ]
           ],
           "sequentialminus": [
            [
             0,
             "#0d0887"
            ],
            [
             0.1111111111111111,
             "#46039f"
            ],
            [
             0.2222222222222222,
             "#7201a8"
            ],
            [
             0.3333333333333333,
             "#9c179e"
            ],
            [
             0.4444444444444444,
             "#bd3786"
            ],
            [
             0.5555555555555556,
             "#d8576b"
            ],
            [
             0.6666666666666666,
             "#ed7953"
            ],
            [
             0.7777777777777778,
             "#fb9f3a"
            ],
            [
             0.8888888888888888,
             "#fdca26"
            ],
            [
             1,
             "#f0f921"
            ]
           ]
          },
          "colorway": [
           "#636efa",
           "#EF553B",
           "#00cc96",
           "#ab63fa",
           "#FFA15A",
           "#19d3f3",
           "#FF6692",
           "#B6E880",
           "#FF97FF",
           "#FECB52"
          ],
          "font": {
           "color": "#2a3f5f"
          },
          "geo": {
           "bgcolor": "white",
           "lakecolor": "white",
           "landcolor": "#E5ECF6",
           "showlakes": true,
           "showland": true,
           "subunitcolor": "white"
          },
          "hoverlabel": {
           "align": "left"
          },
          "hovermode": "closest",
          "mapbox": {
           "style": "light"
          },
          "paper_bgcolor": "white",
          "plot_bgcolor": "#E5ECF6",
          "polar": {
           "angularaxis": {
            "gridcolor": "white",
            "linecolor": "white",
            "ticks": ""
           },
           "bgcolor": "#E5ECF6",
           "radialaxis": {
            "gridcolor": "white",
            "linecolor": "white",
            "ticks": ""
           }
          },
          "scene": {
           "xaxis": {
            "backgroundcolor": "#E5ECF6",
            "gridcolor": "white",
            "gridwidth": 2,
            "linecolor": "white",
            "showbackground": true,
            "ticks": "",
            "zerolinecolor": "white"
           },
           "yaxis": {
            "backgroundcolor": "#E5ECF6",
            "gridcolor": "white",
            "gridwidth": 2,
            "linecolor": "white",
            "showbackground": true,
            "ticks": "",
            "zerolinecolor": "white"
           },
           "zaxis": {
            "backgroundcolor": "#E5ECF6",
            "gridcolor": "white",
            "gridwidth": 2,
            "linecolor": "white",
            "showbackground": true,
            "ticks": "",
            "zerolinecolor": "white"
           }
          },
          "shapedefaults": {
           "line": {
            "color": "#2a3f5f"
           }
          },
          "ternary": {
           "aaxis": {
            "gridcolor": "white",
            "linecolor": "white",
            "ticks": ""
           },
           "baxis": {
            "gridcolor": "white",
            "linecolor": "white",
            "ticks": ""
           },
           "bgcolor": "#E5ECF6",
           "caxis": {
            "gridcolor": "white",
            "linecolor": "white",
            "ticks": ""
           }
          },
          "title": {
           "x": 0.05
          },
          "xaxis": {
           "automargin": true,
           "gridcolor": "white",
           "linecolor": "white",
           "ticks": "",
           "title": {
            "standoff": 15
           },
           "zerolinecolor": "white",
           "zerolinewidth": 2
          },
          "yaxis": {
           "automargin": true,
           "gridcolor": "white",
           "linecolor": "white",
           "ticks": "",
           "title": {
            "standoff": 15
           },
           "zerolinecolor": "white",
           "zerolinewidth": 2
          }
         }
        }
       }
      },
      "text/html": [
       "<div>\n",
       "        \n",
       "        \n",
       "            <div id=\"4b7f7a31-24bc-45b9-93e7-a6a4fdf966ee\" class=\"plotly-graph-div\" style=\"height:525px; width:100%;\"></div>\n",
       "            <script type=\"text/javascript\">\n",
       "                require([\"plotly\"], function(Plotly) {\n",
       "                    window.PLOTLYENV=window.PLOTLYENV || {};\n",
       "                    \n",
       "                if (document.getElementById(\"4b7f7a31-24bc-45b9-93e7-a6a4fdf966ee\")) {\n",
       "                    Plotly.newPlot(\n",
       "                        '4b7f7a31-24bc-45b9-93e7-a6a4fdf966ee',\n",
       "                        [{\"mode\": \"lines\", \"name\": \"Retro\", \"type\": \"scatter\", \"x\": [0, 1, 2, 3, 4, 5, 6, 7, 8, 9, 10, 11, 12, 13, 14, 15, 16, 17, 18, 19, 20, 21, 22, 23, 24, 25, 26, 27, 28, 29, 30, 31, 32, 33, 34, 35], \"y\": [0.0, 43.102738978461794, 88.14833909009694, 135.5599820708977, 185.92769420511456, 240.06776197079017, 299.10013814240983, 364.57100753961464, 438.62532466213844, 524.2621773209084, 625.7271456929736, 643.9291608546964, 662.8542661239018, 682.9911258873419, 705.0661392883153, 730.1616587718645, 759.9012200584949, 796.7531034254692, 844.5192561983467, 909.090909090907, 999.9999999999981, 0.0, 0.0, 0.0, 0.0, 0.0, 0.0, 0.0, 0.0, 0.0, 0.0, 0.0, 0.0, 0.0, 0.0, 0.0]}, {\"mode\": \"lines+markers\", \"name\": \"Prosp\", \"type\": \"scatter\", \"x\": [0, 1, 2, 3, 4, 5, 6, 7, 8, 9, 10, 11, 12, 13, 14, 15, 16, 17, 18, 19, 20, 21, 22, 23, 24, 25, 26, 27, 28, 29, 30, 31, 32, 33, 34, 35], \"y\": [0.0, 43.10273897846179, 88.1483390900969, 135.55998207089763, 185.9276942051145, 240.06776197079, 299.1001381424097, 364.57100753961436, 438.62532466213844, 524.2621773209082, 625.7271456929736, 643.9291608546964, 662.8542661239018, 682.9911258873419, 705.0661392883158, 730.1616587718646, 759.9012200584942, 796.7531034254692, 844.5192561983471, 909.0909090909089, 1000.0, 0.0, 0.0, 0.0, 0.0, 0.0, 0.0, 0.0, 0.0, 0.0, 0.0, 0.0, 0.0, 0.0, 0.0, 0.0]}],\n",
       "                        {\"template\": {\"data\": {\"bar\": [{\"error_x\": {\"color\": \"#2a3f5f\"}, \"error_y\": {\"color\": \"#2a3f5f\"}, \"marker\": {\"line\": {\"color\": \"#E5ECF6\", \"width\": 0.5}}, \"type\": \"bar\"}], \"barpolar\": [{\"marker\": {\"line\": {\"color\": \"#E5ECF6\", \"width\": 0.5}}, \"type\": \"barpolar\"}], \"carpet\": [{\"aaxis\": {\"endlinecolor\": \"#2a3f5f\", \"gridcolor\": \"white\", \"linecolor\": \"white\", \"minorgridcolor\": \"white\", \"startlinecolor\": \"#2a3f5f\"}, \"baxis\": {\"endlinecolor\": \"#2a3f5f\", \"gridcolor\": \"white\", \"linecolor\": \"white\", \"minorgridcolor\": \"white\", \"startlinecolor\": \"#2a3f5f\"}, \"type\": \"carpet\"}], \"choropleth\": [{\"colorbar\": {\"outlinewidth\": 0, \"ticks\": \"\"}, \"type\": \"choropleth\"}], \"contour\": [{\"colorbar\": {\"outlinewidth\": 0, \"ticks\": \"\"}, \"colorscale\": [[0.0, \"#0d0887\"], [0.1111111111111111, \"#46039f\"], [0.2222222222222222, \"#7201a8\"], [0.3333333333333333, \"#9c179e\"], [0.4444444444444444, \"#bd3786\"], [0.5555555555555556, \"#d8576b\"], [0.6666666666666666, \"#ed7953\"], [0.7777777777777778, \"#fb9f3a\"], [0.8888888888888888, \"#fdca26\"], [1.0, \"#f0f921\"]], \"type\": \"contour\"}], \"contourcarpet\": [{\"colorbar\": {\"outlinewidth\": 0, \"ticks\": \"\"}, \"type\": \"contourcarpet\"}], \"heatmap\": [{\"colorbar\": {\"outlinewidth\": 0, \"ticks\": \"\"}, \"colorscale\": [[0.0, \"#0d0887\"], [0.1111111111111111, \"#46039f\"], [0.2222222222222222, \"#7201a8\"], [0.3333333333333333, \"#9c179e\"], [0.4444444444444444, \"#bd3786\"], [0.5555555555555556, \"#d8576b\"], [0.6666666666666666, \"#ed7953\"], [0.7777777777777778, \"#fb9f3a\"], [0.8888888888888888, \"#fdca26\"], [1.0, \"#f0f921\"]], \"type\": \"heatmap\"}], \"heatmapgl\": [{\"colorbar\": {\"outlinewidth\": 0, \"ticks\": \"\"}, \"colorscale\": [[0.0, \"#0d0887\"], [0.1111111111111111, \"#46039f\"], [0.2222222222222222, \"#7201a8\"], [0.3333333333333333, \"#9c179e\"], [0.4444444444444444, \"#bd3786\"], [0.5555555555555556, \"#d8576b\"], [0.6666666666666666, \"#ed7953\"], [0.7777777777777778, \"#fb9f3a\"], [0.8888888888888888, \"#fdca26\"], [1.0, \"#f0f921\"]], \"type\": \"heatmapgl\"}], \"histogram\": [{\"marker\": {\"colorbar\": {\"outlinewidth\": 0, \"ticks\": \"\"}}, \"type\": \"histogram\"}], \"histogram2d\": [{\"colorbar\": {\"outlinewidth\": 0, \"ticks\": \"\"}, \"colorscale\": [[0.0, \"#0d0887\"], [0.1111111111111111, \"#46039f\"], [0.2222222222222222, \"#7201a8\"], [0.3333333333333333, \"#9c179e\"], [0.4444444444444444, \"#bd3786\"], [0.5555555555555556, \"#d8576b\"], [0.6666666666666666, \"#ed7953\"], [0.7777777777777778, \"#fb9f3a\"], [0.8888888888888888, \"#fdca26\"], [1.0, \"#f0f921\"]], \"type\": \"histogram2d\"}], \"histogram2dcontour\": [{\"colorbar\": {\"outlinewidth\": 0, \"ticks\": \"\"}, \"colorscale\": [[0.0, \"#0d0887\"], [0.1111111111111111, \"#46039f\"], [0.2222222222222222, \"#7201a8\"], [0.3333333333333333, \"#9c179e\"], [0.4444444444444444, \"#bd3786\"], [0.5555555555555556, \"#d8576b\"], [0.6666666666666666, \"#ed7953\"], [0.7777777777777778, \"#fb9f3a\"], [0.8888888888888888, \"#fdca26\"], [1.0, \"#f0f921\"]], \"type\": \"histogram2dcontour\"}], \"mesh3d\": [{\"colorbar\": {\"outlinewidth\": 0, \"ticks\": \"\"}, \"type\": \"mesh3d\"}], \"parcoords\": [{\"line\": {\"colorbar\": {\"outlinewidth\": 0, \"ticks\": \"\"}}, \"type\": \"parcoords\"}], \"pie\": [{\"automargin\": true, \"type\": \"pie\"}], \"scatter\": [{\"marker\": {\"colorbar\": {\"outlinewidth\": 0, \"ticks\": \"\"}}, \"type\": \"scatter\"}], \"scatter3d\": [{\"line\": {\"colorbar\": {\"outlinewidth\": 0, \"ticks\": \"\"}}, \"marker\": {\"colorbar\": {\"outlinewidth\": 0, \"ticks\": \"\"}}, \"type\": \"scatter3d\"}], \"scattercarpet\": [{\"marker\": {\"colorbar\": {\"outlinewidth\": 0, \"ticks\": \"\"}}, \"type\": \"scattercarpet\"}], \"scattergeo\": [{\"marker\": {\"colorbar\": {\"outlinewidth\": 0, \"ticks\": \"\"}}, \"type\": \"scattergeo\"}], \"scattergl\": [{\"marker\": {\"colorbar\": {\"outlinewidth\": 0, \"ticks\": \"\"}}, \"type\": \"scattergl\"}], \"scattermapbox\": [{\"marker\": {\"colorbar\": {\"outlinewidth\": 0, \"ticks\": \"\"}}, \"type\": \"scattermapbox\"}], \"scatterpolar\": [{\"marker\": {\"colorbar\": {\"outlinewidth\": 0, \"ticks\": \"\"}}, \"type\": \"scatterpolar\"}], \"scatterpolargl\": [{\"marker\": {\"colorbar\": {\"outlinewidth\": 0, \"ticks\": \"\"}}, \"type\": \"scatterpolargl\"}], \"scatterternary\": [{\"marker\": {\"colorbar\": {\"outlinewidth\": 0, \"ticks\": \"\"}}, \"type\": \"scatterternary\"}], \"surface\": [{\"colorbar\": {\"outlinewidth\": 0, \"ticks\": \"\"}, \"colorscale\": [[0.0, \"#0d0887\"], [0.1111111111111111, \"#46039f\"], [0.2222222222222222, \"#7201a8\"], [0.3333333333333333, \"#9c179e\"], [0.4444444444444444, \"#bd3786\"], [0.5555555555555556, \"#d8576b\"], [0.6666666666666666, \"#ed7953\"], [0.7777777777777778, \"#fb9f3a\"], [0.8888888888888888, \"#fdca26\"], [1.0, \"#f0f921\"]], \"type\": \"surface\"}], \"table\": [{\"cells\": {\"fill\": {\"color\": \"#EBF0F8\"}, \"line\": {\"color\": \"white\"}}, \"header\": {\"fill\": {\"color\": \"#C8D4E3\"}, \"line\": {\"color\": \"white\"}}, \"type\": \"table\"}]}, \"layout\": {\"annotationdefaults\": {\"arrowcolor\": \"#2a3f5f\", \"arrowhead\": 0, \"arrowwidth\": 1}, \"coloraxis\": {\"colorbar\": {\"outlinewidth\": 0, \"ticks\": \"\"}}, \"colorscale\": {\"diverging\": [[0, \"#8e0152\"], [0.1, \"#c51b7d\"], [0.2, \"#de77ae\"], [0.3, \"#f1b6da\"], [0.4, \"#fde0ef\"], [0.5, \"#f7f7f7\"], [0.6, \"#e6f5d0\"], [0.7, \"#b8e186\"], [0.8, \"#7fbc41\"], [0.9, \"#4d9221\"], [1, \"#276419\"]], \"sequential\": [[0.0, \"#0d0887\"], [0.1111111111111111, \"#46039f\"], [0.2222222222222222, \"#7201a8\"], [0.3333333333333333, \"#9c179e\"], [0.4444444444444444, \"#bd3786\"], [0.5555555555555556, \"#d8576b\"], [0.6666666666666666, \"#ed7953\"], [0.7777777777777778, \"#fb9f3a\"], [0.8888888888888888, \"#fdca26\"], [1.0, \"#f0f921\"]], \"sequentialminus\": [[0.0, \"#0d0887\"], [0.1111111111111111, \"#46039f\"], [0.2222222222222222, \"#7201a8\"], [0.3333333333333333, \"#9c179e\"], [0.4444444444444444, \"#bd3786\"], [0.5555555555555556, \"#d8576b\"], [0.6666666666666666, \"#ed7953\"], [0.7777777777777778, \"#fb9f3a\"], [0.8888888888888888, \"#fdca26\"], [1.0, \"#f0f921\"]]}, \"colorway\": [\"#636efa\", \"#EF553B\", \"#00cc96\", \"#ab63fa\", \"#FFA15A\", \"#19d3f3\", \"#FF6692\", \"#B6E880\", \"#FF97FF\", \"#FECB52\"], \"font\": {\"color\": \"#2a3f5f\"}, \"geo\": {\"bgcolor\": \"white\", \"lakecolor\": \"white\", \"landcolor\": \"#E5ECF6\", \"showlakes\": true, \"showland\": true, \"subunitcolor\": \"white\"}, \"hoverlabel\": {\"align\": \"left\"}, \"hovermode\": \"closest\", \"mapbox\": {\"style\": \"light\"}, \"paper_bgcolor\": \"white\", \"plot_bgcolor\": \"#E5ECF6\", \"polar\": {\"angularaxis\": {\"gridcolor\": \"white\", \"linecolor\": \"white\", \"ticks\": \"\"}, \"bgcolor\": \"#E5ECF6\", \"radialaxis\": {\"gridcolor\": \"white\", \"linecolor\": \"white\", \"ticks\": \"\"}}, \"scene\": {\"xaxis\": {\"backgroundcolor\": \"#E5ECF6\", \"gridcolor\": \"white\", \"gridwidth\": 2, \"linecolor\": \"white\", \"showbackground\": true, \"ticks\": \"\", \"zerolinecolor\": \"white\"}, \"yaxis\": {\"backgroundcolor\": \"#E5ECF6\", \"gridcolor\": \"white\", \"gridwidth\": 2, \"linecolor\": \"white\", \"showbackground\": true, \"ticks\": \"\", \"zerolinecolor\": \"white\"}, \"zaxis\": {\"backgroundcolor\": \"#E5ECF6\", \"gridcolor\": \"white\", \"gridwidth\": 2, \"linecolor\": \"white\", \"showbackground\": true, \"ticks\": \"\", \"zerolinecolor\": \"white\"}}, \"shapedefaults\": {\"line\": {\"color\": \"#2a3f5f\"}}, \"ternary\": {\"aaxis\": {\"gridcolor\": \"white\", \"linecolor\": \"white\", \"ticks\": \"\"}, \"baxis\": {\"gridcolor\": \"white\", \"linecolor\": \"white\", \"ticks\": \"\"}, \"bgcolor\": \"#E5ECF6\", \"caxis\": {\"gridcolor\": \"white\", \"linecolor\": \"white\", \"ticks\": \"\"}}, \"title\": {\"x\": 0.05}, \"xaxis\": {\"automargin\": true, \"gridcolor\": \"white\", \"linecolor\": \"white\", \"ticks\": \"\", \"title\": {\"standoff\": 15}, \"zerolinecolor\": \"white\", \"zerolinewidth\": 2}, \"yaxis\": {\"automargin\": true, \"gridcolor\": \"white\", \"linecolor\": \"white\", \"ticks\": \"\", \"title\": {\"standoff\": 15}, \"zerolinecolor\": \"white\", \"zerolinewidth\": 2}}}},\n",
       "                        {\"responsive\": true}\n",
       "                    ).then(function(){\n",
       "                            \n",
       "var gd = document.getElementById('4b7f7a31-24bc-45b9-93e7-a6a4fdf966ee');\n",
       "var x = new MutationObserver(function (mutations, observer) {{\n",
       "        var display = window.getComputedStyle(gd).display;\n",
       "        if (!display || display === 'none') {{\n",
       "            console.log([gd, 'removed!']);\n",
       "            Plotly.purge(gd);\n",
       "            observer.disconnect();\n",
       "        }}\n",
       "}});\n",
       "\n",
       "// Listen for the removal of the full notebook cells\n",
       "var notebookContainer = gd.closest('#notebook-container');\n",
       "if (notebookContainer) {{\n",
       "    x.observe(notebookContainer, {childList: true});\n",
       "}}\n",
       "\n",
       "// Listen for the clearing of the current output cell\n",
       "var outputEl = gd.closest('.output');\n",
       "if (outputEl) {{\n",
       "    x.observe(outputEl, {childList: true});\n",
       "}}\n",
       "\n",
       "                        })\n",
       "                };\n",
       "                });\n",
       "            </script>\n",
       "        </div>"
      ]
     },
     "metadata": {},
     "output_type": "display_data"
    }
   ],
   "source": [
    "reserves_df = pd.DataFrame().from_dict({'t':t_, \n",
    "                                        'Retrospectiva':retro,\n",
    "                                        'Prospectiva':prosp})\n",
    "\n",
    "\n",
    "fig = go.Figure()\n",
    "fig.add_trace(go.Scatter(x=reserves_df['t'].values, y=reserves_df['Retrospectiva'].values,\n",
    "                    mode='lines',\n",
    "                    name='Retro'))\n",
    "fig.add_trace(go.Scatter(x=reserves_df['t'].values, y=reserves_df['Prospectiva'].values,\n",
    "                    mode='lines+markers',\n",
    "                    name='Prosp'))\n",
    "\n",
    "fig.show()"
   ]
  },
  {
   "cell_type": "code",
   "execution_count": 169,
   "metadata": {},
   "outputs": [],
   "source": [
    "tables = ['IBGE 2009', 'BR-EMSsb-v.2015', 'BR-EMSmt-v.2015', ' AT2000', 'AT-49']\n",
    "pna_ =[]\n",
    "for tb in tables:\n",
    "    b.select_table(tb, \"M\")\n",
    "    b.gen_commutations(0.04)\n",
    "    b.calc_premium(age=33, dif_benef=10, \n",
    "               term_benef=20, dif_pay=5, term_pay=10, prod='D')\n",
    "    pna_.append(b.pna*1000)"
   ]
  },
  {
   "cell_type": "code",
   "execution_count": 170,
   "metadata": {},
   "outputs": [
    {
     "data": {
      "text/plain": [
       "[46.935639757940294,\n",
       " 45.44858153766109,\n",
       " 45.826835138748294,\n",
       " 45.744541622172264,\n",
       " 46.942059534516204]"
      ]
     },
     "execution_count": 170,
     "metadata": {},
     "output_type": "execute_result"
    }
   ],
   "source": [
    "pna_"
   ]
  },
  {
   "cell_type": "code",
   "execution_count": 171,
   "metadata": {},
   "outputs": [
    {
     "data": {
      "application/vnd.plotly.v1+json": {
       "config": {
        "plotlyServerURL": "https://plot.ly"
       },
       "data": [
        {
         "type": "bar",
         "x": [
          "IBGE 2009",
          "BR-EMSsb-v.2015",
          "BR-EMSmt-v.2015",
          " AT2000",
          "AT-49"
         ],
         "y": [
          46.935639757940294,
          45.44858153766109,
          45.826835138748294,
          45.744541622172264,
          46.942059534516204
         ]
        }
       ],
       "layout": {
        "template": {
         "data": {
          "bar": [
           {
            "error_x": {
             "color": "#2a3f5f"
            },
            "error_y": {
             "color": "#2a3f5f"
            },
            "marker": {
             "line": {
              "color": "#E5ECF6",
              "width": 0.5
             }
            },
            "type": "bar"
           }
          ],
          "barpolar": [
           {
            "marker": {
             "line": {
              "color": "#E5ECF6",
              "width": 0.5
             }
            },
            "type": "barpolar"
           }
          ],
          "carpet": [
           {
            "aaxis": {
             "endlinecolor": "#2a3f5f",
             "gridcolor": "white",
             "linecolor": "white",
             "minorgridcolor": "white",
             "startlinecolor": "#2a3f5f"
            },
            "baxis": {
             "endlinecolor": "#2a3f5f",
             "gridcolor": "white",
             "linecolor": "white",
             "minorgridcolor": "white",
             "startlinecolor": "#2a3f5f"
            },
            "type": "carpet"
           }
          ],
          "choropleth": [
           {
            "colorbar": {
             "outlinewidth": 0,
             "ticks": ""
            },
            "type": "choropleth"
           }
          ],
          "contour": [
           {
            "colorbar": {
             "outlinewidth": 0,
             "ticks": ""
            },
            "colorscale": [
             [
              0,
              "#0d0887"
             ],
             [
              0.1111111111111111,
              "#46039f"
             ],
             [
              0.2222222222222222,
              "#7201a8"
             ],
             [
              0.3333333333333333,
              "#9c179e"
             ],
             [
              0.4444444444444444,
              "#bd3786"
             ],
             [
              0.5555555555555556,
              "#d8576b"
             ],
             [
              0.6666666666666666,
              "#ed7953"
             ],
             [
              0.7777777777777778,
              "#fb9f3a"
             ],
             [
              0.8888888888888888,
              "#fdca26"
             ],
             [
              1,
              "#f0f921"
             ]
            ],
            "type": "contour"
           }
          ],
          "contourcarpet": [
           {
            "colorbar": {
             "outlinewidth": 0,
             "ticks": ""
            },
            "type": "contourcarpet"
           }
          ],
          "heatmap": [
           {
            "colorbar": {
             "outlinewidth": 0,
             "ticks": ""
            },
            "colorscale": [
             [
              0,
              "#0d0887"
             ],
             [
              0.1111111111111111,
              "#46039f"
             ],
             [
              0.2222222222222222,
              "#7201a8"
             ],
             [
              0.3333333333333333,
              "#9c179e"
             ],
             [
              0.4444444444444444,
              "#bd3786"
             ],
             [
              0.5555555555555556,
              "#d8576b"
             ],
             [
              0.6666666666666666,
              "#ed7953"
             ],
             [
              0.7777777777777778,
              "#fb9f3a"
             ],
             [
              0.8888888888888888,
              "#fdca26"
             ],
             [
              1,
              "#f0f921"
             ]
            ],
            "type": "heatmap"
           }
          ],
          "heatmapgl": [
           {
            "colorbar": {
             "outlinewidth": 0,
             "ticks": ""
            },
            "colorscale": [
             [
              0,
              "#0d0887"
             ],
             [
              0.1111111111111111,
              "#46039f"
             ],
             [
              0.2222222222222222,
              "#7201a8"
             ],
             [
              0.3333333333333333,
              "#9c179e"
             ],
             [
              0.4444444444444444,
              "#bd3786"
             ],
             [
              0.5555555555555556,
              "#d8576b"
             ],
             [
              0.6666666666666666,
              "#ed7953"
             ],
             [
              0.7777777777777778,
              "#fb9f3a"
             ],
             [
              0.8888888888888888,
              "#fdca26"
             ],
             [
              1,
              "#f0f921"
             ]
            ],
            "type": "heatmapgl"
           }
          ],
          "histogram": [
           {
            "marker": {
             "colorbar": {
              "outlinewidth": 0,
              "ticks": ""
             }
            },
            "type": "histogram"
           }
          ],
          "histogram2d": [
           {
            "colorbar": {
             "outlinewidth": 0,
             "ticks": ""
            },
            "colorscale": [
             [
              0,
              "#0d0887"
             ],
             [
              0.1111111111111111,
              "#46039f"
             ],
             [
              0.2222222222222222,
              "#7201a8"
             ],
             [
              0.3333333333333333,
              "#9c179e"
             ],
             [
              0.4444444444444444,
              "#bd3786"
             ],
             [
              0.5555555555555556,
              "#d8576b"
             ],
             [
              0.6666666666666666,
              "#ed7953"
             ],
             [
              0.7777777777777778,
              "#fb9f3a"
             ],
             [
              0.8888888888888888,
              "#fdca26"
             ],
             [
              1,
              "#f0f921"
             ]
            ],
            "type": "histogram2d"
           }
          ],
          "histogram2dcontour": [
           {
            "colorbar": {
             "outlinewidth": 0,
             "ticks": ""
            },
            "colorscale": [
             [
              0,
              "#0d0887"
             ],
             [
              0.1111111111111111,
              "#46039f"
             ],
             [
              0.2222222222222222,
              "#7201a8"
             ],
             [
              0.3333333333333333,
              "#9c179e"
             ],
             [
              0.4444444444444444,
              "#bd3786"
             ],
             [
              0.5555555555555556,
              "#d8576b"
             ],
             [
              0.6666666666666666,
              "#ed7953"
             ],
             [
              0.7777777777777778,
              "#fb9f3a"
             ],
             [
              0.8888888888888888,
              "#fdca26"
             ],
             [
              1,
              "#f0f921"
             ]
            ],
            "type": "histogram2dcontour"
           }
          ],
          "mesh3d": [
           {
            "colorbar": {
             "outlinewidth": 0,
             "ticks": ""
            },
            "type": "mesh3d"
           }
          ],
          "parcoords": [
           {
            "line": {
             "colorbar": {
              "outlinewidth": 0,
              "ticks": ""
             }
            },
            "type": "parcoords"
           }
          ],
          "pie": [
           {
            "automargin": true,
            "type": "pie"
           }
          ],
          "scatter": [
           {
            "marker": {
             "colorbar": {
              "outlinewidth": 0,
              "ticks": ""
             }
            },
            "type": "scatter"
           }
          ],
          "scatter3d": [
           {
            "line": {
             "colorbar": {
              "outlinewidth": 0,
              "ticks": ""
             }
            },
            "marker": {
             "colorbar": {
              "outlinewidth": 0,
              "ticks": ""
             }
            },
            "type": "scatter3d"
           }
          ],
          "scattercarpet": [
           {
            "marker": {
             "colorbar": {
              "outlinewidth": 0,
              "ticks": ""
             }
            },
            "type": "scattercarpet"
           }
          ],
          "scattergeo": [
           {
            "marker": {
             "colorbar": {
              "outlinewidth": 0,
              "ticks": ""
             }
            },
            "type": "scattergeo"
           }
          ],
          "scattergl": [
           {
            "marker": {
             "colorbar": {
              "outlinewidth": 0,
              "ticks": ""
             }
            },
            "type": "scattergl"
           }
          ],
          "scattermapbox": [
           {
            "marker": {
             "colorbar": {
              "outlinewidth": 0,
              "ticks": ""
             }
            },
            "type": "scattermapbox"
           }
          ],
          "scatterpolar": [
           {
            "marker": {
             "colorbar": {
              "outlinewidth": 0,
              "ticks": ""
             }
            },
            "type": "scatterpolar"
           }
          ],
          "scatterpolargl": [
           {
            "marker": {
             "colorbar": {
              "outlinewidth": 0,
              "ticks": ""
             }
            },
            "type": "scatterpolargl"
           }
          ],
          "scatterternary": [
           {
            "marker": {
             "colorbar": {
              "outlinewidth": 0,
              "ticks": ""
             }
            },
            "type": "scatterternary"
           }
          ],
          "surface": [
           {
            "colorbar": {
             "outlinewidth": 0,
             "ticks": ""
            },
            "colorscale": [
             [
              0,
              "#0d0887"
             ],
             [
              0.1111111111111111,
              "#46039f"
             ],
             [
              0.2222222222222222,
              "#7201a8"
             ],
             [
              0.3333333333333333,
              "#9c179e"
             ],
             [
              0.4444444444444444,
              "#bd3786"
             ],
             [
              0.5555555555555556,
              "#d8576b"
             ],
             [
              0.6666666666666666,
              "#ed7953"
             ],
             [
              0.7777777777777778,
              "#fb9f3a"
             ],
             [
              0.8888888888888888,
              "#fdca26"
             ],
             [
              1,
              "#f0f921"
             ]
            ],
            "type": "surface"
           }
          ],
          "table": [
           {
            "cells": {
             "fill": {
              "color": "#EBF0F8"
             },
             "line": {
              "color": "white"
             }
            },
            "header": {
             "fill": {
              "color": "#C8D4E3"
             },
             "line": {
              "color": "white"
             }
            },
            "type": "table"
           }
          ]
         },
         "layout": {
          "annotationdefaults": {
           "arrowcolor": "#2a3f5f",
           "arrowhead": 0,
           "arrowwidth": 1
          },
          "coloraxis": {
           "colorbar": {
            "outlinewidth": 0,
            "ticks": ""
           }
          },
          "colorscale": {
           "diverging": [
            [
             0,
             "#8e0152"
            ],
            [
             0.1,
             "#c51b7d"
            ],
            [
             0.2,
             "#de77ae"
            ],
            [
             0.3,
             "#f1b6da"
            ],
            [
             0.4,
             "#fde0ef"
            ],
            [
             0.5,
             "#f7f7f7"
            ],
            [
             0.6,
             "#e6f5d0"
            ],
            [
             0.7,
             "#b8e186"
            ],
            [
             0.8,
             "#7fbc41"
            ],
            [
             0.9,
             "#4d9221"
            ],
            [
             1,
             "#276419"
            ]
           ],
           "sequential": [
            [
             0,
             "#0d0887"
            ],
            [
             0.1111111111111111,
             "#46039f"
            ],
            [
             0.2222222222222222,
             "#7201a8"
            ],
            [
             0.3333333333333333,
             "#9c179e"
            ],
            [
             0.4444444444444444,
             "#bd3786"
            ],
            [
             0.5555555555555556,
             "#d8576b"
            ],
            [
             0.6666666666666666,
             "#ed7953"
            ],
            [
             0.7777777777777778,
             "#fb9f3a"
            ],
            [
             0.8888888888888888,
             "#fdca26"
            ],
            [
             1,
             "#f0f921"
            ]
           ],
           "sequentialminus": [
            [
             0,
             "#0d0887"
            ],
            [
             0.1111111111111111,
             "#46039f"
            ],
            [
             0.2222222222222222,
             "#7201a8"
            ],
            [
             0.3333333333333333,
             "#9c179e"
            ],
            [
             0.4444444444444444,
             "#bd3786"
            ],
            [
             0.5555555555555556,
             "#d8576b"
            ],
            [
             0.6666666666666666,
             "#ed7953"
            ],
            [
             0.7777777777777778,
             "#fb9f3a"
            ],
            [
             0.8888888888888888,
             "#fdca26"
            ],
            [
             1,
             "#f0f921"
            ]
           ]
          },
          "colorway": [
           "#636efa",
           "#EF553B",
           "#00cc96",
           "#ab63fa",
           "#FFA15A",
           "#19d3f3",
           "#FF6692",
           "#B6E880",
           "#FF97FF",
           "#FECB52"
          ],
          "font": {
           "color": "#2a3f5f"
          },
          "geo": {
           "bgcolor": "white",
           "lakecolor": "white",
           "landcolor": "#E5ECF6",
           "showlakes": true,
           "showland": true,
           "subunitcolor": "white"
          },
          "hoverlabel": {
           "align": "left"
          },
          "hovermode": "closest",
          "mapbox": {
           "style": "light"
          },
          "paper_bgcolor": "white",
          "plot_bgcolor": "#E5ECF6",
          "polar": {
           "angularaxis": {
            "gridcolor": "white",
            "linecolor": "white",
            "ticks": ""
           },
           "bgcolor": "#E5ECF6",
           "radialaxis": {
            "gridcolor": "white",
            "linecolor": "white",
            "ticks": ""
           }
          },
          "scene": {
           "xaxis": {
            "backgroundcolor": "#E5ECF6",
            "gridcolor": "white",
            "gridwidth": 2,
            "linecolor": "white",
            "showbackground": true,
            "ticks": "",
            "zerolinecolor": "white"
           },
           "yaxis": {
            "backgroundcolor": "#E5ECF6",
            "gridcolor": "white",
            "gridwidth": 2,
            "linecolor": "white",
            "showbackground": true,
            "ticks": "",
            "zerolinecolor": "white"
           },
           "zaxis": {
            "backgroundcolor": "#E5ECF6",
            "gridcolor": "white",
            "gridwidth": 2,
            "linecolor": "white",
            "showbackground": true,
            "ticks": "",
            "zerolinecolor": "white"
           }
          },
          "shapedefaults": {
           "line": {
            "color": "#2a3f5f"
           }
          },
          "ternary": {
           "aaxis": {
            "gridcolor": "white",
            "linecolor": "white",
            "ticks": ""
           },
           "baxis": {
            "gridcolor": "white",
            "linecolor": "white",
            "ticks": ""
           },
           "bgcolor": "#E5ECF6",
           "caxis": {
            "gridcolor": "white",
            "linecolor": "white",
            "ticks": ""
           }
          },
          "title": {
           "x": 0.05
          },
          "xaxis": {
           "automargin": true,
           "gridcolor": "white",
           "linecolor": "white",
           "ticks": "",
           "title": {
            "standoff": 15
           },
           "zerolinecolor": "white",
           "zerolinewidth": 2
          },
          "yaxis": {
           "automargin": true,
           "gridcolor": "white",
           "linecolor": "white",
           "ticks": "",
           "title": {
            "standoff": 15
           },
           "zerolinecolor": "white",
           "zerolinewidth": 2
          }
         }
        }
       }
      },
      "text/html": [
       "<div>\n",
       "        \n",
       "        \n",
       "            <div id=\"91f082a6-6b3f-4ca2-a8a1-3f8158a9591e\" class=\"plotly-graph-div\" style=\"height:525px; width:100%;\"></div>\n",
       "            <script type=\"text/javascript\">\n",
       "                require([\"plotly\"], function(Plotly) {\n",
       "                    window.PLOTLYENV=window.PLOTLYENV || {};\n",
       "                    \n",
       "                if (document.getElementById(\"91f082a6-6b3f-4ca2-a8a1-3f8158a9591e\")) {\n",
       "                    Plotly.newPlot(\n",
       "                        '91f082a6-6b3f-4ca2-a8a1-3f8158a9591e',\n",
       "                        [{\"type\": \"bar\", \"x\": [\"IBGE 2009\", \"BR-EMSsb-v.2015\", \"BR-EMSmt-v.2015\", \" AT2000\", \"AT-49\"], \"y\": [46.935639757940294, 45.44858153766109, 45.826835138748294, 45.744541622172264, 46.942059534516204]}],\n",
       "                        {\"template\": {\"data\": {\"bar\": [{\"error_x\": {\"color\": \"#2a3f5f\"}, \"error_y\": {\"color\": \"#2a3f5f\"}, \"marker\": {\"line\": {\"color\": \"#E5ECF6\", \"width\": 0.5}}, \"type\": \"bar\"}], \"barpolar\": [{\"marker\": {\"line\": {\"color\": \"#E5ECF6\", \"width\": 0.5}}, \"type\": \"barpolar\"}], \"carpet\": [{\"aaxis\": {\"endlinecolor\": \"#2a3f5f\", \"gridcolor\": \"white\", \"linecolor\": \"white\", \"minorgridcolor\": \"white\", \"startlinecolor\": \"#2a3f5f\"}, \"baxis\": {\"endlinecolor\": \"#2a3f5f\", \"gridcolor\": \"white\", \"linecolor\": \"white\", \"minorgridcolor\": \"white\", \"startlinecolor\": \"#2a3f5f\"}, \"type\": \"carpet\"}], \"choropleth\": [{\"colorbar\": {\"outlinewidth\": 0, \"ticks\": \"\"}, \"type\": \"choropleth\"}], \"contour\": [{\"colorbar\": {\"outlinewidth\": 0, \"ticks\": \"\"}, \"colorscale\": [[0.0, \"#0d0887\"], [0.1111111111111111, \"#46039f\"], [0.2222222222222222, \"#7201a8\"], [0.3333333333333333, \"#9c179e\"], [0.4444444444444444, \"#bd3786\"], [0.5555555555555556, \"#d8576b\"], [0.6666666666666666, \"#ed7953\"], [0.7777777777777778, \"#fb9f3a\"], [0.8888888888888888, \"#fdca26\"], [1.0, \"#f0f921\"]], \"type\": \"contour\"}], \"contourcarpet\": [{\"colorbar\": {\"outlinewidth\": 0, \"ticks\": \"\"}, \"type\": \"contourcarpet\"}], \"heatmap\": [{\"colorbar\": {\"outlinewidth\": 0, \"ticks\": \"\"}, \"colorscale\": [[0.0, \"#0d0887\"], [0.1111111111111111, \"#46039f\"], [0.2222222222222222, \"#7201a8\"], [0.3333333333333333, \"#9c179e\"], [0.4444444444444444, \"#bd3786\"], [0.5555555555555556, \"#d8576b\"], [0.6666666666666666, \"#ed7953\"], [0.7777777777777778, \"#fb9f3a\"], [0.8888888888888888, \"#fdca26\"], [1.0, \"#f0f921\"]], \"type\": \"heatmap\"}], \"heatmapgl\": [{\"colorbar\": {\"outlinewidth\": 0, \"ticks\": \"\"}, \"colorscale\": [[0.0, \"#0d0887\"], [0.1111111111111111, \"#46039f\"], [0.2222222222222222, \"#7201a8\"], [0.3333333333333333, \"#9c179e\"], [0.4444444444444444, \"#bd3786\"], [0.5555555555555556, \"#d8576b\"], [0.6666666666666666, \"#ed7953\"], [0.7777777777777778, \"#fb9f3a\"], [0.8888888888888888, \"#fdca26\"], [1.0, \"#f0f921\"]], \"type\": \"heatmapgl\"}], \"histogram\": [{\"marker\": {\"colorbar\": {\"outlinewidth\": 0, \"ticks\": \"\"}}, \"type\": \"histogram\"}], \"histogram2d\": [{\"colorbar\": {\"outlinewidth\": 0, \"ticks\": \"\"}, \"colorscale\": [[0.0, \"#0d0887\"], [0.1111111111111111, \"#46039f\"], [0.2222222222222222, \"#7201a8\"], [0.3333333333333333, \"#9c179e\"], [0.4444444444444444, \"#bd3786\"], [0.5555555555555556, \"#d8576b\"], [0.6666666666666666, \"#ed7953\"], [0.7777777777777778, \"#fb9f3a\"], [0.8888888888888888, \"#fdca26\"], [1.0, \"#f0f921\"]], \"type\": \"histogram2d\"}], \"histogram2dcontour\": [{\"colorbar\": {\"outlinewidth\": 0, \"ticks\": \"\"}, \"colorscale\": [[0.0, \"#0d0887\"], [0.1111111111111111, \"#46039f\"], [0.2222222222222222, \"#7201a8\"], [0.3333333333333333, \"#9c179e\"], [0.4444444444444444, \"#bd3786\"], [0.5555555555555556, \"#d8576b\"], [0.6666666666666666, \"#ed7953\"], [0.7777777777777778, \"#fb9f3a\"], [0.8888888888888888, \"#fdca26\"], [1.0, \"#f0f921\"]], \"type\": \"histogram2dcontour\"}], \"mesh3d\": [{\"colorbar\": {\"outlinewidth\": 0, \"ticks\": \"\"}, \"type\": \"mesh3d\"}], \"parcoords\": [{\"line\": {\"colorbar\": {\"outlinewidth\": 0, \"ticks\": \"\"}}, \"type\": \"parcoords\"}], \"pie\": [{\"automargin\": true, \"type\": \"pie\"}], \"scatter\": [{\"marker\": {\"colorbar\": {\"outlinewidth\": 0, \"ticks\": \"\"}}, \"type\": \"scatter\"}], \"scatter3d\": [{\"line\": {\"colorbar\": {\"outlinewidth\": 0, \"ticks\": \"\"}}, \"marker\": {\"colorbar\": {\"outlinewidth\": 0, \"ticks\": \"\"}}, \"type\": \"scatter3d\"}], \"scattercarpet\": [{\"marker\": {\"colorbar\": {\"outlinewidth\": 0, \"ticks\": \"\"}}, \"type\": \"scattercarpet\"}], \"scattergeo\": [{\"marker\": {\"colorbar\": {\"outlinewidth\": 0, \"ticks\": \"\"}}, \"type\": \"scattergeo\"}], \"scattergl\": [{\"marker\": {\"colorbar\": {\"outlinewidth\": 0, \"ticks\": \"\"}}, \"type\": \"scattergl\"}], \"scattermapbox\": [{\"marker\": {\"colorbar\": {\"outlinewidth\": 0, \"ticks\": \"\"}}, \"type\": \"scattermapbox\"}], \"scatterpolar\": [{\"marker\": {\"colorbar\": {\"outlinewidth\": 0, \"ticks\": \"\"}}, \"type\": \"scatterpolar\"}], \"scatterpolargl\": [{\"marker\": {\"colorbar\": {\"outlinewidth\": 0, \"ticks\": \"\"}}, \"type\": \"scatterpolargl\"}], \"scatterternary\": [{\"marker\": {\"colorbar\": {\"outlinewidth\": 0, \"ticks\": \"\"}}, \"type\": \"scatterternary\"}], \"surface\": [{\"colorbar\": {\"outlinewidth\": 0, \"ticks\": \"\"}, \"colorscale\": [[0.0, \"#0d0887\"], [0.1111111111111111, \"#46039f\"], [0.2222222222222222, \"#7201a8\"], [0.3333333333333333, \"#9c179e\"], [0.4444444444444444, \"#bd3786\"], [0.5555555555555556, \"#d8576b\"], [0.6666666666666666, \"#ed7953\"], [0.7777777777777778, \"#fb9f3a\"], [0.8888888888888888, \"#fdca26\"], [1.0, \"#f0f921\"]], \"type\": \"surface\"}], \"table\": [{\"cells\": {\"fill\": {\"color\": \"#EBF0F8\"}, \"line\": {\"color\": \"white\"}}, \"header\": {\"fill\": {\"color\": \"#C8D4E3\"}, \"line\": {\"color\": \"white\"}}, \"type\": \"table\"}]}, \"layout\": {\"annotationdefaults\": {\"arrowcolor\": \"#2a3f5f\", \"arrowhead\": 0, \"arrowwidth\": 1}, \"coloraxis\": {\"colorbar\": {\"outlinewidth\": 0, \"ticks\": \"\"}}, \"colorscale\": {\"diverging\": [[0, \"#8e0152\"], [0.1, \"#c51b7d\"], [0.2, \"#de77ae\"], [0.3, \"#f1b6da\"], [0.4, \"#fde0ef\"], [0.5, \"#f7f7f7\"], [0.6, \"#e6f5d0\"], [0.7, \"#b8e186\"], [0.8, \"#7fbc41\"], [0.9, \"#4d9221\"], [1, \"#276419\"]], \"sequential\": [[0.0, \"#0d0887\"], [0.1111111111111111, \"#46039f\"], [0.2222222222222222, \"#7201a8\"], [0.3333333333333333, \"#9c179e\"], [0.4444444444444444, \"#bd3786\"], [0.5555555555555556, \"#d8576b\"], [0.6666666666666666, \"#ed7953\"], [0.7777777777777778, \"#fb9f3a\"], [0.8888888888888888, \"#fdca26\"], [1.0, \"#f0f921\"]], \"sequentialminus\": [[0.0, \"#0d0887\"], [0.1111111111111111, \"#46039f\"], [0.2222222222222222, \"#7201a8\"], [0.3333333333333333, \"#9c179e\"], [0.4444444444444444, \"#bd3786\"], [0.5555555555555556, \"#d8576b\"], [0.6666666666666666, \"#ed7953\"], [0.7777777777777778, \"#fb9f3a\"], [0.8888888888888888, \"#fdca26\"], [1.0, \"#f0f921\"]]}, \"colorway\": [\"#636efa\", \"#EF553B\", \"#00cc96\", \"#ab63fa\", \"#FFA15A\", \"#19d3f3\", \"#FF6692\", \"#B6E880\", \"#FF97FF\", \"#FECB52\"], \"font\": {\"color\": \"#2a3f5f\"}, \"geo\": {\"bgcolor\": \"white\", \"lakecolor\": \"white\", \"landcolor\": \"#E5ECF6\", \"showlakes\": true, \"showland\": true, \"subunitcolor\": \"white\"}, \"hoverlabel\": {\"align\": \"left\"}, \"hovermode\": \"closest\", \"mapbox\": {\"style\": \"light\"}, \"paper_bgcolor\": \"white\", \"plot_bgcolor\": \"#E5ECF6\", \"polar\": {\"angularaxis\": {\"gridcolor\": \"white\", \"linecolor\": \"white\", \"ticks\": \"\"}, \"bgcolor\": \"#E5ECF6\", \"radialaxis\": {\"gridcolor\": \"white\", \"linecolor\": \"white\", \"ticks\": \"\"}}, \"scene\": {\"xaxis\": {\"backgroundcolor\": \"#E5ECF6\", \"gridcolor\": \"white\", \"gridwidth\": 2, \"linecolor\": \"white\", \"showbackground\": true, \"ticks\": \"\", \"zerolinecolor\": \"white\"}, \"yaxis\": {\"backgroundcolor\": \"#E5ECF6\", \"gridcolor\": \"white\", \"gridwidth\": 2, \"linecolor\": \"white\", \"showbackground\": true, \"ticks\": \"\", \"zerolinecolor\": \"white\"}, \"zaxis\": {\"backgroundcolor\": \"#E5ECF6\", \"gridcolor\": \"white\", \"gridwidth\": 2, \"linecolor\": \"white\", \"showbackground\": true, \"ticks\": \"\", \"zerolinecolor\": \"white\"}}, \"shapedefaults\": {\"line\": {\"color\": \"#2a3f5f\"}}, \"ternary\": {\"aaxis\": {\"gridcolor\": \"white\", \"linecolor\": \"white\", \"ticks\": \"\"}, \"baxis\": {\"gridcolor\": \"white\", \"linecolor\": \"white\", \"ticks\": \"\"}, \"bgcolor\": \"#E5ECF6\", \"caxis\": {\"gridcolor\": \"white\", \"linecolor\": \"white\", \"ticks\": \"\"}}, \"title\": {\"x\": 0.05}, \"xaxis\": {\"automargin\": true, \"gridcolor\": \"white\", \"linecolor\": \"white\", \"ticks\": \"\", \"title\": {\"standoff\": 15}, \"zerolinecolor\": \"white\", \"zerolinewidth\": 2}, \"yaxis\": {\"automargin\": true, \"gridcolor\": \"white\", \"linecolor\": \"white\", \"ticks\": \"\", \"title\": {\"standoff\": 15}, \"zerolinecolor\": \"white\", \"zerolinewidth\": 2}}}},\n",
       "                        {\"responsive\": true}\n",
       "                    ).then(function(){\n",
       "                            \n",
       "var gd = document.getElementById('91f082a6-6b3f-4ca2-a8a1-3f8158a9591e');\n",
       "var x = new MutationObserver(function (mutations, observer) {{\n",
       "        var display = window.getComputedStyle(gd).display;\n",
       "        if (!display || display === 'none') {{\n",
       "            console.log([gd, 'removed!']);\n",
       "            Plotly.purge(gd);\n",
       "            observer.disconnect();\n",
       "        }}\n",
       "}});\n",
       "\n",
       "// Listen for the removal of the full notebook cells\n",
       "var notebookContainer = gd.closest('#notebook-container');\n",
       "if (notebookContainer) {{\n",
       "    x.observe(notebookContainer, {childList: true});\n",
       "}}\n",
       "\n",
       "// Listen for the clearing of the current output cell\n",
       "var outputEl = gd.closest('.output');\n",
       "if (outputEl) {{\n",
       "    x.observe(outputEl, {childList: true});\n",
       "}}\n",
       "\n",
       "                        })\n",
       "                };\n",
       "                });\n",
       "            </script>\n",
       "        </div>"
      ]
     },
     "metadata": {},
     "output_type": "display_data"
    }
   ],
   "source": [
    "fig = go.Figure([go.Bar(x=tables, y=pna_)])\n",
    "fig.show()"
   ]
  },
  {
   "cell_type": "code",
   "execution_count": null,
   "metadata": {},
   "outputs": [],
   "source": []
  }
 ],
 "metadata": {
  "kernel_info": {
   "name": "python3"
  },
  "kernelspec": {
   "display_name": "Python 3",
   "language": "python",
   "name": "python3"
  },
  "language_info": {
   "codemirror_mode": {
    "name": "ipython",
    "version": 3
   },
   "file_extension": ".py",
   "mimetype": "text/x-python",
   "name": "python",
   "nbconvert_exporter": "python",
   "pygments_lexer": "ipython3",
   "version": "3.5.6"
  }
 },
 "nbformat": 4,
 "nbformat_minor": 4
}
