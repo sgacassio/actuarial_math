{
 "cells": [
  {
   "cell_type": "markdown",
   "metadata": {},
   "source": [
    "### Import required libraries"
   ]
  },
  {
   "cell_type": "code",
   "execution_count": 1,
   "metadata": {
    "inputHidden": false,
    "outputHidden": false
   },
   "outputs": [],
   "source": [
    "import numpy as np\n",
    "import pandas as pd"
   ]
  },
  {
   "cell_type": "code",
   "execution_count": 2,
   "metadata": {
    "inputHidden": false,
    "outputHidden": false
   },
   "outputs": [
    {
     "data": {
      "text/plain": [
       "(2274, 6)"
      ]
     },
     "execution_count": 2,
     "metadata": {},
     "output_type": "execute_result"
    }
   ],
   "source": [
    "df = pd.read_excel('data/life_tables.xlsx')\n",
    "df.shape"
   ]
  },
  {
   "cell_type": "code",
   "execution_count": 3,
   "metadata": {},
   "outputs": [
    {
     "data": {
      "text/html": [
       "<div>\n",
       "<style scoped>\n",
       "    .dataframe tbody tr th:only-of-type {\n",
       "        vertical-align: middle;\n",
       "    }\n",
       "\n",
       "    .dataframe tbody tr th {\n",
       "        vertical-align: top;\n",
       "    }\n",
       "\n",
       "    .dataframe thead th {\n",
       "        text-align: right;\n",
       "    }\n",
       "</style>\n",
       "<table border=\"1\" class=\"dataframe\">\n",
       "  <thead>\n",
       "    <tr style=\"text-align: right;\">\n",
       "      <th></th>\n",
       "      <th>table</th>\n",
       "      <th>gender</th>\n",
       "      <th>age</th>\n",
       "      <th>qx</th>\n",
       "      <th>lx</th>\n",
       "      <th>dx</th>\n",
       "    </tr>\n",
       "  </thead>\n",
       "  <tbody>\n",
       "    <tr>\n",
       "      <th>0</th>\n",
       "      <td>AT2000 (Suavizada 10%)</td>\n",
       "      <td>F</td>\n",
       "      <td>0</td>\n",
       "      <td>0.001615</td>\n",
       "      <td>1000000.000000</td>\n",
       "      <td>1615.000000</td>\n",
       "    </tr>\n",
       "    <tr>\n",
       "      <th>1</th>\n",
       "      <td>AT2000 (Suavizada 10%)</td>\n",
       "      <td>F</td>\n",
       "      <td>1</td>\n",
       "      <td>0.000680</td>\n",
       "      <td>998385.000000</td>\n",
       "      <td>678.901800</td>\n",
       "    </tr>\n",
       "    <tr>\n",
       "      <th>2</th>\n",
       "      <td>AT2000 (Suavizada 10%)</td>\n",
       "      <td>F</td>\n",
       "      <td>2</td>\n",
       "      <td>0.000353</td>\n",
       "      <td>997706.098200</td>\n",
       "      <td>352.190253</td>\n",
       "    </tr>\n",
       "    <tr>\n",
       "      <th>3</th>\n",
       "      <td>AT2000 (Suavizada 10%)</td>\n",
       "      <td>F</td>\n",
       "      <td>3</td>\n",
       "      <td>0.000261</td>\n",
       "      <td>997353.907947</td>\n",
       "      <td>260.309370</td>\n",
       "    </tr>\n",
       "    <tr>\n",
       "      <th>4</th>\n",
       "      <td>AT2000 (Suavizada 10%)</td>\n",
       "      <td>F</td>\n",
       "      <td>4</td>\n",
       "      <td>0.000209</td>\n",
       "      <td>997093.598577</td>\n",
       "      <td>208.392562</td>\n",
       "    </tr>\n",
       "  </tbody>\n",
       "</table>\n",
       "</div>"
      ],
      "text/plain": [
       "                     table gender  age        qx              lx           dx\n",
       "0   AT2000 (Suavizada 10%)      F    0  0.001615  1000000.000000  1615.000000\n",
       "1   AT2000 (Suavizada 10%)      F    1  0.000680   998385.000000   678.901800\n",
       "2   AT2000 (Suavizada 10%)      F    2  0.000353   997706.098200   352.190253\n",
       "3   AT2000 (Suavizada 10%)      F    3  0.000261   997353.907947   260.309370\n",
       "4   AT2000 (Suavizada 10%)      F    4  0.000209   997093.598577   208.392562"
      ]
     },
     "execution_count": 3,
     "metadata": {},
     "output_type": "execute_result"
    }
   ],
   "source": [
    "df.head()"
   ]
  },
  {
   "cell_type": "code",
   "execution_count": 4,
   "metadata": {
    "inputHidden": false,
    "outputHidden": false
   },
   "outputs": [
    {
     "data": {
      "text/plain": [
       "Index(['table', 'gender', 'age', 'qx', 'lx', 'dx'], dtype='object')"
      ]
     },
     "execution_count": 4,
     "metadata": {},
     "output_type": "execute_result"
    }
   ],
   "source": [
    "df.columns"
   ]
  },
  {
   "cell_type": "code",
   "execution_count": 5,
   "metadata": {},
   "outputs": [
    {
     "data": {
      "text/plain": [
       "[{'value': 1, 'label': ' AT2000 (Suavizada 10%)'},\n",
       " {'value': 2, 'label': ' AT2000'},\n",
       " {'value': 3, 'label': 'AT-49'},\n",
       " {'value': 4, 'label': 'BR-EMSmt-v.2010'},\n",
       " {'value': 5, 'label': 'BR-EMSsb-v.2010'},\n",
       " {'value': 6, 'label': 'BR-EMSmt-v.2015'},\n",
       " {'value': 7, 'label': 'BR-EMSsb-v.2015'},\n",
       " {'value': 8, 'label': 'IBGE 2006'},\n",
       " {'value': 9, 'label': 'IBGE 2008'},\n",
       " {'value': 10, 'label': 'IBGE 2007'},\n",
       " {'value': 11, 'label': 'IBGE 2009'}]"
      ]
     },
     "execution_count": 5,
     "metadata": {},
     "output_type": "execute_result"
    }
   ],
   "source": [
    "tables = list(df['table'].unique())\n",
    "\n",
    "[{'value':i+1, 'label':tb} for i, tb in enumerate(tables)]"
   ]
  },
  {
   "cell_type": "code",
   "execution_count": 6,
   "metadata": {},
   "outputs": [],
   "source": [
    "df_interest = pd.read_excel(\"data/risk_free.xlsx\")"
   ]
  },
  {
   "cell_type": "code",
   "execution_count": 7,
   "metadata": {},
   "outputs": [
    {
     "data": {
      "text/plain": [
       "0.0416"
      ]
     },
     "execution_count": 7,
     "metadata": {},
     "output_type": "execute_result"
    }
   ],
   "source": [
    "df_interest[df_interest['month'] == df_interest['month'].max()]['selic_year'].values[0]/100"
   ]
  },
  {
   "cell_type": "code",
   "execution_count": 8,
   "metadata": {},
   "outputs": [
    {
     "data": {
      "text/plain": [
       "0.0"
      ]
     },
     "execution_count": 8,
     "metadata": {},
     "output_type": "execute_result"
    }
   ],
   "source": [
    "df['lx'].values.min()"
   ]
  },
  {
   "cell_type": "code",
   "execution_count": 9,
   "metadata": {},
   "outputs": [],
   "source": [
    "df_ = df.query('table == \" AT2000\" and gender == \"M\"').reset_index(drop=True).copy()"
   ]
  },
  {
   "cell_type": "code",
   "execution_count": 10,
   "metadata": {},
   "outputs": [
    {
     "data": {
      "text/plain": [
       "(116,)"
      ]
     },
     "execution_count": 10,
     "metadata": {},
     "output_type": "execute_result"
    }
   ],
   "source": [
    "df_['lx'].values.shape"
   ]
  },
  {
   "cell_type": "code",
   "execution_count": 79,
   "metadata": {},
   "outputs": [],
   "source": [
    "class InsuranceHandler():\n",
    "    def __init__(self, df):\n",
    "        self.df = df\n",
    "        self.df_ = None\n",
    "        self.last_i_rate_used = None\n",
    "        self.max_age = None\n",
    "        \n",
    "        self.Dx = None\n",
    "        self.Cx = None\n",
    "        self.Nx = None\n",
    "        self.Mx = None\n",
    "        \n",
    "        self.pup = None\n",
    "        self.anui = None\n",
    "        self.pna = None\n",
    "        \n",
    "        self.dif_benef = None\n",
    "        self.term_benef = None \n",
    "        self.antecip_benef = None\n",
    "        self.prod = None\n",
    "        \n",
    "        self.dif_pay = None\n",
    "        self.term_pay = None\n",
    "        self.antecip_pay = None\n",
    "        \n",
    "    def __pv_calc__(self, n):        \n",
    "        '''\n",
    "        This function calculates the present value factor v\n",
    "        Input:\n",
    "            n: period --> int or np.array\n",
    "        Output:\n",
    "            A float or a vector of floats with the factor (1+rate)**(-n)\n",
    "        '''\n",
    "        return 1/(1 + self.last_i_rate_used)**n\n",
    "\n",
    "    def __calc_Dx__(self):\n",
    "        '''\n",
    "        This function calculated the Dx commutation\n",
    "        Output:\n",
    "              An np.array with Dx commutation\n",
    "        '''\n",
    "        lx = self.df_['lx'].values\n",
    "        age = self.df_['age'].values\n",
    "        \n",
    "        return lx*self.__pv_calc__(age)\n",
    "        \n",
    "    def __calc_Nx__(self):\n",
    "        '''\n",
    "        Thist function calculated the Nx commutation\n",
    "        Output:\n",
    "              An np.array with Nx commutation\n",
    "        '''\n",
    "        return self.Dx[::-1].cumsum()[::-1]\n",
    "    \n",
    "    def __calc_Cx__(self):\n",
    "        '''\n",
    "        This function calculated the Cx commutation\n",
    "        Output:\n",
    "              An np.array with Cx commutation\n",
    "        '''\n",
    "        dx = self.df_['dx'].values\n",
    "        age = self.df_['age'].values\n",
    "        age_ = age + 1\n",
    "        \n",
    "        return dx*self.__pv_calc__(age_)\n",
    "    \n",
    "    def __calc_Mx__(self):\n",
    "        '''\n",
    "        This function calculated the Nx commutation\n",
    "        Output:\n",
    "              An np.array with Mx commutation\n",
    "        '''\n",
    "        return self.Cx[::-1].cumsum()[::-1]\n",
    "    \n",
    "    def __verify_prod__(self, x, n, m, antecip, prod):\n",
    "        max_age = self.max_age\n",
    "        \n",
    "        add_one = 1 if antecip and prod == 'a' else 0\n",
    "        \n",
    "        m_ = 0 if m == np.inf else m\n",
    "        \n",
    "        criteria = x + n + m_ - add_one\n",
    "    \n",
    "        if prod == 'd' and n > 0:\n",
    "            raise Exception('Não existe dotal puro diferido')\n",
    "            \n",
    "        if (prod == 'd' or prod == 'D') and m == np.inf:\n",
    "            raise Exception('Não existe dotal vitalício')\n",
    "\n",
    "        if criteria > max_age:\n",
    "            raise Exception('Idade + diferimento + parazo = {} > {} idade máxima'.format(criteria, max_age))\n",
    "        \n",
    "    def __calc_pup__(self, dif, age, term=np.inf, antecip=True, prod='a'):\n",
    "\n",
    "        max_age = self.max_age\n",
    "        \n",
    "        x = age\n",
    "        n = dif\n",
    "        m = term\n",
    "        \n",
    "        add_one = 0 if antecip and prod == 'a' else 1\n",
    "        \n",
    "        remove_term = 0 if term == np.inf else 1\n",
    "        m_ = max_age - x - n - add_one if m == np.inf else m\n",
    "        \n",
    "        self.__verify_prod__(x, n, m, antecip, prod)\n",
    "        \n",
    "        if prod == \"D\":\n",
    "            pup = (self.Mx[x + n] - self.Mx[x + n + m_] + self.Dx[x + m_]) / \\\n",
    "                    self.Dx[x]\n",
    "        elif prod == \"d\":\n",
    "            pup = self.Dx[x + m_] / self.Dx[x]\n",
    "        elif prod == \"A\":\n",
    "            pup = (self.Mx[x + n] - remove_term*self.Mx[x + n + m_]) / \\\n",
    "                    self.Dx[x]\n",
    "        elif prod == \"a\":\n",
    "            pup = (self.Nx[x + n + add_one] - remove_term*self.Nx[x + n + m_ + add_one]) / \\\n",
    "                     self.Dx[x]     \n",
    "        return pup\n",
    "    \n",
    "    def __calc_prov_retro__(self, t, x):\n",
    "        max_x = self.max_age\n",
    "        n = self.dif_benef\n",
    "        m = self.term_benef\n",
    "        i = self.dif_pay\n",
    "        k = self.term_pay\n",
    "        prod = self.prod\n",
    "        pay_antecip = self.antecip_pay\n",
    "        benef_antecip = self.antecip_benef\n",
    "        \n",
    "        adjust_pay = 1 if pay_antecip else 0\n",
    "        adjust_benef = 1 if benef_antecip and prod == 'a' else 0\n",
    "\n",
    "        P = self.pna\n",
    "        E = 1/self.__calc_pup__(0, x, t, pay_antecip, 'd')\n",
    "        print(E)\n",
    "        #payment\n",
    "        if  0 < t <= i - adjust_pay:\n",
    "            a = 0\n",
    "        elif i - adjust_pay < t: \n",
    "            a = self.__calc_pup__(0, x, min(t, k), pay_antecip, 'a')\n",
    "        elif t == 0:\n",
    "            a = 0\n",
    "            \n",
    "        #benefit     \n",
    "        if 0 < t <= n - adjust_benef:\n",
    "            A = 0\n",
    "        elif n - adjust_benef < t:\n",
    "            print(x+n, x+t)\n",
    "            A = self.__calc_pup__(n, x, min(t-n,m), benef_antecip, prod)\n",
    "        elif t == 0:\n",
    "            A = 0\n",
    "            \n",
    "        #post adjustment for endowments\n",
    "        if prod == 'd':\n",
    "            if t <= m:\n",
    "                A = 0\n",
    "        \n",
    "        print(A)\n",
    "        print(a)\n",
    "        V = (P*a - A)*E\n",
    "        return V\n",
    "\n",
    "    def __calc_prov_prosp__(self, t, x):\n",
    "        \n",
    "        max_x = self.max_age\n",
    "        n = self.dif_benef\n",
    "        m = self.term_benef\n",
    "        i = self.dif_pay\n",
    "        k = self.term_pay\n",
    "        prod = self.prod\n",
    "        pay_antecip = self.antecip_pay\n",
    "        benef_antecip = self.antecip_benef\n",
    "        \n",
    "        adjust_pay = 1 if pay_antecip else 0\n",
    "        adjust_benef = 1 if benef_antecip and prod == 'a' else 0\n",
    "\n",
    "        P = self.pna\n",
    "\n",
    "        #payment\n",
    "        if 0 < t <= i - adjust_pay:\n",
    "            a = self.__calc_pup__(max(i-t, 0), x+t, k, pay_antecip, 'a')\n",
    "        elif i - adjust_pay < t <= k - adjust_pay:\n",
    "            a = self.__calc_pup__(0, x+t, max(i+k-t,0), pay_antecip, 'a')\n",
    "        elif t > k - adjust_pay or t == 0:\n",
    "            a = 0\n",
    "         \n",
    "        #benefit     \n",
    "        if 0 < t <= n - adjust_benef:\n",
    "            A = self.__calc_pup__(max(n-t,0), x+t, m, benef_antecip, prod)\n",
    "        elif n - adjust_benef < t <= n + m - adjust_benef:\n",
    "            print(x+t + n + m-t)\n",
    "            A = self.__calc_pup__(0, x+t, max(n + m - t,0), benef_antecip, prod)\n",
    "        elif t > n + m - adjust_benef or t == 0:\n",
    "            A = 0\n",
    "        print(A)\n",
    "        print(a)\n",
    "        V = A - P*a\n",
    "        return V\n",
    "     \n",
    "    def select_table(self, table, gender):\n",
    "        query_string = 'table == \"{}\" and gender == \"{}\"'.\\\n",
    "                                          format(table, gender)\n",
    "        self.df_ = self.df.query(query_string).\\\n",
    "                                          reset_index(drop=True).copy()\n",
    "        self.max_age = self.df_['age'].max()\n",
    "        \n",
    "    def gen_commutations(self, i_rate):\n",
    "        \n",
    "        if self.df_ is None:\n",
    "            raise Exception('Life table must be filtered')\n",
    "            \n",
    "        self.last_i_rate_used = i_rate\n",
    "        \n",
    "        self.Dx = self.__calc_Dx__()\n",
    "        self.Nx = self.__calc_Nx__()\n",
    "        self.Cx = self.__calc_Cx__()\n",
    "        self.Mx = self.__calc_Mx__()\n",
    "              \n",
    "    def calc_premium(self, age, dif_benef=0, term_benef=np.inf, \n",
    "                     antecip_benef=True, prod='a', \n",
    "                     dif_pay=0, term_pay=np.inf, antecip_pay=True):\n",
    "        \n",
    "        self.pup = self.__calc_pup__(dif_benef, age, term_benef, \n",
    "                                     antecip_benef, prod)\n",
    "        self.dif_benef = dif_benef\n",
    "        self.term_benef = term_benef \n",
    "        self.antecip_benef = antecip_benef\n",
    "        self.prod = prod\n",
    "        \n",
    "        self.anui = self.__calc_pup__(dif_pay, age, term_pay, antecip_pay, \"a\")\n",
    "        self.dif_pay = dif_pay\n",
    "        self.term_pay = term_pay\n",
    "        self.antecip_pay = antecip_pay\n",
    "        \n",
    "        self.pna = self.pup / self.anui"
   ]
  },
  {
   "cell_type": "code",
   "execution_count": 80,
   "metadata": {},
   "outputs": [],
   "source": [
    "a = InsuranceHandler(df)\n",
    "a.select_table(\" AT2000\", \"M\")\n",
    "a.gen_commutations(0.1)"
   ]
  },
  {
   "cell_type": "code",
   "execution_count": 81,
   "metadata": {},
   "outputs": [],
   "source": [
    "a.calc_premium(age=40, term_benef=30, term_pay=10, prod='d')"
   ]
  },
  {
   "cell_type": "code",
   "execution_count": 82,
   "metadata": {},
   "outputs": [
    {
     "data": {
      "text/plain": [
       "6.7225423508757745"
      ]
     },
     "execution_count": 82,
     "metadata": {},
     "output_type": "execute_result"
    }
   ],
   "source": [
    "a.anui"
   ]
  },
  {
   "cell_type": "code",
   "execution_count": 83,
   "metadata": {},
   "outputs": [
    {
     "data": {
      "text/plain": [
       "0.047846552185152255"
      ]
     },
     "execution_count": 83,
     "metadata": {},
     "output_type": "execute_result"
    }
   ],
   "source": [
    "a.pup"
   ]
  },
  {
   "cell_type": "code",
   "execution_count": 84,
   "metadata": {},
   "outputs": [
    {
     "data": {
      "text/plain": [
       "0.007117329975454759"
      ]
     },
     "execution_count": 84,
     "metadata": {},
     "output_type": "execute_result"
    }
   ],
   "source": [
    "a.pna"
   ]
  },
  {
   "cell_type": "code",
   "execution_count": 85,
   "metadata": {},
   "outputs": [
    {
     "name": "stdout",
     "output_type": "stream",
     "text": [
      "70\n",
      "1.0\n",
      "0\n"
     ]
    },
    {
     "data": {
      "text/plain": [
       "1.0"
      ]
     },
     "execution_count": 85,
     "metadata": {},
     "output_type": "execute_result"
    }
   ],
   "source": [
    "a.__calc_prov_prosp__(30,40)"
   ]
  },
  {
   "cell_type": "code",
   "execution_count": 86,
   "metadata": {},
   "outputs": [
    {
     "name": "stdout",
     "output_type": "stream",
     "text": [
      "20.900147541045186\n",
      "40 70\n",
      "0\n",
      "6.7225423508757745\n"
     ]
    },
    {
     "data": {
      "text/plain": [
       "1.0"
      ]
     },
     "execution_count": 86,
     "metadata": {},
     "output_type": "execute_result"
    }
   ],
   "source": [
    "a.__calc_prov_retro__(30,40)"
   ]
  },
  {
   "cell_type": "code",
   "execution_count": 58,
   "metadata": {},
   "outputs": [
    {
     "data": {
      "text/plain": [
       "0.03646149091421159"
      ]
     },
     "execution_count": 58,
     "metadata": {},
     "output_type": "execute_result"
    }
   ],
   "source": [
    "3.4814262581531987*0.007117329975454759*1.4714995081298705"
   ]
  },
  {
   "cell_type": "code",
   "execution_count": 893,
   "metadata": {},
   "outputs": [
    {
     "data": {
      "text/plain": [
       "False"
      ]
     },
     "execution_count": 893,
     "metadata": {},
     "output_type": "execute_result"
    }
   ],
   "source": [
    "'D'== 'd'"
   ]
  },
  {
   "cell_type": "code",
   "execution_count": 662,
   "metadata": {},
   "outputs": [
    {
     "data": {
      "text/plain": [
       "7.753883059311794"
      ]
     },
     "execution_count": 662,
     "metadata": {},
     "output_type": "execute_result"
    }
   ],
   "source": [
    "(a.Nx[40] - a.Nx[53])/a.Dx[40]"
   ]
  },
  {
   "cell_type": "code",
   "execution_count": null,
   "metadata": {},
   "outputs": [],
   "source": [
    "    def __calc_pup__(self, dif, term=np.inf, antecip=True, prod='a'):\n",
    "        '''\n",
    "        This function calcultes the net sigle premium of an Annuity, Insurance or Endowment\n",
    "\n",
    "        Input: \n",
    "               dif: deferment period --> int\n",
    "               term: product term --> int\n",
    "               antecip: True if the annuity is anticipated --> Boolean\n",
    "               prod: A, a, D for Insurance, annuity, Endowment\n",
    "               \n",
    "        Output: \n",
    "              A vector np.array of net sigle premiums --> np.array\n",
    "        '''\n",
    "        \n",
    "        if prod == 'A' or prod == 'D' or prod == 'd':\n",
    "            NMx = self.Mx.copy()\n",
    "        else:\n",
    "            NMx = self.Nx.copy()\n",
    "        \n",
    "        Dx = self.Dx.copy()\n",
    "        Cx = self.Cx.copy()\n",
    "        \n",
    "        #Antecip or postecip, for insurance it is always post\n",
    "        add_one = 0 if antecip == True or prod == 'A' else 1\n",
    "        \n",
    "        #Copes with the differences between whole life and term products\n",
    "        if term == np.inf:\n",
    "            ini_ = dif + add_one if dif + add_one > 0 else None\n",
    "            ini_sign = ini_ if ini_ is None else - ini_ \n",
    "            #Insurance and annuities\n",
    "            #(Mx+n) / Dx or (Nx+n) / Dx, n = 0,1,2,3,...\n",
    "            result = NMx[ini_:] / Dx[:ini_sign] \n",
    "        else:\n",
    "            #Copes with deferment period\n",
    "            if prod == 'd':\n",
    "                dif = 0\n",
    "                add_one = 0\n",
    "            elif prod == 'D':\n",
    "                #Deferred Endowment\n",
    "                add_one = 0\n",
    "\n",
    "            #Avoid a dif + term greater than life table's size\n",
    "            term_ = min(term, NMx.shape[0] - 1 - dif - add_one)\n",
    "            ini_dif = dif + term_ + add_one\n",
    "            ini_term = dif + add_one\n",
    "            len_ = NMx[ini_dif:].shape[0]\n",
    "            fin_term = ini_term + len_\n",
    "\n",
    "            if prod == 'D':\n",
    "                #Endowment\n",
    "                #(Mx+m - Mx+m + Dx+m) / Dx\n",
    "                result = (NMx[ini_term:fin_term] - NMx[ini_dif:] + Dx[ini_dif:]) / Dx[:len_]\n",
    "            elif prod == 'd':\n",
    "                #Endowment\n",
    "                #(Dx+m) / Dx\n",
    "                result = Dx[ini_dif:] / Dx[:len_]\n",
    "            else:\n",
    "                #Insurance and annuities\n",
    "                #(Mx+n - Mx+n+m) / Dx or (Nx+n - Nx+n+m) / Dx, n = 0,1,2,3,...\n",
    "                result = (NMx[ini_term:fin_term] - NMx[ini_dif:]) / Dx[:len_]\n",
    "\n",
    "        return result\n"
   ]
  }
 ],
 "metadata": {
  "kernel_info": {
   "name": "python3"
  },
  "kernelspec": {
   "display_name": "Python 3",
   "language": "python",
   "name": "python3"
  },
  "language_info": {
   "codemirror_mode": {
    "name": "ipython",
    "version": 3
   },
   "file_extension": ".py",
   "mimetype": "text/x-python",
   "name": "python",
   "nbconvert_exporter": "python",
   "pygments_lexer": "ipython3",
   "version": "3.7.3"
  }
 },
 "nbformat": 4,
 "nbformat_minor": 4
}
