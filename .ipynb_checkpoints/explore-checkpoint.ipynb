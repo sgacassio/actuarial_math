{
 "cells": [
  {
   "cell_type": "markdown",
   "metadata": {},
   "source": [
    "### Import required libraries"
   ]
  },
  {
   "cell_type": "code",
   "execution_count": 1,
   "metadata": {},
   "outputs": [],
   "source": [
    "#Use if you don't have this packages intalled\n",
    "#!pip install numpy\n",
    "#!pip install pandas\n",
    "#!pip install plotly"
   ]
  },
  {
   "cell_type": "code",
   "execution_count": 2,
   "metadata": {
    "inputHidden": false,
    "outputHidden": false
   },
   "outputs": [],
   "source": [
    "import numpy as np\n",
    "import pandas as pd\n",
    "import plotly.graph_objects as go\n",
    "import plotly.express as px\n",
    "%matplotlib inline"
   ]
  },
  {
   "cell_type": "code",
   "execution_count": 3,
   "metadata": {},
   "outputs": [],
   "source": [
    "def real_br_money_mask(my_value):\n",
    "    a = '{:,.2f}'.format(float(my_value))\n",
    "    b = a.replace(',','v')\n",
    "    c = b.replace('.',',')\n",
    "    return 'R$ ' + c.replace('v','.')"
   ]
  },
  {
   "cell_type": "code",
   "execution_count": 4,
   "metadata": {
    "inputHidden": false,
    "outputHidden": false
   },
   "outputs": [
    {
     "data": {
      "text/plain": [
       "(2274, 6)"
      ]
     },
     "execution_count": 4,
     "metadata": {},
     "output_type": "execute_result"
    }
   ],
   "source": [
    "#Import life tables\n",
    "df = pd.read_excel('data/life_tables.xlsx')\n",
    "df.shape"
   ]
  },
  {
   "cell_type": "code",
   "execution_count": 5,
   "metadata": {
    "inputHidden": false,
    "outputHidden": false
   },
   "outputs": [
    {
     "data": {
      "text/plain": [
       "Index(['table', 'gender', 'age', 'qx', 'lx', 'dx'], dtype='object')"
      ]
     },
     "execution_count": 5,
     "metadata": {},
     "output_type": "execute_result"
    }
   ],
   "source": [
    "df.columns"
   ]
  },
  {
   "cell_type": "code",
   "execution_count": 6,
   "metadata": {},
   "outputs": [
    {
     "data": {
      "text/plain": [
       "[{'label': ' AT2000 (Suavizada 10%)', 'value': 1},\n",
       " {'label': ' AT2000', 'value': 2},\n",
       " {'label': 'AT-49', 'value': 3},\n",
       " {'label': 'BR-EMSmt-v.2010', 'value': 4},\n",
       " {'label': 'BR-EMSsb-v.2010', 'value': 5},\n",
       " {'label': 'BR-EMSmt-v.2015', 'value': 6},\n",
       " {'label': 'BR-EMSsb-v.2015', 'value': 7},\n",
       " {'label': 'IBGE 2006', 'value': 8},\n",
       " {'label': 'IBGE 2008', 'value': 9},\n",
       " {'label': 'IBGE 2007', 'value': 10},\n",
       " {'label': 'IBGE 2009', 'value': 11}]"
      ]
     },
     "execution_count": 6,
     "metadata": {},
     "output_type": "execute_result"
    }
   ],
   "source": [
    "tables = list(df['table'].unique())\n",
    "[{'value':i+1, 'label':tb} for i, tb in enumerate(tables)]"
   ]
  },
  {
   "cell_type": "code",
   "execution_count": 7,
   "metadata": {},
   "outputs": [],
   "source": [
    "#selic\n",
    "df_interest = pd.read_excel(\"data/risk_free.xlsx\")"
   ]
  },
  {
   "cell_type": "code",
   "execution_count": 8,
   "metadata": {},
   "outputs": [
    {
     "data": {
      "text/plain": [
       "0.0416"
      ]
     },
     "execution_count": 8,
     "metadata": {},
     "output_type": "execute_result"
    }
   ],
   "source": [
    "df_interest[df_interest['month'] == df_interest['month'].max()]['selic_year'].values[0]/100"
   ]
  },
  {
   "cell_type": "code",
   "execution_count": 9,
   "metadata": {},
   "outputs": [
    {
     "data": {
      "text/plain": [
       "0"
      ]
     },
     "execution_count": 9,
     "metadata": {},
     "output_type": "execute_result"
    }
   ],
   "source": [
    "np.array([1,2,1,4,5]).argmin()"
   ]
  },
  {
   "cell_type": "markdown",
   "metadata": {},
   "source": [
    "## Todos os cálculos estão implementados na Classe abaixo"
   ]
  },
  {
   "cell_type": "code",
   "execution_count": 10,
   "metadata": {},
   "outputs": [],
   "source": [
    "class InsuranceHandler():\n",
    "    '''\n",
    "        This class is responsible to calculated a range of variable related to insurance pricing,\n",
    "        such as net level premium, reserves.\n",
    "        Four different products area allowed each one with its variations:\n",
    "            Pure Endowment: d\n",
    "            Endowment:D\n",
    "            Life Insurance: A\n",
    "            Annuity: a\n",
    "                        \n",
    "    '''\n",
    "    def __init__(self, df):\n",
    "        '''\n",
    "            Class constructor:\n",
    "                Input: pandas dataframe --> required\n",
    "            All variables are populated according to the methods used.\n",
    "            Example:\n",
    "                When calc_premium is called all the variables required on premiums calculation are\n",
    "                populated.\n",
    "        '''\n",
    "        #all life tables\n",
    "        self.df = df\n",
    "        #filtered life table which will be used on the calculations\n",
    "        self.df_ = None\n",
    "        #interest rate provided\n",
    "        self.last_i_rate_used = None\n",
    "        #max age of the table\n",
    "        self.max_age = None\n",
    "        #commutations\n",
    "        self.Dx = None\n",
    "        self.Cx = None\n",
    "        self.Nx = None\n",
    "        self.Mx = None\n",
    "        #age\n",
    "        self.age = None\n",
    "        #net single premium\n",
    "        self.pup = None\n",
    "        #self.anui is \"a\" in the formula Pa = A, where P is net level premium\n",
    "        self.anui = None\n",
    "        #net level premium\n",
    "        self.pna = None\n",
    "        #benefit differed period\n",
    "        self.dif_benef = None\n",
    "        #benefit term\n",
    "        self.term_benef = None\n",
    "        #antecipated indicator\n",
    "        self.antecip_benef = None\n",
    "        #product\n",
    "        self.prod = None\n",
    "        #payment diferred period\n",
    "        self.dif_pay = None\n",
    "        #payment term\n",
    "        self.term_pay = None\n",
    "        #antecipated indicator for payment\n",
    "        self.antecip_pay = None\n",
    "\n",
    "        #commutation used on reserves calculation\n",
    "        self.Dx__ = None\n",
    "        self.Cx__ = None\n",
    "        self.Nx__ = None\n",
    "        self.Mx__ = None\n",
    "        \n",
    "        #reserves\n",
    "        self.last_prosp_reserve = None\n",
    "        self.last_retro_reserve = None\n",
    "        \n",
    "        #paid up\n",
    "        self.paidup = None\n",
    "        #extended\n",
    "        self.extended = None\n",
    "        \n",
    "    def __pv_calc__(self, n, i=0):        \n",
    "        '''\n",
    "            This method calculates the present value factor v\n",
    "            Input:\n",
    "                n: period --> int or np.array\n",
    "                i: interest rate --> float\n",
    "            Output:\n",
    "                A float or a vector of floats with the factor (1+rate)**(-n)\n",
    "        '''\n",
    "        rate = i if i>0 else self.last_i_rate_used \n",
    "        return 1/(1 + rate)**n\n",
    "\n",
    "    def __calc_Dx__(self, i=0):\n",
    "        '''\n",
    "            This method calculates the Dx commutation\n",
    "            Input:\n",
    "                i: interest rate, default = 0 --> float\n",
    "            Output:\n",
    "                  An np.array with Dx commutation\n",
    "        '''\n",
    "        lx = self.df_['lx'].values\n",
    "        age = self.df_['age'].values\n",
    "        \n",
    "        return lx*self.__pv_calc__(age, i)\n",
    "        \n",
    "    def __calc_Nx__(self, option='normal'):\n",
    "        '''\n",
    "            Thist method calculates the Nx commutation\n",
    "            Input:\n",
    "                option: normal or reserves, default = normal --> str\n",
    "            Output:\n",
    "                  An np.array with Nx commutation\n",
    "        '''\n",
    "        if option=='normal':\n",
    "            return self.Dx[::-1].cumsum()[::-1]\n",
    "        else:\n",
    "            return self.Dx__[::-1].cumsum()[::-1]\n",
    "    \n",
    "    def __calc_Cx__(self, i=0):\n",
    "        '''\n",
    "            This method calculates the Cx commutation\n",
    "            Input:\n",
    "                i: interest rate, default = 0 --> float\n",
    "            Output:\n",
    "                  An np.array with Cx commutation\n",
    "        '''\n",
    "        dx = self.df_['dx'].values\n",
    "        age = self.df_['age'].values\n",
    "        age_ = age + 1\n",
    "        \n",
    "        return dx*self.__pv_calc__(age_,i)\n",
    "    \n",
    "    def __calc_Mx__(self, option='normal'):\n",
    "        '''\n",
    "            This method calculates the Nx commutation\n",
    "            Input:\n",
    "                option: normal or reserves, default = normal --> str\n",
    "            Output:\n",
    "                  An np.array with Mx commutation\n",
    "        '''\n",
    "        if option=='normal':\n",
    "            return self.Cx[::-1].cumsum()[::-1]\n",
    "        else:\n",
    "            return self.Cx__[::-1].cumsum()[::-1]\n",
    "    \n",
    "    def __verify_prod__(self, x, n, m, antecip, prod):\n",
    "        '''\n",
    "            This method verify whetheer the combination of age, differed period and term make is aceptable\n",
    "            or not, based on the life table length\n",
    "            Input:\n",
    "                x: age\n",
    "                b: deffered period\n",
    "                m: term\n",
    "                antecip: indicates whether the product is antecipated or not \n",
    "            Output:\n",
    "                raise and exception if the combination is not valid\n",
    "        '''\n",
    "        max_age = self.max_age\n",
    "        \n",
    "        add_one = 1 if antecip and prod == 'a' else 0\n",
    "        \n",
    "        m_ = 0 if m == np.inf else m\n",
    "        \n",
    "        criteria = x + n + m_ - add_one\n",
    "        \n",
    "        #pure endowment with diferred period\n",
    "        if prod == 'd' and n > 0:\n",
    "            raise Exception('Não existe dotal puro diferido')\n",
    "        \n",
    "        #whole life endowment    \n",
    "        if (prod == 'd' or prod == 'D') and m == np.inf:\n",
    "            raise Exception('Não existe dotal vitalício')\n",
    "            \n",
    "        #combination of periods not supported by the table\n",
    "        if criteria > max_age:\n",
    "            raise Exception('Idade + diferimento + parazo = {} > {} idade máxima'.format(criteria, max_age))\n",
    "        \n",
    "    def __calc_pup__(self, dif, age, term=np.inf, antecip=True, prod='a', option = 'normal'):\n",
    "\n",
    "        if option == 'normal':\n",
    "            Dx = self.Dx\n",
    "            Cx = self.Cx\n",
    "            Nx = self.Nx\n",
    "            Mx = self.Mx\n",
    "        else:\n",
    "            Dx = self.Dx__\n",
    "            Cx = self.Cx__\n",
    "            Nx = self.Nx__\n",
    "            Mx = self.Mx__\n",
    "            \n",
    "        max_age = self.max_age\n",
    "        \n",
    "        x = age\n",
    "        n = dif\n",
    "        m = term\n",
    "        \n",
    "        add_one = 0 if antecip and prod == 'a' else 1\n",
    "        #remove_term used to settle whole life and m years products in the same formula\n",
    "        remove_term = 0 if term == np.inf else 1\n",
    "        m_ = max_age - x - n - add_one if m == np.inf else m\n",
    "        \n",
    "        self.__verify_prod__(x, n, m, antecip, prod)\n",
    "        #Endowment net single premium\n",
    "        if prod == \"D\":\n",
    "            pup = (Mx[x + n] - Mx[x + n + m_] + Dx[x + n + m_]) / \\\n",
    "                    Dx[x]\n",
    "        #Pure Endowment net single premium\n",
    "        elif prod == \"d\":\n",
    "            pup = Dx[x + m_] / Dx[x]\n",
    "        #Life insurance net single premium\n",
    "        elif prod == \"A\":\n",
    "            pup = (Mx[x + n] - remove_term*Mx[x + n + m_]) / \\\n",
    "                    Dx[x]\n",
    "        #Annuity net single premium\n",
    "        elif prod == \"a\":\n",
    "            pup = (Nx[x + n + add_one] - remove_term*Nx[x + n + m_ + add_one]) / \\\n",
    "                     Dx[x]     \n",
    "        return pup\n",
    "    \n",
    "    def __calc_prov_retro__(self, t):\n",
    "        '''\n",
    "            This method calculates reserves using the retrospective method\n",
    "            Input:\n",
    "                t: evaluation time\n",
    "            Output:\n",
    "                \n",
    "        '''\n",
    "        max_x = self.max_age\n",
    "        x = self.age\n",
    "        n = self.dif_benef\n",
    "        m = self.term_benef\n",
    "        i = self.dif_pay\n",
    "        k = self.term_pay\n",
    "        prod = self.prod\n",
    "        pay_antecip = self.antecip_pay\n",
    "        benef_antecip = self.antecip_benef\n",
    "        \n",
    "        adjust_pay = 1 if pay_antecip else 0\n",
    "        adjust_benef = 1 if benef_antecip and prod == 'a' else 0\n",
    "\n",
    "        P = self.pna\n",
    "        #present value factor\n",
    "        E = 1/self.__calc_pup__(0, x, t, pay_antecip, 'd', 'reserves')\n",
    "        #payment\n",
    "        if  0 < t <= i - adjust_pay:\n",
    "            a = 0\n",
    "        elif i - adjust_pay < t:\n",
    "            #The net single premium function is used varying only the parameter according to \n",
    "            #the position of \"t\"\n",
    "            #The option \"reserves\" is given to allow simulations with different values of interest rate\n",
    "            a = self.__calc_pup__(i, x, min(t-i, k), pay_antecip, 'a', 'reserves')\n",
    "\n",
    "            \n",
    "        #benefit     \n",
    "        if 0 < t <= n - adjust_benef:\n",
    "            A = 0\n",
    "        elif n - adjust_benef < t:\n",
    "            #adjustment for endowments\n",
    "            #For restrospective method the endowment must be seen as a life insurance while t is \n",
    "            #smaller than m + n\n",
    "            if prod == \"D\" and t<=m+n:\n",
    "                A = self.__calc_pup__(n, x, min(t-n,m), benef_antecip, \"A\", 'reserves')\n",
    "            elif prod == 'd' and t <= m:\n",
    "                #for t <= m you only can \"see\" the payments \n",
    "                A = 0\n",
    "            else:\n",
    "                #general case\n",
    "                A = self.__calc_pup__(n, x, min(t-n,m), benef_antecip, prod, 'reserves')\n",
    "\n",
    "        #Adjustment for points with zero reserves\n",
    "        if t == 0:\n",
    "            A = 0\n",
    "            a = 0\n",
    "\n",
    "        if t < n and t < i:\n",
    "            A = 0\n",
    "            a = 0\n",
    "        \n",
    "        if t > m+n and t > k+i:\n",
    "            a = 0\n",
    "            A = 0\n",
    "\n",
    "        V = (P*a - A)*E\n",
    "        return V\n",
    "\n",
    "    def __calc_paidup__(self, A, V, i, k, t, n, m, prod, benef_antecip):\n",
    "        '''\n",
    "            This method calculates a paidup insurance, annuity or endowment\n",
    "            Input:\n",
    "                A: product net single premium until t\n",
    "                V: reserve until t\n",
    "            Output:\n",
    "            \n",
    "        '''\n",
    "        max_age = self.max_age\n",
    "        age = self.age\n",
    "        \n",
    "        if i < t < k:\n",
    "            self.paidup = V/A\n",
    "        else:\n",
    "            self.paidup = 0\n",
    "            \n",
    "            \n",
    "        if  i < t < k:\n",
    "            if prod == 'A' or prod == 'a':\n",
    "                #search for the m which minimize the distance between V and the new A\n",
    "                #As the time unit measure is year the difference between V and A will be > 0\n",
    "                values_ = list()\n",
    "                for period in range(1, min(m, max_age)):\n",
    "                    try:\n",
    "                        prod_values = self.__calc_pup__(min(n-t,0), age+t, term=period, \n",
    "                                                    antecip=benef_antecip,\n",
    "                                                    prod=prod, option = 'normal')\n",
    "                        values_.append(abs(V - prod_values))\n",
    "                    except:\n",
    "                        pass\n",
    "                \n",
    "                if values_:\n",
    "                    self.extended = [np.array([values_]).argmin() + 1]\n",
    "                else:\n",
    "                    self.extended = [0]\n",
    "                    \n",
    "            elif prod == 'D':\n",
    "                insurance = 0\n",
    "                try:\n",
    "                    if t <= n:\n",
    "                        insurance = self.__calc_pup__(max(n-t,0), age+t, term=m, \n",
    "                                              antecip=benef_antecip,\n",
    "                                              prod='A', option = 'normal')\n",
    "                    else:\n",
    "                        insurance = self.__calc_pup__(0, self.age+t, term=m-t, \n",
    "                                              antecip=benef_antecip,\n",
    "                                              prod='A', option = 'normal')\n",
    "                        \n",
    "                except:\n",
    "                    pass\n",
    "                \n",
    "                if V >= insurance:\n",
    "                    d = 1\n",
    "                    try:\n",
    "                        d = self.__calc_pup__(0, age+t, term=m+n-t, \n",
    "                                          antecip=benef_antecip,\n",
    "                                          prod='d', option = 'normal') \n",
    "                    except:\n",
    "                        pass\n",
    "                    \n",
    "                    endowment = (V - insurance) / d\n",
    "                    self.extended = [m, endowment]\n",
    "                else:\n",
    "                    values_ = list()\n",
    "                    for period in range(1, min(m, max_age-t)):\n",
    "                        try:\n",
    "                            prod_values = self.__calc_pup__(min(n-t,0), age+t, term=period, \n",
    "                                                        antecip=benef_antecip,\n",
    "                                                        prod='A', option = 'normal')\n",
    "                            values_.append(abs(V - prod_values))\n",
    "                        except:\n",
    "                            pass\n",
    "                    if values_:\n",
    "                        self.extended = [np.array([values_]).argmin() + 1]\n",
    "                    else:\n",
    "                        self.extended = [0]\n",
    "            elif prod == 'd':\n",
    "                self.extended = [0]\n",
    "        else:\n",
    "            self.extended = [0]\n",
    "            \n",
    "    def __calc_prov_prosp__(self, t):\n",
    "        '''\n",
    "            This method calculates reserves using the prospective method\n",
    "            Input:\n",
    "                t: evaluation time\n",
    "            Output:\n",
    "                \n",
    "        '''\n",
    "        \n",
    "        max_x = self.max_age\n",
    "        x = self.age\n",
    "        n = self.dif_benef\n",
    "        m = self.term_benef\n",
    "        i = self.dif_pay\n",
    "        k = self.term_pay\n",
    "        prod = self.prod\n",
    "        pay_antecip = self.antecip_pay\n",
    "        benef_antecip = self.antecip_benef\n",
    "        \n",
    "        adjust_pay = 1 if pay_antecip else 0\n",
    "        adjust_benef = 1 if benef_antecip and prod == 'a' else 0\n",
    "\n",
    "        P = self.pna\n",
    "\n",
    "        #payment\n",
    "        \n",
    "        #The net single premium function is used varying only the parameter according to \n",
    "        #the position of \"t\"\n",
    "        #The option \"reserves\" is given to allow simulations with different values of interest rate\n",
    "        if 0 < t <= i - adjust_pay:\n",
    "            a = self.__calc_pup__(max(i-t, 0), x+t, k, pay_antecip, 'a', 'reserves')\n",
    "        elif i - adjust_pay < t: \n",
    "            a = self.__calc_pup__(0, x+t, max(i+k-t,0), pay_antecip, 'a', 'reserves')\n",
    "         \n",
    "        #benefit   \n",
    "        #The net single premium function is used varying only the parameter according to \n",
    "        #the position of \"t\"\n",
    "        #The option \"reserves\" is given to allow simulations with different values of interest rate\n",
    "        if 0 < t <= n - adjust_benef:\n",
    "            A = self.__calc_pup__(max(n-t,0), x+t, m, benef_antecip, prod, 'reserves')\n",
    "        elif n - adjust_benef < t <= n + m - adjust_benef:\n",
    "            A = self.__calc_pup__(0, x+t, max(n + m - t,0), benef_antecip, prod, 'reserves')\n",
    "        elif t > n + m - adjust_benef:\n",
    "            A = 0\n",
    "        \n",
    "        \n",
    "        #Adjustment for points with zero reserves\n",
    "        if t == 0:\n",
    "            A = 0\n",
    "            a = 0\n",
    "            \n",
    "        if t < n and t < i:\n",
    "            A = 0\n",
    "            a = 0\n",
    "        \n",
    "        if t > m+n and t > k+i:\n",
    "            a = 0\n",
    "            A = 0\n",
    "         \n",
    "        self.__calc_paidup__(A, A - P*a, i, k, t, n, m, prod, benef_antecip)\n",
    "        V = A - P*a\n",
    "        return V\n",
    "     \n",
    "    def select_table(self, table, gender):\n",
    "        '''\n",
    "            This method selects a life table based on gender and life table name\n",
    "            Input:\n",
    "                table: life table name --> str\n",
    "                gender: gender --> str\n",
    "            Output:\n",
    "                \n",
    "        '''\n",
    "        query_string = 'table == \"{}\" and gender == \"{}\"'.\\\n",
    "                                          format(table, gender)\n",
    "        self.df_ = self.df.query(query_string).\\\n",
    "                                          reset_index(drop=True).copy()\n",
    "        self.max_age = self.df_['age'].max()\n",
    "        \n",
    "    def gen_commutations(self, i_rate):\n",
    "        '''\n",
    "            This method calculates all the commutation functions based on a given interest rate\n",
    "            Input:\n",
    "                i_rate: interest rate --> float\n",
    "            Ouput:\n",
    "                \n",
    "        '''\n",
    "        if self.df_ is None:\n",
    "            raise Exception('Life table must be filtered')\n",
    "            \n",
    "        self.last_i_rate_used = i_rate\n",
    "        \n",
    "        self.Dx = self.__calc_Dx__()\n",
    "        self.Nx = self.__calc_Nx__()\n",
    "        self.Cx = self.__calc_Cx__()\n",
    "        self.Mx = self.__calc_Mx__()\n",
    "              \n",
    "    def calc_premium(self, age, dif_benef=0, term_benef=np.inf, \n",
    "                     antecip_benef=True, prod='a', \n",
    "                     dif_pay=0, term_pay=np.inf, antecip_pay=True):\n",
    "        \n",
    "        '''\n",
    "            This method calculates the net single premium and net level premium\n",
    "            Input:\n",
    "                age: age --> int\n",
    "                dif_benef: diferred period, default=0 --> int\n",
    "                term_benef: benefit term, default=np.inf --> int \n",
    "                antecip_benef: indicates whether the benefit is atecipated or not, default=True --> boolean\n",
    "                prod: product (D:Endowment,d:pure endowment,A: life insurance,a:annuity), default=a --> str \n",
    "                dif_pay: payment diferred period, default=0 --> int\n",
    "                term_pay: payment term, default=np.inf --> int \n",
    "                antecip_pay: indicates whether the paymeent is atecipated or not, default=True --> boolean\n",
    "            Ouput:\n",
    "        '''\n",
    "        self.age = age\n",
    "        \n",
    "        self.pup = self.__calc_pup__(dif_benef, age, term_benef, \n",
    "                                     antecip_benef, prod)\n",
    "        self.dif_benef = dif_benef\n",
    "        self.term_benef = term_benef \n",
    "        self.antecip_benef = antecip_benef\n",
    "        self.prod = prod\n",
    "        \n",
    "        self.anui = self.__calc_pup__(dif_pay, age, term_pay, antecip_pay, \"a\")\n",
    "        self.dif_pay = dif_pay\n",
    "        self.term_pay = term_pay\n",
    "        self.antecip_pay = antecip_pay\n",
    "        \n",
    "        self.pna = self.pup / self.anui\n",
    "        \n",
    "    def calc_reserves(self, t, kind=\"prosp\", rate=0):\n",
    "        '''\n",
    "            This method calculates reserves using the prospective and retrospective method\n",
    "            Input:\n",
    "                t: evaluation time\n",
    "                kind: method (prosp or retrosp), default=prosp --> str\n",
    "                rate: interest rate. Used to simulate interest rate variations, if not provided will use\n",
    "                      the interest rate used to calculate the nsp and nlp\n",
    "            Output:\n",
    "                Reserve at time t --> float\n",
    "        '''\n",
    "        self.Dx__ = self.__calc_Dx__(rate)\n",
    "        self.Nx__ = self.__calc_Nx__('reserves')\n",
    "        self.Cx__ = self.__calc_Cx__(rate)\n",
    "        self.Mx__ = self.__calc_Mx__('reserves')\n",
    "        \n",
    "        if kind == 'prosp':\n",
    "            result = self.__calc_prov_prosp__(t)\n",
    "            self.last_prosp_reserve = result\n",
    "        elif kind == 'retrosp':\n",
    "            result = self.__calc_prov_retro__(t)\n",
    "            self.last_retro_reserve = result\n",
    "            \n",
    "        return result"
   ]
  },
  {
   "cell_type": "markdown",
   "metadata": {},
   "source": [
    "#### For simulations you just have to change the parameters"
   ]
  },
  {
   "cell_type": "code",
   "execution_count": 11,
   "metadata": {},
   "outputs": [],
   "source": [
    "#Using life table AT2000, gender M with an interest rate almost equal selic\n",
    "value = 100000\n",
    "b = InsuranceHandler(df)\n",
    "b.select_table(\" AT2000\", \"M\")\n",
    "b.gen_commutations(0.04)"
   ]
  },
  {
   "cell_type": "code",
   "execution_count": 12,
   "metadata": {},
   "outputs": [
    {
     "data": {
      "text/plain": [
       "0.04"
      ]
     },
     "execution_count": 12,
     "metadata": {},
     "output_type": "execute_result"
    }
   ],
   "source": [
    "#note that the variable last_i_rate_used is now populated\n",
    "b.last_i_rate_used"
   ]
  },
  {
   "cell_type": "code",
   "execution_count": 13,
   "metadata": {},
   "outputs": [
    {
     "data": {
      "text/plain": [
       "True"
      ]
     },
     "execution_count": 13,
     "metadata": {},
     "output_type": "execute_result"
    }
   ],
   "source": [
    "#but not the net single premium, because calc_premium wasn't called yet\n",
    "b.pup is None"
   ]
  },
  {
   "cell_type": "code",
   "execution_count": 14,
   "metadata": {},
   "outputs": [],
   "source": [
    "#Calculating the premiums of a Endowment diferred. Note that the payment is also diferred\n",
    "b.calc_premium(age=30, dif_benef=0, \n",
    "               term_benef=35, dif_pay=0, \n",
    "               term_pay=35, antecip_pay=False, prod='D')"
   ]
  },
  {
   "cell_type": "code",
   "execution_count": 15,
   "metadata": {},
   "outputs": [
    {
     "data": {
      "text/plain": [
       "26891.855764804877"
      ]
     },
     "execution_count": 15,
     "metadata": {},
     "output_type": "execute_result"
    }
   ],
   "source": [
    "#Now the net single premium is populated\n",
    "b.pup*value"
   ]
  },
  {
   "cell_type": "code",
   "execution_count": 16,
   "metadata": {},
   "outputs": [
    {
     "data": {
      "text/plain": [
       "1474.896982575986"
      ]
     },
     "execution_count": 16,
     "metadata": {},
     "output_type": "execute_result"
    }
   ],
   "source": [
    "#Net level premium\n",
    "b.pna*value"
   ]
  },
  {
   "cell_type": "code",
   "execution_count": 17,
   "metadata": {},
   "outputs": [
    {
     "data": {
      "text/plain": [
       "16799.25828637456"
      ]
     },
     "execution_count": 17,
     "metadata": {},
     "output_type": "execute_result"
    }
   ],
   "source": [
    "#Reserve retrospective method\n",
    "b.calc_reserves(10, 'retrosp')*value"
   ]
  },
  {
   "cell_type": "code",
   "execution_count": 18,
   "metadata": {},
   "outputs": [
    {
     "data": {
      "text/plain": [
       "16799.258286374567"
      ]
     },
     "execution_count": 18,
     "metadata": {},
     "output_type": "execute_result"
    }
   ],
   "source": [
    "#Reserve prospective method\n",
    "b.calc_reserves(10)*value"
   ]
  },
  {
   "cell_type": "code",
   "execution_count": 19,
   "metadata": {},
   "outputs": [
    {
     "data": {
      "text/plain": [
       "42906.98154796247"
      ]
     },
     "execution_count": 19,
     "metadata": {},
     "output_type": "execute_result"
    }
   ],
   "source": [
    "#Paidup Insurance - It is calculated inside the method __calc_prov_prosp__\n",
    "b.paidup*value"
   ]
  },
  {
   "cell_type": "code",
   "execution_count": 20,
   "metadata": {},
   "outputs": [
    {
     "name": "stdout",
     "output_type": "stream",
     "text": [
      "[35, 33406.85337488595]\n"
     ]
    }
   ],
   "source": [
    "#If the product is a Endowment and V > A, the result is the pup of a life insurance a pure dotal\n",
    "if len(b.extended) > 1:\n",
    "    print([b.extended[0], b.extended[1]*value])\n",
    "else:\n",
    "    print(b.extended)"
   ]
  },
  {
   "cell_type": "markdown",
   "metadata": {},
   "source": [
    "### Charts\n"
   ]
  },
  {
   "cell_type": "code",
   "execution_count": 21,
   "metadata": {},
   "outputs": [],
   "source": [
    "############################################\n",
    "#Charts"
   ]
  },
  {
   "cell_type": "code",
   "execution_count": 22,
   "metadata": {},
   "outputs": [],
   "source": [
    "#Endowment\n",
    "value = 100000\n",
    "b = InsuranceHandler(df)\n",
    "b.select_table(\" AT2000\", \"M\")"
   ]
  },
  {
   "cell_type": "code",
   "execution_count": 32,
   "metadata": {},
   "outputs": [
    {
     "data": {
      "application/vnd.plotly.v1+json": {
       "config": {
        "plotlyServerURL": "https://plot.ly"
       },
       "data": [
        {
         "mode": "lines",
         "name": "País desenvolvido (1% a.a)",
         "type": "scatter",
         "x": [
          0,
          1,
          2,
          3,
          4,
          5,
          6,
          7,
          8,
          9,
          10,
          11,
          12,
          13,
          14,
          15,
          16,
          17,
          18,
          19,
          20,
          21,
          22,
          23,
          24,
          25,
          26,
          27,
          28,
          29,
          30,
          31,
          32,
          33,
          34,
          35,
          36,
          37,
          38,
          39,
          40,
          41,
          42,
          43,
          44,
          45,
          46,
          47,
          48,
          49,
          50,
          51,
          52,
          53,
          54,
          55,
          56,
          57,
          58,
          59,
          60,
          61,
          62,
          63,
          64,
          65,
          66,
          67,
          68,
          69,
          70,
          71,
          72,
          73,
          74,
          75,
          76,
          77,
          78,
          79,
          80,
          81,
          82,
          83,
          84,
          85
         ],
         "y": [
          7828.4310723476765,
          7828.953033219163,
          7828.880752582641,
          7828.60303578258,
          7828.237224256751,
          7827.862390137745,
          7827.514856624039,
          7827.231838322872,
          7827.008458760106,
          7826.814510697357,
          7826.610801249055,
          7826.366803842312,
          7826.0599950325495,
          7825.684882951693,
          7825.242129746748,
          7824.738607791262,
          7824.211188562583,
          7823.698927580559,
          7823.265666737339,
          7822.973150877331,
          7822.87910334514,
          7823.054666207461,
          7823.556879798804,
          7824.438953911479,
          7825.697553137204,
          7827.338325904826,
          7829.36874788481,
          7831.789005100495,
          7834.3752795894225,
          7836.986765483657,
          7839.464691816119,
          7841.664488022245,
          7843.448760229777,
          7844.690461063479,
          7845.288679312651,
          7845.188740474371,
          7844.399894849945,
          7843.010741165183,
          7841.1296986929165,
          7838.899012358822,
          7836.472289963863,
          7833.976845417599,
          7831.530015018706,
          7829.236475556628,
          7827.178434985652,
          7825.452346372002,
          7824.188958974598,
          7823.548137103399,
          7823.701602073468,
          7824.826489153458,
          7826.958688680201,
          7829.957296033858,
          7833.525887356602,
          7837.215909490468,
          7840.447692235705,
          7842.543773951816,
          7842.737951977427,
          7840.194541055277,
          7834.035858356561,
          7823.395188429346,
          7807.59650660977,
          7786.168374413171,
          7758.8299541476235,
          7725.466621245481,
          7686.01565589233,
          7640.192701054221,
          7587.3965105125935,
          7526.791086613836,
          7457.288440259187,
          7377.653473081966,
          7286.701736912693,
          7183.355552000444,
          7066.705166438455,
          6936.035806912816,
          6790.816616769398,
          6630.70362773126,
          6455.473804019113,
          6265.059040834076,
          6059.5428181259085,
          5839.196930331276,
          5604.772925587127,
          5357.469812668592,
          5098.906040023838,
          4831.037463105019,
          4556.065259097306,
          4276.362408818728
         ]
        },
        {
         "mode": "lines",
         "name": "Cenário atual (4% a.a)",
         "type": "scatter",
         "x": [
          0,
          1,
          2,
          3,
          4,
          5,
          6,
          7,
          8,
          9,
          10,
          11,
          12,
          13,
          14,
          15,
          16,
          17,
          18,
          19,
          20,
          21,
          22,
          23,
          24,
          25,
          26,
          27,
          28,
          29,
          30,
          31,
          32,
          33,
          34,
          35,
          36,
          37,
          38,
          39,
          40,
          41,
          42,
          43,
          44,
          45,
          46,
          47,
          48,
          49,
          50,
          51,
          52,
          53,
          54,
          55,
          56,
          57,
          58,
          59,
          60,
          61,
          62,
          63,
          64,
          65,
          66,
          67,
          68,
          69,
          70,
          71,
          72,
          73,
          74,
          75,
          76,
          77,
          78,
          79,
          80,
          81,
          82,
          83,
          84,
          85
         ],
         "y": [
          3812.7480120115647,
          3813.5681590862005,
          3814.053311069387,
          3814.4275805427524,
          3814.7615008252073,
          3815.1064370563836,
          3815.482390961874,
          3815.9134695563853,
          3816.388834916458,
          3816.89134518266,
          3817.3942532825954,
          3817.8771111884566,
          3818.325699493543,
          3818.7405686183106,
          3819.128663521935,
          3819.5035676378343,
          3819.908014389598,
          3820.389964574898,
          3821.0239778760974,
          3821.887957502207,
          3823.061861165266,
          3824.643576765898,
          3826.725435027914,
          3829.4028633285157,
          3832.726672509445,
          3836.759310603255,
          3841.568059785025,
          3847.2165680375538,
          3853.5663303791926,
          3860.5402652200687,
          3868.0351606104086,
          3875.9493664330193,
          3884.1779721996995,
          3892.6163965558717,
          3901.177253739842,
          3909.8103238511103,
          3918.5217163868947,
          3927.39253335255,
          3936.537354622173,
          3946.117755431073,
          3956.325991717099,
          3967.35130045125,
          3979.392703456473,
          3992.6554906415113,
          4007.340553053192,
          4023.675409423812,
          4041.9338167644687,
          4062.433830175425,
          4085.524774195471,
          4111.5826335133925,
          4140.877593210853,
          4173.532387045516,
          4209.528498158682,
          4248.696560032565,
          4290.722620128638,
          4335.165803242853,
          4381.455513999633,
          4428.899160539997,
          4476.699162173673,
          4523.995530686272,
          4570.029651884622,
          4614.169834743501,
          4655.914114724543,
          4694.884604375517,
          4730.741211122023,
          4762.947856548073,
          4790.685277069918,
          4812.917934410434,
          4828.376021441144,
          4835.64453684144,
          4833.339857742472,
          4820.1653157077535,
          4794.970941014768,
          4756.783813263002,
          4704.805566286093,
          4638.422874441354,
          4557.15682802002,
          4460.695413770212,
          4348.893198334479,
          4221.803608399023,
          4079.930951313758,
          3924.2085228437763,
          3755.9773112525827,
          3576.9158579969303,
          3388.9586905172528,
          3194.228760855996
         ]
        },
        {
         "mode": "lines",
         "name": "Governo Dilma (12% a.a)",
         "type": "scatter",
         "x": [
          0,
          1,
          2,
          3,
          4,
          5,
          6,
          7,
          8,
          9,
          10,
          11,
          12,
          13,
          14,
          15,
          16,
          17,
          18,
          19,
          20,
          21,
          22,
          23,
          24,
          25,
          26,
          27,
          28,
          29,
          30,
          31,
          32,
          33,
          34,
          35,
          36,
          37,
          38,
          39,
          40,
          41,
          42,
          43,
          44,
          45,
          46,
          47,
          48,
          49,
          50,
          51,
          52,
          53,
          54,
          55,
          56,
          57,
          58,
          59,
          60,
          61,
          62,
          63,
          64,
          65,
          66,
          67,
          68,
          69,
          70,
          71,
          72,
          73,
          74,
          75,
          76,
          77,
          78,
          79,
          80,
          81,
          82,
          83,
          84,
          85
         ],
         "y": [
          603.9788740166663,
          604.5591983415042,
          605.0516013603966,
          605.5180247249068,
          605.9832565119186,
          606.4702202553602,
          606.9856076299835,
          607.5415103528494,
          608.1280526547135,
          608.7413376408516,
          609.3679835514012,
          609.9954264791303,
          610.6119812190798,
          611.2127371246704,
          611.7946052194552,
          612.3565322648782,
          612.9162189623232,
          613.495131698453,
          614.1350320301178,
          614.8834227212833,
          615.7937988084861,
          616.937576128679,
          618.389425705457,
          620.2335087758247,
          622.5308003856414,
          625.3561383650862,
          628.7943616350173,
          632.9355549728238,
          637.7347509503215,
          643.1828067824025,
          649.248427741469,
          655.8940428196534,
          663.0709274583802,
          670.7194864461836,
          678.7801958980302,
          687.2064783581761,
          695.9787098875452,
          705.1196262425024,
          714.6744109928544,
          724.720496625851,
          735.3598801742796,
          746.6984010143047,
          758.8559639300205,
          771.966543215877,
          786.1728454303995,
          801.6491631227224,
          818.6175142688712,
          837.3497244668459,
          858.1631144397459,
          881.4215547635857,
          907.4474446188481,
          936.4893797421872,
          968.7197809821181,
          1004.2213668346079,
          1042.9836015791175,
          1084.9060375290321,
          1129.7874330879865,
          1177.3213432332675,
          1227.0984978178042,
          1278.6279342634077,
          1331.4489499172569,
          1385.1597584830909,
          1439.4328046731391,
          1494.0254653091356,
          1548.7346268675628,
          1603.2423633293797,
          1657.047156696148,
          1709.4946771508623,
          1759.7520805228507,
          1806.8529533150881,
          1849.803299368348,
          1887.6154931535652,
          1919.3494300962789,
          1944.1381547813692,
          1961.1944815862446,
          1969.8286932431415,
          1969.425185286192,
          1959.4703589129333,
          1939.5582334653236,
          1909.414940877635,
          1869.0683350158677,
          1818.846202784813,
          1759.3727986441577,
          1691.5320248451326,
          1616.4205379514678,
          1535.3076833470561
         ]
        }
       ],
       "layout": {
        "legend": {
         "font": {
          "color": "black",
          "family": "arial",
          "size": 15
         },
         "orientation": "h",
         "x": 0.1,
         "y": -0.15
        },
        "template": {
         "data": {
          "bar": [
           {
            "error_x": {
             "color": "#2a3f5f"
            },
            "error_y": {
             "color": "#2a3f5f"
            },
            "marker": {
             "line": {
              "color": "#E5ECF6",
              "width": 0.5
             }
            },
            "type": "bar"
           }
          ],
          "barpolar": [
           {
            "marker": {
             "line": {
              "color": "#E5ECF6",
              "width": 0.5
             }
            },
            "type": "barpolar"
           }
          ],
          "carpet": [
           {
            "aaxis": {
             "endlinecolor": "#2a3f5f",
             "gridcolor": "white",
             "linecolor": "white",
             "minorgridcolor": "white",
             "startlinecolor": "#2a3f5f"
            },
            "baxis": {
             "endlinecolor": "#2a3f5f",
             "gridcolor": "white",
             "linecolor": "white",
             "minorgridcolor": "white",
             "startlinecolor": "#2a3f5f"
            },
            "type": "carpet"
           }
          ],
          "choropleth": [
           {
            "colorbar": {
             "outlinewidth": 0,
             "ticks": ""
            },
            "type": "choropleth"
           }
          ],
          "contour": [
           {
            "colorbar": {
             "outlinewidth": 0,
             "ticks": ""
            },
            "colorscale": [
             [
              0,
              "#0d0887"
             ],
             [
              0.1111111111111111,
              "#46039f"
             ],
             [
              0.2222222222222222,
              "#7201a8"
             ],
             [
              0.3333333333333333,
              "#9c179e"
             ],
             [
              0.4444444444444444,
              "#bd3786"
             ],
             [
              0.5555555555555556,
              "#d8576b"
             ],
             [
              0.6666666666666666,
              "#ed7953"
             ],
             [
              0.7777777777777778,
              "#fb9f3a"
             ],
             [
              0.8888888888888888,
              "#fdca26"
             ],
             [
              1,
              "#f0f921"
             ]
            ],
            "type": "contour"
           }
          ],
          "contourcarpet": [
           {
            "colorbar": {
             "outlinewidth": 0,
             "ticks": ""
            },
            "type": "contourcarpet"
           }
          ],
          "heatmap": [
           {
            "colorbar": {
             "outlinewidth": 0,
             "ticks": ""
            },
            "colorscale": [
             [
              0,
              "#0d0887"
             ],
             [
              0.1111111111111111,
              "#46039f"
             ],
             [
              0.2222222222222222,
              "#7201a8"
             ],
             [
              0.3333333333333333,
              "#9c179e"
             ],
             [
              0.4444444444444444,
              "#bd3786"
             ],
             [
              0.5555555555555556,
              "#d8576b"
             ],
             [
              0.6666666666666666,
              "#ed7953"
             ],
             [
              0.7777777777777778,
              "#fb9f3a"
             ],
             [
              0.8888888888888888,
              "#fdca26"
             ],
             [
              1,
              "#f0f921"
             ]
            ],
            "type": "heatmap"
           }
          ],
          "heatmapgl": [
           {
            "colorbar": {
             "outlinewidth": 0,
             "ticks": ""
            },
            "colorscale": [
             [
              0,
              "#0d0887"
             ],
             [
              0.1111111111111111,
              "#46039f"
             ],
             [
              0.2222222222222222,
              "#7201a8"
             ],
             [
              0.3333333333333333,
              "#9c179e"
             ],
             [
              0.4444444444444444,
              "#bd3786"
             ],
             [
              0.5555555555555556,
              "#d8576b"
             ],
             [
              0.6666666666666666,
              "#ed7953"
             ],
             [
              0.7777777777777778,
              "#fb9f3a"
             ],
             [
              0.8888888888888888,
              "#fdca26"
             ],
             [
              1,
              "#f0f921"
             ]
            ],
            "type": "heatmapgl"
           }
          ],
          "histogram": [
           {
            "marker": {
             "colorbar": {
              "outlinewidth": 0,
              "ticks": ""
             }
            },
            "type": "histogram"
           }
          ],
          "histogram2d": [
           {
            "colorbar": {
             "outlinewidth": 0,
             "ticks": ""
            },
            "colorscale": [
             [
              0,
              "#0d0887"
             ],
             [
              0.1111111111111111,
              "#46039f"
             ],
             [
              0.2222222222222222,
              "#7201a8"
             ],
             [
              0.3333333333333333,
              "#9c179e"
             ],
             [
              0.4444444444444444,
              "#bd3786"
             ],
             [
              0.5555555555555556,
              "#d8576b"
             ],
             [
              0.6666666666666666,
              "#ed7953"
             ],
             [
              0.7777777777777778,
              "#fb9f3a"
             ],
             [
              0.8888888888888888,
              "#fdca26"
             ],
             [
              1,
              "#f0f921"
             ]
            ],
            "type": "histogram2d"
           }
          ],
          "histogram2dcontour": [
           {
            "colorbar": {
             "outlinewidth": 0,
             "ticks": ""
            },
            "colorscale": [
             [
              0,
              "#0d0887"
             ],
             [
              0.1111111111111111,
              "#46039f"
             ],
             [
              0.2222222222222222,
              "#7201a8"
             ],
             [
              0.3333333333333333,
              "#9c179e"
             ],
             [
              0.4444444444444444,
              "#bd3786"
             ],
             [
              0.5555555555555556,
              "#d8576b"
             ],
             [
              0.6666666666666666,
              "#ed7953"
             ],
             [
              0.7777777777777778,
              "#fb9f3a"
             ],
             [
              0.8888888888888888,
              "#fdca26"
             ],
             [
              1,
              "#f0f921"
             ]
            ],
            "type": "histogram2dcontour"
           }
          ],
          "mesh3d": [
           {
            "colorbar": {
             "outlinewidth": 0,
             "ticks": ""
            },
            "type": "mesh3d"
           }
          ],
          "parcoords": [
           {
            "line": {
             "colorbar": {
              "outlinewidth": 0,
              "ticks": ""
             }
            },
            "type": "parcoords"
           }
          ],
          "pie": [
           {
            "automargin": true,
            "type": "pie"
           }
          ],
          "scatter": [
           {
            "marker": {
             "colorbar": {
              "outlinewidth": 0,
              "ticks": ""
             }
            },
            "type": "scatter"
           }
          ],
          "scatter3d": [
           {
            "line": {
             "colorbar": {
              "outlinewidth": 0,
              "ticks": ""
             }
            },
            "marker": {
             "colorbar": {
              "outlinewidth": 0,
              "ticks": ""
             }
            },
            "type": "scatter3d"
           }
          ],
          "scattercarpet": [
           {
            "marker": {
             "colorbar": {
              "outlinewidth": 0,
              "ticks": ""
             }
            },
            "type": "scattercarpet"
           }
          ],
          "scattergeo": [
           {
            "marker": {
             "colorbar": {
              "outlinewidth": 0,
              "ticks": ""
             }
            },
            "type": "scattergeo"
           }
          ],
          "scattergl": [
           {
            "marker": {
             "colorbar": {
              "outlinewidth": 0,
              "ticks": ""
             }
            },
            "type": "scattergl"
           }
          ],
          "scattermapbox": [
           {
            "marker": {
             "colorbar": {
              "outlinewidth": 0,
              "ticks": ""
             }
            },
            "type": "scattermapbox"
           }
          ],
          "scatterpolar": [
           {
            "marker": {
             "colorbar": {
              "outlinewidth": 0,
              "ticks": ""
             }
            },
            "type": "scatterpolar"
           }
          ],
          "scatterpolargl": [
           {
            "marker": {
             "colorbar": {
              "outlinewidth": 0,
              "ticks": ""
             }
            },
            "type": "scatterpolargl"
           }
          ],
          "scatterternary": [
           {
            "marker": {
             "colorbar": {
              "outlinewidth": 0,
              "ticks": ""
             }
            },
            "type": "scatterternary"
           }
          ],
          "surface": [
           {
            "colorbar": {
             "outlinewidth": 0,
             "ticks": ""
            },
            "colorscale": [
             [
              0,
              "#0d0887"
             ],
             [
              0.1111111111111111,
              "#46039f"
             ],
             [
              0.2222222222222222,
              "#7201a8"
             ],
             [
              0.3333333333333333,
              "#9c179e"
             ],
             [
              0.4444444444444444,
              "#bd3786"
             ],
             [
              0.5555555555555556,
              "#d8576b"
             ],
             [
              0.6666666666666666,
              "#ed7953"
             ],
             [
              0.7777777777777778,
              "#fb9f3a"
             ],
             [
              0.8888888888888888,
              "#fdca26"
             ],
             [
              1,
              "#f0f921"
             ]
            ],
            "type": "surface"
           }
          ],
          "table": [
           {
            "cells": {
             "fill": {
              "color": "#EBF0F8"
             },
             "line": {
              "color": "white"
             }
            },
            "header": {
             "fill": {
              "color": "#C8D4E3"
             },
             "line": {
              "color": "white"
             }
            },
            "type": "table"
           }
          ]
         },
         "layout": {
          "annotationdefaults": {
           "arrowcolor": "#2a3f5f",
           "arrowhead": 0,
           "arrowwidth": 1
          },
          "coloraxis": {
           "colorbar": {
            "outlinewidth": 0,
            "ticks": ""
           }
          },
          "colorscale": {
           "diverging": [
            [
             0,
             "#8e0152"
            ],
            [
             0.1,
             "#c51b7d"
            ],
            [
             0.2,
             "#de77ae"
            ],
            [
             0.3,
             "#f1b6da"
            ],
            [
             0.4,
             "#fde0ef"
            ],
            [
             0.5,
             "#f7f7f7"
            ],
            [
             0.6,
             "#e6f5d0"
            ],
            [
             0.7,
             "#b8e186"
            ],
            [
             0.8,
             "#7fbc41"
            ],
            [
             0.9,
             "#4d9221"
            ],
            [
             1,
             "#276419"
            ]
           ],
           "sequential": [
            [
             0,
             "#0d0887"
            ],
            [
             0.1111111111111111,
             "#46039f"
            ],
            [
             0.2222222222222222,
             "#7201a8"
            ],
            [
             0.3333333333333333,
             "#9c179e"
            ],
            [
             0.4444444444444444,
             "#bd3786"
            ],
            [
             0.5555555555555556,
             "#d8576b"
            ],
            [
             0.6666666666666666,
             "#ed7953"
            ],
            [
             0.7777777777777778,
             "#fb9f3a"
            ],
            [
             0.8888888888888888,
             "#fdca26"
            ],
            [
             1,
             "#f0f921"
            ]
           ],
           "sequentialminus": [
            [
             0,
             "#0d0887"
            ],
            [
             0.1111111111111111,
             "#46039f"
            ],
            [
             0.2222222222222222,
             "#7201a8"
            ],
            [
             0.3333333333333333,
             "#9c179e"
            ],
            [
             0.4444444444444444,
             "#bd3786"
            ],
            [
             0.5555555555555556,
             "#d8576b"
            ],
            [
             0.6666666666666666,
             "#ed7953"
            ],
            [
             0.7777777777777778,
             "#fb9f3a"
            ],
            [
             0.8888888888888888,
             "#fdca26"
            ],
            [
             1,
             "#f0f921"
            ]
           ]
          },
          "colorway": [
           "#636efa",
           "#EF553B",
           "#00cc96",
           "#ab63fa",
           "#FFA15A",
           "#19d3f3",
           "#FF6692",
           "#B6E880",
           "#FF97FF",
           "#FECB52"
          ],
          "font": {
           "color": "#2a3f5f"
          },
          "geo": {
           "bgcolor": "white",
           "lakecolor": "white",
           "landcolor": "#E5ECF6",
           "showlakes": true,
           "showland": true,
           "subunitcolor": "white"
          },
          "hoverlabel": {
           "align": "left"
          },
          "hovermode": "closest",
          "mapbox": {
           "style": "light"
          },
          "paper_bgcolor": "white",
          "plot_bgcolor": "#E5ECF6",
          "polar": {
           "angularaxis": {
            "gridcolor": "white",
            "linecolor": "white",
            "ticks": ""
           },
           "bgcolor": "#E5ECF6",
           "radialaxis": {
            "gridcolor": "white",
            "linecolor": "white",
            "ticks": ""
           }
          },
          "scene": {
           "xaxis": {
            "backgroundcolor": "#E5ECF6",
            "gridcolor": "white",
            "gridwidth": 2,
            "linecolor": "white",
            "showbackground": true,
            "ticks": "",
            "zerolinecolor": "white"
           },
           "yaxis": {
            "backgroundcolor": "#E5ECF6",
            "gridcolor": "white",
            "gridwidth": 2,
            "linecolor": "white",
            "showbackground": true,
            "ticks": "",
            "zerolinecolor": "white"
           },
           "zaxis": {
            "backgroundcolor": "#E5ECF6",
            "gridcolor": "white",
            "gridwidth": 2,
            "linecolor": "white",
            "showbackground": true,
            "ticks": "",
            "zerolinecolor": "white"
           }
          },
          "shapedefaults": {
           "line": {
            "color": "#2a3f5f"
           }
          },
          "ternary": {
           "aaxis": {
            "gridcolor": "white",
            "linecolor": "white",
            "ticks": ""
           },
           "baxis": {
            "gridcolor": "white",
            "linecolor": "white",
            "ticks": ""
           },
           "bgcolor": "#E5ECF6",
           "caxis": {
            "gridcolor": "white",
            "linecolor": "white",
            "ticks": ""
           }
          },
          "title": {
           "x": 0.05
          },
          "xaxis": {
           "automargin": true,
           "gridcolor": "white",
           "linecolor": "white",
           "ticks": "",
           "title": {
            "standoff": 15
           },
           "zerolinecolor": "white",
           "zerolinewidth": 2
          },
          "yaxis": {
           "automargin": true,
           "gridcolor": "white",
           "linecolor": "white",
           "ticks": "",
           "title": {
            "standoff": 15
           },
           "zerolinecolor": "white",
           "zerolinewidth": 2
          }
         }
        },
        "title": {
         "text": "Dotal Misto. Diferido 10/Pagamento 10/Duração 20 anos/Valor R$ 100.000,00",
         "x": 0.45,
         "xanchor": "center",
         "y": 0.9,
         "yanchor": "top"
        },
        "xaxis": {
         "tickfont": {
          "size": 15
         },
         "title": {
          "text": "Idade"
         }
        },
        "yaxis": {
         "tickfont": {
          "size": 15
         },
         "title": {
          "text": "PNA"
         }
        }
       }
      },
      "text/html": [
       "<div>\n",
       "        \n",
       "        \n",
       "            <div id=\"29ac64c4-c0ad-46d2-bb2d-e41d9d7553d3\" class=\"plotly-graph-div\" style=\"height:525px; width:100%;\"></div>\n",
       "            <script type=\"text/javascript\">\n",
       "                require([\"plotly\"], function(Plotly) {\n",
       "                    window.PLOTLYENV=window.PLOTLYENV || {};\n",
       "                    \n",
       "                if (document.getElementById(\"29ac64c4-c0ad-46d2-bb2d-e41d9d7553d3\")) {\n",
       "                    Plotly.newPlot(\n",
       "                        '29ac64c4-c0ad-46d2-bb2d-e41d9d7553d3',\n",
       "                        [{\"mode\": \"lines\", \"name\": \"Pa\\u00eds desenvolvido (1% a.a)\", \"type\": \"scatter\", \"x\": [0, 1, 2, 3, 4, 5, 6, 7, 8, 9, 10, 11, 12, 13, 14, 15, 16, 17, 18, 19, 20, 21, 22, 23, 24, 25, 26, 27, 28, 29, 30, 31, 32, 33, 34, 35, 36, 37, 38, 39, 40, 41, 42, 43, 44, 45, 46, 47, 48, 49, 50, 51, 52, 53, 54, 55, 56, 57, 58, 59, 60, 61, 62, 63, 64, 65, 66, 67, 68, 69, 70, 71, 72, 73, 74, 75, 76, 77, 78, 79, 80, 81, 82, 83, 84, 85], \"y\": [7828.4310723476765, 7828.953033219163, 7828.880752582641, 7828.60303578258, 7828.237224256751, 7827.862390137745, 7827.514856624039, 7827.231838322872, 7827.008458760106, 7826.814510697357, 7826.610801249055, 7826.366803842312, 7826.0599950325495, 7825.684882951693, 7825.242129746748, 7824.738607791262, 7824.211188562583, 7823.698927580559, 7823.265666737339, 7822.973150877331, 7822.87910334514, 7823.054666207461, 7823.556879798804, 7824.438953911479, 7825.697553137204, 7827.338325904826, 7829.36874788481, 7831.789005100495, 7834.3752795894225, 7836.986765483657, 7839.464691816119, 7841.664488022245, 7843.448760229777, 7844.690461063479, 7845.288679312651, 7845.188740474371, 7844.399894849945, 7843.010741165183, 7841.1296986929165, 7838.899012358822, 7836.472289963863, 7833.976845417599, 7831.530015018706, 7829.236475556628, 7827.178434985652, 7825.452346372002, 7824.188958974598, 7823.548137103399, 7823.701602073468, 7824.826489153458, 7826.958688680201, 7829.957296033858, 7833.525887356602, 7837.215909490468, 7840.447692235705, 7842.543773951816, 7842.737951977427, 7840.194541055277, 7834.035858356561, 7823.395188429346, 7807.59650660977, 7786.168374413171, 7758.8299541476235, 7725.466621245481, 7686.01565589233, 7640.192701054221, 7587.3965105125935, 7526.791086613836, 7457.288440259187, 7377.653473081966, 7286.701736912693, 7183.355552000444, 7066.705166438455, 6936.035806912816, 6790.816616769398, 6630.70362773126, 6455.473804019113, 6265.059040834076, 6059.5428181259085, 5839.196930331276, 5604.772925587127, 5357.469812668592, 5098.906040023838, 4831.037463105019, 4556.065259097306, 4276.362408818728]}, {\"mode\": \"lines\", \"name\": \"Cen\\u00e1rio atual (4% a.a)\", \"type\": \"scatter\", \"x\": [0, 1, 2, 3, 4, 5, 6, 7, 8, 9, 10, 11, 12, 13, 14, 15, 16, 17, 18, 19, 20, 21, 22, 23, 24, 25, 26, 27, 28, 29, 30, 31, 32, 33, 34, 35, 36, 37, 38, 39, 40, 41, 42, 43, 44, 45, 46, 47, 48, 49, 50, 51, 52, 53, 54, 55, 56, 57, 58, 59, 60, 61, 62, 63, 64, 65, 66, 67, 68, 69, 70, 71, 72, 73, 74, 75, 76, 77, 78, 79, 80, 81, 82, 83, 84, 85], \"y\": [3812.7480120115647, 3813.5681590862005, 3814.053311069387, 3814.4275805427524, 3814.7615008252073, 3815.1064370563836, 3815.482390961874, 3815.9134695563853, 3816.388834916458, 3816.89134518266, 3817.3942532825954, 3817.8771111884566, 3818.325699493543, 3818.7405686183106, 3819.128663521935, 3819.5035676378343, 3819.908014389598, 3820.389964574898, 3821.0239778760974, 3821.887957502207, 3823.061861165266, 3824.643576765898, 3826.725435027914, 3829.4028633285157, 3832.726672509445, 3836.759310603255, 3841.568059785025, 3847.2165680375538, 3853.5663303791926, 3860.5402652200687, 3868.0351606104086, 3875.9493664330193, 3884.1779721996995, 3892.6163965558717, 3901.177253739842, 3909.8103238511103, 3918.5217163868947, 3927.39253335255, 3936.537354622173, 3946.117755431073, 3956.325991717099, 3967.35130045125, 3979.392703456473, 3992.6554906415113, 4007.340553053192, 4023.675409423812, 4041.9338167644687, 4062.433830175425, 4085.524774195471, 4111.5826335133925, 4140.877593210853, 4173.532387045516, 4209.528498158682, 4248.696560032565, 4290.722620128638, 4335.165803242853, 4381.455513999633, 4428.899160539997, 4476.699162173673, 4523.995530686272, 4570.029651884622, 4614.169834743501, 4655.914114724543, 4694.884604375517, 4730.741211122023, 4762.947856548073, 4790.685277069918, 4812.917934410434, 4828.376021441144, 4835.64453684144, 4833.339857742472, 4820.1653157077535, 4794.970941014768, 4756.783813263002, 4704.805566286093, 4638.422874441354, 4557.15682802002, 4460.695413770212, 4348.893198334479, 4221.803608399023, 4079.930951313758, 3924.2085228437763, 3755.9773112525827, 3576.9158579969303, 3388.9586905172528, 3194.228760855996]}, {\"mode\": \"lines\", \"name\": \"Governo Dilma (12% a.a)\", \"type\": \"scatter\", \"x\": [0, 1, 2, 3, 4, 5, 6, 7, 8, 9, 10, 11, 12, 13, 14, 15, 16, 17, 18, 19, 20, 21, 22, 23, 24, 25, 26, 27, 28, 29, 30, 31, 32, 33, 34, 35, 36, 37, 38, 39, 40, 41, 42, 43, 44, 45, 46, 47, 48, 49, 50, 51, 52, 53, 54, 55, 56, 57, 58, 59, 60, 61, 62, 63, 64, 65, 66, 67, 68, 69, 70, 71, 72, 73, 74, 75, 76, 77, 78, 79, 80, 81, 82, 83, 84, 85], \"y\": [603.9788740166663, 604.5591983415042, 605.0516013603966, 605.5180247249068, 605.9832565119186, 606.4702202553602, 606.9856076299835, 607.5415103528494, 608.1280526547135, 608.7413376408516, 609.3679835514012, 609.9954264791303, 610.6119812190798, 611.2127371246704, 611.7946052194552, 612.3565322648782, 612.9162189623232, 613.495131698453, 614.1350320301178, 614.8834227212833, 615.7937988084861, 616.937576128679, 618.389425705457, 620.2335087758247, 622.5308003856414, 625.3561383650862, 628.7943616350173, 632.9355549728238, 637.7347509503215, 643.1828067824025, 649.248427741469, 655.8940428196534, 663.0709274583802, 670.7194864461836, 678.7801958980302, 687.2064783581761, 695.9787098875452, 705.1196262425024, 714.6744109928544, 724.720496625851, 735.3598801742796, 746.6984010143047, 758.8559639300205, 771.966543215877, 786.1728454303995, 801.6491631227224, 818.6175142688712, 837.3497244668459, 858.1631144397459, 881.4215547635857, 907.4474446188481, 936.4893797421872, 968.7197809821181, 1004.2213668346079, 1042.9836015791175, 1084.9060375290321, 1129.7874330879865, 1177.3213432332675, 1227.0984978178042, 1278.6279342634077, 1331.4489499172569, 1385.1597584830909, 1439.4328046731391, 1494.0254653091356, 1548.7346268675628, 1603.2423633293797, 1657.047156696148, 1709.4946771508623, 1759.7520805228507, 1806.8529533150881, 1849.803299368348, 1887.6154931535652, 1919.3494300962789, 1944.1381547813692, 1961.1944815862446, 1969.8286932431415, 1969.425185286192, 1959.4703589129333, 1939.5582334653236, 1909.414940877635, 1869.0683350158677, 1818.846202784813, 1759.3727986441577, 1691.5320248451326, 1616.4205379514678, 1535.3076833470561]}],\n",
       "                        {\"legend\": {\"font\": {\"color\": \"black\", \"family\": \"arial\", \"size\": 15}, \"orientation\": \"h\", \"x\": 0.1, \"y\": -0.15}, \"template\": {\"data\": {\"bar\": [{\"error_x\": {\"color\": \"#2a3f5f\"}, \"error_y\": {\"color\": \"#2a3f5f\"}, \"marker\": {\"line\": {\"color\": \"#E5ECF6\", \"width\": 0.5}}, \"type\": \"bar\"}], \"barpolar\": [{\"marker\": {\"line\": {\"color\": \"#E5ECF6\", \"width\": 0.5}}, \"type\": \"barpolar\"}], \"carpet\": [{\"aaxis\": {\"endlinecolor\": \"#2a3f5f\", \"gridcolor\": \"white\", \"linecolor\": \"white\", \"minorgridcolor\": \"white\", \"startlinecolor\": \"#2a3f5f\"}, \"baxis\": {\"endlinecolor\": \"#2a3f5f\", \"gridcolor\": \"white\", \"linecolor\": \"white\", \"minorgridcolor\": \"white\", \"startlinecolor\": \"#2a3f5f\"}, \"type\": \"carpet\"}], \"choropleth\": [{\"colorbar\": {\"outlinewidth\": 0, \"ticks\": \"\"}, \"type\": \"choropleth\"}], \"contour\": [{\"colorbar\": {\"outlinewidth\": 0, \"ticks\": \"\"}, \"colorscale\": [[0.0, \"#0d0887\"], [0.1111111111111111, \"#46039f\"], [0.2222222222222222, \"#7201a8\"], [0.3333333333333333, \"#9c179e\"], [0.4444444444444444, \"#bd3786\"], [0.5555555555555556, \"#d8576b\"], [0.6666666666666666, \"#ed7953\"], [0.7777777777777778, \"#fb9f3a\"], [0.8888888888888888, \"#fdca26\"], [1.0, \"#f0f921\"]], \"type\": \"contour\"}], \"contourcarpet\": [{\"colorbar\": {\"outlinewidth\": 0, \"ticks\": \"\"}, \"type\": \"contourcarpet\"}], \"heatmap\": [{\"colorbar\": {\"outlinewidth\": 0, \"ticks\": \"\"}, \"colorscale\": [[0.0, \"#0d0887\"], [0.1111111111111111, \"#46039f\"], [0.2222222222222222, \"#7201a8\"], [0.3333333333333333, \"#9c179e\"], [0.4444444444444444, \"#bd3786\"], [0.5555555555555556, \"#d8576b\"], [0.6666666666666666, \"#ed7953\"], [0.7777777777777778, \"#fb9f3a\"], [0.8888888888888888, \"#fdca26\"], [1.0, \"#f0f921\"]], \"type\": \"heatmap\"}], \"heatmapgl\": [{\"colorbar\": {\"outlinewidth\": 0, \"ticks\": \"\"}, \"colorscale\": [[0.0, \"#0d0887\"], [0.1111111111111111, \"#46039f\"], [0.2222222222222222, \"#7201a8\"], [0.3333333333333333, \"#9c179e\"], [0.4444444444444444, \"#bd3786\"], [0.5555555555555556, \"#d8576b\"], [0.6666666666666666, \"#ed7953\"], [0.7777777777777778, \"#fb9f3a\"], [0.8888888888888888, \"#fdca26\"], [1.0, \"#f0f921\"]], \"type\": \"heatmapgl\"}], \"histogram\": [{\"marker\": {\"colorbar\": {\"outlinewidth\": 0, \"ticks\": \"\"}}, \"type\": \"histogram\"}], \"histogram2d\": [{\"colorbar\": {\"outlinewidth\": 0, \"ticks\": \"\"}, \"colorscale\": [[0.0, \"#0d0887\"], [0.1111111111111111, \"#46039f\"], [0.2222222222222222, \"#7201a8\"], [0.3333333333333333, \"#9c179e\"], [0.4444444444444444, \"#bd3786\"], [0.5555555555555556, \"#d8576b\"], [0.6666666666666666, \"#ed7953\"], [0.7777777777777778, \"#fb9f3a\"], [0.8888888888888888, \"#fdca26\"], [1.0, \"#f0f921\"]], \"type\": \"histogram2d\"}], \"histogram2dcontour\": [{\"colorbar\": {\"outlinewidth\": 0, \"ticks\": \"\"}, \"colorscale\": [[0.0, \"#0d0887\"], [0.1111111111111111, \"#46039f\"], [0.2222222222222222, \"#7201a8\"], [0.3333333333333333, \"#9c179e\"], [0.4444444444444444, \"#bd3786\"], [0.5555555555555556, \"#d8576b\"], [0.6666666666666666, \"#ed7953\"], [0.7777777777777778, \"#fb9f3a\"], [0.8888888888888888, \"#fdca26\"], [1.0, \"#f0f921\"]], \"type\": \"histogram2dcontour\"}], \"mesh3d\": [{\"colorbar\": {\"outlinewidth\": 0, \"ticks\": \"\"}, \"type\": \"mesh3d\"}], \"parcoords\": [{\"line\": {\"colorbar\": {\"outlinewidth\": 0, \"ticks\": \"\"}}, \"type\": \"parcoords\"}], \"pie\": [{\"automargin\": true, \"type\": \"pie\"}], \"scatter\": [{\"marker\": {\"colorbar\": {\"outlinewidth\": 0, \"ticks\": \"\"}}, \"type\": \"scatter\"}], \"scatter3d\": [{\"line\": {\"colorbar\": {\"outlinewidth\": 0, \"ticks\": \"\"}}, \"marker\": {\"colorbar\": {\"outlinewidth\": 0, \"ticks\": \"\"}}, \"type\": \"scatter3d\"}], \"scattercarpet\": [{\"marker\": {\"colorbar\": {\"outlinewidth\": 0, \"ticks\": \"\"}}, \"type\": \"scattercarpet\"}], \"scattergeo\": [{\"marker\": {\"colorbar\": {\"outlinewidth\": 0, \"ticks\": \"\"}}, \"type\": \"scattergeo\"}], \"scattergl\": [{\"marker\": {\"colorbar\": {\"outlinewidth\": 0, \"ticks\": \"\"}}, \"type\": \"scattergl\"}], \"scattermapbox\": [{\"marker\": {\"colorbar\": {\"outlinewidth\": 0, \"ticks\": \"\"}}, \"type\": \"scattermapbox\"}], \"scatterpolar\": [{\"marker\": {\"colorbar\": {\"outlinewidth\": 0, \"ticks\": \"\"}}, \"type\": \"scatterpolar\"}], \"scatterpolargl\": [{\"marker\": {\"colorbar\": {\"outlinewidth\": 0, \"ticks\": \"\"}}, \"type\": \"scatterpolargl\"}], \"scatterternary\": [{\"marker\": {\"colorbar\": {\"outlinewidth\": 0, \"ticks\": \"\"}}, \"type\": \"scatterternary\"}], \"surface\": [{\"colorbar\": {\"outlinewidth\": 0, \"ticks\": \"\"}, \"colorscale\": [[0.0, \"#0d0887\"], [0.1111111111111111, \"#46039f\"], [0.2222222222222222, \"#7201a8\"], [0.3333333333333333, \"#9c179e\"], [0.4444444444444444, \"#bd3786\"], [0.5555555555555556, \"#d8576b\"], [0.6666666666666666, \"#ed7953\"], [0.7777777777777778, \"#fb9f3a\"], [0.8888888888888888, \"#fdca26\"], [1.0, \"#f0f921\"]], \"type\": \"surface\"}], \"table\": [{\"cells\": {\"fill\": {\"color\": \"#EBF0F8\"}, \"line\": {\"color\": \"white\"}}, \"header\": {\"fill\": {\"color\": \"#C8D4E3\"}, \"line\": {\"color\": \"white\"}}, \"type\": \"table\"}]}, \"layout\": {\"annotationdefaults\": {\"arrowcolor\": \"#2a3f5f\", \"arrowhead\": 0, \"arrowwidth\": 1}, \"coloraxis\": {\"colorbar\": {\"outlinewidth\": 0, \"ticks\": \"\"}}, \"colorscale\": {\"diverging\": [[0, \"#8e0152\"], [0.1, \"#c51b7d\"], [0.2, \"#de77ae\"], [0.3, \"#f1b6da\"], [0.4, \"#fde0ef\"], [0.5, \"#f7f7f7\"], [0.6, \"#e6f5d0\"], [0.7, \"#b8e186\"], [0.8, \"#7fbc41\"], [0.9, \"#4d9221\"], [1, \"#276419\"]], \"sequential\": [[0.0, \"#0d0887\"], [0.1111111111111111, \"#46039f\"], [0.2222222222222222, \"#7201a8\"], [0.3333333333333333, \"#9c179e\"], [0.4444444444444444, \"#bd3786\"], [0.5555555555555556, \"#d8576b\"], [0.6666666666666666, \"#ed7953\"], [0.7777777777777778, \"#fb9f3a\"], [0.8888888888888888, \"#fdca26\"], [1.0, \"#f0f921\"]], \"sequentialminus\": [[0.0, \"#0d0887\"], [0.1111111111111111, \"#46039f\"], [0.2222222222222222, \"#7201a8\"], [0.3333333333333333, \"#9c179e\"], [0.4444444444444444, \"#bd3786\"], [0.5555555555555556, \"#d8576b\"], [0.6666666666666666, \"#ed7953\"], [0.7777777777777778, \"#fb9f3a\"], [0.8888888888888888, \"#fdca26\"], [1.0, \"#f0f921\"]]}, \"colorway\": [\"#636efa\", \"#EF553B\", \"#00cc96\", \"#ab63fa\", \"#FFA15A\", \"#19d3f3\", \"#FF6692\", \"#B6E880\", \"#FF97FF\", \"#FECB52\"], \"font\": {\"color\": \"#2a3f5f\"}, \"geo\": {\"bgcolor\": \"white\", \"lakecolor\": \"white\", \"landcolor\": \"#E5ECF6\", \"showlakes\": true, \"showland\": true, \"subunitcolor\": \"white\"}, \"hoverlabel\": {\"align\": \"left\"}, \"hovermode\": \"closest\", \"mapbox\": {\"style\": \"light\"}, \"paper_bgcolor\": \"white\", \"plot_bgcolor\": \"#E5ECF6\", \"polar\": {\"angularaxis\": {\"gridcolor\": \"white\", \"linecolor\": \"white\", \"ticks\": \"\"}, \"bgcolor\": \"#E5ECF6\", \"radialaxis\": {\"gridcolor\": \"white\", \"linecolor\": \"white\", \"ticks\": \"\"}}, \"scene\": {\"xaxis\": {\"backgroundcolor\": \"#E5ECF6\", \"gridcolor\": \"white\", \"gridwidth\": 2, \"linecolor\": \"white\", \"showbackground\": true, \"ticks\": \"\", \"zerolinecolor\": \"white\"}, \"yaxis\": {\"backgroundcolor\": \"#E5ECF6\", \"gridcolor\": \"white\", \"gridwidth\": 2, \"linecolor\": \"white\", \"showbackground\": true, \"ticks\": \"\", \"zerolinecolor\": \"white\"}, \"zaxis\": {\"backgroundcolor\": \"#E5ECF6\", \"gridcolor\": \"white\", \"gridwidth\": 2, \"linecolor\": \"white\", \"showbackground\": true, \"ticks\": \"\", \"zerolinecolor\": \"white\"}}, \"shapedefaults\": {\"line\": {\"color\": \"#2a3f5f\"}}, \"ternary\": {\"aaxis\": {\"gridcolor\": \"white\", \"linecolor\": \"white\", \"ticks\": \"\"}, \"baxis\": {\"gridcolor\": \"white\", \"linecolor\": \"white\", \"ticks\": \"\"}, \"bgcolor\": \"#E5ECF6\", \"caxis\": {\"gridcolor\": \"white\", \"linecolor\": \"white\", \"ticks\": \"\"}}, \"title\": {\"x\": 0.05}, \"xaxis\": {\"automargin\": true, \"gridcolor\": \"white\", \"linecolor\": \"white\", \"ticks\": \"\", \"title\": {\"standoff\": 15}, \"zerolinecolor\": \"white\", \"zerolinewidth\": 2}, \"yaxis\": {\"automargin\": true, \"gridcolor\": \"white\", \"linecolor\": \"white\", \"ticks\": \"\", \"title\": {\"standoff\": 15}, \"zerolinecolor\": \"white\", \"zerolinewidth\": 2}}}, \"title\": {\"text\": \"Dotal Misto. Diferido 10/Pagamento 10/Dura\\u00e7\\u00e3o 20 anos/Valor R$ 100.000,00\", \"x\": 0.45, \"xanchor\": \"center\", \"y\": 0.9, \"yanchor\": \"top\"}, \"xaxis\": {\"tickfont\": {\"size\": 15}, \"title\": {\"text\": \"Idade\"}}, \"yaxis\": {\"tickfont\": {\"size\": 15}, \"title\": {\"text\": \"PNA\"}}},\n",
       "                        {\"responsive\": true}\n",
       "                    ).then(function(){\n",
       "                            \n",
       "var gd = document.getElementById('29ac64c4-c0ad-46d2-bb2d-e41d9d7553d3');\n",
       "var x = new MutationObserver(function (mutations, observer) {{\n",
       "        var display = window.getComputedStyle(gd).display;\n",
       "        if (!display || display === 'none') {{\n",
       "            console.log([gd, 'removed!']);\n",
       "            Plotly.purge(gd);\n",
       "            observer.disconnect();\n",
       "        }}\n",
       "}});\n",
       "\n",
       "// Listen for the removal of the full notebook cells\n",
       "var notebookContainer = gd.closest('#notebook-container');\n",
       "if (notebookContainer) {{\n",
       "    x.observe(notebookContainer, {childList: true});\n",
       "}}\n",
       "\n",
       "// Listen for the clearing of the current output cell\n",
       "var outputEl = gd.closest('.output');\n",
       "if (outputEl) {{\n",
       "    x.observe(outputEl, {childList: true});\n",
       "}}\n",
       "\n",
       "                        })\n",
       "                };\n",
       "                });\n",
       "            </script>\n",
       "        </div>"
      ]
     },
     "metadata": {},
     "output_type": "display_data"
    }
   ],
   "source": [
    "values = []\n",
    "c1 = 0.01 # País desenvolvido\n",
    "c2 = 0.04 #Cenário atual\n",
    "c3 = 0.12 #Governo Dilma\n",
    "desc1 = \"País desenvolvido (1% a.a)\"\n",
    "desc2 = \"Cenário atual (4% a.a)\"\n",
    "desc3 = \"Governo Dilma (12% a.a)\"\n",
    "\n",
    "fig = go.Figure()\n",
    "\n",
    "for i_rate, desc in zip([c1, c2, c3], [desc1, desc2, desc3]):\n",
    "    x_ = []\n",
    "    y_ = []\n",
    "    for age in range(0, 100):\n",
    "        try:\n",
    "            cell = []\n",
    "            b.gen_commutations(i_rate)    \n",
    "            b.calc_premium(age=age, dif_benef=10, \n",
    "                   term_benef=20, dif_pay=0, \n",
    "                   term_pay=10, antecip_pay=False, prod='D')\n",
    "            \n",
    "            \n",
    "            x_.append(age)\n",
    "            y_.append(b.pna*value)\n",
    "        except:\n",
    "            pass\n",
    "        \n",
    "    fig.add_trace(go.Scatter(x=np.array(x_), y=np.array(y_),\n",
    "                              mode='lines',\n",
    "                              name=desc))\n",
    "    title = \"Dotal Misto. Diferido {}/Pagamento {}/Duração {} anos/Valor {}\".format(10, \n",
    "                                                                                    10, 20, \n",
    "                                                                                    real_br_money_mask(value))\n",
    "    fig.update_layout(title={'text':title,\n",
    "                              'y':0.9,\n",
    "                              'x':0.45,\n",
    "                             'xanchor': 'center',\n",
    "                             'yanchor': 'top'},\n",
    "                      xaxis_title='Idade',\n",
    "                      yaxis_title='PNA', \n",
    "                      legend_orientation=\"h\",\n",
    "                      legend=dict(x=0.1, y=-0.15,\n",
    "                                  font=dict(\n",
    "                                  family=\"arial\",\n",
    "                                  size=15,\n",
    "                                  color=\"black\"\n",
    "                      )))\n",
    "    fig.update_xaxes(tickfont = dict(size=15))\n",
    "    fig.update_yaxes(tickfont = dict(size=15))        \n",
    "fig.show()"
   ]
  },
  {
   "cell_type": "code",
   "execution_count": 31,
   "metadata": {},
   "outputs": [
    {
     "data": {
      "application/vnd.plotly.v1+json": {
       "config": {
        "plotlyServerURL": "https://plot.ly"
       },
       "data": [
        {
         "mode": "lines",
         "name": "País desenvolvido (1% a.a)",
         "type": "scatter",
         "x": [
          0,
          1,
          2,
          3,
          4,
          5,
          6,
          7,
          8,
          9,
          10,
          11,
          12,
          13,
          14,
          15,
          16,
          17,
          18,
          19,
          20,
          21,
          22,
          23,
          24,
          25,
          26,
          27,
          28,
          29,
          30,
          31,
          32,
          33,
          34,
          35,
          36,
          37,
          38,
          39,
          40,
          41,
          42,
          43,
          44,
          45,
          46,
          47,
          48,
          49,
          50,
          51,
          52,
          53,
          54,
          55,
          56,
          57,
          58,
          59,
          60,
          61,
          62,
          63,
          64,
          65,
          66,
          67,
          68,
          69,
          70,
          71,
          72,
          73,
          74,
          75,
          76,
          77,
          78,
          79,
          80,
          81,
          82,
          83,
          84,
          85,
          86,
          87,
          88,
          89,
          90,
          91,
          92,
          93,
          94,
          95
         ],
         "y": [
          16967.86288371813,
          16930.608507331424,
          16919.992906785,
          16916.860875037586,
          16915.445255104547,
          16915.129513534,
          16915.766151874646,
          16917.319857312712,
          16919.751790213217,
          16921.80216662971,
          16923.556763729102,
          16925.08123145683,
          16926.43438049882,
          16927.70219074144,
          16928.943194089476,
          16930.237124194606,
          16931.612560737845,
          16933.13249168907,
          16934.774309039938,
          16936.564151480878,
          16938.48664471299,
          16940.516479468333,
          16942.61845857365,
          16944.761906013537,
          16946.900361843273,
          16948.97138255767,
          16950.961858913422,
          16952.849150356484,
          16954.67245473679,
          16956.490995864897,
          16958.380375645665,
          16960.48088254638,
          16962.93641181231,
          16966.001700318917,
          16969.87539666519,
          16974.86141649206,
          16981.352546883263,
          16989.813556413756,
          17000.180291904053,
          17012.56113922669,
          17026.990826458998,
          17043.47770696897,
          17061.95915936363,
          17082.290021908495,
          17104.275942021548,
          17127.720561987484,
          17152.4934691494,
          17178.599794637685,
          17206.111578386142,
          17235.209079542725,
          17266.138721142655,
          17299.10389476908,
          17334.28925887192,
          17371.849808580588,
          17411.878172454934,
          17454.550256295734,
          17500.26069927759,
          17549.69302380801,
          17603.866097166658,
          17664.19795461498,
          17732.161811188806,
          17809.17386175792,
          17896.611197303548,
          17995.780772098246,
          18107.921332813734,
          18234.161868496372,
          18375.393889378367,
          18532.153880876496,
          18704.519380130947,
          18892.113339181204,
          19094.685205137477,
          19312.41020114252,
          19546.13337514312,
          19797.647723593527,
          20069.681153612208,
          20365.193465241002,
          20686.98033759307,
          21037.741813656306,
          21419.8233540733,
          21835.32369631942,
          22286.560749670236,
          22776.20458530309,
          23307.451075705514,
          23884.107043258475,
          24510.527105958998,
          25191.49596436227,
          25931.766089369044,
          26735.852056956675,
          27607.60323596281,
          28549.815760382353,
          29565.45984974872,
          30657.779791861954,
          31830.52108814825,
          33087.96644656404,
          34437.334043210896,
          35892.24834699784
         ]
        },
        {
         "mode": "lines",
         "name": "Cenário atual (4% a.a)",
         "type": "scatter",
         "x": [
          0,
          1,
          2,
          3,
          4,
          5,
          6,
          7,
          8,
          9,
          10,
          11,
          12,
          13,
          14,
          15,
          16,
          17,
          18,
          19,
          20,
          21,
          22,
          23,
          24,
          25,
          26,
          27,
          28,
          29,
          30,
          31,
          32,
          33,
          34,
          35,
          36,
          37,
          38,
          39,
          40,
          41,
          42,
          43,
          44,
          45,
          46,
          47,
          48,
          49,
          50,
          51,
          52,
          53,
          54,
          55,
          56,
          57,
          58,
          59,
          60,
          61,
          62,
          63,
          64,
          65,
          66,
          67,
          68,
          69,
          70,
          71,
          72,
          73,
          74,
          75,
          76,
          77,
          78,
          79,
          80,
          81,
          82,
          83,
          84,
          85,
          86,
          87,
          88,
          89,
          90,
          91,
          92,
          93,
          94,
          95
         ],
         "y": [
          10354.04804365404,
          10314.244798828364,
          10303.252991308951,
          10300.484775725963,
          10299.691262727536,
          10300.132748515543,
          10301.59552543725,
          10304.00447850873,
          10307.298271324134,
          10310.171499863578,
          10312.739535488734,
          10315.089667635226,
          10317.29743925528,
          10319.456705462171,
          10321.626925885335,
          10323.883046098492,
          10326.241242277085,
          10328.74891975582,
          10331.362640438805,
          10334.094715062294,
          10336.917906636,
          10339.804747579716,
          10342.727909610965,
          10345.680111801314,
          10348.653177655582,
          10351.637942954447,
          10354.694093688422,
          10357.885577594756,
          10361.352846737273,
          10365.2589079854,
          10369.787008771296,
          10375.190674808642,
          10381.7296041238,
          10389.742566539251,
          10399.488453956199,
          10411.31178436741,
          10425.625084138526,
          10442.889623223185,
          10462.996052178807,
          10486.001636568782,
          10511.876102342005,
          10540.562484833556,
          10571.94549204635,
          10605.847910725288,
          10642.074745859756,
          10680.46715609182,
          10720.97044799632,
          10763.706388417064,
          10808.902639415606,
          10856.936390364024,
          10908.296917265556,
          10963.478488996454,
          11023.010038999222,
          11087.443614345386,
          11157.318349354793,
          11233.285913689004,
          11316.223344971308,
          11407.283415730477,
          11507.920646318447,
          11619.941304499416,
          11745.136464885454,
          11885.159279871375,
          12041.5390510399,
          12215.645331043359,
          12408.692373853453,
          12621.727049027762,
          12855.528935533772,
          13110.519443574023,
          13386.679274519884,
          13683.558119082973,
          14000.838361320042,
          14338.583090133536,
          14697.44544331425,
          15078.919924192272,
          15485.31672629457,
          15919.052621660532,
          16382.274549776736,
          16876.97269242832,
          17404.74225617313,
          17966.9172983019,
          18565.086103351634,
          19201.23392499002,
          19877.92508347104,
          20598.38662407762,
          21366.437373363915,
          22186.399881290716,
          23062.643466701098,
          23999.393039191844,
          25000.29311314076,
          26067.999642092593,
          27205.471315038554,
          28416.0756979517,
          29703.849230098876,
          31073.56793171662,
          32532.9084003778,
          34095.76194486781
         ]
        },
        {
         "mode": "lines",
         "name": "Governo Dilma (12% a.a)",
         "type": "scatter",
         "x": [
          0,
          1,
          2,
          3,
          4,
          5,
          6,
          7,
          8,
          9,
          10,
          11,
          12,
          13,
          14,
          15,
          16,
          17,
          18,
          19,
          20,
          21,
          22,
          23,
          24,
          25,
          26,
          27,
          28,
          29,
          30,
          31,
          32,
          33,
          34,
          35,
          36,
          37,
          38,
          39,
          40,
          41,
          42,
          43,
          44,
          45,
          46,
          47,
          48,
          49,
          50,
          51,
          52,
          53,
          54,
          55,
          56,
          57,
          58,
          59,
          60,
          61,
          62,
          63,
          64,
          65,
          66,
          67,
          68,
          69,
          70,
          71,
          72,
          73,
          74,
          75,
          76,
          77,
          78,
          79,
          80,
          81,
          82,
          83,
          84,
          85,
          86,
          87,
          88,
          89,
          90,
          91,
          92,
          93,
          94,
          95
         ],
         "y": [
          2995.8622382070644,
          2949.997179135539,
          2937.3713473094926,
          2934.328808970567,
          2933.616808550892,
          2934.3310733094822,
          2936.1927286183573,
          2939.1011819141327,
          2942.9904468159916,
          2946.3762545084073,
          2949.4051802096965,
          2952.18938012056,
          2954.8282721472187,
          2957.4370020263495,
          2960.090198722081,
          2962.875678078479,
          2965.80985863589,
          2968.9411876796685,
          2972.211604675493,
          2975.6210312610533,
          2979.119102559234,
          2982.6546581152093,
          2986.1759570031954,
          2989.658484354902,
          2993.081060431633,
          2996.4261913219307,
          2999.7647822660847,
          3003.182378823082,
          3006.8647858828385,
          3011.0287495578136,
          3015.9241101350544,
          3021.8946830843465,
          3029.3066518205283,
          3038.5917731641234,
          3050.0804072975347,
          3064.1877819205893,
          3081.396652338201,
          3102.2371916301577,
          3126.575341310758,
          3154.457473930183,
          3185.8219183368237,
          3220.572445371805,
          3258.5485058201566,
          3299.5207711955422,
          3343.2430070984356,
          3389.5124796732784,
          3438.241056906481,
          3489.5364939067967,
          3543.621873344549,
          3600.8862901243456,
          3661.851940970525,
          3727.068501824011,
          3797.1638731221337,
          3872.8453633007953,
          3954.8718733687956,
          4044.182018768306,
          4141.998045346586,
          4249.862000820327,
          4369.647205587822,
          4503.603272536534,
          4653.929998880646,
          4822.630653755929,
          5011.520950135705,
          5222.18107821643,
          5455.958864698438,
          5713.988608960453,
          5997.114887140344,
          6305.825441590977,
          6640.190444143255,
          6999.883960438518,
          7384.785457988667,
          7795.201917286662,
          8232.062284302501,
          8697.16047299851,
          9193.107484809832,
          9722.53535942232,
          10287.680005573817,
          10890.52528426096,
          11532.535793096882,
          12214.797297030285,
          12938.585736829415,
          13705.504496870335,
          14517.679732701416,
          15377.847585585168,
          16289.272208111212,
          17255.71818002617,
          18280.997268880874,
          19368.813189758148,
          20522.303292099637,
          21743.574268017048,
          23035.174000878917,
          24400.22086361506,
          25842.746087143125,
          27367.852875777062,
          28983.465647431884,
          30703.36611449737
         ]
        }
       ],
       "layout": {
        "legend": {
         "font": {
          "color": "black",
          "family": "arial",
          "size": 15
         },
         "orientation": "h",
         "x": 0.1,
         "y": -0.15
        },
        "template": {
         "data": {
          "bar": [
           {
            "error_x": {
             "color": "#2a3f5f"
            },
            "error_y": {
             "color": "#2a3f5f"
            },
            "marker": {
             "line": {
              "color": "#E5ECF6",
              "width": 0.5
             }
            },
            "type": "bar"
           }
          ],
          "barpolar": [
           {
            "marker": {
             "line": {
              "color": "#E5ECF6",
              "width": 0.5
             }
            },
            "type": "barpolar"
           }
          ],
          "carpet": [
           {
            "aaxis": {
             "endlinecolor": "#2a3f5f",
             "gridcolor": "white",
             "linecolor": "white",
             "minorgridcolor": "white",
             "startlinecolor": "#2a3f5f"
            },
            "baxis": {
             "endlinecolor": "#2a3f5f",
             "gridcolor": "white",
             "linecolor": "white",
             "minorgridcolor": "white",
             "startlinecolor": "#2a3f5f"
            },
            "type": "carpet"
           }
          ],
          "choropleth": [
           {
            "colorbar": {
             "outlinewidth": 0,
             "ticks": ""
            },
            "type": "choropleth"
           }
          ],
          "contour": [
           {
            "colorbar": {
             "outlinewidth": 0,
             "ticks": ""
            },
            "colorscale": [
             [
              0,
              "#0d0887"
             ],
             [
              0.1111111111111111,
              "#46039f"
             ],
             [
              0.2222222222222222,
              "#7201a8"
             ],
             [
              0.3333333333333333,
              "#9c179e"
             ],
             [
              0.4444444444444444,
              "#bd3786"
             ],
             [
              0.5555555555555556,
              "#d8576b"
             ],
             [
              0.6666666666666666,
              "#ed7953"
             ],
             [
              0.7777777777777778,
              "#fb9f3a"
             ],
             [
              0.8888888888888888,
              "#fdca26"
             ],
             [
              1,
              "#f0f921"
             ]
            ],
            "type": "contour"
           }
          ],
          "contourcarpet": [
           {
            "colorbar": {
             "outlinewidth": 0,
             "ticks": ""
            },
            "type": "contourcarpet"
           }
          ],
          "heatmap": [
           {
            "colorbar": {
             "outlinewidth": 0,
             "ticks": ""
            },
            "colorscale": [
             [
              0,
              "#0d0887"
             ],
             [
              0.1111111111111111,
              "#46039f"
             ],
             [
              0.2222222222222222,
              "#7201a8"
             ],
             [
              0.3333333333333333,
              "#9c179e"
             ],
             [
              0.4444444444444444,
              "#bd3786"
             ],
             [
              0.5555555555555556,
              "#d8576b"
             ],
             [
              0.6666666666666666,
              "#ed7953"
             ],
             [
              0.7777777777777778,
              "#fb9f3a"
             ],
             [
              0.8888888888888888,
              "#fdca26"
             ],
             [
              1,
              "#f0f921"
             ]
            ],
            "type": "heatmap"
           }
          ],
          "heatmapgl": [
           {
            "colorbar": {
             "outlinewidth": 0,
             "ticks": ""
            },
            "colorscale": [
             [
              0,
              "#0d0887"
             ],
             [
              0.1111111111111111,
              "#46039f"
             ],
             [
              0.2222222222222222,
              "#7201a8"
             ],
             [
              0.3333333333333333,
              "#9c179e"
             ],
             [
              0.4444444444444444,
              "#bd3786"
             ],
             [
              0.5555555555555556,
              "#d8576b"
             ],
             [
              0.6666666666666666,
              "#ed7953"
             ],
             [
              0.7777777777777778,
              "#fb9f3a"
             ],
             [
              0.8888888888888888,
              "#fdca26"
             ],
             [
              1,
              "#f0f921"
             ]
            ],
            "type": "heatmapgl"
           }
          ],
          "histogram": [
           {
            "marker": {
             "colorbar": {
              "outlinewidth": 0,
              "ticks": ""
             }
            },
            "type": "histogram"
           }
          ],
          "histogram2d": [
           {
            "colorbar": {
             "outlinewidth": 0,
             "ticks": ""
            },
            "colorscale": [
             [
              0,
              "#0d0887"
             ],
             [
              0.1111111111111111,
              "#46039f"
             ],
             [
              0.2222222222222222,
              "#7201a8"
             ],
             [
              0.3333333333333333,
              "#9c179e"
             ],
             [
              0.4444444444444444,
              "#bd3786"
             ],
             [
              0.5555555555555556,
              "#d8576b"
             ],
             [
              0.6666666666666666,
              "#ed7953"
             ],
             [
              0.7777777777777778,
              "#fb9f3a"
             ],
             [
              0.8888888888888888,
              "#fdca26"
             ],
             [
              1,
              "#f0f921"
             ]
            ],
            "type": "histogram2d"
           }
          ],
          "histogram2dcontour": [
           {
            "colorbar": {
             "outlinewidth": 0,
             "ticks": ""
            },
            "colorscale": [
             [
              0,
              "#0d0887"
             ],
             [
              0.1111111111111111,
              "#46039f"
             ],
             [
              0.2222222222222222,
              "#7201a8"
             ],
             [
              0.3333333333333333,
              "#9c179e"
             ],
             [
              0.4444444444444444,
              "#bd3786"
             ],
             [
              0.5555555555555556,
              "#d8576b"
             ],
             [
              0.6666666666666666,
              "#ed7953"
             ],
             [
              0.7777777777777778,
              "#fb9f3a"
             ],
             [
              0.8888888888888888,
              "#fdca26"
             ],
             [
              1,
              "#f0f921"
             ]
            ],
            "type": "histogram2dcontour"
           }
          ],
          "mesh3d": [
           {
            "colorbar": {
             "outlinewidth": 0,
             "ticks": ""
            },
            "type": "mesh3d"
           }
          ],
          "parcoords": [
           {
            "line": {
             "colorbar": {
              "outlinewidth": 0,
              "ticks": ""
             }
            },
            "type": "parcoords"
           }
          ],
          "pie": [
           {
            "automargin": true,
            "type": "pie"
           }
          ],
          "scatter": [
           {
            "marker": {
             "colorbar": {
              "outlinewidth": 0,
              "ticks": ""
             }
            },
            "type": "scatter"
           }
          ],
          "scatter3d": [
           {
            "line": {
             "colorbar": {
              "outlinewidth": 0,
              "ticks": ""
             }
            },
            "marker": {
             "colorbar": {
              "outlinewidth": 0,
              "ticks": ""
             }
            },
            "type": "scatter3d"
           }
          ],
          "scattercarpet": [
           {
            "marker": {
             "colorbar": {
              "outlinewidth": 0,
              "ticks": ""
             }
            },
            "type": "scattercarpet"
           }
          ],
          "scattergeo": [
           {
            "marker": {
             "colorbar": {
              "outlinewidth": 0,
              "ticks": ""
             }
            },
            "type": "scattergeo"
           }
          ],
          "scattergl": [
           {
            "marker": {
             "colorbar": {
              "outlinewidth": 0,
              "ticks": ""
             }
            },
            "type": "scattergl"
           }
          ],
          "scattermapbox": [
           {
            "marker": {
             "colorbar": {
              "outlinewidth": 0,
              "ticks": ""
             }
            },
            "type": "scattermapbox"
           }
          ],
          "scatterpolar": [
           {
            "marker": {
             "colorbar": {
              "outlinewidth": 0,
              "ticks": ""
             }
            },
            "type": "scatterpolar"
           }
          ],
          "scatterpolargl": [
           {
            "marker": {
             "colorbar": {
              "outlinewidth": 0,
              "ticks": ""
             }
            },
            "type": "scatterpolargl"
           }
          ],
          "scatterternary": [
           {
            "marker": {
             "colorbar": {
              "outlinewidth": 0,
              "ticks": ""
             }
            },
            "type": "scatterternary"
           }
          ],
          "surface": [
           {
            "colorbar": {
             "outlinewidth": 0,
             "ticks": ""
            },
            "colorscale": [
             [
              0,
              "#0d0887"
             ],
             [
              0.1111111111111111,
              "#46039f"
             ],
             [
              0.2222222222222222,
              "#7201a8"
             ],
             [
              0.3333333333333333,
              "#9c179e"
             ],
             [
              0.4444444444444444,
              "#bd3786"
             ],
             [
              0.5555555555555556,
              "#d8576b"
             ],
             [
              0.6666666666666666,
              "#ed7953"
             ],
             [
              0.7777777777777778,
              "#fb9f3a"
             ],
             [
              0.8888888888888888,
              "#fdca26"
             ],
             [
              1,
              "#f0f921"
             ]
            ],
            "type": "surface"
           }
          ],
          "table": [
           {
            "cells": {
             "fill": {
              "color": "#EBF0F8"
             },
             "line": {
              "color": "white"
             }
            },
            "header": {
             "fill": {
              "color": "#C8D4E3"
             },
             "line": {
              "color": "white"
             }
            },
            "type": "table"
           }
          ]
         },
         "layout": {
          "annotationdefaults": {
           "arrowcolor": "#2a3f5f",
           "arrowhead": 0,
           "arrowwidth": 1
          },
          "coloraxis": {
           "colorbar": {
            "outlinewidth": 0,
            "ticks": ""
           }
          },
          "colorscale": {
           "diverging": [
            [
             0,
             "#8e0152"
            ],
            [
             0.1,
             "#c51b7d"
            ],
            [
             0.2,
             "#de77ae"
            ],
            [
             0.3,
             "#f1b6da"
            ],
            [
             0.4,
             "#fde0ef"
            ],
            [
             0.5,
             "#f7f7f7"
            ],
            [
             0.6,
             "#e6f5d0"
            ],
            [
             0.7,
             "#b8e186"
            ],
            [
             0.8,
             "#7fbc41"
            ],
            [
             0.9,
             "#4d9221"
            ],
            [
             1,
             "#276419"
            ]
           ],
           "sequential": [
            [
             0,
             "#0d0887"
            ],
            [
             0.1111111111111111,
             "#46039f"
            ],
            [
             0.2222222222222222,
             "#7201a8"
            ],
            [
             0.3333333333333333,
             "#9c179e"
            ],
            [
             0.4444444444444444,
             "#bd3786"
            ],
            [
             0.5555555555555556,
             "#d8576b"
            ],
            [
             0.6666666666666666,
             "#ed7953"
            ],
            [
             0.7777777777777778,
             "#fb9f3a"
            ],
            [
             0.8888888888888888,
             "#fdca26"
            ],
            [
             1,
             "#f0f921"
            ]
           ],
           "sequentialminus": [
            [
             0,
             "#0d0887"
            ],
            [
             0.1111111111111111,
             "#46039f"
            ],
            [
             0.2222222222222222,
             "#7201a8"
            ],
            [
             0.3333333333333333,
             "#9c179e"
            ],
            [
             0.4444444444444444,
             "#bd3786"
            ],
            [
             0.5555555555555556,
             "#d8576b"
            ],
            [
             0.6666666666666666,
             "#ed7953"
            ],
            [
             0.7777777777777778,
             "#fb9f3a"
            ],
            [
             0.8888888888888888,
             "#fdca26"
            ],
            [
             1,
             "#f0f921"
            ]
           ]
          },
          "colorway": [
           "#636efa",
           "#EF553B",
           "#00cc96",
           "#ab63fa",
           "#FFA15A",
           "#19d3f3",
           "#FF6692",
           "#B6E880",
           "#FF97FF",
           "#FECB52"
          ],
          "font": {
           "color": "#2a3f5f"
          },
          "geo": {
           "bgcolor": "white",
           "lakecolor": "white",
           "landcolor": "#E5ECF6",
           "showlakes": true,
           "showland": true,
           "subunitcolor": "white"
          },
          "hoverlabel": {
           "align": "left"
          },
          "hovermode": "closest",
          "mapbox": {
           "style": "light"
          },
          "paper_bgcolor": "white",
          "plot_bgcolor": "#E5ECF6",
          "polar": {
           "angularaxis": {
            "gridcolor": "white",
            "linecolor": "white",
            "ticks": ""
           },
           "bgcolor": "#E5ECF6",
           "radialaxis": {
            "gridcolor": "white",
            "linecolor": "white",
            "ticks": ""
           }
          },
          "scene": {
           "xaxis": {
            "backgroundcolor": "#E5ECF6",
            "gridcolor": "white",
            "gridwidth": 2,
            "linecolor": "white",
            "showbackground": true,
            "ticks": "",
            "zerolinecolor": "white"
           },
           "yaxis": {
            "backgroundcolor": "#E5ECF6",
            "gridcolor": "white",
            "gridwidth": 2,
            "linecolor": "white",
            "showbackground": true,
            "ticks": "",
            "zerolinecolor": "white"
           },
           "zaxis": {
            "backgroundcolor": "#E5ECF6",
            "gridcolor": "white",
            "gridwidth": 2,
            "linecolor": "white",
            "showbackground": true,
            "ticks": "",
            "zerolinecolor": "white"
           }
          },
          "shapedefaults": {
           "line": {
            "color": "#2a3f5f"
           }
          },
          "ternary": {
           "aaxis": {
            "gridcolor": "white",
            "linecolor": "white",
            "ticks": ""
           },
           "baxis": {
            "gridcolor": "white",
            "linecolor": "white",
            "ticks": ""
           },
           "bgcolor": "#E5ECF6",
           "caxis": {
            "gridcolor": "white",
            "linecolor": "white",
            "ticks": ""
           }
          },
          "title": {
           "x": 0.05
          },
          "xaxis": {
           "automargin": true,
           "gridcolor": "white",
           "linecolor": "white",
           "ticks": "",
           "title": {
            "standoff": 15
           },
           "zerolinecolor": "white",
           "zerolinewidth": 2
          },
          "yaxis": {
           "automargin": true,
           "gridcolor": "white",
           "linecolor": "white",
           "ticks": "",
           "title": {
            "standoff": 15
           },
           "zerolinecolor": "white",
           "zerolinewidth": 2
          }
         }
        },
        "title": {
         "text": "Dotal Misto. Pagamento 5/Duração 20 anos/Valor R$ 100.000,00",
         "x": 0.5,
         "xanchor": "center",
         "y": 0.9,
         "yanchor": "top"
        },
        "xaxis": {
         "tickfont": {
          "size": 15
         },
         "title": {
          "text": "Idade"
         }
        },
        "yaxis": {
         "tickfont": {
          "size": 15
         },
         "title": {
          "text": "PNA"
         }
        }
       }
      },
      "text/html": [
       "<div>\n",
       "        \n",
       "        \n",
       "            <div id=\"82e4a05f-b262-4318-9173-590fdc8322c6\" class=\"plotly-graph-div\" style=\"height:525px; width:100%;\"></div>\n",
       "            <script type=\"text/javascript\">\n",
       "                require([\"plotly\"], function(Plotly) {\n",
       "                    window.PLOTLYENV=window.PLOTLYENV || {};\n",
       "                    \n",
       "                if (document.getElementById(\"82e4a05f-b262-4318-9173-590fdc8322c6\")) {\n",
       "                    Plotly.newPlot(\n",
       "                        '82e4a05f-b262-4318-9173-590fdc8322c6',\n",
       "                        [{\"mode\": \"lines\", \"name\": \"Pa\\u00eds desenvolvido (1% a.a)\", \"type\": \"scatter\", \"x\": [0, 1, 2, 3, 4, 5, 6, 7, 8, 9, 10, 11, 12, 13, 14, 15, 16, 17, 18, 19, 20, 21, 22, 23, 24, 25, 26, 27, 28, 29, 30, 31, 32, 33, 34, 35, 36, 37, 38, 39, 40, 41, 42, 43, 44, 45, 46, 47, 48, 49, 50, 51, 52, 53, 54, 55, 56, 57, 58, 59, 60, 61, 62, 63, 64, 65, 66, 67, 68, 69, 70, 71, 72, 73, 74, 75, 76, 77, 78, 79, 80, 81, 82, 83, 84, 85, 86, 87, 88, 89, 90, 91, 92, 93, 94, 95], \"y\": [16967.86288371813, 16930.608507331424, 16919.992906785, 16916.860875037586, 16915.445255104547, 16915.129513534, 16915.766151874646, 16917.319857312712, 16919.751790213217, 16921.80216662971, 16923.556763729102, 16925.08123145683, 16926.43438049882, 16927.70219074144, 16928.943194089476, 16930.237124194606, 16931.612560737845, 16933.13249168907, 16934.774309039938, 16936.564151480878, 16938.48664471299, 16940.516479468333, 16942.61845857365, 16944.761906013537, 16946.900361843273, 16948.97138255767, 16950.961858913422, 16952.849150356484, 16954.67245473679, 16956.490995864897, 16958.380375645665, 16960.48088254638, 16962.93641181231, 16966.001700318917, 16969.87539666519, 16974.86141649206, 16981.352546883263, 16989.813556413756, 17000.180291904053, 17012.56113922669, 17026.990826458998, 17043.47770696897, 17061.95915936363, 17082.290021908495, 17104.275942021548, 17127.720561987484, 17152.4934691494, 17178.599794637685, 17206.111578386142, 17235.209079542725, 17266.138721142655, 17299.10389476908, 17334.28925887192, 17371.849808580588, 17411.878172454934, 17454.550256295734, 17500.26069927759, 17549.69302380801, 17603.866097166658, 17664.19795461498, 17732.161811188806, 17809.17386175792, 17896.611197303548, 17995.780772098246, 18107.921332813734, 18234.161868496372, 18375.393889378367, 18532.153880876496, 18704.519380130947, 18892.113339181204, 19094.685205137477, 19312.41020114252, 19546.13337514312, 19797.647723593527, 20069.681153612208, 20365.193465241002, 20686.98033759307, 21037.741813656306, 21419.8233540733, 21835.32369631942, 22286.560749670236, 22776.20458530309, 23307.451075705514, 23884.107043258475, 24510.527105958998, 25191.49596436227, 25931.766089369044, 26735.852056956675, 27607.60323596281, 28549.815760382353, 29565.45984974872, 30657.779791861954, 31830.52108814825, 33087.96644656404, 34437.334043210896, 35892.24834699784]}, {\"mode\": \"lines\", \"name\": \"Cen\\u00e1rio atual (4% a.a)\", \"type\": \"scatter\", \"x\": [0, 1, 2, 3, 4, 5, 6, 7, 8, 9, 10, 11, 12, 13, 14, 15, 16, 17, 18, 19, 20, 21, 22, 23, 24, 25, 26, 27, 28, 29, 30, 31, 32, 33, 34, 35, 36, 37, 38, 39, 40, 41, 42, 43, 44, 45, 46, 47, 48, 49, 50, 51, 52, 53, 54, 55, 56, 57, 58, 59, 60, 61, 62, 63, 64, 65, 66, 67, 68, 69, 70, 71, 72, 73, 74, 75, 76, 77, 78, 79, 80, 81, 82, 83, 84, 85, 86, 87, 88, 89, 90, 91, 92, 93, 94, 95], \"y\": [10354.04804365404, 10314.244798828364, 10303.252991308951, 10300.484775725963, 10299.691262727536, 10300.132748515543, 10301.59552543725, 10304.00447850873, 10307.298271324134, 10310.171499863578, 10312.739535488734, 10315.089667635226, 10317.29743925528, 10319.456705462171, 10321.626925885335, 10323.883046098492, 10326.241242277085, 10328.74891975582, 10331.362640438805, 10334.094715062294, 10336.917906636, 10339.804747579716, 10342.727909610965, 10345.680111801314, 10348.653177655582, 10351.637942954447, 10354.694093688422, 10357.885577594756, 10361.352846737273, 10365.2589079854, 10369.787008771296, 10375.190674808642, 10381.7296041238, 10389.742566539251, 10399.488453956199, 10411.31178436741, 10425.625084138526, 10442.889623223185, 10462.996052178807, 10486.001636568782, 10511.876102342005, 10540.562484833556, 10571.94549204635, 10605.847910725288, 10642.074745859756, 10680.46715609182, 10720.97044799632, 10763.706388417064, 10808.902639415606, 10856.936390364024, 10908.296917265556, 10963.478488996454, 11023.010038999222, 11087.443614345386, 11157.318349354793, 11233.285913689004, 11316.223344971308, 11407.283415730477, 11507.920646318447, 11619.941304499416, 11745.136464885454, 11885.159279871375, 12041.5390510399, 12215.645331043359, 12408.692373853453, 12621.727049027762, 12855.528935533772, 13110.519443574023, 13386.679274519884, 13683.558119082973, 14000.838361320042, 14338.583090133536, 14697.44544331425, 15078.919924192272, 15485.31672629457, 15919.052621660532, 16382.274549776736, 16876.97269242832, 17404.74225617313, 17966.9172983019, 18565.086103351634, 19201.23392499002, 19877.92508347104, 20598.38662407762, 21366.437373363915, 22186.399881290716, 23062.643466701098, 23999.393039191844, 25000.29311314076, 26067.999642092593, 27205.471315038554, 28416.0756979517, 29703.849230098876, 31073.56793171662, 32532.9084003778, 34095.76194486781]}, {\"mode\": \"lines\", \"name\": \"Governo Dilma (12% a.a)\", \"type\": \"scatter\", \"x\": [0, 1, 2, 3, 4, 5, 6, 7, 8, 9, 10, 11, 12, 13, 14, 15, 16, 17, 18, 19, 20, 21, 22, 23, 24, 25, 26, 27, 28, 29, 30, 31, 32, 33, 34, 35, 36, 37, 38, 39, 40, 41, 42, 43, 44, 45, 46, 47, 48, 49, 50, 51, 52, 53, 54, 55, 56, 57, 58, 59, 60, 61, 62, 63, 64, 65, 66, 67, 68, 69, 70, 71, 72, 73, 74, 75, 76, 77, 78, 79, 80, 81, 82, 83, 84, 85, 86, 87, 88, 89, 90, 91, 92, 93, 94, 95], \"y\": [2995.8622382070644, 2949.997179135539, 2937.3713473094926, 2934.328808970567, 2933.616808550892, 2934.3310733094822, 2936.1927286183573, 2939.1011819141327, 2942.9904468159916, 2946.3762545084073, 2949.4051802096965, 2952.18938012056, 2954.8282721472187, 2957.4370020263495, 2960.090198722081, 2962.875678078479, 2965.80985863589, 2968.9411876796685, 2972.211604675493, 2975.6210312610533, 2979.119102559234, 2982.6546581152093, 2986.1759570031954, 2989.658484354902, 2993.081060431633, 2996.4261913219307, 2999.7647822660847, 3003.182378823082, 3006.8647858828385, 3011.0287495578136, 3015.9241101350544, 3021.8946830843465, 3029.3066518205283, 3038.5917731641234, 3050.0804072975347, 3064.1877819205893, 3081.396652338201, 3102.2371916301577, 3126.575341310758, 3154.457473930183, 3185.8219183368237, 3220.572445371805, 3258.5485058201566, 3299.5207711955422, 3343.2430070984356, 3389.5124796732784, 3438.241056906481, 3489.5364939067967, 3543.621873344549, 3600.8862901243456, 3661.851940970525, 3727.068501824011, 3797.1638731221337, 3872.8453633007953, 3954.8718733687956, 4044.182018768306, 4141.998045346586, 4249.862000820327, 4369.647205587822, 4503.603272536534, 4653.929998880646, 4822.630653755929, 5011.520950135705, 5222.18107821643, 5455.958864698438, 5713.988608960453, 5997.114887140344, 6305.825441590977, 6640.190444143255, 6999.883960438518, 7384.785457988667, 7795.201917286662, 8232.062284302501, 8697.16047299851, 9193.107484809832, 9722.53535942232, 10287.680005573817, 10890.52528426096, 11532.535793096882, 12214.797297030285, 12938.585736829415, 13705.504496870335, 14517.679732701416, 15377.847585585168, 16289.272208111212, 17255.71818002617, 18280.997268880874, 19368.813189758148, 20522.303292099637, 21743.574268017048, 23035.174000878917, 24400.22086361506, 25842.746087143125, 27367.852875777062, 28983.465647431884, 30703.36611449737]}],\n",
       "                        {\"legend\": {\"font\": {\"color\": \"black\", \"family\": \"arial\", \"size\": 15}, \"orientation\": \"h\", \"x\": 0.1, \"y\": -0.15}, \"template\": {\"data\": {\"bar\": [{\"error_x\": {\"color\": \"#2a3f5f\"}, \"error_y\": {\"color\": \"#2a3f5f\"}, \"marker\": {\"line\": {\"color\": \"#E5ECF6\", \"width\": 0.5}}, \"type\": \"bar\"}], \"barpolar\": [{\"marker\": {\"line\": {\"color\": \"#E5ECF6\", \"width\": 0.5}}, \"type\": \"barpolar\"}], \"carpet\": [{\"aaxis\": {\"endlinecolor\": \"#2a3f5f\", \"gridcolor\": \"white\", \"linecolor\": \"white\", \"minorgridcolor\": \"white\", \"startlinecolor\": \"#2a3f5f\"}, \"baxis\": {\"endlinecolor\": \"#2a3f5f\", \"gridcolor\": \"white\", \"linecolor\": \"white\", \"minorgridcolor\": \"white\", \"startlinecolor\": \"#2a3f5f\"}, \"type\": \"carpet\"}], \"choropleth\": [{\"colorbar\": {\"outlinewidth\": 0, \"ticks\": \"\"}, \"type\": \"choropleth\"}], \"contour\": [{\"colorbar\": {\"outlinewidth\": 0, \"ticks\": \"\"}, \"colorscale\": [[0.0, \"#0d0887\"], [0.1111111111111111, \"#46039f\"], [0.2222222222222222, \"#7201a8\"], [0.3333333333333333, \"#9c179e\"], [0.4444444444444444, \"#bd3786\"], [0.5555555555555556, \"#d8576b\"], [0.6666666666666666, \"#ed7953\"], [0.7777777777777778, \"#fb9f3a\"], [0.8888888888888888, \"#fdca26\"], [1.0, \"#f0f921\"]], \"type\": \"contour\"}], \"contourcarpet\": [{\"colorbar\": {\"outlinewidth\": 0, \"ticks\": \"\"}, \"type\": \"contourcarpet\"}], \"heatmap\": [{\"colorbar\": {\"outlinewidth\": 0, \"ticks\": \"\"}, \"colorscale\": [[0.0, \"#0d0887\"], [0.1111111111111111, \"#46039f\"], [0.2222222222222222, \"#7201a8\"], [0.3333333333333333, \"#9c179e\"], [0.4444444444444444, \"#bd3786\"], [0.5555555555555556, \"#d8576b\"], [0.6666666666666666, \"#ed7953\"], [0.7777777777777778, \"#fb9f3a\"], [0.8888888888888888, \"#fdca26\"], [1.0, \"#f0f921\"]], \"type\": \"heatmap\"}], \"heatmapgl\": [{\"colorbar\": {\"outlinewidth\": 0, \"ticks\": \"\"}, \"colorscale\": [[0.0, \"#0d0887\"], [0.1111111111111111, \"#46039f\"], [0.2222222222222222, \"#7201a8\"], [0.3333333333333333, \"#9c179e\"], [0.4444444444444444, \"#bd3786\"], [0.5555555555555556, \"#d8576b\"], [0.6666666666666666, \"#ed7953\"], [0.7777777777777778, \"#fb9f3a\"], [0.8888888888888888, \"#fdca26\"], [1.0, \"#f0f921\"]], \"type\": \"heatmapgl\"}], \"histogram\": [{\"marker\": {\"colorbar\": {\"outlinewidth\": 0, \"ticks\": \"\"}}, \"type\": \"histogram\"}], \"histogram2d\": [{\"colorbar\": {\"outlinewidth\": 0, \"ticks\": \"\"}, \"colorscale\": [[0.0, \"#0d0887\"], [0.1111111111111111, \"#46039f\"], [0.2222222222222222, \"#7201a8\"], [0.3333333333333333, \"#9c179e\"], [0.4444444444444444, \"#bd3786\"], [0.5555555555555556, \"#d8576b\"], [0.6666666666666666, \"#ed7953\"], [0.7777777777777778, \"#fb9f3a\"], [0.8888888888888888, \"#fdca26\"], [1.0, \"#f0f921\"]], \"type\": \"histogram2d\"}], \"histogram2dcontour\": [{\"colorbar\": {\"outlinewidth\": 0, \"ticks\": \"\"}, \"colorscale\": [[0.0, \"#0d0887\"], [0.1111111111111111, \"#46039f\"], [0.2222222222222222, \"#7201a8\"], [0.3333333333333333, \"#9c179e\"], [0.4444444444444444, \"#bd3786\"], [0.5555555555555556, \"#d8576b\"], [0.6666666666666666, \"#ed7953\"], [0.7777777777777778, \"#fb9f3a\"], [0.8888888888888888, \"#fdca26\"], [1.0, \"#f0f921\"]], \"type\": \"histogram2dcontour\"}], \"mesh3d\": [{\"colorbar\": {\"outlinewidth\": 0, \"ticks\": \"\"}, \"type\": \"mesh3d\"}], \"parcoords\": [{\"line\": {\"colorbar\": {\"outlinewidth\": 0, \"ticks\": \"\"}}, \"type\": \"parcoords\"}], \"pie\": [{\"automargin\": true, \"type\": \"pie\"}], \"scatter\": [{\"marker\": {\"colorbar\": {\"outlinewidth\": 0, \"ticks\": \"\"}}, \"type\": \"scatter\"}], \"scatter3d\": [{\"line\": {\"colorbar\": {\"outlinewidth\": 0, \"ticks\": \"\"}}, \"marker\": {\"colorbar\": {\"outlinewidth\": 0, \"ticks\": \"\"}}, \"type\": \"scatter3d\"}], \"scattercarpet\": [{\"marker\": {\"colorbar\": {\"outlinewidth\": 0, \"ticks\": \"\"}}, \"type\": \"scattercarpet\"}], \"scattergeo\": [{\"marker\": {\"colorbar\": {\"outlinewidth\": 0, \"ticks\": \"\"}}, \"type\": \"scattergeo\"}], \"scattergl\": [{\"marker\": {\"colorbar\": {\"outlinewidth\": 0, \"ticks\": \"\"}}, \"type\": \"scattergl\"}], \"scattermapbox\": [{\"marker\": {\"colorbar\": {\"outlinewidth\": 0, \"ticks\": \"\"}}, \"type\": \"scattermapbox\"}], \"scatterpolar\": [{\"marker\": {\"colorbar\": {\"outlinewidth\": 0, \"ticks\": \"\"}}, \"type\": \"scatterpolar\"}], \"scatterpolargl\": [{\"marker\": {\"colorbar\": {\"outlinewidth\": 0, \"ticks\": \"\"}}, \"type\": \"scatterpolargl\"}], \"scatterternary\": [{\"marker\": {\"colorbar\": {\"outlinewidth\": 0, \"ticks\": \"\"}}, \"type\": \"scatterternary\"}], \"surface\": [{\"colorbar\": {\"outlinewidth\": 0, \"ticks\": \"\"}, \"colorscale\": [[0.0, \"#0d0887\"], [0.1111111111111111, \"#46039f\"], [0.2222222222222222, \"#7201a8\"], [0.3333333333333333, \"#9c179e\"], [0.4444444444444444, \"#bd3786\"], [0.5555555555555556, \"#d8576b\"], [0.6666666666666666, \"#ed7953\"], [0.7777777777777778, \"#fb9f3a\"], [0.8888888888888888, \"#fdca26\"], [1.0, \"#f0f921\"]], \"type\": \"surface\"}], \"table\": [{\"cells\": {\"fill\": {\"color\": \"#EBF0F8\"}, \"line\": {\"color\": \"white\"}}, \"header\": {\"fill\": {\"color\": \"#C8D4E3\"}, \"line\": {\"color\": \"white\"}}, \"type\": \"table\"}]}, \"layout\": {\"annotationdefaults\": {\"arrowcolor\": \"#2a3f5f\", \"arrowhead\": 0, \"arrowwidth\": 1}, \"coloraxis\": {\"colorbar\": {\"outlinewidth\": 0, \"ticks\": \"\"}}, \"colorscale\": {\"diverging\": [[0, \"#8e0152\"], [0.1, \"#c51b7d\"], [0.2, \"#de77ae\"], [0.3, \"#f1b6da\"], [0.4, \"#fde0ef\"], [0.5, \"#f7f7f7\"], [0.6, \"#e6f5d0\"], [0.7, \"#b8e186\"], [0.8, \"#7fbc41\"], [0.9, \"#4d9221\"], [1, \"#276419\"]], \"sequential\": [[0.0, \"#0d0887\"], [0.1111111111111111, \"#46039f\"], [0.2222222222222222, \"#7201a8\"], [0.3333333333333333, \"#9c179e\"], [0.4444444444444444, \"#bd3786\"], [0.5555555555555556, \"#d8576b\"], [0.6666666666666666, \"#ed7953\"], [0.7777777777777778, \"#fb9f3a\"], [0.8888888888888888, \"#fdca26\"], [1.0, \"#f0f921\"]], \"sequentialminus\": [[0.0, \"#0d0887\"], [0.1111111111111111, \"#46039f\"], [0.2222222222222222, \"#7201a8\"], [0.3333333333333333, \"#9c179e\"], [0.4444444444444444, \"#bd3786\"], [0.5555555555555556, \"#d8576b\"], [0.6666666666666666, \"#ed7953\"], [0.7777777777777778, \"#fb9f3a\"], [0.8888888888888888, \"#fdca26\"], [1.0, \"#f0f921\"]]}, \"colorway\": [\"#636efa\", \"#EF553B\", \"#00cc96\", \"#ab63fa\", \"#FFA15A\", \"#19d3f3\", \"#FF6692\", \"#B6E880\", \"#FF97FF\", \"#FECB52\"], \"font\": {\"color\": \"#2a3f5f\"}, \"geo\": {\"bgcolor\": \"white\", \"lakecolor\": \"white\", \"landcolor\": \"#E5ECF6\", \"showlakes\": true, \"showland\": true, \"subunitcolor\": \"white\"}, \"hoverlabel\": {\"align\": \"left\"}, \"hovermode\": \"closest\", \"mapbox\": {\"style\": \"light\"}, \"paper_bgcolor\": \"white\", \"plot_bgcolor\": \"#E5ECF6\", \"polar\": {\"angularaxis\": {\"gridcolor\": \"white\", \"linecolor\": \"white\", \"ticks\": \"\"}, \"bgcolor\": \"#E5ECF6\", \"radialaxis\": {\"gridcolor\": \"white\", \"linecolor\": \"white\", \"ticks\": \"\"}}, \"scene\": {\"xaxis\": {\"backgroundcolor\": \"#E5ECF6\", \"gridcolor\": \"white\", \"gridwidth\": 2, \"linecolor\": \"white\", \"showbackground\": true, \"ticks\": \"\", \"zerolinecolor\": \"white\"}, \"yaxis\": {\"backgroundcolor\": \"#E5ECF6\", \"gridcolor\": \"white\", \"gridwidth\": 2, \"linecolor\": \"white\", \"showbackground\": true, \"ticks\": \"\", \"zerolinecolor\": \"white\"}, \"zaxis\": {\"backgroundcolor\": \"#E5ECF6\", \"gridcolor\": \"white\", \"gridwidth\": 2, \"linecolor\": \"white\", \"showbackground\": true, \"ticks\": \"\", \"zerolinecolor\": \"white\"}}, \"shapedefaults\": {\"line\": {\"color\": \"#2a3f5f\"}}, \"ternary\": {\"aaxis\": {\"gridcolor\": \"white\", \"linecolor\": \"white\", \"ticks\": \"\"}, \"baxis\": {\"gridcolor\": \"white\", \"linecolor\": \"white\", \"ticks\": \"\"}, \"bgcolor\": \"#E5ECF6\", \"caxis\": {\"gridcolor\": \"white\", \"linecolor\": \"white\", \"ticks\": \"\"}}, \"title\": {\"x\": 0.05}, \"xaxis\": {\"automargin\": true, \"gridcolor\": \"white\", \"linecolor\": \"white\", \"ticks\": \"\", \"title\": {\"standoff\": 15}, \"zerolinecolor\": \"white\", \"zerolinewidth\": 2}, \"yaxis\": {\"automargin\": true, \"gridcolor\": \"white\", \"linecolor\": \"white\", \"ticks\": \"\", \"title\": {\"standoff\": 15}, \"zerolinecolor\": \"white\", \"zerolinewidth\": 2}}}, \"title\": {\"text\": \"Dotal Misto. Pagamento 5/Dura\\u00e7\\u00e3o 20 anos/Valor R$ 100.000,00\", \"x\": 0.5, \"xanchor\": \"center\", \"y\": 0.9, \"yanchor\": \"top\"}, \"xaxis\": {\"tickfont\": {\"size\": 15}, \"title\": {\"text\": \"Idade\"}}, \"yaxis\": {\"tickfont\": {\"size\": 15}, \"title\": {\"text\": \"PNA\"}}},\n",
       "                        {\"responsive\": true}\n",
       "                    ).then(function(){\n",
       "                            \n",
       "var gd = document.getElementById('82e4a05f-b262-4318-9173-590fdc8322c6');\n",
       "var x = new MutationObserver(function (mutations, observer) {{\n",
       "        var display = window.getComputedStyle(gd).display;\n",
       "        if (!display || display === 'none') {{\n",
       "            console.log([gd, 'removed!']);\n",
       "            Plotly.purge(gd);\n",
       "            observer.disconnect();\n",
       "        }}\n",
       "}});\n",
       "\n",
       "// Listen for the removal of the full notebook cells\n",
       "var notebookContainer = gd.closest('#notebook-container');\n",
       "if (notebookContainer) {{\n",
       "    x.observe(notebookContainer, {childList: true});\n",
       "}}\n",
       "\n",
       "// Listen for the clearing of the current output cell\n",
       "var outputEl = gd.closest('.output');\n",
       "if (outputEl) {{\n",
       "    x.observe(outputEl, {childList: true});\n",
       "}}\n",
       "\n",
       "                        })\n",
       "                };\n",
       "                });\n",
       "            </script>\n",
       "        </div>"
      ]
     },
     "metadata": {},
     "output_type": "display_data"
    }
   ],
   "source": [
    "values = []\n",
    "c1 = 0.01 # País desenvolvido\n",
    "c2 = 0.04 #Cenário atual\n",
    "c3 = 0.12 #Governo Dilma\n",
    "desc1 = \"País desenvolvido (1% a.a)\"\n",
    "desc2 = \"Cenário atual (4% a.a)\"\n",
    "desc3 = \"Governo Dilma (12% a.a)\"\n",
    "\n",
    "fig = go.Figure()\n",
    "\n",
    "for i_rate, desc in zip([c1, c2, c3], [desc1, desc2, desc3]):\n",
    "    x_ = []\n",
    "    y_ = []\n",
    "    for age in range(0, 100):\n",
    "        try:\n",
    "            cell = []\n",
    "            b.gen_commutations(i_rate)    \n",
    "            b.calc_premium(age=age, dif_benef=0, \n",
    "                   term_benef=20, dif_pay=0, \n",
    "                   term_pay=5, antecip_pay=False, prod='D')\n",
    "            \n",
    "            \n",
    "            x_.append(age)\n",
    "            y_.append(b.pna*value)\n",
    "        except:\n",
    "            pass\n",
    "        \n",
    "    fig.add_trace(go.Scatter(x=np.array(x_), y=np.array(y_),\n",
    "                              mode='lines',\n",
    "                              name=desc))\n",
    "    title = \"Dotal Misto. Pagamento {}/Duração {} anos/Valor {}\".format( \n",
    "                                                                                    5, 20, \n",
    "                                                                                    real_br_money_mask(value))\n",
    "    fig.update_layout(title={'text':title,\n",
    "                              'y':0.9,\n",
    "                              'x':0.5,\n",
    "                             'xanchor': 'center',\n",
    "                             'yanchor': 'top'},\n",
    "                      xaxis_title='Idade',\n",
    "                      yaxis_title='PNA', \n",
    "                      legend_orientation=\"h\",\n",
    "                      legend=dict(x=0.1, y=-0.15,\n",
    "                                  font=dict(\n",
    "                                  family=\"arial\",\n",
    "                                  size=15,\n",
    "                                  color=\"black\"\n",
    "                      )))\n",
    "    fig.update_xaxes(tickfont = dict(size=15))\n",
    "    fig.update_yaxes(tickfont = dict(size=15)) \n",
    "            \n",
    "fig.show()"
   ]
  },
  {
   "cell_type": "code",
   "execution_count": 40,
   "metadata": {},
   "outputs": [
    {
     "data": {
      "application/vnd.plotly.v1+json": {
       "config": {
        "plotlyServerURL": "https://plot.ly"
       },
       "data": [
        {
         "mode": "lines",
         "name": "Dotal Puro",
         "type": "scatter",
         "x": [
          0,
          1,
          2,
          3,
          4,
          5,
          6,
          7,
          8,
          9,
          10,
          11,
          12,
          13,
          14,
          15,
          16,
          17,
          18,
          19,
          20,
          21,
          22,
          23,
          24,
          25,
          26,
          27,
          28,
          29,
          30,
          31,
          32,
          33,
          34,
          35,
          36,
          37,
          38,
          39,
          40,
          41,
          42,
          43,
          44,
          45,
          46,
          47,
          48,
          49,
          50,
          51,
          52,
          53,
          54,
          55,
          56,
          57,
          58,
          59,
          60,
          61,
          62,
          63,
          64,
          65,
          66,
          67,
          68,
          69,
          70,
          71,
          72,
          73,
          74,
          75,
          76,
          77,
          78,
          79,
          80,
          81,
          82,
          83,
          84,
          85
         ],
         "y": [
          3752.142748174106,
          3750.8128252286133,
          3749.2385913819844,
          3747.621891502188,
          3746.0064066303917,
          3744.4196379037826,
          3742.881825308351,
          3741.4053201278384,
          3739.9030326166644,
          3738.288744542336,
          3736.46558435013,
          3734.336544332906,
          3731.8004811381256,
          3728.7520294479145,
          3725.0883927858436,
          3720.7170209370865,
          3715.5609543116225,
          3709.566792510616,
          3702.6870884970253,
          3694.8849529626045,
          3686.125703990437,
          3676.361487136705,
          3665.5391006418454,
          3653.600568718563,
          3640.4814634938243,
          3626.125480322907,
          3610.4930920858187,
          3593.558128712824,
          3575.3095418744592,
          3555.7459123441595,
          3534.8162819997788,
          3512.4055434777333,
          3488.340889569462,
          3462.3920091506848,
          3434.2757508080113,
          3403.667122007033,
          3370.1995101005314,
          3333.468409652065,
          3293.0305045484192,
          3248.4271427485023,
          3199.259728033987,
          3145.208123338624,
          3086.0372932325436,
          3021.599885794989,
          2951.8055202867963,
          2876.531046163262,
          2795.5970401810546,
          2708.8101348148275,
          2615.971523240539,
          2516.9283422413387,
          2411.6504565157934,
          2300.256690099886,
          2183.039456527225,
          2060.4740223652916,
          1933.213471240058,
          1802.0904882920581,
          1668.0967665401815,
          1532.379402248152,
          1396.217682692994,
          1260.99683742314,
          1128.2146048583134,
          999.4005125488229,
          876.0366787913171,
          759.4753147654942,
          650.8695304219237,
          551.1248059417716,
          460.8625353258555,
          380.41285072982674,
          309.81513673480714,
          248.69113017768865,
          196.42782381240198,
          152.30308172076644,
          115.56594735499303,
          85.47726052170306,
          61.32357238202089,
          42.41363079487964,
          28.067000285778764,
          17.603601401661006,
          10.34071251448155,
          5.602616297088455,
          2.7436085388130786,
          1.1809679101502268,
          0.4290559608215773,
          0.12336920173501052,
          0.024959384457924064,
          0.0026650892896257165
         ]
        },
        {
         "mode": "lines",
         "name": "Seguro de Vida",
         "type": "scatter",
         "x": [
          0,
          1,
          2,
          3,
          4,
          5,
          6,
          7,
          8,
          9,
          10,
          11,
          12,
          13,
          14,
          15,
          16,
          17,
          18,
          19,
          20,
          21,
          22,
          23,
          24,
          25,
          26,
          27,
          28,
          29,
          30,
          31,
          32,
          33,
          34,
          35,
          36,
          37,
          38,
          39,
          40,
          41,
          42,
          43,
          44,
          45,
          46,
          47,
          48,
          49,
          50,
          51,
          52,
          53,
          54,
          55,
          56,
          57,
          58,
          59,
          60,
          61,
          62,
          63,
          64,
          65,
          66,
          67,
          68,
          69,
          70,
          71,
          72,
          73,
          74,
          75,
          76,
          77,
          78,
          79,
          80,
          81,
          82,
          83,
          84,
          85
         ],
         "y": [
          60.60526383745794,
          62.75533385758769,
          64.81471968740219,
          66.80568904056489,
          68.75509419481615,
          70.68679915260019,
          72.60056565352234,
          74.50814942854694,
          76.48580229979392,
          78.6026006403239,
          80.92866893246517,
          83.54056685554984,
          86.52521835541786,
          89.98853917039541,
          94.04027073609097,
          98.78654670074775,
          104.3470600779752,
          110.82317206428218,
          118.33688937907213,
          127.0030045396035,
          136.93615717482848,
          148.28208962919356,
          161.1863343860689,
          175.80229460995272,
          192.24520901562025,
          210.63383028034752,
          231.0749676992063,
          253.6584393247297,
          278.2567885047327,
          304.79435287590906,
          333.21887861062993,
          363.5438229552861,
          395.8370826302377,
          430.22438740518794,
          466.90150293183075,
          506.1432018440768,
          548.3222062863636,
          593.9241237004844,
          643.5068500737538,
          697.6906126825702,
          757.0662636831131,
          822.143177112626,
          893.3554102239306,
          971.0556048465232,
          1055.5350327663957,
          1147.1443632605499,
          1246.3367765834143,
          1353.6236953605978,
          1469.553250954932,
          1594.6542912720531,
          1729.2271366950597,
          1873.2756969456293,
          2026.4890416314568,
          2188.2225376672727,
          2357.509148888579,
          2533.075314950795,
          2713.3587474594515,
          2896.519758291845,
          3080.4814794806784,
          3262.9986932631327,
          3441.8150470263085,
          3614.7693221946784,
          3779.877435933226,
          3935.4092896100224,
          4079.8716807000988,
          4211.823050606302,
          4329.822741744062,
          4432.505083680608,
          4518.560884706338,
          4586.9534066637525,
          4636.912033930071,
          4667.862233986985,
          4679.404993659776,
          4671.3065527413,
          4643.481993904073,
          4596.009243646474,
          4529.089827734241,
          4443.0918123685515,
          4338.552485819998,
          4216.2009921019335,
          4077.1873427749447,
          3923.0275549336266,
          3755.548255291761,
          3576.792488795195,
          3388.933731132795,
          3194.2260957667063
         ]
        },
        {
         "mode": "lines",
         "name": "Dotal Misto",
         "type": "scatter",
         "x": [
          0,
          1,
          2,
          3,
          4,
          5,
          6,
          7,
          8,
          9,
          10,
          11,
          12,
          13,
          14,
          15,
          16,
          17,
          18,
          19,
          20,
          21,
          22,
          23,
          24,
          25,
          26,
          27,
          28,
          29,
          30,
          31,
          32,
          33,
          34,
          35,
          36,
          37,
          38,
          39,
          40,
          41,
          42,
          43,
          44,
          45,
          46,
          47,
          48,
          49,
          50,
          51,
          52,
          53,
          54,
          55,
          56,
          57,
          58,
          59,
          60,
          61,
          62,
          63,
          64,
          65,
          66,
          67,
          68,
          69,
          70,
          71,
          72,
          73,
          74,
          75,
          76,
          77,
          78,
          79,
          80,
          81,
          82,
          83,
          84,
          85
         ],
         "y": [
          3812.7480120115647,
          3813.5681590862005,
          3814.053311069387,
          3814.4275805427524,
          3814.7615008252073,
          3815.1064370563836,
          3815.482390961874,
          3815.9134695563853,
          3816.388834916458,
          3816.89134518266,
          3817.3942532825954,
          3817.8771111884566,
          3818.325699493543,
          3818.7405686183106,
          3819.128663521935,
          3819.5035676378343,
          3819.908014389598,
          3820.389964574898,
          3821.0239778760974,
          3821.887957502207,
          3823.061861165266,
          3824.643576765898,
          3826.725435027914,
          3829.4028633285157,
          3832.726672509445,
          3836.759310603255,
          3841.568059785025,
          3847.2165680375538,
          3853.5663303791926,
          3860.5402652200687,
          3868.0351606104086,
          3875.9493664330193,
          3884.1779721996995,
          3892.6163965558717,
          3901.177253739842,
          3909.8103238511103,
          3918.5217163868947,
          3927.39253335255,
          3936.537354622173,
          3946.117755431073,
          3956.325991717099,
          3967.35130045125,
          3979.392703456473,
          3992.6554906415113,
          4007.340553053192,
          4023.675409423812,
          4041.9338167644687,
          4062.433830175425,
          4085.524774195471,
          4111.5826335133925,
          4140.877593210853,
          4173.532387045516,
          4209.528498158682,
          4248.696560032565,
          4290.722620128638,
          4335.165803242853,
          4381.455513999633,
          4428.899160539997,
          4476.699162173673,
          4523.995530686272,
          4570.029651884622,
          4614.169834743501,
          4655.914114724543,
          4694.884604375517,
          4730.741211122023,
          4762.947856548073,
          4790.685277069918,
          4812.917934410434,
          4828.376021441144,
          4835.64453684144,
          4833.339857742472,
          4820.1653157077535,
          4794.970941014768,
          4756.783813263002,
          4704.805566286093,
          4638.422874441354,
          4557.15682802002,
          4460.695413770212,
          4348.893198334479,
          4221.803608399023,
          4079.930951313758,
          3924.2085228437763,
          3755.9773112525827,
          3576.9158579969303,
          3388.9586905172528,
          3194.228760855996
         ]
        }
       ],
       "layout": {
        "legend": {
         "font": {
          "color": "black",
          "family": "arial",
          "size": 15
         },
         "orientation": "h",
         "x": 0.25,
         "y": -0.15
        },
        "template": {
         "data": {
          "bar": [
           {
            "error_x": {
             "color": "#2a3f5f"
            },
            "error_y": {
             "color": "#2a3f5f"
            },
            "marker": {
             "line": {
              "color": "#E5ECF6",
              "width": 0.5
             }
            },
            "type": "bar"
           }
          ],
          "barpolar": [
           {
            "marker": {
             "line": {
              "color": "#E5ECF6",
              "width": 0.5
             }
            },
            "type": "barpolar"
           }
          ],
          "carpet": [
           {
            "aaxis": {
             "endlinecolor": "#2a3f5f",
             "gridcolor": "white",
             "linecolor": "white",
             "minorgridcolor": "white",
             "startlinecolor": "#2a3f5f"
            },
            "baxis": {
             "endlinecolor": "#2a3f5f",
             "gridcolor": "white",
             "linecolor": "white",
             "minorgridcolor": "white",
             "startlinecolor": "#2a3f5f"
            },
            "type": "carpet"
           }
          ],
          "choropleth": [
           {
            "colorbar": {
             "outlinewidth": 0,
             "ticks": ""
            },
            "type": "choropleth"
           }
          ],
          "contour": [
           {
            "colorbar": {
             "outlinewidth": 0,
             "ticks": ""
            },
            "colorscale": [
             [
              0,
              "#0d0887"
             ],
             [
              0.1111111111111111,
              "#46039f"
             ],
             [
              0.2222222222222222,
              "#7201a8"
             ],
             [
              0.3333333333333333,
              "#9c179e"
             ],
             [
              0.4444444444444444,
              "#bd3786"
             ],
             [
              0.5555555555555556,
              "#d8576b"
             ],
             [
              0.6666666666666666,
              "#ed7953"
             ],
             [
              0.7777777777777778,
              "#fb9f3a"
             ],
             [
              0.8888888888888888,
              "#fdca26"
             ],
             [
              1,
              "#f0f921"
             ]
            ],
            "type": "contour"
           }
          ],
          "contourcarpet": [
           {
            "colorbar": {
             "outlinewidth": 0,
             "ticks": ""
            },
            "type": "contourcarpet"
           }
          ],
          "heatmap": [
           {
            "colorbar": {
             "outlinewidth": 0,
             "ticks": ""
            },
            "colorscale": [
             [
              0,
              "#0d0887"
             ],
             [
              0.1111111111111111,
              "#46039f"
             ],
             [
              0.2222222222222222,
              "#7201a8"
             ],
             [
              0.3333333333333333,
              "#9c179e"
             ],
             [
              0.4444444444444444,
              "#bd3786"
             ],
             [
              0.5555555555555556,
              "#d8576b"
             ],
             [
              0.6666666666666666,
              "#ed7953"
             ],
             [
              0.7777777777777778,
              "#fb9f3a"
             ],
             [
              0.8888888888888888,
              "#fdca26"
             ],
             [
              1,
              "#f0f921"
             ]
            ],
            "type": "heatmap"
           }
          ],
          "heatmapgl": [
           {
            "colorbar": {
             "outlinewidth": 0,
             "ticks": ""
            },
            "colorscale": [
             [
              0,
              "#0d0887"
             ],
             [
              0.1111111111111111,
              "#46039f"
             ],
             [
              0.2222222222222222,
              "#7201a8"
             ],
             [
              0.3333333333333333,
              "#9c179e"
             ],
             [
              0.4444444444444444,
              "#bd3786"
             ],
             [
              0.5555555555555556,
              "#d8576b"
             ],
             [
              0.6666666666666666,
              "#ed7953"
             ],
             [
              0.7777777777777778,
              "#fb9f3a"
             ],
             [
              0.8888888888888888,
              "#fdca26"
             ],
             [
              1,
              "#f0f921"
             ]
            ],
            "type": "heatmapgl"
           }
          ],
          "histogram": [
           {
            "marker": {
             "colorbar": {
              "outlinewidth": 0,
              "ticks": ""
             }
            },
            "type": "histogram"
           }
          ],
          "histogram2d": [
           {
            "colorbar": {
             "outlinewidth": 0,
             "ticks": ""
            },
            "colorscale": [
             [
              0,
              "#0d0887"
             ],
             [
              0.1111111111111111,
              "#46039f"
             ],
             [
              0.2222222222222222,
              "#7201a8"
             ],
             [
              0.3333333333333333,
              "#9c179e"
             ],
             [
              0.4444444444444444,
              "#bd3786"
             ],
             [
              0.5555555555555556,
              "#d8576b"
             ],
             [
              0.6666666666666666,
              "#ed7953"
             ],
             [
              0.7777777777777778,
              "#fb9f3a"
             ],
             [
              0.8888888888888888,
              "#fdca26"
             ],
             [
              1,
              "#f0f921"
             ]
            ],
            "type": "histogram2d"
           }
          ],
          "histogram2dcontour": [
           {
            "colorbar": {
             "outlinewidth": 0,
             "ticks": ""
            },
            "colorscale": [
             [
              0,
              "#0d0887"
             ],
             [
              0.1111111111111111,
              "#46039f"
             ],
             [
              0.2222222222222222,
              "#7201a8"
             ],
             [
              0.3333333333333333,
              "#9c179e"
             ],
             [
              0.4444444444444444,
              "#bd3786"
             ],
             [
              0.5555555555555556,
              "#d8576b"
             ],
             [
              0.6666666666666666,
              "#ed7953"
             ],
             [
              0.7777777777777778,
              "#fb9f3a"
             ],
             [
              0.8888888888888888,
              "#fdca26"
             ],
             [
              1,
              "#f0f921"
             ]
            ],
            "type": "histogram2dcontour"
           }
          ],
          "mesh3d": [
           {
            "colorbar": {
             "outlinewidth": 0,
             "ticks": ""
            },
            "type": "mesh3d"
           }
          ],
          "parcoords": [
           {
            "line": {
             "colorbar": {
              "outlinewidth": 0,
              "ticks": ""
             }
            },
            "type": "parcoords"
           }
          ],
          "pie": [
           {
            "automargin": true,
            "type": "pie"
           }
          ],
          "scatter": [
           {
            "marker": {
             "colorbar": {
              "outlinewidth": 0,
              "ticks": ""
             }
            },
            "type": "scatter"
           }
          ],
          "scatter3d": [
           {
            "line": {
             "colorbar": {
              "outlinewidth": 0,
              "ticks": ""
             }
            },
            "marker": {
             "colorbar": {
              "outlinewidth": 0,
              "ticks": ""
             }
            },
            "type": "scatter3d"
           }
          ],
          "scattercarpet": [
           {
            "marker": {
             "colorbar": {
              "outlinewidth": 0,
              "ticks": ""
             }
            },
            "type": "scattercarpet"
           }
          ],
          "scattergeo": [
           {
            "marker": {
             "colorbar": {
              "outlinewidth": 0,
              "ticks": ""
             }
            },
            "type": "scattergeo"
           }
          ],
          "scattergl": [
           {
            "marker": {
             "colorbar": {
              "outlinewidth": 0,
              "ticks": ""
             }
            },
            "type": "scattergl"
           }
          ],
          "scattermapbox": [
           {
            "marker": {
             "colorbar": {
              "outlinewidth": 0,
              "ticks": ""
             }
            },
            "type": "scattermapbox"
           }
          ],
          "scatterpolar": [
           {
            "marker": {
             "colorbar": {
              "outlinewidth": 0,
              "ticks": ""
             }
            },
            "type": "scatterpolar"
           }
          ],
          "scatterpolargl": [
           {
            "marker": {
             "colorbar": {
              "outlinewidth": 0,
              "ticks": ""
             }
            },
            "type": "scatterpolargl"
           }
          ],
          "scatterternary": [
           {
            "marker": {
             "colorbar": {
              "outlinewidth": 0,
              "ticks": ""
             }
            },
            "type": "scatterternary"
           }
          ],
          "surface": [
           {
            "colorbar": {
             "outlinewidth": 0,
             "ticks": ""
            },
            "colorscale": [
             [
              0,
              "#0d0887"
             ],
             [
              0.1111111111111111,
              "#46039f"
             ],
             [
              0.2222222222222222,
              "#7201a8"
             ],
             [
              0.3333333333333333,
              "#9c179e"
             ],
             [
              0.4444444444444444,
              "#bd3786"
             ],
             [
              0.5555555555555556,
              "#d8576b"
             ],
             [
              0.6666666666666666,
              "#ed7953"
             ],
             [
              0.7777777777777778,
              "#fb9f3a"
             ],
             [
              0.8888888888888888,
              "#fdca26"
             ],
             [
              1,
              "#f0f921"
             ]
            ],
            "type": "surface"
           }
          ],
          "table": [
           {
            "cells": {
             "fill": {
              "color": "#EBF0F8"
             },
             "line": {
              "color": "white"
             }
            },
            "header": {
             "fill": {
              "color": "#C8D4E3"
             },
             "line": {
              "color": "white"
             }
            },
            "type": "table"
           }
          ]
         },
         "layout": {
          "annotationdefaults": {
           "arrowcolor": "#2a3f5f",
           "arrowhead": 0,
           "arrowwidth": 1
          },
          "coloraxis": {
           "colorbar": {
            "outlinewidth": 0,
            "ticks": ""
           }
          },
          "colorscale": {
           "diverging": [
            [
             0,
             "#8e0152"
            ],
            [
             0.1,
             "#c51b7d"
            ],
            [
             0.2,
             "#de77ae"
            ],
            [
             0.3,
             "#f1b6da"
            ],
            [
             0.4,
             "#fde0ef"
            ],
            [
             0.5,
             "#f7f7f7"
            ],
            [
             0.6,
             "#e6f5d0"
            ],
            [
             0.7,
             "#b8e186"
            ],
            [
             0.8,
             "#7fbc41"
            ],
            [
             0.9,
             "#4d9221"
            ],
            [
             1,
             "#276419"
            ]
           ],
           "sequential": [
            [
             0,
             "#0d0887"
            ],
            [
             0.1111111111111111,
             "#46039f"
            ],
            [
             0.2222222222222222,
             "#7201a8"
            ],
            [
             0.3333333333333333,
             "#9c179e"
            ],
            [
             0.4444444444444444,
             "#bd3786"
            ],
            [
             0.5555555555555556,
             "#d8576b"
            ],
            [
             0.6666666666666666,
             "#ed7953"
            ],
            [
             0.7777777777777778,
             "#fb9f3a"
            ],
            [
             0.8888888888888888,
             "#fdca26"
            ],
            [
             1,
             "#f0f921"
            ]
           ],
           "sequentialminus": [
            [
             0,
             "#0d0887"
            ],
            [
             0.1111111111111111,
             "#46039f"
            ],
            [
             0.2222222222222222,
             "#7201a8"
            ],
            [
             0.3333333333333333,
             "#9c179e"
            ],
            [
             0.4444444444444444,
             "#bd3786"
            ],
            [
             0.5555555555555556,
             "#d8576b"
            ],
            [
             0.6666666666666666,
             "#ed7953"
            ],
            [
             0.7777777777777778,
             "#fb9f3a"
            ],
            [
             0.8888888888888888,
             "#fdca26"
            ],
            [
             1,
             "#f0f921"
            ]
           ]
          },
          "colorway": [
           "#636efa",
           "#EF553B",
           "#00cc96",
           "#ab63fa",
           "#FFA15A",
           "#19d3f3",
           "#FF6692",
           "#B6E880",
           "#FF97FF",
           "#FECB52"
          ],
          "font": {
           "color": "#2a3f5f"
          },
          "geo": {
           "bgcolor": "white",
           "lakecolor": "white",
           "landcolor": "#E5ECF6",
           "showlakes": true,
           "showland": true,
           "subunitcolor": "white"
          },
          "hoverlabel": {
           "align": "left"
          },
          "hovermode": "closest",
          "mapbox": {
           "style": "light"
          },
          "paper_bgcolor": "white",
          "plot_bgcolor": "#E5ECF6",
          "polar": {
           "angularaxis": {
            "gridcolor": "white",
            "linecolor": "white",
            "ticks": ""
           },
           "bgcolor": "#E5ECF6",
           "radialaxis": {
            "gridcolor": "white",
            "linecolor": "white",
            "ticks": ""
           }
          },
          "scene": {
           "xaxis": {
            "backgroundcolor": "#E5ECF6",
            "gridcolor": "white",
            "gridwidth": 2,
            "linecolor": "white",
            "showbackground": true,
            "ticks": "",
            "zerolinecolor": "white"
           },
           "yaxis": {
            "backgroundcolor": "#E5ECF6",
            "gridcolor": "white",
            "gridwidth": 2,
            "linecolor": "white",
            "showbackground": true,
            "ticks": "",
            "zerolinecolor": "white"
           },
           "zaxis": {
            "backgroundcolor": "#E5ECF6",
            "gridcolor": "white",
            "gridwidth": 2,
            "linecolor": "white",
            "showbackground": true,
            "ticks": "",
            "zerolinecolor": "white"
           }
          },
          "shapedefaults": {
           "line": {
            "color": "#2a3f5f"
           }
          },
          "ternary": {
           "aaxis": {
            "gridcolor": "white",
            "linecolor": "white",
            "ticks": ""
           },
           "baxis": {
            "gridcolor": "white",
            "linecolor": "white",
            "ticks": ""
           },
           "bgcolor": "#E5ECF6",
           "caxis": {
            "gridcolor": "white",
            "linecolor": "white",
            "ticks": ""
           }
          },
          "title": {
           "x": 0.05
          },
          "xaxis": {
           "automargin": true,
           "gridcolor": "white",
           "linecolor": "white",
           "ticks": "",
           "title": {
            "standoff": 15
           },
           "zerolinecolor": "white",
           "zerolinewidth": 2
          },
          "yaxis": {
           "automargin": true,
           "gridcolor": "white",
           "linecolor": "white",
           "ticks": "",
           "title": {
            "standoff": 15
           },
           "zerolinecolor": "white",
           "zerolinewidth": 2
          }
         }
        },
        "title": {
         "text": "Decomposição do PNA de um Dotal Misto Diferido 10/Pagamento 10 / Duração 20 / Valor R$100.000,00",
         "x": 0.48,
         "xanchor": "center",
         "y": 0.9,
         "yanchor": "top"
        },
        "xaxis": {
         "tickfont": {
          "size": 15
         },
         "title": {
          "text": "Idade"
         }
        },
        "yaxis": {
         "tickfont": {
          "size": 15
         },
         "title": {
          "text": "PNA"
         }
        }
       }
      },
      "text/html": [
       "<div>\n",
       "        \n",
       "        \n",
       "            <div id=\"aeb9ad73-754d-473d-8365-11eb5a326288\" class=\"plotly-graph-div\" style=\"height:525px; width:100%;\"></div>\n",
       "            <script type=\"text/javascript\">\n",
       "                require([\"plotly\"], function(Plotly) {\n",
       "                    window.PLOTLYENV=window.PLOTLYENV || {};\n",
       "                    \n",
       "                if (document.getElementById(\"aeb9ad73-754d-473d-8365-11eb5a326288\")) {\n",
       "                    Plotly.newPlot(\n",
       "                        'aeb9ad73-754d-473d-8365-11eb5a326288',\n",
       "                        [{\"mode\": \"lines\", \"name\": \"Dotal Puro\", \"type\": \"scatter\", \"x\": [0, 1, 2, 3, 4, 5, 6, 7, 8, 9, 10, 11, 12, 13, 14, 15, 16, 17, 18, 19, 20, 21, 22, 23, 24, 25, 26, 27, 28, 29, 30, 31, 32, 33, 34, 35, 36, 37, 38, 39, 40, 41, 42, 43, 44, 45, 46, 47, 48, 49, 50, 51, 52, 53, 54, 55, 56, 57, 58, 59, 60, 61, 62, 63, 64, 65, 66, 67, 68, 69, 70, 71, 72, 73, 74, 75, 76, 77, 78, 79, 80, 81, 82, 83, 84, 85], \"y\": [3752.142748174106, 3750.8128252286133, 3749.2385913819844, 3747.621891502188, 3746.0064066303917, 3744.4196379037826, 3742.881825308351, 3741.4053201278384, 3739.9030326166644, 3738.288744542336, 3736.46558435013, 3734.336544332906, 3731.8004811381256, 3728.7520294479145, 3725.0883927858436, 3720.7170209370865, 3715.5609543116225, 3709.566792510616, 3702.6870884970253, 3694.8849529626045, 3686.125703990437, 3676.361487136705, 3665.5391006418454, 3653.600568718563, 3640.4814634938243, 3626.125480322907, 3610.4930920858187, 3593.558128712824, 3575.3095418744592, 3555.7459123441595, 3534.8162819997788, 3512.4055434777333, 3488.340889569462, 3462.3920091506848, 3434.2757508080113, 3403.667122007033, 3370.1995101005314, 3333.468409652065, 3293.0305045484192, 3248.4271427485023, 3199.259728033987, 3145.208123338624, 3086.0372932325436, 3021.599885794989, 2951.8055202867963, 2876.531046163262, 2795.5970401810546, 2708.8101348148275, 2615.971523240539, 2516.9283422413387, 2411.6504565157934, 2300.256690099886, 2183.039456527225, 2060.4740223652916, 1933.213471240058, 1802.0904882920581, 1668.0967665401815, 1532.379402248152, 1396.217682692994, 1260.99683742314, 1128.2146048583134, 999.4005125488229, 876.0366787913171, 759.4753147654942, 650.8695304219237, 551.1248059417716, 460.8625353258555, 380.41285072982674, 309.81513673480714, 248.69113017768865, 196.42782381240198, 152.30308172076644, 115.56594735499303, 85.47726052170306, 61.32357238202089, 42.41363079487964, 28.067000285778764, 17.603601401661006, 10.34071251448155, 5.602616297088455, 2.7436085388130786, 1.1809679101502268, 0.4290559608215773, 0.12336920173501052, 0.024959384457924064, 0.0026650892896257165]}, {\"mode\": \"lines\", \"name\": \"Seguro de Vida\", \"type\": \"scatter\", \"x\": [0, 1, 2, 3, 4, 5, 6, 7, 8, 9, 10, 11, 12, 13, 14, 15, 16, 17, 18, 19, 20, 21, 22, 23, 24, 25, 26, 27, 28, 29, 30, 31, 32, 33, 34, 35, 36, 37, 38, 39, 40, 41, 42, 43, 44, 45, 46, 47, 48, 49, 50, 51, 52, 53, 54, 55, 56, 57, 58, 59, 60, 61, 62, 63, 64, 65, 66, 67, 68, 69, 70, 71, 72, 73, 74, 75, 76, 77, 78, 79, 80, 81, 82, 83, 84, 85], \"y\": [60.60526383745794, 62.75533385758769, 64.81471968740219, 66.80568904056489, 68.75509419481615, 70.68679915260019, 72.60056565352234, 74.50814942854694, 76.48580229979392, 78.6026006403239, 80.92866893246517, 83.54056685554984, 86.52521835541786, 89.98853917039541, 94.04027073609097, 98.78654670074775, 104.3470600779752, 110.82317206428218, 118.33688937907213, 127.0030045396035, 136.93615717482848, 148.28208962919356, 161.1863343860689, 175.80229460995272, 192.24520901562025, 210.63383028034752, 231.0749676992063, 253.6584393247297, 278.2567885047327, 304.79435287590906, 333.21887861062993, 363.5438229552861, 395.8370826302377, 430.22438740518794, 466.90150293183075, 506.1432018440768, 548.3222062863636, 593.9241237004844, 643.5068500737538, 697.6906126825702, 757.0662636831131, 822.143177112626, 893.3554102239306, 971.0556048465232, 1055.5350327663957, 1147.1443632605499, 1246.3367765834143, 1353.6236953605978, 1469.553250954932, 1594.6542912720531, 1729.2271366950597, 1873.2756969456293, 2026.4890416314568, 2188.2225376672727, 2357.509148888579, 2533.075314950795, 2713.3587474594515, 2896.519758291845, 3080.4814794806784, 3262.9986932631327, 3441.8150470263085, 3614.7693221946784, 3779.877435933226, 3935.4092896100224, 4079.8716807000988, 4211.823050606302, 4329.822741744062, 4432.505083680608, 4518.560884706338, 4586.9534066637525, 4636.912033930071, 4667.862233986985, 4679.404993659776, 4671.3065527413, 4643.481993904073, 4596.009243646474, 4529.089827734241, 4443.0918123685515, 4338.552485819998, 4216.2009921019335, 4077.1873427749447, 3923.0275549336266, 3755.548255291761, 3576.792488795195, 3388.933731132795, 3194.2260957667063]}, {\"mode\": \"lines\", \"name\": \"Dotal Misto\", \"type\": \"scatter\", \"x\": [0, 1, 2, 3, 4, 5, 6, 7, 8, 9, 10, 11, 12, 13, 14, 15, 16, 17, 18, 19, 20, 21, 22, 23, 24, 25, 26, 27, 28, 29, 30, 31, 32, 33, 34, 35, 36, 37, 38, 39, 40, 41, 42, 43, 44, 45, 46, 47, 48, 49, 50, 51, 52, 53, 54, 55, 56, 57, 58, 59, 60, 61, 62, 63, 64, 65, 66, 67, 68, 69, 70, 71, 72, 73, 74, 75, 76, 77, 78, 79, 80, 81, 82, 83, 84, 85], \"y\": [3812.7480120115647, 3813.5681590862005, 3814.053311069387, 3814.4275805427524, 3814.7615008252073, 3815.1064370563836, 3815.482390961874, 3815.9134695563853, 3816.388834916458, 3816.89134518266, 3817.3942532825954, 3817.8771111884566, 3818.325699493543, 3818.7405686183106, 3819.128663521935, 3819.5035676378343, 3819.908014389598, 3820.389964574898, 3821.0239778760974, 3821.887957502207, 3823.061861165266, 3824.643576765898, 3826.725435027914, 3829.4028633285157, 3832.726672509445, 3836.759310603255, 3841.568059785025, 3847.2165680375538, 3853.5663303791926, 3860.5402652200687, 3868.0351606104086, 3875.9493664330193, 3884.1779721996995, 3892.6163965558717, 3901.177253739842, 3909.8103238511103, 3918.5217163868947, 3927.39253335255, 3936.537354622173, 3946.117755431073, 3956.325991717099, 3967.35130045125, 3979.392703456473, 3992.6554906415113, 4007.340553053192, 4023.675409423812, 4041.9338167644687, 4062.433830175425, 4085.524774195471, 4111.5826335133925, 4140.877593210853, 4173.532387045516, 4209.528498158682, 4248.696560032565, 4290.722620128638, 4335.165803242853, 4381.455513999633, 4428.899160539997, 4476.699162173673, 4523.995530686272, 4570.029651884622, 4614.169834743501, 4655.914114724543, 4694.884604375517, 4730.741211122023, 4762.947856548073, 4790.685277069918, 4812.917934410434, 4828.376021441144, 4835.64453684144, 4833.339857742472, 4820.1653157077535, 4794.970941014768, 4756.783813263002, 4704.805566286093, 4638.422874441354, 4557.15682802002, 4460.695413770212, 4348.893198334479, 4221.803608399023, 4079.930951313758, 3924.2085228437763, 3755.9773112525827, 3576.9158579969303, 3388.9586905172528, 3194.228760855996]}],\n",
       "                        {\"legend\": {\"font\": {\"color\": \"black\", \"family\": \"arial\", \"size\": 15}, \"orientation\": \"h\", \"x\": 0.25, \"y\": -0.15}, \"template\": {\"data\": {\"bar\": [{\"error_x\": {\"color\": \"#2a3f5f\"}, \"error_y\": {\"color\": \"#2a3f5f\"}, \"marker\": {\"line\": {\"color\": \"#E5ECF6\", \"width\": 0.5}}, \"type\": \"bar\"}], \"barpolar\": [{\"marker\": {\"line\": {\"color\": \"#E5ECF6\", \"width\": 0.5}}, \"type\": \"barpolar\"}], \"carpet\": [{\"aaxis\": {\"endlinecolor\": \"#2a3f5f\", \"gridcolor\": \"white\", \"linecolor\": \"white\", \"minorgridcolor\": \"white\", \"startlinecolor\": \"#2a3f5f\"}, \"baxis\": {\"endlinecolor\": \"#2a3f5f\", \"gridcolor\": \"white\", \"linecolor\": \"white\", \"minorgridcolor\": \"white\", \"startlinecolor\": \"#2a3f5f\"}, \"type\": \"carpet\"}], \"choropleth\": [{\"colorbar\": {\"outlinewidth\": 0, \"ticks\": \"\"}, \"type\": \"choropleth\"}], \"contour\": [{\"colorbar\": {\"outlinewidth\": 0, \"ticks\": \"\"}, \"colorscale\": [[0.0, \"#0d0887\"], [0.1111111111111111, \"#46039f\"], [0.2222222222222222, \"#7201a8\"], [0.3333333333333333, \"#9c179e\"], [0.4444444444444444, \"#bd3786\"], [0.5555555555555556, \"#d8576b\"], [0.6666666666666666, \"#ed7953\"], [0.7777777777777778, \"#fb9f3a\"], [0.8888888888888888, \"#fdca26\"], [1.0, \"#f0f921\"]], \"type\": \"contour\"}], \"contourcarpet\": [{\"colorbar\": {\"outlinewidth\": 0, \"ticks\": \"\"}, \"type\": \"contourcarpet\"}], \"heatmap\": [{\"colorbar\": {\"outlinewidth\": 0, \"ticks\": \"\"}, \"colorscale\": [[0.0, \"#0d0887\"], [0.1111111111111111, \"#46039f\"], [0.2222222222222222, \"#7201a8\"], [0.3333333333333333, \"#9c179e\"], [0.4444444444444444, \"#bd3786\"], [0.5555555555555556, \"#d8576b\"], [0.6666666666666666, \"#ed7953\"], [0.7777777777777778, \"#fb9f3a\"], [0.8888888888888888, \"#fdca26\"], [1.0, \"#f0f921\"]], \"type\": \"heatmap\"}], \"heatmapgl\": [{\"colorbar\": {\"outlinewidth\": 0, \"ticks\": \"\"}, \"colorscale\": [[0.0, \"#0d0887\"], [0.1111111111111111, \"#46039f\"], [0.2222222222222222, \"#7201a8\"], [0.3333333333333333, \"#9c179e\"], [0.4444444444444444, \"#bd3786\"], [0.5555555555555556, \"#d8576b\"], [0.6666666666666666, \"#ed7953\"], [0.7777777777777778, \"#fb9f3a\"], [0.8888888888888888, \"#fdca26\"], [1.0, \"#f0f921\"]], \"type\": \"heatmapgl\"}], \"histogram\": [{\"marker\": {\"colorbar\": {\"outlinewidth\": 0, \"ticks\": \"\"}}, \"type\": \"histogram\"}], \"histogram2d\": [{\"colorbar\": {\"outlinewidth\": 0, \"ticks\": \"\"}, \"colorscale\": [[0.0, \"#0d0887\"], [0.1111111111111111, \"#46039f\"], [0.2222222222222222, \"#7201a8\"], [0.3333333333333333, \"#9c179e\"], [0.4444444444444444, \"#bd3786\"], [0.5555555555555556, \"#d8576b\"], [0.6666666666666666, \"#ed7953\"], [0.7777777777777778, \"#fb9f3a\"], [0.8888888888888888, \"#fdca26\"], [1.0, \"#f0f921\"]], \"type\": \"histogram2d\"}], \"histogram2dcontour\": [{\"colorbar\": {\"outlinewidth\": 0, \"ticks\": \"\"}, \"colorscale\": [[0.0, \"#0d0887\"], [0.1111111111111111, \"#46039f\"], [0.2222222222222222, \"#7201a8\"], [0.3333333333333333, \"#9c179e\"], [0.4444444444444444, \"#bd3786\"], [0.5555555555555556, \"#d8576b\"], [0.6666666666666666, \"#ed7953\"], [0.7777777777777778, \"#fb9f3a\"], [0.8888888888888888, \"#fdca26\"], [1.0, \"#f0f921\"]], \"type\": \"histogram2dcontour\"}], \"mesh3d\": [{\"colorbar\": {\"outlinewidth\": 0, \"ticks\": \"\"}, \"type\": \"mesh3d\"}], \"parcoords\": [{\"line\": {\"colorbar\": {\"outlinewidth\": 0, \"ticks\": \"\"}}, \"type\": \"parcoords\"}], \"pie\": [{\"automargin\": true, \"type\": \"pie\"}], \"scatter\": [{\"marker\": {\"colorbar\": {\"outlinewidth\": 0, \"ticks\": \"\"}}, \"type\": \"scatter\"}], \"scatter3d\": [{\"line\": {\"colorbar\": {\"outlinewidth\": 0, \"ticks\": \"\"}}, \"marker\": {\"colorbar\": {\"outlinewidth\": 0, \"ticks\": \"\"}}, \"type\": \"scatter3d\"}], \"scattercarpet\": [{\"marker\": {\"colorbar\": {\"outlinewidth\": 0, \"ticks\": \"\"}}, \"type\": \"scattercarpet\"}], \"scattergeo\": [{\"marker\": {\"colorbar\": {\"outlinewidth\": 0, \"ticks\": \"\"}}, \"type\": \"scattergeo\"}], \"scattergl\": [{\"marker\": {\"colorbar\": {\"outlinewidth\": 0, \"ticks\": \"\"}}, \"type\": \"scattergl\"}], \"scattermapbox\": [{\"marker\": {\"colorbar\": {\"outlinewidth\": 0, \"ticks\": \"\"}}, \"type\": \"scattermapbox\"}], \"scatterpolar\": [{\"marker\": {\"colorbar\": {\"outlinewidth\": 0, \"ticks\": \"\"}}, \"type\": \"scatterpolar\"}], \"scatterpolargl\": [{\"marker\": {\"colorbar\": {\"outlinewidth\": 0, \"ticks\": \"\"}}, \"type\": \"scatterpolargl\"}], \"scatterternary\": [{\"marker\": {\"colorbar\": {\"outlinewidth\": 0, \"ticks\": \"\"}}, \"type\": \"scatterternary\"}], \"surface\": [{\"colorbar\": {\"outlinewidth\": 0, \"ticks\": \"\"}, \"colorscale\": [[0.0, \"#0d0887\"], [0.1111111111111111, \"#46039f\"], [0.2222222222222222, \"#7201a8\"], [0.3333333333333333, \"#9c179e\"], [0.4444444444444444, \"#bd3786\"], [0.5555555555555556, \"#d8576b\"], [0.6666666666666666, \"#ed7953\"], [0.7777777777777778, \"#fb9f3a\"], [0.8888888888888888, \"#fdca26\"], [1.0, \"#f0f921\"]], \"type\": \"surface\"}], \"table\": [{\"cells\": {\"fill\": {\"color\": \"#EBF0F8\"}, \"line\": {\"color\": \"white\"}}, \"header\": {\"fill\": {\"color\": \"#C8D4E3\"}, \"line\": {\"color\": \"white\"}}, \"type\": \"table\"}]}, \"layout\": {\"annotationdefaults\": {\"arrowcolor\": \"#2a3f5f\", \"arrowhead\": 0, \"arrowwidth\": 1}, \"coloraxis\": {\"colorbar\": {\"outlinewidth\": 0, \"ticks\": \"\"}}, \"colorscale\": {\"diverging\": [[0, \"#8e0152\"], [0.1, \"#c51b7d\"], [0.2, \"#de77ae\"], [0.3, \"#f1b6da\"], [0.4, \"#fde0ef\"], [0.5, \"#f7f7f7\"], [0.6, \"#e6f5d0\"], [0.7, \"#b8e186\"], [0.8, \"#7fbc41\"], [0.9, \"#4d9221\"], [1, \"#276419\"]], \"sequential\": [[0.0, \"#0d0887\"], [0.1111111111111111, \"#46039f\"], [0.2222222222222222, \"#7201a8\"], [0.3333333333333333, \"#9c179e\"], [0.4444444444444444, \"#bd3786\"], [0.5555555555555556, \"#d8576b\"], [0.6666666666666666, \"#ed7953\"], [0.7777777777777778, \"#fb9f3a\"], [0.8888888888888888, \"#fdca26\"], [1.0, \"#f0f921\"]], \"sequentialminus\": [[0.0, \"#0d0887\"], [0.1111111111111111, \"#46039f\"], [0.2222222222222222, \"#7201a8\"], [0.3333333333333333, \"#9c179e\"], [0.4444444444444444, \"#bd3786\"], [0.5555555555555556, \"#d8576b\"], [0.6666666666666666, \"#ed7953\"], [0.7777777777777778, \"#fb9f3a\"], [0.8888888888888888, \"#fdca26\"], [1.0, \"#f0f921\"]]}, \"colorway\": [\"#636efa\", \"#EF553B\", \"#00cc96\", \"#ab63fa\", \"#FFA15A\", \"#19d3f3\", \"#FF6692\", \"#B6E880\", \"#FF97FF\", \"#FECB52\"], \"font\": {\"color\": \"#2a3f5f\"}, \"geo\": {\"bgcolor\": \"white\", \"lakecolor\": \"white\", \"landcolor\": \"#E5ECF6\", \"showlakes\": true, \"showland\": true, \"subunitcolor\": \"white\"}, \"hoverlabel\": {\"align\": \"left\"}, \"hovermode\": \"closest\", \"mapbox\": {\"style\": \"light\"}, \"paper_bgcolor\": \"white\", \"plot_bgcolor\": \"#E5ECF6\", \"polar\": {\"angularaxis\": {\"gridcolor\": \"white\", \"linecolor\": \"white\", \"ticks\": \"\"}, \"bgcolor\": \"#E5ECF6\", \"radialaxis\": {\"gridcolor\": \"white\", \"linecolor\": \"white\", \"ticks\": \"\"}}, \"scene\": {\"xaxis\": {\"backgroundcolor\": \"#E5ECF6\", \"gridcolor\": \"white\", \"gridwidth\": 2, \"linecolor\": \"white\", \"showbackground\": true, \"ticks\": \"\", \"zerolinecolor\": \"white\"}, \"yaxis\": {\"backgroundcolor\": \"#E5ECF6\", \"gridcolor\": \"white\", \"gridwidth\": 2, \"linecolor\": \"white\", \"showbackground\": true, \"ticks\": \"\", \"zerolinecolor\": \"white\"}, \"zaxis\": {\"backgroundcolor\": \"#E5ECF6\", \"gridcolor\": \"white\", \"gridwidth\": 2, \"linecolor\": \"white\", \"showbackground\": true, \"ticks\": \"\", \"zerolinecolor\": \"white\"}}, \"shapedefaults\": {\"line\": {\"color\": \"#2a3f5f\"}}, \"ternary\": {\"aaxis\": {\"gridcolor\": \"white\", \"linecolor\": \"white\", \"ticks\": \"\"}, \"baxis\": {\"gridcolor\": \"white\", \"linecolor\": \"white\", \"ticks\": \"\"}, \"bgcolor\": \"#E5ECF6\", \"caxis\": {\"gridcolor\": \"white\", \"linecolor\": \"white\", \"ticks\": \"\"}}, \"title\": {\"x\": 0.05}, \"xaxis\": {\"automargin\": true, \"gridcolor\": \"white\", \"linecolor\": \"white\", \"ticks\": \"\", \"title\": {\"standoff\": 15}, \"zerolinecolor\": \"white\", \"zerolinewidth\": 2}, \"yaxis\": {\"automargin\": true, \"gridcolor\": \"white\", \"linecolor\": \"white\", \"ticks\": \"\", \"title\": {\"standoff\": 15}, \"zerolinecolor\": \"white\", \"zerolinewidth\": 2}}}, \"title\": {\"text\": \"Decomposi\\u00e7\\u00e3o do PNA de um Dotal Misto Diferido 10/Pagamento 10 / Dura\\u00e7\\u00e3o 20 / Valor R$100.000,00\", \"x\": 0.48, \"xanchor\": \"center\", \"y\": 0.9, \"yanchor\": \"top\"}, \"xaxis\": {\"tickfont\": {\"size\": 15}, \"title\": {\"text\": \"Idade\"}}, \"yaxis\": {\"tickfont\": {\"size\": 15}, \"title\": {\"text\": \"PNA\"}}},\n",
       "                        {\"responsive\": true}\n",
       "                    ).then(function(){\n",
       "                            \n",
       "var gd = document.getElementById('aeb9ad73-754d-473d-8365-11eb5a326288');\n",
       "var x = new MutationObserver(function (mutations, observer) {{\n",
       "        var display = window.getComputedStyle(gd).display;\n",
       "        if (!display || display === 'none') {{\n",
       "            console.log([gd, 'removed!']);\n",
       "            Plotly.purge(gd);\n",
       "            observer.disconnect();\n",
       "        }}\n",
       "}});\n",
       "\n",
       "// Listen for the removal of the full notebook cells\n",
       "var notebookContainer = gd.closest('#notebook-container');\n",
       "if (notebookContainer) {{\n",
       "    x.observe(notebookContainer, {childList: true});\n",
       "}}\n",
       "\n",
       "// Listen for the clearing of the current output cell\n",
       "var outputEl = gd.closest('.output');\n",
       "if (outputEl) {{\n",
       "    x.observe(outputEl, {childList: true});\n",
       "}}\n",
       "\n",
       "                        })\n",
       "                };\n",
       "                });\n",
       "            </script>\n",
       "        </div>"
      ]
     },
     "metadata": {},
     "output_type": "display_data"
    }
   ],
   "source": [
    "values = []\n",
    "c1 = 'd' # País desenvolvido\n",
    "c2 = 'A' #Cenário atual\n",
    "c3 = 'D' #Governo Dilma\n",
    "desc1 = \"Dotal Puro\"\n",
    "desc2 = \"Seguro de Vida\"\n",
    "desc3 = \"Dotal Misto\"\n",
    "\n",
    "fig = go.Figure()\n",
    "\n",
    "for c, desc in zip([c1, c2, c3], [desc1, desc2, desc3]):\n",
    "    x_ = []\n",
    "    y_ = []\n",
    "    for age in range(0, 100):\n",
    "        try:\n",
    "            cell = []\n",
    "            b.gen_commutations(0.04)\n",
    "            if c == 'd':\n",
    "                prazo = 30\n",
    "                dif = 0\n",
    "            else:\n",
    "                prazo = 20\n",
    "                dif = 10\n",
    "                \n",
    "            b.calc_premium(age=age, dif_benef=dif, \n",
    "                   term_benef=prazo, dif_pay=0, \n",
    "                   term_pay=10, antecip_pay=False, prod=c)\n",
    "            \n",
    "            \n",
    "            x_.append(age)\n",
    "            y_.append(b.pna*value)\n",
    "        except:\n",
    "            pass\n",
    "        \n",
    "    fig.add_trace(go.Scatter(x=np.array(x_), y=np.array(y_),\n",
    "                              mode='lines',\n",
    "                              name=desc))\n",
    "    title = \"Decomposição do PNA de um Dotal Misto Diferido 10/Pagamento 10 / Duração 20 / Valor R$100.000,00\"\n",
    "    \n",
    "    fig.update_layout(title={'text':title,\n",
    "                              'y':0.9,\n",
    "                              'x':0.48,\n",
    "                             'xanchor': 'center',\n",
    "                             'yanchor': 'top'},\n",
    "                      xaxis_title='Idade',\n",
    "                      yaxis_title='PNA', \n",
    "                      legend_orientation=\"h\",\n",
    "                      legend=dict(x=0.25, y=-0.15,\n",
    "                                  font=dict(\n",
    "                                  family=\"arial\",\n",
    "                                  size=15,\n",
    "                                  color=\"black\"\n",
    "                      )))\n",
    "    fig.update_xaxes(tickfont = dict(size=15))\n",
    "    fig.update_yaxes(tickfont = dict(size=15)) \n",
    "            \n",
    "fig.show()"
   ]
  },
  {
   "cell_type": "code",
   "execution_count": 42,
   "metadata": {},
   "outputs": [
    {
     "data": {
      "application/vnd.plotly.v1+json": {
       "config": {
        "plotlyServerURL": "https://plot.ly"
       },
       "data": [
        {
         "mode": "lines",
         "name": "Dotal Puro",
         "type": "scatter",
         "x": [
          0,
          1,
          2,
          3,
          4,
          5,
          6,
          7,
          8,
          9,
          10,
          11,
          12,
          13,
          14,
          15,
          16,
          17,
          18,
          19,
          20,
          21,
          22,
          23,
          24,
          25,
          26,
          27,
          28,
          29,
          30,
          31,
          32,
          33,
          34,
          35,
          36,
          37,
          38,
          39,
          40,
          41,
          42,
          43,
          44,
          45,
          46,
          47,
          48,
          49,
          50,
          51,
          52,
          53,
          54,
          55,
          56,
          57,
          58,
          59,
          60,
          61,
          62,
          63,
          64,
          65,
          66,
          67,
          68,
          69,
          70,
          71,
          72,
          73,
          74,
          75,
          76,
          77,
          78,
          79,
          80,
          81,
          82,
          83,
          84,
          85,
          86,
          87,
          88,
          89,
          90,
          91,
          92,
          93,
          94,
          95
         ],
         "y": [
          5591.298024004127,
          5590.630744156577,
          5589.492352590491,
          5588.144505271652,
          5586.646822294189,
          5585.029263678515,
          5583.327761830001,
          5581.572075879644,
          5579.805539453532,
          5578.033455855632,
          5576.267334083683,
          5574.534911453463,
          5572.862915286795,
          5571.282365663307,
          5569.793926099267,
          5568.407083130712,
          5567.131243533052,
          5565.970852290409,
          5564.78205025965,
          5563.45780143152,
          5561.865159080938,
          5559.860954419242,
          5557.286589723637,
          5553.9686933450475,
          5549.733057949222,
          5544.415479576575,
          5537.875089831277,
          5530.006097908361,
          5520.729717734078,
          5509.997105954344,
          5497.780550621159,
          5484.053743171298,
          5468.803711121253,
          5452.03230910011,
          5433.747290730326,
          5413.984367857068,
          5392.816392994313,
          5370.344436408667,
          5346.66865761369,
          5321.88584425945,
          5295.995498418277,
          5268.875856352186,
          5240.2911495948865,
          5209.888612594517,
          5177.208400619691,
          5141.698963635539,
          5102.718132598313,
          5059.542701968639,
          5011.383276723652,
          4957.417245318839,
          4896.913273378802,
          4829.266190347967,
          4754.016196105,
          4670.861706526959,
          4579.617068698948,
          4480.077875362106,
          4371.9855979135955,
          4255.089600494986,
          4129.153920828605,
          3994.025771683779,
          3849.723871871885,
          3696.446909180448,
          3534.583693659975,
          3364.704720674008,
          3187.542810354032,
          3004.000932308653,
          2815.1326248328965,
          2622.1573355689943,
          2426.4544185566824,
          2229.5605161571725,
          2033.2448398214776,
          1839.4362444805301,
          1650.1422197319814,
          1467.3468168606482,
          1292.9101038075917,
          1128.478537304911,
          975.4019207008963,
          834.6974415370292,
          707.0155174358368,
          592.2853729159388,
          490.01874504338275,
          399.53391960351627,
          320.1144211535232,
          251.09915190464062,
          191.9185670698161,
          142.0839013538789,
          101.13746872877228,
          68.57794879601101,
          43.77686246189146,
          25.91136997496081,
          13.937150725944539,
          6.626010553892241,
          2.674112341316768,
          0.859246599530444,
          0.19548898016430483,
          0.023631763777788358
         ]
        },
        {
         "mode": "lines",
         "name": "Seguro de Vida",
         "type": "scatter",
         "x": [
          0,
          1,
          2,
          3,
          4,
          5,
          6,
          7,
          8,
          9,
          10,
          11,
          12,
          13,
          14,
          15,
          16,
          17,
          18,
          19,
          20,
          21,
          22,
          23,
          24,
          25,
          26,
          27,
          28,
          29,
          30,
          31,
          32,
          33,
          34,
          35,
          36,
          37,
          38,
          39,
          40,
          41,
          42,
          43,
          44,
          45,
          46,
          47,
          48,
          49,
          50,
          51,
          52,
          53,
          54,
          55,
          56,
          57,
          58,
          59,
          60,
          61,
          62,
          63,
          64,
          65,
          66,
          67,
          68,
          69,
          70,
          71,
          72,
          73,
          74,
          75,
          76,
          77,
          78,
          79,
          80,
          81,
          82,
          83,
          84,
          85,
          86,
          87,
          88,
          89,
          90,
          91,
          92,
          93,
          94,
          95
         ],
         "y": [
          96.51678019928012,
          74.86170455548591,
          69.88737496659664,
          69.82993658650288,
          71.11304937578683,
          73.24567314273209,
          76.03412170450828,
          79.37585297668427,
          83.17222825787837,
          86.71451312208966,
          90.06884217685904,
          93.26826364568532,
          96.34050725416532,
          99.31454347666235,
          102.22932490367596,
          105.11986132663563,
          107.98547648898835,
          110.84342713320902,
          113.8069131807963,
          116.97926019857339,
          120.46527231283486,
          124.37923852232616,
          128.85078880016243,
          134.03774918929938,
          140.10362822350965,
          147.2064807991216,
          155.52456057338622,
          165.2087296398975,
          176.44104572834428,
          189.39322776467628,
          204.2374574414479,
          221.19341406483477,
          240.48206811331318,
          262.3384171859729,
          286.9433326662189,
          314.48670782846443,
          345.1453422111384,
          379.0764305414494,
          416.1169354546295,
          456.1857882896777,
          499.2411317375483,
          545.3434256906796,
          594.638433127649,
          647.3620349396994,
          703.8591419666599,
          764.5976774715533,
          830.1982289589376,
          901.4588099563107,
          979.2983886612845,
          1064.7440509572855,
          1158.7955185293254,
          1262.348338538805,
          1376.2069882940211,
          1501.0810865160784,
          1637.6235559709316,
          1786.629797910497,
          1949.124412086172,
          2126.317394890509,
          2319.60153776071,
          2530.501257971851,
          2760.3697584107344,
          3010.300628542823,
          3281.111159266785,
          3573.314985996474,
          3887.1347886187505,
          4222.518601123099,
          4579.149654903926,
          4956.429537412658,
          5353.497516770439,
          5769.287308950413,
          6202.7673226806055,
          6653.126172332622,
          7119.947707042863,
          7603.420653554931,
          8104.400454567569,
          8624.0936069161,
          9163.941728536163,
          9725.750972528836,
          10311.609354001797,
          10924.335769726671,
          11567.47436103048,
          12245.118571752171,
          12961.820113730813,
          13722.493052782273,
          14532.2650959232,
          15396.440053762544,
          16320.257817304642,
          17308.85151579473,
          18367.033721269807,
          19499.379932893735,
          20711.546027900426,
          22010.777565407065,
          23406.638888447065,
          24911.78300581587,
          26543.090438002902,
          28323.702639849296
         ]
        },
        {
         "mode": "lines",
         "name": "Dotal Misto",
         "type": "scatter",
         "x": [
          0,
          1,
          2,
          3,
          4,
          5,
          6,
          7,
          8,
          9,
          10,
          11,
          12,
          13,
          14,
          15,
          16,
          17,
          18,
          19,
          20,
          21,
          22,
          23,
          24,
          25,
          26,
          27,
          28,
          29,
          30,
          31,
          32,
          33,
          34,
          35,
          36,
          37,
          38,
          39,
          40,
          41,
          42,
          43,
          44,
          45,
          46,
          47,
          48,
          49,
          50,
          51,
          52,
          53,
          54,
          55,
          56,
          57,
          58,
          59,
          60,
          61,
          62,
          63,
          64,
          65,
          66,
          67,
          68,
          69,
          70,
          71,
          72,
          73,
          74,
          75,
          76,
          77,
          78,
          79,
          80,
          81,
          82,
          83,
          84,
          85,
          86,
          87,
          88,
          89,
          90,
          91,
          92,
          93,
          94,
          95
         ],
         "y": [
          5687.814804203406,
          5665.4924487120625,
          5659.379727557087,
          5657.974441858155,
          5657.759871669976,
          5658.274936821248,
          5659.361883534509,
          5660.947928856328,
          5662.977767711411,
          5664.747968977722,
          5666.336176260542,
          5667.803175099148,
          5669.20342254096,
          5670.596909139969,
          5672.023251002943,
          5673.526944457347,
          5675.11672002204,
          5676.814279423618,
          5678.588963440447,
          5680.437061630094,
          5682.330431393772,
          5684.240192941569,
          5686.137378523799,
          5688.006442534348,
          5689.836686172732,
          5691.621960375697,
          5693.3996504046645,
          5695.214827548259,
          5697.170763462421,
          5699.3903337190195,
          5702.018008062608,
          5705.247157236134,
          5709.285779234567,
          5714.370726286082,
          5720.690623396546,
          5728.471075685533,
          5737.96173520545,
          5749.420866950117,
          5762.785593068319,
          5778.071632549128,
          5795.236630155826,
          5814.219282042865,
          5834.929582722534,
          5857.250647534216,
          5881.06754258635,
          5906.296641107092,
          5932.916361557251,
          5961.001511924951,
          5990.681665384936,
          6022.1612962761255,
          6055.708791908127,
          6091.614528886771,
          6130.22318439902,
          6171.942793043037,
          6217.240624669879,
          6266.707673272604,
          6321.110009999767,
          6381.406995385497,
          6448.755458589314,
          6524.52702965563,
          6610.093630282619,
          6706.747537723272,
          6815.694852926761,
          6938.019706670482,
          7074.677598972782,
          7226.519533431752,
          7394.2822797368235,
          7578.586872981652,
          7779.95193532712,
          7998.847825107586,
          8236.012162502084,
          8492.562416813153,
          8770.089926774846,
          9070.76747041558,
          9397.310558375162,
          9752.57214422101,
          10139.343649237058,
          10560.448414065864,
          11018.624871437634,
          11516.621142642609,
          12057.493106073864,
          12644.65249135569,
          13281.934534884338,
          13973.592204686913,
          14724.183662993015,
          15538.523955116423,
          16421.395286033418,
          17377.42946459074,
          18410.810583731694,
          19525.291302868693,
          20725.483178626368,
          22017.403575960954,
          23409.31300078838,
          24912.6422524154,
          26543.28592698307,
          28323.726271613075
         ]
        }
       ],
       "layout": {
        "legend": {
         "font": {
          "color": "black",
          "family": "arial",
          "size": 15
         },
         "orientation": "h",
         "x": 0.25,
         "y": -0.15
        },
        "template": {
         "data": {
          "bar": [
           {
            "error_x": {
             "color": "#2a3f5f"
            },
            "error_y": {
             "color": "#2a3f5f"
            },
            "marker": {
             "line": {
              "color": "#E5ECF6",
              "width": 0.5
             }
            },
            "type": "bar"
           }
          ],
          "barpolar": [
           {
            "marker": {
             "line": {
              "color": "#E5ECF6",
              "width": 0.5
             }
            },
            "type": "barpolar"
           }
          ],
          "carpet": [
           {
            "aaxis": {
             "endlinecolor": "#2a3f5f",
             "gridcolor": "white",
             "linecolor": "white",
             "minorgridcolor": "white",
             "startlinecolor": "#2a3f5f"
            },
            "baxis": {
             "endlinecolor": "#2a3f5f",
             "gridcolor": "white",
             "linecolor": "white",
             "minorgridcolor": "white",
             "startlinecolor": "#2a3f5f"
            },
            "type": "carpet"
           }
          ],
          "choropleth": [
           {
            "colorbar": {
             "outlinewidth": 0,
             "ticks": ""
            },
            "type": "choropleth"
           }
          ],
          "contour": [
           {
            "colorbar": {
             "outlinewidth": 0,
             "ticks": ""
            },
            "colorscale": [
             [
              0,
              "#0d0887"
             ],
             [
              0.1111111111111111,
              "#46039f"
             ],
             [
              0.2222222222222222,
              "#7201a8"
             ],
             [
              0.3333333333333333,
              "#9c179e"
             ],
             [
              0.4444444444444444,
              "#bd3786"
             ],
             [
              0.5555555555555556,
              "#d8576b"
             ],
             [
              0.6666666666666666,
              "#ed7953"
             ],
             [
              0.7777777777777778,
              "#fb9f3a"
             ],
             [
              0.8888888888888888,
              "#fdca26"
             ],
             [
              1,
              "#f0f921"
             ]
            ],
            "type": "contour"
           }
          ],
          "contourcarpet": [
           {
            "colorbar": {
             "outlinewidth": 0,
             "ticks": ""
            },
            "type": "contourcarpet"
           }
          ],
          "heatmap": [
           {
            "colorbar": {
             "outlinewidth": 0,
             "ticks": ""
            },
            "colorscale": [
             [
              0,
              "#0d0887"
             ],
             [
              0.1111111111111111,
              "#46039f"
             ],
             [
              0.2222222222222222,
              "#7201a8"
             ],
             [
              0.3333333333333333,
              "#9c179e"
             ],
             [
              0.4444444444444444,
              "#bd3786"
             ],
             [
              0.5555555555555556,
              "#d8576b"
             ],
             [
              0.6666666666666666,
              "#ed7953"
             ],
             [
              0.7777777777777778,
              "#fb9f3a"
             ],
             [
              0.8888888888888888,
              "#fdca26"
             ],
             [
              1,
              "#f0f921"
             ]
            ],
            "type": "heatmap"
           }
          ],
          "heatmapgl": [
           {
            "colorbar": {
             "outlinewidth": 0,
             "ticks": ""
            },
            "colorscale": [
             [
              0,
              "#0d0887"
             ],
             [
              0.1111111111111111,
              "#46039f"
             ],
             [
              0.2222222222222222,
              "#7201a8"
             ],
             [
              0.3333333333333333,
              "#9c179e"
             ],
             [
              0.4444444444444444,
              "#bd3786"
             ],
             [
              0.5555555555555556,
              "#d8576b"
             ],
             [
              0.6666666666666666,
              "#ed7953"
             ],
             [
              0.7777777777777778,
              "#fb9f3a"
             ],
             [
              0.8888888888888888,
              "#fdca26"
             ],
             [
              1,
              "#f0f921"
             ]
            ],
            "type": "heatmapgl"
           }
          ],
          "histogram": [
           {
            "marker": {
             "colorbar": {
              "outlinewidth": 0,
              "ticks": ""
             }
            },
            "type": "histogram"
           }
          ],
          "histogram2d": [
           {
            "colorbar": {
             "outlinewidth": 0,
             "ticks": ""
            },
            "colorscale": [
             [
              0,
              "#0d0887"
             ],
             [
              0.1111111111111111,
              "#46039f"
             ],
             [
              0.2222222222222222,
              "#7201a8"
             ],
             [
              0.3333333333333333,
              "#9c179e"
             ],
             [
              0.4444444444444444,
              "#bd3786"
             ],
             [
              0.5555555555555556,
              "#d8576b"
             ],
             [
              0.6666666666666666,
              "#ed7953"
             ],
             [
              0.7777777777777778,
              "#fb9f3a"
             ],
             [
              0.8888888888888888,
              "#fdca26"
             ],
             [
              1,
              "#f0f921"
             ]
            ],
            "type": "histogram2d"
           }
          ],
          "histogram2dcontour": [
           {
            "colorbar": {
             "outlinewidth": 0,
             "ticks": ""
            },
            "colorscale": [
             [
              0,
              "#0d0887"
             ],
             [
              0.1111111111111111,
              "#46039f"
             ],
             [
              0.2222222222222222,
              "#7201a8"
             ],
             [
              0.3333333333333333,
              "#9c179e"
             ],
             [
              0.4444444444444444,
              "#bd3786"
             ],
             [
              0.5555555555555556,
              "#d8576b"
             ],
             [
              0.6666666666666666,
              "#ed7953"
             ],
             [
              0.7777777777777778,
              "#fb9f3a"
             ],
             [
              0.8888888888888888,
              "#fdca26"
             ],
             [
              1,
              "#f0f921"
             ]
            ],
            "type": "histogram2dcontour"
           }
          ],
          "mesh3d": [
           {
            "colorbar": {
             "outlinewidth": 0,
             "ticks": ""
            },
            "type": "mesh3d"
           }
          ],
          "parcoords": [
           {
            "line": {
             "colorbar": {
              "outlinewidth": 0,
              "ticks": ""
             }
            },
            "type": "parcoords"
           }
          ],
          "pie": [
           {
            "automargin": true,
            "type": "pie"
           }
          ],
          "scatter": [
           {
            "marker": {
             "colorbar": {
              "outlinewidth": 0,
              "ticks": ""
             }
            },
            "type": "scatter"
           }
          ],
          "scatter3d": [
           {
            "line": {
             "colorbar": {
              "outlinewidth": 0,
              "ticks": ""
             }
            },
            "marker": {
             "colorbar": {
              "outlinewidth": 0,
              "ticks": ""
             }
            },
            "type": "scatter3d"
           }
          ],
          "scattercarpet": [
           {
            "marker": {
             "colorbar": {
              "outlinewidth": 0,
              "ticks": ""
             }
            },
            "type": "scattercarpet"
           }
          ],
          "scattergeo": [
           {
            "marker": {
             "colorbar": {
              "outlinewidth": 0,
              "ticks": ""
             }
            },
            "type": "scattergeo"
           }
          ],
          "scattergl": [
           {
            "marker": {
             "colorbar": {
              "outlinewidth": 0,
              "ticks": ""
             }
            },
            "type": "scattergl"
           }
          ],
          "scattermapbox": [
           {
            "marker": {
             "colorbar": {
              "outlinewidth": 0,
              "ticks": ""
             }
            },
            "type": "scattermapbox"
           }
          ],
          "scatterpolar": [
           {
            "marker": {
             "colorbar": {
              "outlinewidth": 0,
              "ticks": ""
             }
            },
            "type": "scatterpolar"
           }
          ],
          "scatterpolargl": [
           {
            "marker": {
             "colorbar": {
              "outlinewidth": 0,
              "ticks": ""
             }
            },
            "type": "scatterpolargl"
           }
          ],
          "scatterternary": [
           {
            "marker": {
             "colorbar": {
              "outlinewidth": 0,
              "ticks": ""
             }
            },
            "type": "scatterternary"
           }
          ],
          "surface": [
           {
            "colorbar": {
             "outlinewidth": 0,
             "ticks": ""
            },
            "colorscale": [
             [
              0,
              "#0d0887"
             ],
             [
              0.1111111111111111,
              "#46039f"
             ],
             [
              0.2222222222222222,
              "#7201a8"
             ],
             [
              0.3333333333333333,
              "#9c179e"
             ],
             [
              0.4444444444444444,
              "#bd3786"
             ],
             [
              0.5555555555555556,
              "#d8576b"
             ],
             [
              0.6666666666666666,
              "#ed7953"
             ],
             [
              0.7777777777777778,
              "#fb9f3a"
             ],
             [
              0.8888888888888888,
              "#fdca26"
             ],
             [
              1,
              "#f0f921"
             ]
            ],
            "type": "surface"
           }
          ],
          "table": [
           {
            "cells": {
             "fill": {
              "color": "#EBF0F8"
             },
             "line": {
              "color": "white"
             }
            },
            "header": {
             "fill": {
              "color": "#C8D4E3"
             },
             "line": {
              "color": "white"
             }
            },
            "type": "table"
           }
          ]
         },
         "layout": {
          "annotationdefaults": {
           "arrowcolor": "#2a3f5f",
           "arrowhead": 0,
           "arrowwidth": 1
          },
          "coloraxis": {
           "colorbar": {
            "outlinewidth": 0,
            "ticks": ""
           }
          },
          "colorscale": {
           "diverging": [
            [
             0,
             "#8e0152"
            ],
            [
             0.1,
             "#c51b7d"
            ],
            [
             0.2,
             "#de77ae"
            ],
            [
             0.3,
             "#f1b6da"
            ],
            [
             0.4,
             "#fde0ef"
            ],
            [
             0.5,
             "#f7f7f7"
            ],
            [
             0.6,
             "#e6f5d0"
            ],
            [
             0.7,
             "#b8e186"
            ],
            [
             0.8,
             "#7fbc41"
            ],
            [
             0.9,
             "#4d9221"
            ],
            [
             1,
             "#276419"
            ]
           ],
           "sequential": [
            [
             0,
             "#0d0887"
            ],
            [
             0.1111111111111111,
             "#46039f"
            ],
            [
             0.2222222222222222,
             "#7201a8"
            ],
            [
             0.3333333333333333,
             "#9c179e"
            ],
            [
             0.4444444444444444,
             "#bd3786"
            ],
            [
             0.5555555555555556,
             "#d8576b"
            ],
            [
             0.6666666666666666,
             "#ed7953"
            ],
            [
             0.7777777777777778,
             "#fb9f3a"
            ],
            [
             0.8888888888888888,
             "#fdca26"
            ],
            [
             1,
             "#f0f921"
            ]
           ],
           "sequentialminus": [
            [
             0,
             "#0d0887"
            ],
            [
             0.1111111111111111,
             "#46039f"
            ],
            [
             0.2222222222222222,
             "#7201a8"
            ],
            [
             0.3333333333333333,
             "#9c179e"
            ],
            [
             0.4444444444444444,
             "#bd3786"
            ],
            [
             0.5555555555555556,
             "#d8576b"
            ],
            [
             0.6666666666666666,
             "#ed7953"
            ],
            [
             0.7777777777777778,
             "#fb9f3a"
            ],
            [
             0.8888888888888888,
             "#fdca26"
            ],
            [
             1,
             "#f0f921"
            ]
           ]
          },
          "colorway": [
           "#636efa",
           "#EF553B",
           "#00cc96",
           "#ab63fa",
           "#FFA15A",
           "#19d3f3",
           "#FF6692",
           "#B6E880",
           "#FF97FF",
           "#FECB52"
          ],
          "font": {
           "color": "#2a3f5f"
          },
          "geo": {
           "bgcolor": "white",
           "lakecolor": "white",
           "landcolor": "#E5ECF6",
           "showlakes": true,
           "showland": true,
           "subunitcolor": "white"
          },
          "hoverlabel": {
           "align": "left"
          },
          "hovermode": "closest",
          "mapbox": {
           "style": "light"
          },
          "paper_bgcolor": "white",
          "plot_bgcolor": "#E5ECF6",
          "polar": {
           "angularaxis": {
            "gridcolor": "white",
            "linecolor": "white",
            "ticks": ""
           },
           "bgcolor": "#E5ECF6",
           "radialaxis": {
            "gridcolor": "white",
            "linecolor": "white",
            "ticks": ""
           }
          },
          "scene": {
           "xaxis": {
            "backgroundcolor": "#E5ECF6",
            "gridcolor": "white",
            "gridwidth": 2,
            "linecolor": "white",
            "showbackground": true,
            "ticks": "",
            "zerolinecolor": "white"
           },
           "yaxis": {
            "backgroundcolor": "#E5ECF6",
            "gridcolor": "white",
            "gridwidth": 2,
            "linecolor": "white",
            "showbackground": true,
            "ticks": "",
            "zerolinecolor": "white"
           },
           "zaxis": {
            "backgroundcolor": "#E5ECF6",
            "gridcolor": "white",
            "gridwidth": 2,
            "linecolor": "white",
            "showbackground": true,
            "ticks": "",
            "zerolinecolor": "white"
           }
          },
          "shapedefaults": {
           "line": {
            "color": "#2a3f5f"
           }
          },
          "ternary": {
           "aaxis": {
            "gridcolor": "white",
            "linecolor": "white",
            "ticks": ""
           },
           "baxis": {
            "gridcolor": "white",
            "linecolor": "white",
            "ticks": ""
           },
           "bgcolor": "#E5ECF6",
           "caxis": {
            "gridcolor": "white",
            "linecolor": "white",
            "ticks": ""
           }
          },
          "title": {
           "x": 0.05
          },
          "xaxis": {
           "automargin": true,
           "gridcolor": "white",
           "linecolor": "white",
           "ticks": "",
           "title": {
            "standoff": 15
           },
           "zerolinecolor": "white",
           "zerolinewidth": 2
          },
          "yaxis": {
           "automargin": true,
           "gridcolor": "white",
           "linecolor": "white",
           "ticks": "",
           "title": {
            "standoff": 15
           },
           "zerolinecolor": "white",
           "zerolinewidth": 2
          }
         }
        },
        "title": {
         "text": "Decomposição do PNA de um Dotal Misto Pagamento 10 / Duração 20 / Valor R$100.000,00",
         "x": 0.48,
         "xanchor": "center",
         "y": 0.9,
         "yanchor": "top"
        },
        "xaxis": {
         "tickfont": {
          "size": 15
         },
         "title": {
          "text": "Idade"
         }
        },
        "yaxis": {
         "tickfont": {
          "size": 15
         },
         "title": {
          "text": "PNA"
         }
        }
       }
      },
      "text/html": [
       "<div>\n",
       "        \n",
       "        \n",
       "            <div id=\"53ac1208-0389-4d1f-a926-58f82dd7b1ee\" class=\"plotly-graph-div\" style=\"height:525px; width:100%;\"></div>\n",
       "            <script type=\"text/javascript\">\n",
       "                require([\"plotly\"], function(Plotly) {\n",
       "                    window.PLOTLYENV=window.PLOTLYENV || {};\n",
       "                    \n",
       "                if (document.getElementById(\"53ac1208-0389-4d1f-a926-58f82dd7b1ee\")) {\n",
       "                    Plotly.newPlot(\n",
       "                        '53ac1208-0389-4d1f-a926-58f82dd7b1ee',\n",
       "                        [{\"mode\": \"lines\", \"name\": \"Dotal Puro\", \"type\": \"scatter\", \"x\": [0, 1, 2, 3, 4, 5, 6, 7, 8, 9, 10, 11, 12, 13, 14, 15, 16, 17, 18, 19, 20, 21, 22, 23, 24, 25, 26, 27, 28, 29, 30, 31, 32, 33, 34, 35, 36, 37, 38, 39, 40, 41, 42, 43, 44, 45, 46, 47, 48, 49, 50, 51, 52, 53, 54, 55, 56, 57, 58, 59, 60, 61, 62, 63, 64, 65, 66, 67, 68, 69, 70, 71, 72, 73, 74, 75, 76, 77, 78, 79, 80, 81, 82, 83, 84, 85, 86, 87, 88, 89, 90, 91, 92, 93, 94, 95], \"y\": [5591.298024004127, 5590.630744156577, 5589.492352590491, 5588.144505271652, 5586.646822294189, 5585.029263678515, 5583.327761830001, 5581.572075879644, 5579.805539453532, 5578.033455855632, 5576.267334083683, 5574.534911453463, 5572.862915286795, 5571.282365663307, 5569.793926099267, 5568.407083130712, 5567.131243533052, 5565.970852290409, 5564.78205025965, 5563.45780143152, 5561.865159080938, 5559.860954419242, 5557.286589723637, 5553.9686933450475, 5549.733057949222, 5544.415479576575, 5537.875089831277, 5530.006097908361, 5520.729717734078, 5509.997105954344, 5497.780550621159, 5484.053743171298, 5468.803711121253, 5452.03230910011, 5433.747290730326, 5413.984367857068, 5392.816392994313, 5370.344436408667, 5346.66865761369, 5321.88584425945, 5295.995498418277, 5268.875856352186, 5240.2911495948865, 5209.888612594517, 5177.208400619691, 5141.698963635539, 5102.718132598313, 5059.542701968639, 5011.383276723652, 4957.417245318839, 4896.913273378802, 4829.266190347967, 4754.016196105, 4670.861706526959, 4579.617068698948, 4480.077875362106, 4371.9855979135955, 4255.089600494986, 4129.153920828605, 3994.025771683779, 3849.723871871885, 3696.446909180448, 3534.583693659975, 3364.704720674008, 3187.542810354032, 3004.000932308653, 2815.1326248328965, 2622.1573355689943, 2426.4544185566824, 2229.5605161571725, 2033.2448398214776, 1839.4362444805301, 1650.1422197319814, 1467.3468168606482, 1292.9101038075917, 1128.478537304911, 975.4019207008963, 834.6974415370292, 707.0155174358368, 592.2853729159388, 490.01874504338275, 399.53391960351627, 320.1144211535232, 251.09915190464062, 191.9185670698161, 142.0839013538789, 101.13746872877228, 68.57794879601101, 43.77686246189146, 25.91136997496081, 13.937150725944539, 6.626010553892241, 2.674112341316768, 0.859246599530444, 0.19548898016430483, 0.023631763777788358]}, {\"mode\": \"lines\", \"name\": \"Seguro de Vida\", \"type\": \"scatter\", \"x\": [0, 1, 2, 3, 4, 5, 6, 7, 8, 9, 10, 11, 12, 13, 14, 15, 16, 17, 18, 19, 20, 21, 22, 23, 24, 25, 26, 27, 28, 29, 30, 31, 32, 33, 34, 35, 36, 37, 38, 39, 40, 41, 42, 43, 44, 45, 46, 47, 48, 49, 50, 51, 52, 53, 54, 55, 56, 57, 58, 59, 60, 61, 62, 63, 64, 65, 66, 67, 68, 69, 70, 71, 72, 73, 74, 75, 76, 77, 78, 79, 80, 81, 82, 83, 84, 85, 86, 87, 88, 89, 90, 91, 92, 93, 94, 95], \"y\": [96.51678019928012, 74.86170455548591, 69.88737496659664, 69.82993658650288, 71.11304937578683, 73.24567314273209, 76.03412170450828, 79.37585297668427, 83.17222825787837, 86.71451312208966, 90.06884217685904, 93.26826364568532, 96.34050725416532, 99.31454347666235, 102.22932490367596, 105.11986132663563, 107.98547648898835, 110.84342713320902, 113.8069131807963, 116.97926019857339, 120.46527231283486, 124.37923852232616, 128.85078880016243, 134.03774918929938, 140.10362822350965, 147.2064807991216, 155.52456057338622, 165.2087296398975, 176.44104572834428, 189.39322776467628, 204.2374574414479, 221.19341406483477, 240.48206811331318, 262.3384171859729, 286.9433326662189, 314.48670782846443, 345.1453422111384, 379.0764305414494, 416.1169354546295, 456.1857882896777, 499.2411317375483, 545.3434256906796, 594.638433127649, 647.3620349396994, 703.8591419666599, 764.5976774715533, 830.1982289589376, 901.4588099563107, 979.2983886612845, 1064.7440509572855, 1158.7955185293254, 1262.348338538805, 1376.2069882940211, 1501.0810865160784, 1637.6235559709316, 1786.629797910497, 1949.124412086172, 2126.317394890509, 2319.60153776071, 2530.501257971851, 2760.3697584107344, 3010.300628542823, 3281.111159266785, 3573.314985996474, 3887.1347886187505, 4222.518601123099, 4579.149654903926, 4956.429537412658, 5353.497516770439, 5769.287308950413, 6202.7673226806055, 6653.126172332622, 7119.947707042863, 7603.420653554931, 8104.400454567569, 8624.0936069161, 9163.941728536163, 9725.750972528836, 10311.609354001797, 10924.335769726671, 11567.47436103048, 12245.118571752171, 12961.820113730813, 13722.493052782273, 14532.2650959232, 15396.440053762544, 16320.257817304642, 17308.85151579473, 18367.033721269807, 19499.379932893735, 20711.546027900426, 22010.777565407065, 23406.638888447065, 24911.78300581587, 26543.090438002902, 28323.702639849296]}, {\"mode\": \"lines\", \"name\": \"Dotal Misto\", \"type\": \"scatter\", \"x\": [0, 1, 2, 3, 4, 5, 6, 7, 8, 9, 10, 11, 12, 13, 14, 15, 16, 17, 18, 19, 20, 21, 22, 23, 24, 25, 26, 27, 28, 29, 30, 31, 32, 33, 34, 35, 36, 37, 38, 39, 40, 41, 42, 43, 44, 45, 46, 47, 48, 49, 50, 51, 52, 53, 54, 55, 56, 57, 58, 59, 60, 61, 62, 63, 64, 65, 66, 67, 68, 69, 70, 71, 72, 73, 74, 75, 76, 77, 78, 79, 80, 81, 82, 83, 84, 85, 86, 87, 88, 89, 90, 91, 92, 93, 94, 95], \"y\": [5687.814804203406, 5665.4924487120625, 5659.379727557087, 5657.974441858155, 5657.759871669976, 5658.274936821248, 5659.361883534509, 5660.947928856328, 5662.977767711411, 5664.747968977722, 5666.336176260542, 5667.803175099148, 5669.20342254096, 5670.596909139969, 5672.023251002943, 5673.526944457347, 5675.11672002204, 5676.814279423618, 5678.588963440447, 5680.437061630094, 5682.330431393772, 5684.240192941569, 5686.137378523799, 5688.006442534348, 5689.836686172732, 5691.621960375697, 5693.3996504046645, 5695.214827548259, 5697.170763462421, 5699.3903337190195, 5702.018008062608, 5705.247157236134, 5709.285779234567, 5714.370726286082, 5720.690623396546, 5728.471075685533, 5737.96173520545, 5749.420866950117, 5762.785593068319, 5778.071632549128, 5795.236630155826, 5814.219282042865, 5834.929582722534, 5857.250647534216, 5881.06754258635, 5906.296641107092, 5932.916361557251, 5961.001511924951, 5990.681665384936, 6022.1612962761255, 6055.708791908127, 6091.614528886771, 6130.22318439902, 6171.942793043037, 6217.240624669879, 6266.707673272604, 6321.110009999767, 6381.406995385497, 6448.755458589314, 6524.52702965563, 6610.093630282619, 6706.747537723272, 6815.694852926761, 6938.019706670482, 7074.677598972782, 7226.519533431752, 7394.2822797368235, 7578.586872981652, 7779.95193532712, 7998.847825107586, 8236.012162502084, 8492.562416813153, 8770.089926774846, 9070.76747041558, 9397.310558375162, 9752.57214422101, 10139.343649237058, 10560.448414065864, 11018.624871437634, 11516.621142642609, 12057.493106073864, 12644.65249135569, 13281.934534884338, 13973.592204686913, 14724.183662993015, 15538.523955116423, 16421.395286033418, 17377.42946459074, 18410.810583731694, 19525.291302868693, 20725.483178626368, 22017.403575960954, 23409.31300078838, 24912.6422524154, 26543.28592698307, 28323.726271613075]}],\n",
       "                        {\"legend\": {\"font\": {\"color\": \"black\", \"family\": \"arial\", \"size\": 15}, \"orientation\": \"h\", \"x\": 0.25, \"y\": -0.15}, \"template\": {\"data\": {\"bar\": [{\"error_x\": {\"color\": \"#2a3f5f\"}, \"error_y\": {\"color\": \"#2a3f5f\"}, \"marker\": {\"line\": {\"color\": \"#E5ECF6\", \"width\": 0.5}}, \"type\": \"bar\"}], \"barpolar\": [{\"marker\": {\"line\": {\"color\": \"#E5ECF6\", \"width\": 0.5}}, \"type\": \"barpolar\"}], \"carpet\": [{\"aaxis\": {\"endlinecolor\": \"#2a3f5f\", \"gridcolor\": \"white\", \"linecolor\": \"white\", \"minorgridcolor\": \"white\", \"startlinecolor\": \"#2a3f5f\"}, \"baxis\": {\"endlinecolor\": \"#2a3f5f\", \"gridcolor\": \"white\", \"linecolor\": \"white\", \"minorgridcolor\": \"white\", \"startlinecolor\": \"#2a3f5f\"}, \"type\": \"carpet\"}], \"choropleth\": [{\"colorbar\": {\"outlinewidth\": 0, \"ticks\": \"\"}, \"type\": \"choropleth\"}], \"contour\": [{\"colorbar\": {\"outlinewidth\": 0, \"ticks\": \"\"}, \"colorscale\": [[0.0, \"#0d0887\"], [0.1111111111111111, \"#46039f\"], [0.2222222222222222, \"#7201a8\"], [0.3333333333333333, \"#9c179e\"], [0.4444444444444444, \"#bd3786\"], [0.5555555555555556, \"#d8576b\"], [0.6666666666666666, \"#ed7953\"], [0.7777777777777778, \"#fb9f3a\"], [0.8888888888888888, \"#fdca26\"], [1.0, \"#f0f921\"]], \"type\": \"contour\"}], \"contourcarpet\": [{\"colorbar\": {\"outlinewidth\": 0, \"ticks\": \"\"}, \"type\": \"contourcarpet\"}], \"heatmap\": [{\"colorbar\": {\"outlinewidth\": 0, \"ticks\": \"\"}, \"colorscale\": [[0.0, \"#0d0887\"], [0.1111111111111111, \"#46039f\"], [0.2222222222222222, \"#7201a8\"], [0.3333333333333333, \"#9c179e\"], [0.4444444444444444, \"#bd3786\"], [0.5555555555555556, \"#d8576b\"], [0.6666666666666666, \"#ed7953\"], [0.7777777777777778, \"#fb9f3a\"], [0.8888888888888888, \"#fdca26\"], [1.0, \"#f0f921\"]], \"type\": \"heatmap\"}], \"heatmapgl\": [{\"colorbar\": {\"outlinewidth\": 0, \"ticks\": \"\"}, \"colorscale\": [[0.0, \"#0d0887\"], [0.1111111111111111, \"#46039f\"], [0.2222222222222222, \"#7201a8\"], [0.3333333333333333, \"#9c179e\"], [0.4444444444444444, \"#bd3786\"], [0.5555555555555556, \"#d8576b\"], [0.6666666666666666, \"#ed7953\"], [0.7777777777777778, \"#fb9f3a\"], [0.8888888888888888, \"#fdca26\"], [1.0, \"#f0f921\"]], \"type\": \"heatmapgl\"}], \"histogram\": [{\"marker\": {\"colorbar\": {\"outlinewidth\": 0, \"ticks\": \"\"}}, \"type\": \"histogram\"}], \"histogram2d\": [{\"colorbar\": {\"outlinewidth\": 0, \"ticks\": \"\"}, \"colorscale\": [[0.0, \"#0d0887\"], [0.1111111111111111, \"#46039f\"], [0.2222222222222222, \"#7201a8\"], [0.3333333333333333, \"#9c179e\"], [0.4444444444444444, \"#bd3786\"], [0.5555555555555556, \"#d8576b\"], [0.6666666666666666, \"#ed7953\"], [0.7777777777777778, \"#fb9f3a\"], [0.8888888888888888, \"#fdca26\"], [1.0, \"#f0f921\"]], \"type\": \"histogram2d\"}], \"histogram2dcontour\": [{\"colorbar\": {\"outlinewidth\": 0, \"ticks\": \"\"}, \"colorscale\": [[0.0, \"#0d0887\"], [0.1111111111111111, \"#46039f\"], [0.2222222222222222, \"#7201a8\"], [0.3333333333333333, \"#9c179e\"], [0.4444444444444444, \"#bd3786\"], [0.5555555555555556, \"#d8576b\"], [0.6666666666666666, \"#ed7953\"], [0.7777777777777778, \"#fb9f3a\"], [0.8888888888888888, \"#fdca26\"], [1.0, \"#f0f921\"]], \"type\": \"histogram2dcontour\"}], \"mesh3d\": [{\"colorbar\": {\"outlinewidth\": 0, \"ticks\": \"\"}, \"type\": \"mesh3d\"}], \"parcoords\": [{\"line\": {\"colorbar\": {\"outlinewidth\": 0, \"ticks\": \"\"}}, \"type\": \"parcoords\"}], \"pie\": [{\"automargin\": true, \"type\": \"pie\"}], \"scatter\": [{\"marker\": {\"colorbar\": {\"outlinewidth\": 0, \"ticks\": \"\"}}, \"type\": \"scatter\"}], \"scatter3d\": [{\"line\": {\"colorbar\": {\"outlinewidth\": 0, \"ticks\": \"\"}}, \"marker\": {\"colorbar\": {\"outlinewidth\": 0, \"ticks\": \"\"}}, \"type\": \"scatter3d\"}], \"scattercarpet\": [{\"marker\": {\"colorbar\": {\"outlinewidth\": 0, \"ticks\": \"\"}}, \"type\": \"scattercarpet\"}], \"scattergeo\": [{\"marker\": {\"colorbar\": {\"outlinewidth\": 0, \"ticks\": \"\"}}, \"type\": \"scattergeo\"}], \"scattergl\": [{\"marker\": {\"colorbar\": {\"outlinewidth\": 0, \"ticks\": \"\"}}, \"type\": \"scattergl\"}], \"scattermapbox\": [{\"marker\": {\"colorbar\": {\"outlinewidth\": 0, \"ticks\": \"\"}}, \"type\": \"scattermapbox\"}], \"scatterpolar\": [{\"marker\": {\"colorbar\": {\"outlinewidth\": 0, \"ticks\": \"\"}}, \"type\": \"scatterpolar\"}], \"scatterpolargl\": [{\"marker\": {\"colorbar\": {\"outlinewidth\": 0, \"ticks\": \"\"}}, \"type\": \"scatterpolargl\"}], \"scatterternary\": [{\"marker\": {\"colorbar\": {\"outlinewidth\": 0, \"ticks\": \"\"}}, \"type\": \"scatterternary\"}], \"surface\": [{\"colorbar\": {\"outlinewidth\": 0, \"ticks\": \"\"}, \"colorscale\": [[0.0, \"#0d0887\"], [0.1111111111111111, \"#46039f\"], [0.2222222222222222, \"#7201a8\"], [0.3333333333333333, \"#9c179e\"], [0.4444444444444444, \"#bd3786\"], [0.5555555555555556, \"#d8576b\"], [0.6666666666666666, \"#ed7953\"], [0.7777777777777778, \"#fb9f3a\"], [0.8888888888888888, \"#fdca26\"], [1.0, \"#f0f921\"]], \"type\": \"surface\"}], \"table\": [{\"cells\": {\"fill\": {\"color\": \"#EBF0F8\"}, \"line\": {\"color\": \"white\"}}, \"header\": {\"fill\": {\"color\": \"#C8D4E3\"}, \"line\": {\"color\": \"white\"}}, \"type\": \"table\"}]}, \"layout\": {\"annotationdefaults\": {\"arrowcolor\": \"#2a3f5f\", \"arrowhead\": 0, \"arrowwidth\": 1}, \"coloraxis\": {\"colorbar\": {\"outlinewidth\": 0, \"ticks\": \"\"}}, \"colorscale\": {\"diverging\": [[0, \"#8e0152\"], [0.1, \"#c51b7d\"], [0.2, \"#de77ae\"], [0.3, \"#f1b6da\"], [0.4, \"#fde0ef\"], [0.5, \"#f7f7f7\"], [0.6, \"#e6f5d0\"], [0.7, \"#b8e186\"], [0.8, \"#7fbc41\"], [0.9, \"#4d9221\"], [1, \"#276419\"]], \"sequential\": [[0.0, \"#0d0887\"], [0.1111111111111111, \"#46039f\"], [0.2222222222222222, \"#7201a8\"], [0.3333333333333333, \"#9c179e\"], [0.4444444444444444, \"#bd3786\"], [0.5555555555555556, \"#d8576b\"], [0.6666666666666666, \"#ed7953\"], [0.7777777777777778, \"#fb9f3a\"], [0.8888888888888888, \"#fdca26\"], [1.0, \"#f0f921\"]], \"sequentialminus\": [[0.0, \"#0d0887\"], [0.1111111111111111, \"#46039f\"], [0.2222222222222222, \"#7201a8\"], [0.3333333333333333, \"#9c179e\"], [0.4444444444444444, \"#bd3786\"], [0.5555555555555556, \"#d8576b\"], [0.6666666666666666, \"#ed7953\"], [0.7777777777777778, \"#fb9f3a\"], [0.8888888888888888, \"#fdca26\"], [1.0, \"#f0f921\"]]}, \"colorway\": [\"#636efa\", \"#EF553B\", \"#00cc96\", \"#ab63fa\", \"#FFA15A\", \"#19d3f3\", \"#FF6692\", \"#B6E880\", \"#FF97FF\", \"#FECB52\"], \"font\": {\"color\": \"#2a3f5f\"}, \"geo\": {\"bgcolor\": \"white\", \"lakecolor\": \"white\", \"landcolor\": \"#E5ECF6\", \"showlakes\": true, \"showland\": true, \"subunitcolor\": \"white\"}, \"hoverlabel\": {\"align\": \"left\"}, \"hovermode\": \"closest\", \"mapbox\": {\"style\": \"light\"}, \"paper_bgcolor\": \"white\", \"plot_bgcolor\": \"#E5ECF6\", \"polar\": {\"angularaxis\": {\"gridcolor\": \"white\", \"linecolor\": \"white\", \"ticks\": \"\"}, \"bgcolor\": \"#E5ECF6\", \"radialaxis\": {\"gridcolor\": \"white\", \"linecolor\": \"white\", \"ticks\": \"\"}}, \"scene\": {\"xaxis\": {\"backgroundcolor\": \"#E5ECF6\", \"gridcolor\": \"white\", \"gridwidth\": 2, \"linecolor\": \"white\", \"showbackground\": true, \"ticks\": \"\", \"zerolinecolor\": \"white\"}, \"yaxis\": {\"backgroundcolor\": \"#E5ECF6\", \"gridcolor\": \"white\", \"gridwidth\": 2, \"linecolor\": \"white\", \"showbackground\": true, \"ticks\": \"\", \"zerolinecolor\": \"white\"}, \"zaxis\": {\"backgroundcolor\": \"#E5ECF6\", \"gridcolor\": \"white\", \"gridwidth\": 2, \"linecolor\": \"white\", \"showbackground\": true, \"ticks\": \"\", \"zerolinecolor\": \"white\"}}, \"shapedefaults\": {\"line\": {\"color\": \"#2a3f5f\"}}, \"ternary\": {\"aaxis\": {\"gridcolor\": \"white\", \"linecolor\": \"white\", \"ticks\": \"\"}, \"baxis\": {\"gridcolor\": \"white\", \"linecolor\": \"white\", \"ticks\": \"\"}, \"bgcolor\": \"#E5ECF6\", \"caxis\": {\"gridcolor\": \"white\", \"linecolor\": \"white\", \"ticks\": \"\"}}, \"title\": {\"x\": 0.05}, \"xaxis\": {\"automargin\": true, \"gridcolor\": \"white\", \"linecolor\": \"white\", \"ticks\": \"\", \"title\": {\"standoff\": 15}, \"zerolinecolor\": \"white\", \"zerolinewidth\": 2}, \"yaxis\": {\"automargin\": true, \"gridcolor\": \"white\", \"linecolor\": \"white\", \"ticks\": \"\", \"title\": {\"standoff\": 15}, \"zerolinecolor\": \"white\", \"zerolinewidth\": 2}}}, \"title\": {\"text\": \"Decomposi\\u00e7\\u00e3o do PNA de um Dotal Misto Pagamento 10 / Dura\\u00e7\\u00e3o 20 / Valor R$100.000,00\", \"x\": 0.48, \"xanchor\": \"center\", \"y\": 0.9, \"yanchor\": \"top\"}, \"xaxis\": {\"tickfont\": {\"size\": 15}, \"title\": {\"text\": \"Idade\"}}, \"yaxis\": {\"tickfont\": {\"size\": 15}, \"title\": {\"text\": \"PNA\"}}},\n",
       "                        {\"responsive\": true}\n",
       "                    ).then(function(){\n",
       "                            \n",
       "var gd = document.getElementById('53ac1208-0389-4d1f-a926-58f82dd7b1ee');\n",
       "var x = new MutationObserver(function (mutations, observer) {{\n",
       "        var display = window.getComputedStyle(gd).display;\n",
       "        if (!display || display === 'none') {{\n",
       "            console.log([gd, 'removed!']);\n",
       "            Plotly.purge(gd);\n",
       "            observer.disconnect();\n",
       "        }}\n",
       "}});\n",
       "\n",
       "// Listen for the removal of the full notebook cells\n",
       "var notebookContainer = gd.closest('#notebook-container');\n",
       "if (notebookContainer) {{\n",
       "    x.observe(notebookContainer, {childList: true});\n",
       "}}\n",
       "\n",
       "// Listen for the clearing of the current output cell\n",
       "var outputEl = gd.closest('.output');\n",
       "if (outputEl) {{\n",
       "    x.observe(outputEl, {childList: true});\n",
       "}}\n",
       "\n",
       "                        })\n",
       "                };\n",
       "                });\n",
       "            </script>\n",
       "        </div>"
      ]
     },
     "metadata": {},
     "output_type": "display_data"
    }
   ],
   "source": [
    "values = []\n",
    "c1 = 'd' # País desenvolvido\n",
    "c2 = 'A' #Cenário atual\n",
    "c3 = 'D' #Governo Dilma\n",
    "desc1 = \"Dotal Puro\"\n",
    "desc2 = \"Seguro de Vida\"\n",
    "desc3 = \"Dotal Misto\"\n",
    "\n",
    "fig = go.Figure()\n",
    "\n",
    "for c, desc in zip([c1, c2, c3], [desc1, desc2, desc3]):\n",
    "    x_ = []\n",
    "    y_ = []\n",
    "    for age in range(0, 100):\n",
    "        try:\n",
    "            cell = []\n",
    "            b.gen_commutations(0.04)\n",
    "            prazo = 20\n",
    "            dif = 0\n",
    "                \n",
    "            b.calc_premium(age=age, dif_benef=dif, \n",
    "                   term_benef=prazo, dif_pay=0, \n",
    "                   term_pay=10, antecip_pay=False, prod=c)\n",
    "            \n",
    "            \n",
    "            x_.append(age)\n",
    "            y_.append(b.pna*value)\n",
    "        except:\n",
    "            pass\n",
    "        \n",
    "    fig.add_trace(go.Scatter(x=np.array(x_), y=np.array(y_),\n",
    "                              mode='lines',\n",
    "                              name=desc))\n",
    "    \n",
    "    title = \"Decomposição do PNA de um Dotal Misto Pagamento 10 / Duração 20 / Valor R$100.000,00\"\n",
    "    \n",
    "    fig.update_layout(title={'text':title,\n",
    "                              'y':0.9,\n",
    "                              'x':0.48,\n",
    "                             'xanchor': 'center',\n",
    "                             'yanchor': 'top'},\n",
    "                      xaxis_title='Idade',\n",
    "                      yaxis_title='PNA', \n",
    "                      legend_orientation=\"h\",\n",
    "                      legend=dict(x=0.25, y=-0.15,\n",
    "                                  font=dict(\n",
    "                                  family=\"arial\",\n",
    "                                  size=15,\n",
    "                                  color=\"black\"\n",
    "                      )))\n",
    "    fig.update_xaxes(tickfont = dict(size=15))\n",
    "    fig.update_yaxes(tickfont = dict(size=15))\n",
    "            \n",
    "fig.show()"
   ]
  },
  {
   "cell_type": "code",
   "execution_count": 45,
   "metadata": {},
   "outputs": [
    {
     "data": {
      "application/vnd.plotly.v1+json": {
       "config": {
        "plotlyServerURL": "https://plot.ly"
       },
       "data": [
        {
         "mode": "lines",
         "type": "scatter",
         "x": [
          0,
          1,
          2,
          3,
          4,
          5,
          6,
          7,
          8,
          9,
          10,
          11,
          12,
          13,
          14,
          15,
          16,
          17,
          18,
          19,
          20,
          21,
          22,
          23,
          24,
          25,
          26,
          27,
          28,
          29
         ],
         "y": [
          0,
          10291.325494944436,
          21002.254540395967,
          32150.416647568138,
          43753.59352939343,
          55830.38361125301,
          58030.35900003115,
          60320.067493622344,
          62702.17408263723,
          65179.89791692629,
          67756.6238431351,
          70436.05360076611,
          73222.21929693558,
          76119.53809817879,
          79132.91465866724,
          82267.82055726966,
          85530.34649453181,
          88927.22238912438,
          92465.75443786981,
          96153.84615384614,
          100000,
          0,
          0,
          0,
          0,
          0,
          0,
          0,
          0,
          0
         ]
        }
       ],
       "layout": {
        "legend": {
         "font": {
          "color": "black",
          "family": "arial",
          "size": 15
         },
         "orientation": "h",
         "x": 0.25,
         "y": -0.15
        },
        "template": {
         "data": {
          "bar": [
           {
            "error_x": {
             "color": "#2a3f5f"
            },
            "error_y": {
             "color": "#2a3f5f"
            },
            "marker": {
             "line": {
              "color": "#E5ECF6",
              "width": 0.5
             }
            },
            "type": "bar"
           }
          ],
          "barpolar": [
           {
            "marker": {
             "line": {
              "color": "#E5ECF6",
              "width": 0.5
             }
            },
            "type": "barpolar"
           }
          ],
          "carpet": [
           {
            "aaxis": {
             "endlinecolor": "#2a3f5f",
             "gridcolor": "white",
             "linecolor": "white",
             "minorgridcolor": "white",
             "startlinecolor": "#2a3f5f"
            },
            "baxis": {
             "endlinecolor": "#2a3f5f",
             "gridcolor": "white",
             "linecolor": "white",
             "minorgridcolor": "white",
             "startlinecolor": "#2a3f5f"
            },
            "type": "carpet"
           }
          ],
          "choropleth": [
           {
            "colorbar": {
             "outlinewidth": 0,
             "ticks": ""
            },
            "type": "choropleth"
           }
          ],
          "contour": [
           {
            "colorbar": {
             "outlinewidth": 0,
             "ticks": ""
            },
            "colorscale": [
             [
              0,
              "#0d0887"
             ],
             [
              0.1111111111111111,
              "#46039f"
             ],
             [
              0.2222222222222222,
              "#7201a8"
             ],
             [
              0.3333333333333333,
              "#9c179e"
             ],
             [
              0.4444444444444444,
              "#bd3786"
             ],
             [
              0.5555555555555556,
              "#d8576b"
             ],
             [
              0.6666666666666666,
              "#ed7953"
             ],
             [
              0.7777777777777778,
              "#fb9f3a"
             ],
             [
              0.8888888888888888,
              "#fdca26"
             ],
             [
              1,
              "#f0f921"
             ]
            ],
            "type": "contour"
           }
          ],
          "contourcarpet": [
           {
            "colorbar": {
             "outlinewidth": 0,
             "ticks": ""
            },
            "type": "contourcarpet"
           }
          ],
          "heatmap": [
           {
            "colorbar": {
             "outlinewidth": 0,
             "ticks": ""
            },
            "colorscale": [
             [
              0,
              "#0d0887"
             ],
             [
              0.1111111111111111,
              "#46039f"
             ],
             [
              0.2222222222222222,
              "#7201a8"
             ],
             [
              0.3333333333333333,
              "#9c179e"
             ],
             [
              0.4444444444444444,
              "#bd3786"
             ],
             [
              0.5555555555555556,
              "#d8576b"
             ],
             [
              0.6666666666666666,
              "#ed7953"
             ],
             [
              0.7777777777777778,
              "#fb9f3a"
             ],
             [
              0.8888888888888888,
              "#fdca26"
             ],
             [
              1,
              "#f0f921"
             ]
            ],
            "type": "heatmap"
           }
          ],
          "heatmapgl": [
           {
            "colorbar": {
             "outlinewidth": 0,
             "ticks": ""
            },
            "colorscale": [
             [
              0,
              "#0d0887"
             ],
             [
              0.1111111111111111,
              "#46039f"
             ],
             [
              0.2222222222222222,
              "#7201a8"
             ],
             [
              0.3333333333333333,
              "#9c179e"
             ],
             [
              0.4444444444444444,
              "#bd3786"
             ],
             [
              0.5555555555555556,
              "#d8576b"
             ],
             [
              0.6666666666666666,
              "#ed7953"
             ],
             [
              0.7777777777777778,
              "#fb9f3a"
             ],
             [
              0.8888888888888888,
              "#fdca26"
             ],
             [
              1,
              "#f0f921"
             ]
            ],
            "type": "heatmapgl"
           }
          ],
          "histogram": [
           {
            "marker": {
             "colorbar": {
              "outlinewidth": 0,
              "ticks": ""
             }
            },
            "type": "histogram"
           }
          ],
          "histogram2d": [
           {
            "colorbar": {
             "outlinewidth": 0,
             "ticks": ""
            },
            "colorscale": [
             [
              0,
              "#0d0887"
             ],
             [
              0.1111111111111111,
              "#46039f"
             ],
             [
              0.2222222222222222,
              "#7201a8"
             ],
             [
              0.3333333333333333,
              "#9c179e"
             ],
             [
              0.4444444444444444,
              "#bd3786"
             ],
             [
              0.5555555555555556,
              "#d8576b"
             ],
             [
              0.6666666666666666,
              "#ed7953"
             ],
             [
              0.7777777777777778,
              "#fb9f3a"
             ],
             [
              0.8888888888888888,
              "#fdca26"
             ],
             [
              1,
              "#f0f921"
             ]
            ],
            "type": "histogram2d"
           }
          ],
          "histogram2dcontour": [
           {
            "colorbar": {
             "outlinewidth": 0,
             "ticks": ""
            },
            "colorscale": [
             [
              0,
              "#0d0887"
             ],
             [
              0.1111111111111111,
              "#46039f"
             ],
             [
              0.2222222222222222,
              "#7201a8"
             ],
             [
              0.3333333333333333,
              "#9c179e"
             ],
             [
              0.4444444444444444,
              "#bd3786"
             ],
             [
              0.5555555555555556,
              "#d8576b"
             ],
             [
              0.6666666666666666,
              "#ed7953"
             ],
             [
              0.7777777777777778,
              "#fb9f3a"
             ],
             [
              0.8888888888888888,
              "#fdca26"
             ],
             [
              1,
              "#f0f921"
             ]
            ],
            "type": "histogram2dcontour"
           }
          ],
          "mesh3d": [
           {
            "colorbar": {
             "outlinewidth": 0,
             "ticks": ""
            },
            "type": "mesh3d"
           }
          ],
          "parcoords": [
           {
            "line": {
             "colorbar": {
              "outlinewidth": 0,
              "ticks": ""
             }
            },
            "type": "parcoords"
           }
          ],
          "pie": [
           {
            "automargin": true,
            "type": "pie"
           }
          ],
          "scatter": [
           {
            "marker": {
             "colorbar": {
              "outlinewidth": 0,
              "ticks": ""
             }
            },
            "type": "scatter"
           }
          ],
          "scatter3d": [
           {
            "line": {
             "colorbar": {
              "outlinewidth": 0,
              "ticks": ""
             }
            },
            "marker": {
             "colorbar": {
              "outlinewidth": 0,
              "ticks": ""
             }
            },
            "type": "scatter3d"
           }
          ],
          "scattercarpet": [
           {
            "marker": {
             "colorbar": {
              "outlinewidth": 0,
              "ticks": ""
             }
            },
            "type": "scattercarpet"
           }
          ],
          "scattergeo": [
           {
            "marker": {
             "colorbar": {
              "outlinewidth": 0,
              "ticks": ""
             }
            },
            "type": "scattergeo"
           }
          ],
          "scattergl": [
           {
            "marker": {
             "colorbar": {
              "outlinewidth": 0,
              "ticks": ""
             }
            },
            "type": "scattergl"
           }
          ],
          "scattermapbox": [
           {
            "marker": {
             "colorbar": {
              "outlinewidth": 0,
              "ticks": ""
             }
            },
            "type": "scattermapbox"
           }
          ],
          "scatterpolar": [
           {
            "marker": {
             "colorbar": {
              "outlinewidth": 0,
              "ticks": ""
             }
            },
            "type": "scatterpolar"
           }
          ],
          "scatterpolargl": [
           {
            "marker": {
             "colorbar": {
              "outlinewidth": 0,
              "ticks": ""
             }
            },
            "type": "scatterpolargl"
           }
          ],
          "scatterternary": [
           {
            "marker": {
             "colorbar": {
              "outlinewidth": 0,
              "ticks": ""
             }
            },
            "type": "scatterternary"
           }
          ],
          "surface": [
           {
            "colorbar": {
             "outlinewidth": 0,
             "ticks": ""
            },
            "colorscale": [
             [
              0,
              "#0d0887"
             ],
             [
              0.1111111111111111,
              "#46039f"
             ],
             [
              0.2222222222222222,
              "#7201a8"
             ],
             [
              0.3333333333333333,
              "#9c179e"
             ],
             [
              0.4444444444444444,
              "#bd3786"
             ],
             [
              0.5555555555555556,
              "#d8576b"
             ],
             [
              0.6666666666666666,
              "#ed7953"
             ],
             [
              0.7777777777777778,
              "#fb9f3a"
             ],
             [
              0.8888888888888888,
              "#fdca26"
             ],
             [
              1,
              "#f0f921"
             ]
            ],
            "type": "surface"
           }
          ],
          "table": [
           {
            "cells": {
             "fill": {
              "color": "#EBF0F8"
             },
             "line": {
              "color": "white"
             }
            },
            "header": {
             "fill": {
              "color": "#C8D4E3"
             },
             "line": {
              "color": "white"
             }
            },
            "type": "table"
           }
          ]
         },
         "layout": {
          "annotationdefaults": {
           "arrowcolor": "#2a3f5f",
           "arrowhead": 0,
           "arrowwidth": 1
          },
          "coloraxis": {
           "colorbar": {
            "outlinewidth": 0,
            "ticks": ""
           }
          },
          "colorscale": {
           "diverging": [
            [
             0,
             "#8e0152"
            ],
            [
             0.1,
             "#c51b7d"
            ],
            [
             0.2,
             "#de77ae"
            ],
            [
             0.3,
             "#f1b6da"
            ],
            [
             0.4,
             "#fde0ef"
            ],
            [
             0.5,
             "#f7f7f7"
            ],
            [
             0.6,
             "#e6f5d0"
            ],
            [
             0.7,
             "#b8e186"
            ],
            [
             0.8,
             "#7fbc41"
            ],
            [
             0.9,
             "#4d9221"
            ],
            [
             1,
             "#276419"
            ]
           ],
           "sequential": [
            [
             0,
             "#0d0887"
            ],
            [
             0.1111111111111111,
             "#46039f"
            ],
            [
             0.2222222222222222,
             "#7201a8"
            ],
            [
             0.3333333333333333,
             "#9c179e"
            ],
            [
             0.4444444444444444,
             "#bd3786"
            ],
            [
             0.5555555555555556,
             "#d8576b"
            ],
            [
             0.6666666666666666,
             "#ed7953"
            ],
            [
             0.7777777777777778,
             "#fb9f3a"
            ],
            [
             0.8888888888888888,
             "#fdca26"
            ],
            [
             1,
             "#f0f921"
            ]
           ],
           "sequentialminus": [
            [
             0,
             "#0d0887"
            ],
            [
             0.1111111111111111,
             "#46039f"
            ],
            [
             0.2222222222222222,
             "#7201a8"
            ],
            [
             0.3333333333333333,
             "#9c179e"
            ],
            [
             0.4444444444444444,
             "#bd3786"
            ],
            [
             0.5555555555555556,
             "#d8576b"
            ],
            [
             0.6666666666666666,
             "#ed7953"
            ],
            [
             0.7777777777777778,
             "#fb9f3a"
            ],
            [
             0.8888888888888888,
             "#fdca26"
            ],
            [
             1,
             "#f0f921"
            ]
           ]
          },
          "colorway": [
           "#636efa",
           "#EF553B",
           "#00cc96",
           "#ab63fa",
           "#FFA15A",
           "#19d3f3",
           "#FF6692",
           "#B6E880",
           "#FF97FF",
           "#FECB52"
          ],
          "font": {
           "color": "#2a3f5f"
          },
          "geo": {
           "bgcolor": "white",
           "lakecolor": "white",
           "landcolor": "#E5ECF6",
           "showlakes": true,
           "showland": true,
           "subunitcolor": "white"
          },
          "hoverlabel": {
           "align": "left"
          },
          "hovermode": "closest",
          "mapbox": {
           "style": "light"
          },
          "paper_bgcolor": "white",
          "plot_bgcolor": "#E5ECF6",
          "polar": {
           "angularaxis": {
            "gridcolor": "white",
            "linecolor": "white",
            "ticks": ""
           },
           "bgcolor": "#E5ECF6",
           "radialaxis": {
            "gridcolor": "white",
            "linecolor": "white",
            "ticks": ""
           }
          },
          "scene": {
           "xaxis": {
            "backgroundcolor": "#E5ECF6",
            "gridcolor": "white",
            "gridwidth": 2,
            "linecolor": "white",
            "showbackground": true,
            "ticks": "",
            "zerolinecolor": "white"
           },
           "yaxis": {
            "backgroundcolor": "#E5ECF6",
            "gridcolor": "white",
            "gridwidth": 2,
            "linecolor": "white",
            "showbackground": true,
            "ticks": "",
            "zerolinecolor": "white"
           },
           "zaxis": {
            "backgroundcolor": "#E5ECF6",
            "gridcolor": "white",
            "gridwidth": 2,
            "linecolor": "white",
            "showbackground": true,
            "ticks": "",
            "zerolinecolor": "white"
           }
          },
          "shapedefaults": {
           "line": {
            "color": "#2a3f5f"
           }
          },
          "ternary": {
           "aaxis": {
            "gridcolor": "white",
            "linecolor": "white",
            "ticks": ""
           },
           "baxis": {
            "gridcolor": "white",
            "linecolor": "white",
            "ticks": ""
           },
           "bgcolor": "#E5ECF6",
           "caxis": {
            "gridcolor": "white",
            "linecolor": "white",
            "ticks": ""
           }
          },
          "title": {
           "x": 0.05
          },
          "xaxis": {
           "automargin": true,
           "gridcolor": "white",
           "linecolor": "white",
           "ticks": "",
           "title": {
            "standoff": 15
           },
           "zerolinecolor": "white",
           "zerolinewidth": 2
          },
          "yaxis": {
           "automargin": true,
           "gridcolor": "white",
           "linecolor": "white",
           "ticks": "",
           "title": {
            "standoff": 15
           },
           "zerolinecolor": "white",
           "zerolinewidth": 2
          }
         }
        },
        "title": {
         "text": "Reserva Dotal Misto Pagamento 5 / Duração 20 / Valor R$100.000,00",
         "x": 0.5,
         "xanchor": "center",
         "y": 0.9,
         "yanchor": "top"
        },
        "xaxis": {
         "tickfont": {
          "size": 15
         },
         "title": {
          "text": "t"
         }
        },
        "yaxis": {
         "tickfont": {
          "size": 15
         },
         "title": {
          "text": "Reserva"
         }
        }
       }
      },
      "text/html": [
       "<div>\n",
       "        \n",
       "        \n",
       "            <div id=\"2916a8a8-df4d-4b65-9278-ddc0efa0641b\" class=\"plotly-graph-div\" style=\"height:525px; width:100%;\"></div>\n",
       "            <script type=\"text/javascript\">\n",
       "                require([\"plotly\"], function(Plotly) {\n",
       "                    window.PLOTLYENV=window.PLOTLYENV || {};\n",
       "                    \n",
       "                if (document.getElementById(\"2916a8a8-df4d-4b65-9278-ddc0efa0641b\")) {\n",
       "                    Plotly.newPlot(\n",
       "                        '2916a8a8-df4d-4b65-9278-ddc0efa0641b',\n",
       "                        [{\"mode\": \"lines\", \"type\": \"scatter\", \"x\": [0, 1, 2, 3, 4, 5, 6, 7, 8, 9, 10, 11, 12, 13, 14, 15, 16, 17, 18, 19, 20, 21, 22, 23, 24, 25, 26, 27, 28, 29], \"y\": [0.0, 10291.325494944436, 21002.254540395967, 32150.416647568138, 43753.59352939343, 55830.38361125301, 58030.35900003115, 60320.067493622344, 62702.17408263723, 65179.89791692629, 67756.6238431351, 70436.05360076611, 73222.21929693558, 76119.53809817879, 79132.91465866724, 82267.82055726966, 85530.34649453181, 88927.22238912438, 92465.75443786981, 96153.84615384614, 100000.0, 0.0, 0.0, 0.0, 0.0, 0.0, 0.0, 0.0, 0.0, 0.0]}],\n",
       "                        {\"legend\": {\"font\": {\"color\": \"black\", \"family\": \"arial\", \"size\": 15}, \"orientation\": \"h\", \"x\": 0.25, \"y\": -0.15}, \"template\": {\"data\": {\"bar\": [{\"error_x\": {\"color\": \"#2a3f5f\"}, \"error_y\": {\"color\": \"#2a3f5f\"}, \"marker\": {\"line\": {\"color\": \"#E5ECF6\", \"width\": 0.5}}, \"type\": \"bar\"}], \"barpolar\": [{\"marker\": {\"line\": {\"color\": \"#E5ECF6\", \"width\": 0.5}}, \"type\": \"barpolar\"}], \"carpet\": [{\"aaxis\": {\"endlinecolor\": \"#2a3f5f\", \"gridcolor\": \"white\", \"linecolor\": \"white\", \"minorgridcolor\": \"white\", \"startlinecolor\": \"#2a3f5f\"}, \"baxis\": {\"endlinecolor\": \"#2a3f5f\", \"gridcolor\": \"white\", \"linecolor\": \"white\", \"minorgridcolor\": \"white\", \"startlinecolor\": \"#2a3f5f\"}, \"type\": \"carpet\"}], \"choropleth\": [{\"colorbar\": {\"outlinewidth\": 0, \"ticks\": \"\"}, \"type\": \"choropleth\"}], \"contour\": [{\"colorbar\": {\"outlinewidth\": 0, \"ticks\": \"\"}, \"colorscale\": [[0.0, \"#0d0887\"], [0.1111111111111111, \"#46039f\"], [0.2222222222222222, \"#7201a8\"], [0.3333333333333333, \"#9c179e\"], [0.4444444444444444, \"#bd3786\"], [0.5555555555555556, \"#d8576b\"], [0.6666666666666666, \"#ed7953\"], [0.7777777777777778, \"#fb9f3a\"], [0.8888888888888888, \"#fdca26\"], [1.0, \"#f0f921\"]], \"type\": \"contour\"}], \"contourcarpet\": [{\"colorbar\": {\"outlinewidth\": 0, \"ticks\": \"\"}, \"type\": \"contourcarpet\"}], \"heatmap\": [{\"colorbar\": {\"outlinewidth\": 0, \"ticks\": \"\"}, \"colorscale\": [[0.0, \"#0d0887\"], [0.1111111111111111, \"#46039f\"], [0.2222222222222222, \"#7201a8\"], [0.3333333333333333, \"#9c179e\"], [0.4444444444444444, \"#bd3786\"], [0.5555555555555556, \"#d8576b\"], [0.6666666666666666, \"#ed7953\"], [0.7777777777777778, \"#fb9f3a\"], [0.8888888888888888, \"#fdca26\"], [1.0, \"#f0f921\"]], \"type\": \"heatmap\"}], \"heatmapgl\": [{\"colorbar\": {\"outlinewidth\": 0, \"ticks\": \"\"}, \"colorscale\": [[0.0, \"#0d0887\"], [0.1111111111111111, \"#46039f\"], [0.2222222222222222, \"#7201a8\"], [0.3333333333333333, \"#9c179e\"], [0.4444444444444444, \"#bd3786\"], [0.5555555555555556, \"#d8576b\"], [0.6666666666666666, \"#ed7953\"], [0.7777777777777778, \"#fb9f3a\"], [0.8888888888888888, \"#fdca26\"], [1.0, \"#f0f921\"]], \"type\": \"heatmapgl\"}], \"histogram\": [{\"marker\": {\"colorbar\": {\"outlinewidth\": 0, \"ticks\": \"\"}}, \"type\": \"histogram\"}], \"histogram2d\": [{\"colorbar\": {\"outlinewidth\": 0, \"ticks\": \"\"}, \"colorscale\": [[0.0, \"#0d0887\"], [0.1111111111111111, \"#46039f\"], [0.2222222222222222, \"#7201a8\"], [0.3333333333333333, \"#9c179e\"], [0.4444444444444444, \"#bd3786\"], [0.5555555555555556, \"#d8576b\"], [0.6666666666666666, \"#ed7953\"], [0.7777777777777778, \"#fb9f3a\"], [0.8888888888888888, \"#fdca26\"], [1.0, \"#f0f921\"]], \"type\": \"histogram2d\"}], \"histogram2dcontour\": [{\"colorbar\": {\"outlinewidth\": 0, \"ticks\": \"\"}, \"colorscale\": [[0.0, \"#0d0887\"], [0.1111111111111111, \"#46039f\"], [0.2222222222222222, \"#7201a8\"], [0.3333333333333333, \"#9c179e\"], [0.4444444444444444, \"#bd3786\"], [0.5555555555555556, \"#d8576b\"], [0.6666666666666666, \"#ed7953\"], [0.7777777777777778, \"#fb9f3a\"], [0.8888888888888888, \"#fdca26\"], [1.0, \"#f0f921\"]], \"type\": \"histogram2dcontour\"}], \"mesh3d\": [{\"colorbar\": {\"outlinewidth\": 0, \"ticks\": \"\"}, \"type\": \"mesh3d\"}], \"parcoords\": [{\"line\": {\"colorbar\": {\"outlinewidth\": 0, \"ticks\": \"\"}}, \"type\": \"parcoords\"}], \"pie\": [{\"automargin\": true, \"type\": \"pie\"}], \"scatter\": [{\"marker\": {\"colorbar\": {\"outlinewidth\": 0, \"ticks\": \"\"}}, \"type\": \"scatter\"}], \"scatter3d\": [{\"line\": {\"colorbar\": {\"outlinewidth\": 0, \"ticks\": \"\"}}, \"marker\": {\"colorbar\": {\"outlinewidth\": 0, \"ticks\": \"\"}}, \"type\": \"scatter3d\"}], \"scattercarpet\": [{\"marker\": {\"colorbar\": {\"outlinewidth\": 0, \"ticks\": \"\"}}, \"type\": \"scattercarpet\"}], \"scattergeo\": [{\"marker\": {\"colorbar\": {\"outlinewidth\": 0, \"ticks\": \"\"}}, \"type\": \"scattergeo\"}], \"scattergl\": [{\"marker\": {\"colorbar\": {\"outlinewidth\": 0, \"ticks\": \"\"}}, \"type\": \"scattergl\"}], \"scattermapbox\": [{\"marker\": {\"colorbar\": {\"outlinewidth\": 0, \"ticks\": \"\"}}, \"type\": \"scattermapbox\"}], \"scatterpolar\": [{\"marker\": {\"colorbar\": {\"outlinewidth\": 0, \"ticks\": \"\"}}, \"type\": \"scatterpolar\"}], \"scatterpolargl\": [{\"marker\": {\"colorbar\": {\"outlinewidth\": 0, \"ticks\": \"\"}}, \"type\": \"scatterpolargl\"}], \"scatterternary\": [{\"marker\": {\"colorbar\": {\"outlinewidth\": 0, \"ticks\": \"\"}}, \"type\": \"scatterternary\"}], \"surface\": [{\"colorbar\": {\"outlinewidth\": 0, \"ticks\": \"\"}, \"colorscale\": [[0.0, \"#0d0887\"], [0.1111111111111111, \"#46039f\"], [0.2222222222222222, \"#7201a8\"], [0.3333333333333333, \"#9c179e\"], [0.4444444444444444, \"#bd3786\"], [0.5555555555555556, \"#d8576b\"], [0.6666666666666666, \"#ed7953\"], [0.7777777777777778, \"#fb9f3a\"], [0.8888888888888888, \"#fdca26\"], [1.0, \"#f0f921\"]], \"type\": \"surface\"}], \"table\": [{\"cells\": {\"fill\": {\"color\": \"#EBF0F8\"}, \"line\": {\"color\": \"white\"}}, \"header\": {\"fill\": {\"color\": \"#C8D4E3\"}, \"line\": {\"color\": \"white\"}}, \"type\": \"table\"}]}, \"layout\": {\"annotationdefaults\": {\"arrowcolor\": \"#2a3f5f\", \"arrowhead\": 0, \"arrowwidth\": 1}, \"coloraxis\": {\"colorbar\": {\"outlinewidth\": 0, \"ticks\": \"\"}}, \"colorscale\": {\"diverging\": [[0, \"#8e0152\"], [0.1, \"#c51b7d\"], [0.2, \"#de77ae\"], [0.3, \"#f1b6da\"], [0.4, \"#fde0ef\"], [0.5, \"#f7f7f7\"], [0.6, \"#e6f5d0\"], [0.7, \"#b8e186\"], [0.8, \"#7fbc41\"], [0.9, \"#4d9221\"], [1, \"#276419\"]], \"sequential\": [[0.0, \"#0d0887\"], [0.1111111111111111, \"#46039f\"], [0.2222222222222222, \"#7201a8\"], [0.3333333333333333, \"#9c179e\"], [0.4444444444444444, \"#bd3786\"], [0.5555555555555556, \"#d8576b\"], [0.6666666666666666, \"#ed7953\"], [0.7777777777777778, \"#fb9f3a\"], [0.8888888888888888, \"#fdca26\"], [1.0, \"#f0f921\"]], \"sequentialminus\": [[0.0, \"#0d0887\"], [0.1111111111111111, \"#46039f\"], [0.2222222222222222, \"#7201a8\"], [0.3333333333333333, \"#9c179e\"], [0.4444444444444444, \"#bd3786\"], [0.5555555555555556, \"#d8576b\"], [0.6666666666666666, \"#ed7953\"], [0.7777777777777778, \"#fb9f3a\"], [0.8888888888888888, \"#fdca26\"], [1.0, \"#f0f921\"]]}, \"colorway\": [\"#636efa\", \"#EF553B\", \"#00cc96\", \"#ab63fa\", \"#FFA15A\", \"#19d3f3\", \"#FF6692\", \"#B6E880\", \"#FF97FF\", \"#FECB52\"], \"font\": {\"color\": \"#2a3f5f\"}, \"geo\": {\"bgcolor\": \"white\", \"lakecolor\": \"white\", \"landcolor\": \"#E5ECF6\", \"showlakes\": true, \"showland\": true, \"subunitcolor\": \"white\"}, \"hoverlabel\": {\"align\": \"left\"}, \"hovermode\": \"closest\", \"mapbox\": {\"style\": \"light\"}, \"paper_bgcolor\": \"white\", \"plot_bgcolor\": \"#E5ECF6\", \"polar\": {\"angularaxis\": {\"gridcolor\": \"white\", \"linecolor\": \"white\", \"ticks\": \"\"}, \"bgcolor\": \"#E5ECF6\", \"radialaxis\": {\"gridcolor\": \"white\", \"linecolor\": \"white\", \"ticks\": \"\"}}, \"scene\": {\"xaxis\": {\"backgroundcolor\": \"#E5ECF6\", \"gridcolor\": \"white\", \"gridwidth\": 2, \"linecolor\": \"white\", \"showbackground\": true, \"ticks\": \"\", \"zerolinecolor\": \"white\"}, \"yaxis\": {\"backgroundcolor\": \"#E5ECF6\", \"gridcolor\": \"white\", \"gridwidth\": 2, \"linecolor\": \"white\", \"showbackground\": true, \"ticks\": \"\", \"zerolinecolor\": \"white\"}, \"zaxis\": {\"backgroundcolor\": \"#E5ECF6\", \"gridcolor\": \"white\", \"gridwidth\": 2, \"linecolor\": \"white\", \"showbackground\": true, \"ticks\": \"\", \"zerolinecolor\": \"white\"}}, \"shapedefaults\": {\"line\": {\"color\": \"#2a3f5f\"}}, \"ternary\": {\"aaxis\": {\"gridcolor\": \"white\", \"linecolor\": \"white\", \"ticks\": \"\"}, \"baxis\": {\"gridcolor\": \"white\", \"linecolor\": \"white\", \"ticks\": \"\"}, \"bgcolor\": \"#E5ECF6\", \"caxis\": {\"gridcolor\": \"white\", \"linecolor\": \"white\", \"ticks\": \"\"}}, \"title\": {\"x\": 0.05}, \"xaxis\": {\"automargin\": true, \"gridcolor\": \"white\", \"linecolor\": \"white\", \"ticks\": \"\", \"title\": {\"standoff\": 15}, \"zerolinecolor\": \"white\", \"zerolinewidth\": 2}, \"yaxis\": {\"automargin\": true, \"gridcolor\": \"white\", \"linecolor\": \"white\", \"ticks\": \"\", \"title\": {\"standoff\": 15}, \"zerolinecolor\": \"white\", \"zerolinewidth\": 2}}}, \"title\": {\"text\": \"Reserva Dotal Misto Pagamento 5 / Dura\\u00e7\\u00e3o 20 / Valor R$100.000,00\", \"x\": 0.5, \"xanchor\": \"center\", \"y\": 0.9, \"yanchor\": \"top\"}, \"xaxis\": {\"tickfont\": {\"size\": 15}, \"title\": {\"text\": \"t\"}}, \"yaxis\": {\"tickfont\": {\"size\": 15}, \"title\": {\"text\": \"Reserva\"}}},\n",
       "                        {\"responsive\": true}\n",
       "                    ).then(function(){\n",
       "                            \n",
       "var gd = document.getElementById('2916a8a8-df4d-4b65-9278-ddc0efa0641b');\n",
       "var x = new MutationObserver(function (mutations, observer) {{\n",
       "        var display = window.getComputedStyle(gd).display;\n",
       "        if (!display || display === 'none') {{\n",
       "            console.log([gd, 'removed!']);\n",
       "            Plotly.purge(gd);\n",
       "            observer.disconnect();\n",
       "        }}\n",
       "}});\n",
       "\n",
       "// Listen for the removal of the full notebook cells\n",
       "var notebookContainer = gd.closest('#notebook-container');\n",
       "if (notebookContainer) {{\n",
       "    x.observe(notebookContainer, {childList: true});\n",
       "}}\n",
       "\n",
       "// Listen for the clearing of the current output cell\n",
       "var outputEl = gd.closest('.output');\n",
       "if (outputEl) {{\n",
       "    x.observe(outputEl, {childList: true});\n",
       "}}\n",
       "\n",
       "                        })\n",
       "                };\n",
       "                });\n",
       "            </script>\n",
       "        </div>"
      ]
     },
     "metadata": {},
     "output_type": "display_data"
    }
   ],
   "source": [
    "fig = go.Figure()\n",
    "\n",
    "b.gen_commutations(0.04)\n",
    "b.calc_premium(age=30, dif_benef=0, \n",
    "             term_benef=20, dif_pay=0, \n",
    "             term_pay=5, antecip_pay=False, prod='D')\n",
    "t_ = []\n",
    "prosp = []\n",
    "for t in range(0,100):\n",
    "    try:\n",
    "        prosp.append(b.calc_reserves(t)*value)\n",
    "        t_.append(t)\n",
    "    except:\n",
    "        pass\n",
    "    \n",
    "fig.add_trace(go.Scatter(x=np.array(t_[:30]), y=np.array(prosp[:30]),\n",
    "                              mode='lines'))\n",
    "title = \"Reserva Dotal Misto Pagamento 5 / Duração 20 / Valor R$100.000,00\"\n",
    "    \n",
    "fig.update_layout(title={'text':title,\n",
    "                              'y':0.9,\n",
    "                              'x':0.5,\n",
    "                             'xanchor': 'center',\n",
    "                             'yanchor': 'top'},\n",
    "                      xaxis_title='t',\n",
    "                      yaxis_title='Reserva', \n",
    "                      legend_orientation=\"h\",\n",
    "                      legend=dict(x=0.25, y=-0.15,\n",
    "                                  font=dict(\n",
    "                                  family=\"arial\",\n",
    "                                  size=15,\n",
    "                                  color=\"black\"\n",
    "                      )))\n",
    "fig.update_xaxes(tickfont = dict(size=15))\n",
    "fig.update_yaxes(tickfont = dict(size=15))\n"
   ]
  },
  {
   "cell_type": "code",
   "execution_count": 46,
   "metadata": {},
   "outputs": [],
   "source": [
    "tables = [' AT2000 (Suavizada 10%)', 'BR-EMSsb-v.2015', 'BR-EMSmt-v.2015', ' AT2000', 'AT-49']\n",
    "pna_ =[]\n",
    "for gender in [\"M\", \"F\"] :\n",
    "    for tb in tables:\n",
    "        b.select_table(tb, gender)\n",
    "        b.gen_commutations(0.04)\n",
    "        b.calc_premium(age=30, dif_benef=0, \n",
    "             term_benef=20, dif_pay=0, \n",
    "             term_pay=5, antecip_pay=False, prod='D')\n",
    "        pna_.append(b.pna*value)\n",
    "    "
   ]
  },
  {
   "cell_type": "code",
   "execution_count": 57,
   "metadata": {},
   "outputs": [
    {
     "data": {
      "application/vnd.plotly.v1+json": {
       "config": {
        "plotlyServerURL": "https://plot.ly"
       },
       "data": [
        {
         "name": "Masculino",
         "type": "bar",
         "x": [
          " AT2000 (Suavizada 10%)",
          "BR-EMSsb-v.2015",
          "BR-EMSmt-v.2015",
          " AT2000",
          "AT-49"
         ],
         "y": [
          10357.467874656475,
          10367.775621679193,
          10416.82761397989,
          10369.787008771296,
          10445.210621480168
         ]
        },
        {
         "name": "Feminino",
         "type": "bar",
         "x": [
          " AT2000 (Suavizada 10%)",
          "BR-EMSsb-v.2015",
          "BR-EMSmt-v.2015",
          " AT2000",
          "AT-49"
         ],
         "y": [
          10316.206168758828,
          10311.72559053432,
          10341.239916111095,
          10323.594996885022,
          10378.655524633527
         ]
        }
       ],
       "layout": {
        "barmode": "group",
        "legend": {
         "font": {
          "color": "black",
          "family": "arial",
          "size": 15
         },
         "orientation": "h",
         "x": 0.3,
         "y": -0.08
        },
        "template": {
         "data": {
          "bar": [
           {
            "error_x": {
             "color": "#2a3f5f"
            },
            "error_y": {
             "color": "#2a3f5f"
            },
            "marker": {
             "line": {
              "color": "#E5ECF6",
              "width": 0.5
             }
            },
            "type": "bar"
           }
          ],
          "barpolar": [
           {
            "marker": {
             "line": {
              "color": "#E5ECF6",
              "width": 0.5
             }
            },
            "type": "barpolar"
           }
          ],
          "carpet": [
           {
            "aaxis": {
             "endlinecolor": "#2a3f5f",
             "gridcolor": "white",
             "linecolor": "white",
             "minorgridcolor": "white",
             "startlinecolor": "#2a3f5f"
            },
            "baxis": {
             "endlinecolor": "#2a3f5f",
             "gridcolor": "white",
             "linecolor": "white",
             "minorgridcolor": "white",
             "startlinecolor": "#2a3f5f"
            },
            "type": "carpet"
           }
          ],
          "choropleth": [
           {
            "colorbar": {
             "outlinewidth": 0,
             "ticks": ""
            },
            "type": "choropleth"
           }
          ],
          "contour": [
           {
            "colorbar": {
             "outlinewidth": 0,
             "ticks": ""
            },
            "colorscale": [
             [
              0,
              "#0d0887"
             ],
             [
              0.1111111111111111,
              "#46039f"
             ],
             [
              0.2222222222222222,
              "#7201a8"
             ],
             [
              0.3333333333333333,
              "#9c179e"
             ],
             [
              0.4444444444444444,
              "#bd3786"
             ],
             [
              0.5555555555555556,
              "#d8576b"
             ],
             [
              0.6666666666666666,
              "#ed7953"
             ],
             [
              0.7777777777777778,
              "#fb9f3a"
             ],
             [
              0.8888888888888888,
              "#fdca26"
             ],
             [
              1,
              "#f0f921"
             ]
            ],
            "type": "contour"
           }
          ],
          "contourcarpet": [
           {
            "colorbar": {
             "outlinewidth": 0,
             "ticks": ""
            },
            "type": "contourcarpet"
           }
          ],
          "heatmap": [
           {
            "colorbar": {
             "outlinewidth": 0,
             "ticks": ""
            },
            "colorscale": [
             [
              0,
              "#0d0887"
             ],
             [
              0.1111111111111111,
              "#46039f"
             ],
             [
              0.2222222222222222,
              "#7201a8"
             ],
             [
              0.3333333333333333,
              "#9c179e"
             ],
             [
              0.4444444444444444,
              "#bd3786"
             ],
             [
              0.5555555555555556,
              "#d8576b"
             ],
             [
              0.6666666666666666,
              "#ed7953"
             ],
             [
              0.7777777777777778,
              "#fb9f3a"
             ],
             [
              0.8888888888888888,
              "#fdca26"
             ],
             [
              1,
              "#f0f921"
             ]
            ],
            "type": "heatmap"
           }
          ],
          "heatmapgl": [
           {
            "colorbar": {
             "outlinewidth": 0,
             "ticks": ""
            },
            "colorscale": [
             [
              0,
              "#0d0887"
             ],
             [
              0.1111111111111111,
              "#46039f"
             ],
             [
              0.2222222222222222,
              "#7201a8"
             ],
             [
              0.3333333333333333,
              "#9c179e"
             ],
             [
              0.4444444444444444,
              "#bd3786"
             ],
             [
              0.5555555555555556,
              "#d8576b"
             ],
             [
              0.6666666666666666,
              "#ed7953"
             ],
             [
              0.7777777777777778,
              "#fb9f3a"
             ],
             [
              0.8888888888888888,
              "#fdca26"
             ],
             [
              1,
              "#f0f921"
             ]
            ],
            "type": "heatmapgl"
           }
          ],
          "histogram": [
           {
            "marker": {
             "colorbar": {
              "outlinewidth": 0,
              "ticks": ""
             }
            },
            "type": "histogram"
           }
          ],
          "histogram2d": [
           {
            "colorbar": {
             "outlinewidth": 0,
             "ticks": ""
            },
            "colorscale": [
             [
              0,
              "#0d0887"
             ],
             [
              0.1111111111111111,
              "#46039f"
             ],
             [
              0.2222222222222222,
              "#7201a8"
             ],
             [
              0.3333333333333333,
              "#9c179e"
             ],
             [
              0.4444444444444444,
              "#bd3786"
             ],
             [
              0.5555555555555556,
              "#d8576b"
             ],
             [
              0.6666666666666666,
              "#ed7953"
             ],
             [
              0.7777777777777778,
              "#fb9f3a"
             ],
             [
              0.8888888888888888,
              "#fdca26"
             ],
             [
              1,
              "#f0f921"
             ]
            ],
            "type": "histogram2d"
           }
          ],
          "histogram2dcontour": [
           {
            "colorbar": {
             "outlinewidth": 0,
             "ticks": ""
            },
            "colorscale": [
             [
              0,
              "#0d0887"
             ],
             [
              0.1111111111111111,
              "#46039f"
             ],
             [
              0.2222222222222222,
              "#7201a8"
             ],
             [
              0.3333333333333333,
              "#9c179e"
             ],
             [
              0.4444444444444444,
              "#bd3786"
             ],
             [
              0.5555555555555556,
              "#d8576b"
             ],
             [
              0.6666666666666666,
              "#ed7953"
             ],
             [
              0.7777777777777778,
              "#fb9f3a"
             ],
             [
              0.8888888888888888,
              "#fdca26"
             ],
             [
              1,
              "#f0f921"
             ]
            ],
            "type": "histogram2dcontour"
           }
          ],
          "mesh3d": [
           {
            "colorbar": {
             "outlinewidth": 0,
             "ticks": ""
            },
            "type": "mesh3d"
           }
          ],
          "parcoords": [
           {
            "line": {
             "colorbar": {
              "outlinewidth": 0,
              "ticks": ""
             }
            },
            "type": "parcoords"
           }
          ],
          "pie": [
           {
            "automargin": true,
            "type": "pie"
           }
          ],
          "scatter": [
           {
            "marker": {
             "colorbar": {
              "outlinewidth": 0,
              "ticks": ""
             }
            },
            "type": "scatter"
           }
          ],
          "scatter3d": [
           {
            "line": {
             "colorbar": {
              "outlinewidth": 0,
              "ticks": ""
             }
            },
            "marker": {
             "colorbar": {
              "outlinewidth": 0,
              "ticks": ""
             }
            },
            "type": "scatter3d"
           }
          ],
          "scattercarpet": [
           {
            "marker": {
             "colorbar": {
              "outlinewidth": 0,
              "ticks": ""
             }
            },
            "type": "scattercarpet"
           }
          ],
          "scattergeo": [
           {
            "marker": {
             "colorbar": {
              "outlinewidth": 0,
              "ticks": ""
             }
            },
            "type": "scattergeo"
           }
          ],
          "scattergl": [
           {
            "marker": {
             "colorbar": {
              "outlinewidth": 0,
              "ticks": ""
             }
            },
            "type": "scattergl"
           }
          ],
          "scattermapbox": [
           {
            "marker": {
             "colorbar": {
              "outlinewidth": 0,
              "ticks": ""
             }
            },
            "type": "scattermapbox"
           }
          ],
          "scatterpolar": [
           {
            "marker": {
             "colorbar": {
              "outlinewidth": 0,
              "ticks": ""
             }
            },
            "type": "scatterpolar"
           }
          ],
          "scatterpolargl": [
           {
            "marker": {
             "colorbar": {
              "outlinewidth": 0,
              "ticks": ""
             }
            },
            "type": "scatterpolargl"
           }
          ],
          "scatterternary": [
           {
            "marker": {
             "colorbar": {
              "outlinewidth": 0,
              "ticks": ""
             }
            },
            "type": "scatterternary"
           }
          ],
          "surface": [
           {
            "colorbar": {
             "outlinewidth": 0,
             "ticks": ""
            },
            "colorscale": [
             [
              0,
              "#0d0887"
             ],
             [
              0.1111111111111111,
              "#46039f"
             ],
             [
              0.2222222222222222,
              "#7201a8"
             ],
             [
              0.3333333333333333,
              "#9c179e"
             ],
             [
              0.4444444444444444,
              "#bd3786"
             ],
             [
              0.5555555555555556,
              "#d8576b"
             ],
             [
              0.6666666666666666,
              "#ed7953"
             ],
             [
              0.7777777777777778,
              "#fb9f3a"
             ],
             [
              0.8888888888888888,
              "#fdca26"
             ],
             [
              1,
              "#f0f921"
             ]
            ],
            "type": "surface"
           }
          ],
          "table": [
           {
            "cells": {
             "fill": {
              "color": "#EBF0F8"
             },
             "line": {
              "color": "white"
             }
            },
            "header": {
             "fill": {
              "color": "#C8D4E3"
             },
             "line": {
              "color": "white"
             }
            },
            "type": "table"
           }
          ]
         },
         "layout": {
          "annotationdefaults": {
           "arrowcolor": "#2a3f5f",
           "arrowhead": 0,
           "arrowwidth": 1
          },
          "coloraxis": {
           "colorbar": {
            "outlinewidth": 0,
            "ticks": ""
           }
          },
          "colorscale": {
           "diverging": [
            [
             0,
             "#8e0152"
            ],
            [
             0.1,
             "#c51b7d"
            ],
            [
             0.2,
             "#de77ae"
            ],
            [
             0.3,
             "#f1b6da"
            ],
            [
             0.4,
             "#fde0ef"
            ],
            [
             0.5,
             "#f7f7f7"
            ],
            [
             0.6,
             "#e6f5d0"
            ],
            [
             0.7,
             "#b8e186"
            ],
            [
             0.8,
             "#7fbc41"
            ],
            [
             0.9,
             "#4d9221"
            ],
            [
             1,
             "#276419"
            ]
           ],
           "sequential": [
            [
             0,
             "#0d0887"
            ],
            [
             0.1111111111111111,
             "#46039f"
            ],
            [
             0.2222222222222222,
             "#7201a8"
            ],
            [
             0.3333333333333333,
             "#9c179e"
            ],
            [
             0.4444444444444444,
             "#bd3786"
            ],
            [
             0.5555555555555556,
             "#d8576b"
            ],
            [
             0.6666666666666666,
             "#ed7953"
            ],
            [
             0.7777777777777778,
             "#fb9f3a"
            ],
            [
             0.8888888888888888,
             "#fdca26"
            ],
            [
             1,
             "#f0f921"
            ]
           ],
           "sequentialminus": [
            [
             0,
             "#0d0887"
            ],
            [
             0.1111111111111111,
             "#46039f"
            ],
            [
             0.2222222222222222,
             "#7201a8"
            ],
            [
             0.3333333333333333,
             "#9c179e"
            ],
            [
             0.4444444444444444,
             "#bd3786"
            ],
            [
             0.5555555555555556,
             "#d8576b"
            ],
            [
             0.6666666666666666,
             "#ed7953"
            ],
            [
             0.7777777777777778,
             "#fb9f3a"
            ],
            [
             0.8888888888888888,
             "#fdca26"
            ],
            [
             1,
             "#f0f921"
            ]
           ]
          },
          "colorway": [
           "#636efa",
           "#EF553B",
           "#00cc96",
           "#ab63fa",
           "#FFA15A",
           "#19d3f3",
           "#FF6692",
           "#B6E880",
           "#FF97FF",
           "#FECB52"
          ],
          "font": {
           "color": "#2a3f5f"
          },
          "geo": {
           "bgcolor": "white",
           "lakecolor": "white",
           "landcolor": "#E5ECF6",
           "showlakes": true,
           "showland": true,
           "subunitcolor": "white"
          },
          "hoverlabel": {
           "align": "left"
          },
          "hovermode": "closest",
          "mapbox": {
           "style": "light"
          },
          "paper_bgcolor": "white",
          "plot_bgcolor": "#E5ECF6",
          "polar": {
           "angularaxis": {
            "gridcolor": "white",
            "linecolor": "white",
            "ticks": ""
           },
           "bgcolor": "#E5ECF6",
           "radialaxis": {
            "gridcolor": "white",
            "linecolor": "white",
            "ticks": ""
           }
          },
          "scene": {
           "xaxis": {
            "backgroundcolor": "#E5ECF6",
            "gridcolor": "white",
            "gridwidth": 2,
            "linecolor": "white",
            "showbackground": true,
            "ticks": "",
            "zerolinecolor": "white"
           },
           "yaxis": {
            "backgroundcolor": "#E5ECF6",
            "gridcolor": "white",
            "gridwidth": 2,
            "linecolor": "white",
            "showbackground": true,
            "ticks": "",
            "zerolinecolor": "white"
           },
           "zaxis": {
            "backgroundcolor": "#E5ECF6",
            "gridcolor": "white",
            "gridwidth": 2,
            "linecolor": "white",
            "showbackground": true,
            "ticks": "",
            "zerolinecolor": "white"
           }
          },
          "shapedefaults": {
           "line": {
            "color": "#2a3f5f"
           }
          },
          "ternary": {
           "aaxis": {
            "gridcolor": "white",
            "linecolor": "white",
            "ticks": ""
           },
           "baxis": {
            "gridcolor": "white",
            "linecolor": "white",
            "ticks": ""
           },
           "bgcolor": "#E5ECF6",
           "caxis": {
            "gridcolor": "white",
            "linecolor": "white",
            "ticks": ""
           }
          },
          "title": {
           "x": 0.05
          },
          "xaxis": {
           "automargin": true,
           "gridcolor": "white",
           "linecolor": "white",
           "ticks": "",
           "title": {
            "standoff": 15
           },
           "zerolinecolor": "white",
           "zerolinewidth": 2
          },
          "yaxis": {
           "automargin": true,
           "gridcolor": "white",
           "linecolor": "white",
           "ticks": "",
           "title": {
            "standoff": 15
           },
           "zerolinecolor": "white",
           "zerolinewidth": 2
          }
         }
        },
        "title": {
         "text": "Impacto da tábua no Dotal Misto",
         "x": 0.5,
         "xanchor": "center",
         "y": 0.9,
         "yanchor": "top"
        },
        "xaxis": {
         "tickfont": {
          "size": 13
         }
        },
        "yaxis": {
         "tickfont": {
          "size": 15
         },
         "title": {
          "text": "PNA"
         }
        }
       }
      },
      "text/html": [
       "<div>\n",
       "        \n",
       "        \n",
       "            <div id=\"13679864-e83f-4391-ac54-79396738915d\" class=\"plotly-graph-div\" style=\"height:525px; width:100%;\"></div>\n",
       "            <script type=\"text/javascript\">\n",
       "                require([\"plotly\"], function(Plotly) {\n",
       "                    window.PLOTLYENV=window.PLOTLYENV || {};\n",
       "                    \n",
       "                if (document.getElementById(\"13679864-e83f-4391-ac54-79396738915d\")) {\n",
       "                    Plotly.newPlot(\n",
       "                        '13679864-e83f-4391-ac54-79396738915d',\n",
       "                        [{\"name\": \"Masculino\", \"type\": \"bar\", \"x\": [\" AT2000 (Suavizada 10%)\", \"BR-EMSsb-v.2015\", \"BR-EMSmt-v.2015\", \" AT2000\", \"AT-49\"], \"y\": [10357.467874656475, 10367.775621679193, 10416.82761397989, 10369.787008771296, 10445.210621480168]}, {\"name\": \"Feminino\", \"type\": \"bar\", \"x\": [\" AT2000 (Suavizada 10%)\", \"BR-EMSsb-v.2015\", \"BR-EMSmt-v.2015\", \" AT2000\", \"AT-49\"], \"y\": [10316.206168758828, 10311.72559053432, 10341.239916111095, 10323.594996885022, 10378.655524633527]}],\n",
       "                        {\"barmode\": \"group\", \"legend\": {\"font\": {\"color\": \"black\", \"family\": \"arial\", \"size\": 15}, \"orientation\": \"h\", \"x\": 0.3, \"y\": -0.08}, \"template\": {\"data\": {\"bar\": [{\"error_x\": {\"color\": \"#2a3f5f\"}, \"error_y\": {\"color\": \"#2a3f5f\"}, \"marker\": {\"line\": {\"color\": \"#E5ECF6\", \"width\": 0.5}}, \"type\": \"bar\"}], \"barpolar\": [{\"marker\": {\"line\": {\"color\": \"#E5ECF6\", \"width\": 0.5}}, \"type\": \"barpolar\"}], \"carpet\": [{\"aaxis\": {\"endlinecolor\": \"#2a3f5f\", \"gridcolor\": \"white\", \"linecolor\": \"white\", \"minorgridcolor\": \"white\", \"startlinecolor\": \"#2a3f5f\"}, \"baxis\": {\"endlinecolor\": \"#2a3f5f\", \"gridcolor\": \"white\", \"linecolor\": \"white\", \"minorgridcolor\": \"white\", \"startlinecolor\": \"#2a3f5f\"}, \"type\": \"carpet\"}], \"choropleth\": [{\"colorbar\": {\"outlinewidth\": 0, \"ticks\": \"\"}, \"type\": \"choropleth\"}], \"contour\": [{\"colorbar\": {\"outlinewidth\": 0, \"ticks\": \"\"}, \"colorscale\": [[0.0, \"#0d0887\"], [0.1111111111111111, \"#46039f\"], [0.2222222222222222, \"#7201a8\"], [0.3333333333333333, \"#9c179e\"], [0.4444444444444444, \"#bd3786\"], [0.5555555555555556, \"#d8576b\"], [0.6666666666666666, \"#ed7953\"], [0.7777777777777778, \"#fb9f3a\"], [0.8888888888888888, \"#fdca26\"], [1.0, \"#f0f921\"]], \"type\": \"contour\"}], \"contourcarpet\": [{\"colorbar\": {\"outlinewidth\": 0, \"ticks\": \"\"}, \"type\": \"contourcarpet\"}], \"heatmap\": [{\"colorbar\": {\"outlinewidth\": 0, \"ticks\": \"\"}, \"colorscale\": [[0.0, \"#0d0887\"], [0.1111111111111111, \"#46039f\"], [0.2222222222222222, \"#7201a8\"], [0.3333333333333333, \"#9c179e\"], [0.4444444444444444, \"#bd3786\"], [0.5555555555555556, \"#d8576b\"], [0.6666666666666666, \"#ed7953\"], [0.7777777777777778, \"#fb9f3a\"], [0.8888888888888888, \"#fdca26\"], [1.0, \"#f0f921\"]], \"type\": \"heatmap\"}], \"heatmapgl\": [{\"colorbar\": {\"outlinewidth\": 0, \"ticks\": \"\"}, \"colorscale\": [[0.0, \"#0d0887\"], [0.1111111111111111, \"#46039f\"], [0.2222222222222222, \"#7201a8\"], [0.3333333333333333, \"#9c179e\"], [0.4444444444444444, \"#bd3786\"], [0.5555555555555556, \"#d8576b\"], [0.6666666666666666, \"#ed7953\"], [0.7777777777777778, \"#fb9f3a\"], [0.8888888888888888, \"#fdca26\"], [1.0, \"#f0f921\"]], \"type\": \"heatmapgl\"}], \"histogram\": [{\"marker\": {\"colorbar\": {\"outlinewidth\": 0, \"ticks\": \"\"}}, \"type\": \"histogram\"}], \"histogram2d\": [{\"colorbar\": {\"outlinewidth\": 0, \"ticks\": \"\"}, \"colorscale\": [[0.0, \"#0d0887\"], [0.1111111111111111, \"#46039f\"], [0.2222222222222222, \"#7201a8\"], [0.3333333333333333, \"#9c179e\"], [0.4444444444444444, \"#bd3786\"], [0.5555555555555556, \"#d8576b\"], [0.6666666666666666, \"#ed7953\"], [0.7777777777777778, \"#fb9f3a\"], [0.8888888888888888, \"#fdca26\"], [1.0, \"#f0f921\"]], \"type\": \"histogram2d\"}], \"histogram2dcontour\": [{\"colorbar\": {\"outlinewidth\": 0, \"ticks\": \"\"}, \"colorscale\": [[0.0, \"#0d0887\"], [0.1111111111111111, \"#46039f\"], [0.2222222222222222, \"#7201a8\"], [0.3333333333333333, \"#9c179e\"], [0.4444444444444444, \"#bd3786\"], [0.5555555555555556, \"#d8576b\"], [0.6666666666666666, \"#ed7953\"], [0.7777777777777778, \"#fb9f3a\"], [0.8888888888888888, \"#fdca26\"], [1.0, \"#f0f921\"]], \"type\": \"histogram2dcontour\"}], \"mesh3d\": [{\"colorbar\": {\"outlinewidth\": 0, \"ticks\": \"\"}, \"type\": \"mesh3d\"}], \"parcoords\": [{\"line\": {\"colorbar\": {\"outlinewidth\": 0, \"ticks\": \"\"}}, \"type\": \"parcoords\"}], \"pie\": [{\"automargin\": true, \"type\": \"pie\"}], \"scatter\": [{\"marker\": {\"colorbar\": {\"outlinewidth\": 0, \"ticks\": \"\"}}, \"type\": \"scatter\"}], \"scatter3d\": [{\"line\": {\"colorbar\": {\"outlinewidth\": 0, \"ticks\": \"\"}}, \"marker\": {\"colorbar\": {\"outlinewidth\": 0, \"ticks\": \"\"}}, \"type\": \"scatter3d\"}], \"scattercarpet\": [{\"marker\": {\"colorbar\": {\"outlinewidth\": 0, \"ticks\": \"\"}}, \"type\": \"scattercarpet\"}], \"scattergeo\": [{\"marker\": {\"colorbar\": {\"outlinewidth\": 0, \"ticks\": \"\"}}, \"type\": \"scattergeo\"}], \"scattergl\": [{\"marker\": {\"colorbar\": {\"outlinewidth\": 0, \"ticks\": \"\"}}, \"type\": \"scattergl\"}], \"scattermapbox\": [{\"marker\": {\"colorbar\": {\"outlinewidth\": 0, \"ticks\": \"\"}}, \"type\": \"scattermapbox\"}], \"scatterpolar\": [{\"marker\": {\"colorbar\": {\"outlinewidth\": 0, \"ticks\": \"\"}}, \"type\": \"scatterpolar\"}], \"scatterpolargl\": [{\"marker\": {\"colorbar\": {\"outlinewidth\": 0, \"ticks\": \"\"}}, \"type\": \"scatterpolargl\"}], \"scatterternary\": [{\"marker\": {\"colorbar\": {\"outlinewidth\": 0, \"ticks\": \"\"}}, \"type\": \"scatterternary\"}], \"surface\": [{\"colorbar\": {\"outlinewidth\": 0, \"ticks\": \"\"}, \"colorscale\": [[0.0, \"#0d0887\"], [0.1111111111111111, \"#46039f\"], [0.2222222222222222, \"#7201a8\"], [0.3333333333333333, \"#9c179e\"], [0.4444444444444444, \"#bd3786\"], [0.5555555555555556, \"#d8576b\"], [0.6666666666666666, \"#ed7953\"], [0.7777777777777778, \"#fb9f3a\"], [0.8888888888888888, \"#fdca26\"], [1.0, \"#f0f921\"]], \"type\": \"surface\"}], \"table\": [{\"cells\": {\"fill\": {\"color\": \"#EBF0F8\"}, \"line\": {\"color\": \"white\"}}, \"header\": {\"fill\": {\"color\": \"#C8D4E3\"}, \"line\": {\"color\": \"white\"}}, \"type\": \"table\"}]}, \"layout\": {\"annotationdefaults\": {\"arrowcolor\": \"#2a3f5f\", \"arrowhead\": 0, \"arrowwidth\": 1}, \"coloraxis\": {\"colorbar\": {\"outlinewidth\": 0, \"ticks\": \"\"}}, \"colorscale\": {\"diverging\": [[0, \"#8e0152\"], [0.1, \"#c51b7d\"], [0.2, \"#de77ae\"], [0.3, \"#f1b6da\"], [0.4, \"#fde0ef\"], [0.5, \"#f7f7f7\"], [0.6, \"#e6f5d0\"], [0.7, \"#b8e186\"], [0.8, \"#7fbc41\"], [0.9, \"#4d9221\"], [1, \"#276419\"]], \"sequential\": [[0.0, \"#0d0887\"], [0.1111111111111111, \"#46039f\"], [0.2222222222222222, \"#7201a8\"], [0.3333333333333333, \"#9c179e\"], [0.4444444444444444, \"#bd3786\"], [0.5555555555555556, \"#d8576b\"], [0.6666666666666666, \"#ed7953\"], [0.7777777777777778, \"#fb9f3a\"], [0.8888888888888888, \"#fdca26\"], [1.0, \"#f0f921\"]], \"sequentialminus\": [[0.0, \"#0d0887\"], [0.1111111111111111, \"#46039f\"], [0.2222222222222222, \"#7201a8\"], [0.3333333333333333, \"#9c179e\"], [0.4444444444444444, \"#bd3786\"], [0.5555555555555556, \"#d8576b\"], [0.6666666666666666, \"#ed7953\"], [0.7777777777777778, \"#fb9f3a\"], [0.8888888888888888, \"#fdca26\"], [1.0, \"#f0f921\"]]}, \"colorway\": [\"#636efa\", \"#EF553B\", \"#00cc96\", \"#ab63fa\", \"#FFA15A\", \"#19d3f3\", \"#FF6692\", \"#B6E880\", \"#FF97FF\", \"#FECB52\"], \"font\": {\"color\": \"#2a3f5f\"}, \"geo\": {\"bgcolor\": \"white\", \"lakecolor\": \"white\", \"landcolor\": \"#E5ECF6\", \"showlakes\": true, \"showland\": true, \"subunitcolor\": \"white\"}, \"hoverlabel\": {\"align\": \"left\"}, \"hovermode\": \"closest\", \"mapbox\": {\"style\": \"light\"}, \"paper_bgcolor\": \"white\", \"plot_bgcolor\": \"#E5ECF6\", \"polar\": {\"angularaxis\": {\"gridcolor\": \"white\", \"linecolor\": \"white\", \"ticks\": \"\"}, \"bgcolor\": \"#E5ECF6\", \"radialaxis\": {\"gridcolor\": \"white\", \"linecolor\": \"white\", \"ticks\": \"\"}}, \"scene\": {\"xaxis\": {\"backgroundcolor\": \"#E5ECF6\", \"gridcolor\": \"white\", \"gridwidth\": 2, \"linecolor\": \"white\", \"showbackground\": true, \"ticks\": \"\", \"zerolinecolor\": \"white\"}, \"yaxis\": {\"backgroundcolor\": \"#E5ECF6\", \"gridcolor\": \"white\", \"gridwidth\": 2, \"linecolor\": \"white\", \"showbackground\": true, \"ticks\": \"\", \"zerolinecolor\": \"white\"}, \"zaxis\": {\"backgroundcolor\": \"#E5ECF6\", \"gridcolor\": \"white\", \"gridwidth\": 2, \"linecolor\": \"white\", \"showbackground\": true, \"ticks\": \"\", \"zerolinecolor\": \"white\"}}, \"shapedefaults\": {\"line\": {\"color\": \"#2a3f5f\"}}, \"ternary\": {\"aaxis\": {\"gridcolor\": \"white\", \"linecolor\": \"white\", \"ticks\": \"\"}, \"baxis\": {\"gridcolor\": \"white\", \"linecolor\": \"white\", \"ticks\": \"\"}, \"bgcolor\": \"#E5ECF6\", \"caxis\": {\"gridcolor\": \"white\", \"linecolor\": \"white\", \"ticks\": \"\"}}, \"title\": {\"x\": 0.05}, \"xaxis\": {\"automargin\": true, \"gridcolor\": \"white\", \"linecolor\": \"white\", \"ticks\": \"\", \"title\": {\"standoff\": 15}, \"zerolinecolor\": \"white\", \"zerolinewidth\": 2}, \"yaxis\": {\"automargin\": true, \"gridcolor\": \"white\", \"linecolor\": \"white\", \"ticks\": \"\", \"title\": {\"standoff\": 15}, \"zerolinecolor\": \"white\", \"zerolinewidth\": 2}}}, \"title\": {\"text\": \"Impacto da t\\u00e1bua no Dotal Misto\", \"x\": 0.5, \"xanchor\": \"center\", \"y\": 0.9, \"yanchor\": \"top\"}, \"xaxis\": {\"tickfont\": {\"size\": 13}}, \"yaxis\": {\"tickfont\": {\"size\": 15}, \"title\": {\"text\": \"PNA\"}}},\n",
       "                        {\"responsive\": true}\n",
       "                    ).then(function(){\n",
       "                            \n",
       "var gd = document.getElementById('13679864-e83f-4391-ac54-79396738915d');\n",
       "var x = new MutationObserver(function (mutations, observer) {{\n",
       "        var display = window.getComputedStyle(gd).display;\n",
       "        if (!display || display === 'none') {{\n",
       "            console.log([gd, 'removed!']);\n",
       "            Plotly.purge(gd);\n",
       "            observer.disconnect();\n",
       "        }}\n",
       "}});\n",
       "\n",
       "// Listen for the removal of the full notebook cells\n",
       "var notebookContainer = gd.closest('#notebook-container');\n",
       "if (notebookContainer) {{\n",
       "    x.observe(notebookContainer, {childList: true});\n",
       "}}\n",
       "\n",
       "// Listen for the clearing of the current output cell\n",
       "var outputEl = gd.closest('.output');\n",
       "if (outputEl) {{\n",
       "    x.observe(outputEl, {childList: true});\n",
       "}}\n",
       "\n",
       "                        })\n",
       "                };\n",
       "                });\n",
       "            </script>\n",
       "        </div>"
      ]
     },
     "metadata": {},
     "output_type": "display_data"
    }
   ],
   "source": [
    "tables = [' AT2000 (Suavizada 10%)', 'BR-EMSsb-v.2015', 'BR-EMSmt-v.2015', ' AT2000', 'AT-49']\n",
    "pna_ =[]\n",
    "for gender in [\"M\", \"F\"] :\n",
    "    for tb in tables:\n",
    "        b.select_table(tb, gender)\n",
    "        b.gen_commutations(0.04)\n",
    "        b.calc_premium(age=30, dif_benef=0, \n",
    "             term_benef=20, dif_pay=0, \n",
    "             term_pay=5, antecip_pay=False, prod='D')\n",
    "        pna_.append(b.pna*value)\n",
    "    \n",
    "fig = go.Figure(data=[\n",
    "    go.Bar(name='Masculino', x=tables, y=pna_[:5]),\n",
    "    go.Bar(name='Feminino', x=tables, y=pna_[5:])\n",
    "])\n",
    "# Change the bar mode\n",
    "fig.update_layout(barmode='group')\n",
    "\n",
    "title = \"Impacto da tábua no Dotal Misto\"\n",
    "    \n",
    "    \n",
    "fig.update_layout(title={'text':title,\n",
    "                              'y':0.9,\n",
    "                              'x':0.5,\n",
    "                             'xanchor': 'center',\n",
    "                             'yanchor': 'top'},\n",
    "                      yaxis_title='PNA', \n",
    "                      legend_orientation=\"h\",\n",
    "                      legend=dict(x=0.30, y=-0.08,\n",
    "                                  font=dict(\n",
    "                                  family=\"arial\",\n",
    "                                  size=15,\n",
    "                                  color=\"black\"\n",
    "                      )))\n",
    "fig.update_xaxes(tickfont = dict(size=13))\n",
    "fig.update_yaxes(tickfont = dict(size=15))\n",
    "fig.show()"
   ]
  },
  {
   "cell_type": "code",
   "execution_count": 58,
   "metadata": {},
   "outputs": [
    {
     "data": {
      "application/vnd.plotly.v1+json": {
       "config": {
        "plotlyServerURL": "https://plot.ly"
       },
       "data": [
        {
         "name": "Masculino",
         "type": "bar",
         "x": [
          " AT2000 (Suavizada 10%)",
          "BR-EMSsb-v.2015",
          "BR-EMSmt-v.2015",
          " AT2000",
          "AT-49"
         ],
         "y": [
          334.40761358351875,
          340.33754241116935,
          476.69946944942615,
          371.4297166171897,
          663.683065153622
         ]
        },
        {
         "name": "Feminino",
         "type": "bar",
         "x": [
          " AT2000 (Suavizada 10%)",
          "BR-EMSsb-v.2015",
          "BR-EMSmt-v.2015",
          " AT2000",
          "AT-49"
         ],
         "y": [
          195.38025407963997,
          185.1223217129756,
          287.37760904892184,
          217.22689200120047,
          402.3508152558692
         ]
        }
       ],
       "layout": {
        "barmode": "group",
        "legend": {
         "font": {
          "color": "black",
          "family": "arial",
          "size": 15
         },
         "orientation": "h",
         "x": 0.3,
         "y": -0.08
        },
        "template": {
         "data": {
          "bar": [
           {
            "error_x": {
             "color": "#2a3f5f"
            },
            "error_y": {
             "color": "#2a3f5f"
            },
            "marker": {
             "line": {
              "color": "#E5ECF6",
              "width": 0.5
             }
            },
            "type": "bar"
           }
          ],
          "barpolar": [
           {
            "marker": {
             "line": {
              "color": "#E5ECF6",
              "width": 0.5
             }
            },
            "type": "barpolar"
           }
          ],
          "carpet": [
           {
            "aaxis": {
             "endlinecolor": "#2a3f5f",
             "gridcolor": "white",
             "linecolor": "white",
             "minorgridcolor": "white",
             "startlinecolor": "#2a3f5f"
            },
            "baxis": {
             "endlinecolor": "#2a3f5f",
             "gridcolor": "white",
             "linecolor": "white",
             "minorgridcolor": "white",
             "startlinecolor": "#2a3f5f"
            },
            "type": "carpet"
           }
          ],
          "choropleth": [
           {
            "colorbar": {
             "outlinewidth": 0,
             "ticks": ""
            },
            "type": "choropleth"
           }
          ],
          "contour": [
           {
            "colorbar": {
             "outlinewidth": 0,
             "ticks": ""
            },
            "colorscale": [
             [
              0,
              "#0d0887"
             ],
             [
              0.1111111111111111,
              "#46039f"
             ],
             [
              0.2222222222222222,
              "#7201a8"
             ],
             [
              0.3333333333333333,
              "#9c179e"
             ],
             [
              0.4444444444444444,
              "#bd3786"
             ],
             [
              0.5555555555555556,
              "#d8576b"
             ],
             [
              0.6666666666666666,
              "#ed7953"
             ],
             [
              0.7777777777777778,
              "#fb9f3a"
             ],
             [
              0.8888888888888888,
              "#fdca26"
             ],
             [
              1,
              "#f0f921"
             ]
            ],
            "type": "contour"
           }
          ],
          "contourcarpet": [
           {
            "colorbar": {
             "outlinewidth": 0,
             "ticks": ""
            },
            "type": "contourcarpet"
           }
          ],
          "heatmap": [
           {
            "colorbar": {
             "outlinewidth": 0,
             "ticks": ""
            },
            "colorscale": [
             [
              0,
              "#0d0887"
             ],
             [
              0.1111111111111111,
              "#46039f"
             ],
             [
              0.2222222222222222,
              "#7201a8"
             ],
             [
              0.3333333333333333,
              "#9c179e"
             ],
             [
              0.4444444444444444,
              "#bd3786"
             ],
             [
              0.5555555555555556,
              "#d8576b"
             ],
             [
              0.6666666666666666,
              "#ed7953"
             ],
             [
              0.7777777777777778,
              "#fb9f3a"
             ],
             [
              0.8888888888888888,
              "#fdca26"
             ],
             [
              1,
              "#f0f921"
             ]
            ],
            "type": "heatmap"
           }
          ],
          "heatmapgl": [
           {
            "colorbar": {
             "outlinewidth": 0,
             "ticks": ""
            },
            "colorscale": [
             [
              0,
              "#0d0887"
             ],
             [
              0.1111111111111111,
              "#46039f"
             ],
             [
              0.2222222222222222,
              "#7201a8"
             ],
             [
              0.3333333333333333,
              "#9c179e"
             ],
             [
              0.4444444444444444,
              "#bd3786"
             ],
             [
              0.5555555555555556,
              "#d8576b"
             ],
             [
              0.6666666666666666,
              "#ed7953"
             ],
             [
              0.7777777777777778,
              "#fb9f3a"
             ],
             [
              0.8888888888888888,
              "#fdca26"
             ],
             [
              1,
              "#f0f921"
             ]
            ],
            "type": "heatmapgl"
           }
          ],
          "histogram": [
           {
            "marker": {
             "colorbar": {
              "outlinewidth": 0,
              "ticks": ""
             }
            },
            "type": "histogram"
           }
          ],
          "histogram2d": [
           {
            "colorbar": {
             "outlinewidth": 0,
             "ticks": ""
            },
            "colorscale": [
             [
              0,
              "#0d0887"
             ],
             [
              0.1111111111111111,
              "#46039f"
             ],
             [
              0.2222222222222222,
              "#7201a8"
             ],
             [
              0.3333333333333333,
              "#9c179e"
             ],
             [
              0.4444444444444444,
              "#bd3786"
             ],
             [
              0.5555555555555556,
              "#d8576b"
             ],
             [
              0.6666666666666666,
              "#ed7953"
             ],
             [
              0.7777777777777778,
              "#fb9f3a"
             ],
             [
              0.8888888888888888,
              "#fdca26"
             ],
             [
              1,
              "#f0f921"
             ]
            ],
            "type": "histogram2d"
           }
          ],
          "histogram2dcontour": [
           {
            "colorbar": {
             "outlinewidth": 0,
             "ticks": ""
            },
            "colorscale": [
             [
              0,
              "#0d0887"
             ],
             [
              0.1111111111111111,
              "#46039f"
             ],
             [
              0.2222222222222222,
              "#7201a8"
             ],
             [
              0.3333333333333333,
              "#9c179e"
             ],
             [
              0.4444444444444444,
              "#bd3786"
             ],
             [
              0.5555555555555556,
              "#d8576b"
             ],
             [
              0.6666666666666666,
              "#ed7953"
             ],
             [
              0.7777777777777778,
              "#fb9f3a"
             ],
             [
              0.8888888888888888,
              "#fdca26"
             ],
             [
              1,
              "#f0f921"
             ]
            ],
            "type": "histogram2dcontour"
           }
          ],
          "mesh3d": [
           {
            "colorbar": {
             "outlinewidth": 0,
             "ticks": ""
            },
            "type": "mesh3d"
           }
          ],
          "parcoords": [
           {
            "line": {
             "colorbar": {
              "outlinewidth": 0,
              "ticks": ""
             }
            },
            "type": "parcoords"
           }
          ],
          "pie": [
           {
            "automargin": true,
            "type": "pie"
           }
          ],
          "scatter": [
           {
            "marker": {
             "colorbar": {
              "outlinewidth": 0,
              "ticks": ""
             }
            },
            "type": "scatter"
           }
          ],
          "scatter3d": [
           {
            "line": {
             "colorbar": {
              "outlinewidth": 0,
              "ticks": ""
             }
            },
            "marker": {
             "colorbar": {
              "outlinewidth": 0,
              "ticks": ""
             }
            },
            "type": "scatter3d"
           }
          ],
          "scattercarpet": [
           {
            "marker": {
             "colorbar": {
              "outlinewidth": 0,
              "ticks": ""
             }
            },
            "type": "scattercarpet"
           }
          ],
          "scattergeo": [
           {
            "marker": {
             "colorbar": {
              "outlinewidth": 0,
              "ticks": ""
             }
            },
            "type": "scattergeo"
           }
          ],
          "scattergl": [
           {
            "marker": {
             "colorbar": {
              "outlinewidth": 0,
              "ticks": ""
             }
            },
            "type": "scattergl"
           }
          ],
          "scattermapbox": [
           {
            "marker": {
             "colorbar": {
              "outlinewidth": 0,
              "ticks": ""
             }
            },
            "type": "scattermapbox"
           }
          ],
          "scatterpolar": [
           {
            "marker": {
             "colorbar": {
              "outlinewidth": 0,
              "ticks": ""
             }
            },
            "type": "scatterpolar"
           }
          ],
          "scatterpolargl": [
           {
            "marker": {
             "colorbar": {
              "outlinewidth": 0,
              "ticks": ""
             }
            },
            "type": "scatterpolargl"
           }
          ],
          "scatterternary": [
           {
            "marker": {
             "colorbar": {
              "outlinewidth": 0,
              "ticks": ""
             }
            },
            "type": "scatterternary"
           }
          ],
          "surface": [
           {
            "colorbar": {
             "outlinewidth": 0,
             "ticks": ""
            },
            "colorscale": [
             [
              0,
              "#0d0887"
             ],
             [
              0.1111111111111111,
              "#46039f"
             ],
             [
              0.2222222222222222,
              "#7201a8"
             ],
             [
              0.3333333333333333,
              "#9c179e"
             ],
             [
              0.4444444444444444,
              "#bd3786"
             ],
             [
              0.5555555555555556,
              "#d8576b"
             ],
             [
              0.6666666666666666,
              "#ed7953"
             ],
             [
              0.7777777777777778,
              "#fb9f3a"
             ],
             [
              0.8888888888888888,
              "#fdca26"
             ],
             [
              1,
              "#f0f921"
             ]
            ],
            "type": "surface"
           }
          ],
          "table": [
           {
            "cells": {
             "fill": {
              "color": "#EBF0F8"
             },
             "line": {
              "color": "white"
             }
            },
            "header": {
             "fill": {
              "color": "#C8D4E3"
             },
             "line": {
              "color": "white"
             }
            },
            "type": "table"
           }
          ]
         },
         "layout": {
          "annotationdefaults": {
           "arrowcolor": "#2a3f5f",
           "arrowhead": 0,
           "arrowwidth": 1
          },
          "coloraxis": {
           "colorbar": {
            "outlinewidth": 0,
            "ticks": ""
           }
          },
          "colorscale": {
           "diverging": [
            [
             0,
             "#8e0152"
            ],
            [
             0.1,
             "#c51b7d"
            ],
            [
             0.2,
             "#de77ae"
            ],
            [
             0.3,
             "#f1b6da"
            ],
            [
             0.4,
             "#fde0ef"
            ],
            [
             0.5,
             "#f7f7f7"
            ],
            [
             0.6,
             "#e6f5d0"
            ],
            [
             0.7,
             "#b8e186"
            ],
            [
             0.8,
             "#7fbc41"
            ],
            [
             0.9,
             "#4d9221"
            ],
            [
             1,
             "#276419"
            ]
           ],
           "sequential": [
            [
             0,
             "#0d0887"
            ],
            [
             0.1111111111111111,
             "#46039f"
            ],
            [
             0.2222222222222222,
             "#7201a8"
            ],
            [
             0.3333333333333333,
             "#9c179e"
            ],
            [
             0.4444444444444444,
             "#bd3786"
            ],
            [
             0.5555555555555556,
             "#d8576b"
            ],
            [
             0.6666666666666666,
             "#ed7953"
            ],
            [
             0.7777777777777778,
             "#fb9f3a"
            ],
            [
             0.8888888888888888,
             "#fdca26"
            ],
            [
             1,
             "#f0f921"
            ]
           ],
           "sequentialminus": [
            [
             0,
             "#0d0887"
            ],
            [
             0.1111111111111111,
             "#46039f"
            ],
            [
             0.2222222222222222,
             "#7201a8"
            ],
            [
             0.3333333333333333,
             "#9c179e"
            ],
            [
             0.4444444444444444,
             "#bd3786"
            ],
            [
             0.5555555555555556,
             "#d8576b"
            ],
            [
             0.6666666666666666,
             "#ed7953"
            ],
            [
             0.7777777777777778,
             "#fb9f3a"
            ],
            [
             0.8888888888888888,
             "#fdca26"
            ],
            [
             1,
             "#f0f921"
            ]
           ]
          },
          "colorway": [
           "#636efa",
           "#EF553B",
           "#00cc96",
           "#ab63fa",
           "#FFA15A",
           "#19d3f3",
           "#FF6692",
           "#B6E880",
           "#FF97FF",
           "#FECB52"
          ],
          "font": {
           "color": "#2a3f5f"
          },
          "geo": {
           "bgcolor": "white",
           "lakecolor": "white",
           "landcolor": "#E5ECF6",
           "showlakes": true,
           "showland": true,
           "subunitcolor": "white"
          },
          "hoverlabel": {
           "align": "left"
          },
          "hovermode": "closest",
          "mapbox": {
           "style": "light"
          },
          "paper_bgcolor": "white",
          "plot_bgcolor": "#E5ECF6",
          "polar": {
           "angularaxis": {
            "gridcolor": "white",
            "linecolor": "white",
            "ticks": ""
           },
           "bgcolor": "#E5ECF6",
           "radialaxis": {
            "gridcolor": "white",
            "linecolor": "white",
            "ticks": ""
           }
          },
          "scene": {
           "xaxis": {
            "backgroundcolor": "#E5ECF6",
            "gridcolor": "white",
            "gridwidth": 2,
            "linecolor": "white",
            "showbackground": true,
            "ticks": "",
            "zerolinecolor": "white"
           },
           "yaxis": {
            "backgroundcolor": "#E5ECF6",
            "gridcolor": "white",
            "gridwidth": 2,
            "linecolor": "white",
            "showbackground": true,
            "ticks": "",
            "zerolinecolor": "white"
           },
           "zaxis": {
            "backgroundcolor": "#E5ECF6",
            "gridcolor": "white",
            "gridwidth": 2,
            "linecolor": "white",
            "showbackground": true,
            "ticks": "",
            "zerolinecolor": "white"
           }
          },
          "shapedefaults": {
           "line": {
            "color": "#2a3f5f"
           }
          },
          "ternary": {
           "aaxis": {
            "gridcolor": "white",
            "linecolor": "white",
            "ticks": ""
           },
           "baxis": {
            "gridcolor": "white",
            "linecolor": "white",
            "ticks": ""
           },
           "bgcolor": "#E5ECF6",
           "caxis": {
            "gridcolor": "white",
            "linecolor": "white",
            "ticks": ""
           }
          },
          "title": {
           "x": 0.05
          },
          "xaxis": {
           "automargin": true,
           "gridcolor": "white",
           "linecolor": "white",
           "ticks": "",
           "title": {
            "standoff": 15
           },
           "zerolinecolor": "white",
           "zerolinewidth": 2
          },
          "yaxis": {
           "automargin": true,
           "gridcolor": "white",
           "linecolor": "white",
           "ticks": "",
           "title": {
            "standoff": 15
           },
           "zerolinecolor": "white",
           "zerolinewidth": 2
          }
         }
        },
        "title": {
         "text": "Impacto da tábua no Seguro Vida",
         "x": 0.5,
         "xanchor": "center",
         "y": 0.9,
         "yanchor": "top"
        },
        "xaxis": {
         "tickfont": {
          "size": 13
         }
        },
        "yaxis": {
         "tickfont": {
          "size": 15
         },
         "title": {
          "text": "PNA"
         }
        }
       }
      },
      "text/html": [
       "<div>\n",
       "        \n",
       "        \n",
       "            <div id=\"e19e0587-5140-4094-8630-769064e224bb\" class=\"plotly-graph-div\" style=\"height:525px; width:100%;\"></div>\n",
       "            <script type=\"text/javascript\">\n",
       "                require([\"plotly\"], function(Plotly) {\n",
       "                    window.PLOTLYENV=window.PLOTLYENV || {};\n",
       "                    \n",
       "                if (document.getElementById(\"e19e0587-5140-4094-8630-769064e224bb\")) {\n",
       "                    Plotly.newPlot(\n",
       "                        'e19e0587-5140-4094-8630-769064e224bb',\n",
       "                        [{\"name\": \"Masculino\", \"type\": \"bar\", \"x\": [\" AT2000 (Suavizada 10%)\", \"BR-EMSsb-v.2015\", \"BR-EMSmt-v.2015\", \" AT2000\", \"AT-49\"], \"y\": [334.40761358351875, 340.33754241116935, 476.69946944942615, 371.4297166171897, 663.683065153622]}, {\"name\": \"Feminino\", \"type\": \"bar\", \"x\": [\" AT2000 (Suavizada 10%)\", \"BR-EMSsb-v.2015\", \"BR-EMSmt-v.2015\", \" AT2000\", \"AT-49\"], \"y\": [195.38025407963997, 185.1223217129756, 287.37760904892184, 217.22689200120047, 402.3508152558692]}],\n",
       "                        {\"barmode\": \"group\", \"legend\": {\"font\": {\"color\": \"black\", \"family\": \"arial\", \"size\": 15}, \"orientation\": \"h\", \"x\": 0.3, \"y\": -0.08}, \"template\": {\"data\": {\"bar\": [{\"error_x\": {\"color\": \"#2a3f5f\"}, \"error_y\": {\"color\": \"#2a3f5f\"}, \"marker\": {\"line\": {\"color\": \"#E5ECF6\", \"width\": 0.5}}, \"type\": \"bar\"}], \"barpolar\": [{\"marker\": {\"line\": {\"color\": \"#E5ECF6\", \"width\": 0.5}}, \"type\": \"barpolar\"}], \"carpet\": [{\"aaxis\": {\"endlinecolor\": \"#2a3f5f\", \"gridcolor\": \"white\", \"linecolor\": \"white\", \"minorgridcolor\": \"white\", \"startlinecolor\": \"#2a3f5f\"}, \"baxis\": {\"endlinecolor\": \"#2a3f5f\", \"gridcolor\": \"white\", \"linecolor\": \"white\", \"minorgridcolor\": \"white\", \"startlinecolor\": \"#2a3f5f\"}, \"type\": \"carpet\"}], \"choropleth\": [{\"colorbar\": {\"outlinewidth\": 0, \"ticks\": \"\"}, \"type\": \"choropleth\"}], \"contour\": [{\"colorbar\": {\"outlinewidth\": 0, \"ticks\": \"\"}, \"colorscale\": [[0.0, \"#0d0887\"], [0.1111111111111111, \"#46039f\"], [0.2222222222222222, \"#7201a8\"], [0.3333333333333333, \"#9c179e\"], [0.4444444444444444, \"#bd3786\"], [0.5555555555555556, \"#d8576b\"], [0.6666666666666666, \"#ed7953\"], [0.7777777777777778, \"#fb9f3a\"], [0.8888888888888888, \"#fdca26\"], [1.0, \"#f0f921\"]], \"type\": \"contour\"}], \"contourcarpet\": [{\"colorbar\": {\"outlinewidth\": 0, \"ticks\": \"\"}, \"type\": \"contourcarpet\"}], \"heatmap\": [{\"colorbar\": {\"outlinewidth\": 0, \"ticks\": \"\"}, \"colorscale\": [[0.0, \"#0d0887\"], [0.1111111111111111, \"#46039f\"], [0.2222222222222222, \"#7201a8\"], [0.3333333333333333, \"#9c179e\"], [0.4444444444444444, \"#bd3786\"], [0.5555555555555556, \"#d8576b\"], [0.6666666666666666, \"#ed7953\"], [0.7777777777777778, \"#fb9f3a\"], [0.8888888888888888, \"#fdca26\"], [1.0, \"#f0f921\"]], \"type\": \"heatmap\"}], \"heatmapgl\": [{\"colorbar\": {\"outlinewidth\": 0, \"ticks\": \"\"}, \"colorscale\": [[0.0, \"#0d0887\"], [0.1111111111111111, \"#46039f\"], [0.2222222222222222, \"#7201a8\"], [0.3333333333333333, \"#9c179e\"], [0.4444444444444444, \"#bd3786\"], [0.5555555555555556, \"#d8576b\"], [0.6666666666666666, \"#ed7953\"], [0.7777777777777778, \"#fb9f3a\"], [0.8888888888888888, \"#fdca26\"], [1.0, \"#f0f921\"]], \"type\": \"heatmapgl\"}], \"histogram\": [{\"marker\": {\"colorbar\": {\"outlinewidth\": 0, \"ticks\": \"\"}}, \"type\": \"histogram\"}], \"histogram2d\": [{\"colorbar\": {\"outlinewidth\": 0, \"ticks\": \"\"}, \"colorscale\": [[0.0, \"#0d0887\"], [0.1111111111111111, \"#46039f\"], [0.2222222222222222, \"#7201a8\"], [0.3333333333333333, \"#9c179e\"], [0.4444444444444444, \"#bd3786\"], [0.5555555555555556, \"#d8576b\"], [0.6666666666666666, \"#ed7953\"], [0.7777777777777778, \"#fb9f3a\"], [0.8888888888888888, \"#fdca26\"], [1.0, \"#f0f921\"]], \"type\": \"histogram2d\"}], \"histogram2dcontour\": [{\"colorbar\": {\"outlinewidth\": 0, \"ticks\": \"\"}, \"colorscale\": [[0.0, \"#0d0887\"], [0.1111111111111111, \"#46039f\"], [0.2222222222222222, \"#7201a8\"], [0.3333333333333333, \"#9c179e\"], [0.4444444444444444, \"#bd3786\"], [0.5555555555555556, \"#d8576b\"], [0.6666666666666666, \"#ed7953\"], [0.7777777777777778, \"#fb9f3a\"], [0.8888888888888888, \"#fdca26\"], [1.0, \"#f0f921\"]], \"type\": \"histogram2dcontour\"}], \"mesh3d\": [{\"colorbar\": {\"outlinewidth\": 0, \"ticks\": \"\"}, \"type\": \"mesh3d\"}], \"parcoords\": [{\"line\": {\"colorbar\": {\"outlinewidth\": 0, \"ticks\": \"\"}}, \"type\": \"parcoords\"}], \"pie\": [{\"automargin\": true, \"type\": \"pie\"}], \"scatter\": [{\"marker\": {\"colorbar\": {\"outlinewidth\": 0, \"ticks\": \"\"}}, \"type\": \"scatter\"}], \"scatter3d\": [{\"line\": {\"colorbar\": {\"outlinewidth\": 0, \"ticks\": \"\"}}, \"marker\": {\"colorbar\": {\"outlinewidth\": 0, \"ticks\": \"\"}}, \"type\": \"scatter3d\"}], \"scattercarpet\": [{\"marker\": {\"colorbar\": {\"outlinewidth\": 0, \"ticks\": \"\"}}, \"type\": \"scattercarpet\"}], \"scattergeo\": [{\"marker\": {\"colorbar\": {\"outlinewidth\": 0, \"ticks\": \"\"}}, \"type\": \"scattergeo\"}], \"scattergl\": [{\"marker\": {\"colorbar\": {\"outlinewidth\": 0, \"ticks\": \"\"}}, \"type\": \"scattergl\"}], \"scattermapbox\": [{\"marker\": {\"colorbar\": {\"outlinewidth\": 0, \"ticks\": \"\"}}, \"type\": \"scattermapbox\"}], \"scatterpolar\": [{\"marker\": {\"colorbar\": {\"outlinewidth\": 0, \"ticks\": \"\"}}, \"type\": \"scatterpolar\"}], \"scatterpolargl\": [{\"marker\": {\"colorbar\": {\"outlinewidth\": 0, \"ticks\": \"\"}}, \"type\": \"scatterpolargl\"}], \"scatterternary\": [{\"marker\": {\"colorbar\": {\"outlinewidth\": 0, \"ticks\": \"\"}}, \"type\": \"scatterternary\"}], \"surface\": [{\"colorbar\": {\"outlinewidth\": 0, \"ticks\": \"\"}, \"colorscale\": [[0.0, \"#0d0887\"], [0.1111111111111111, \"#46039f\"], [0.2222222222222222, \"#7201a8\"], [0.3333333333333333, \"#9c179e\"], [0.4444444444444444, \"#bd3786\"], [0.5555555555555556, \"#d8576b\"], [0.6666666666666666, \"#ed7953\"], [0.7777777777777778, \"#fb9f3a\"], [0.8888888888888888, \"#fdca26\"], [1.0, \"#f0f921\"]], \"type\": \"surface\"}], \"table\": [{\"cells\": {\"fill\": {\"color\": \"#EBF0F8\"}, \"line\": {\"color\": \"white\"}}, \"header\": {\"fill\": {\"color\": \"#C8D4E3\"}, \"line\": {\"color\": \"white\"}}, \"type\": \"table\"}]}, \"layout\": {\"annotationdefaults\": {\"arrowcolor\": \"#2a3f5f\", \"arrowhead\": 0, \"arrowwidth\": 1}, \"coloraxis\": {\"colorbar\": {\"outlinewidth\": 0, \"ticks\": \"\"}}, \"colorscale\": {\"diverging\": [[0, \"#8e0152\"], [0.1, \"#c51b7d\"], [0.2, \"#de77ae\"], [0.3, \"#f1b6da\"], [0.4, \"#fde0ef\"], [0.5, \"#f7f7f7\"], [0.6, \"#e6f5d0\"], [0.7, \"#b8e186\"], [0.8, \"#7fbc41\"], [0.9, \"#4d9221\"], [1, \"#276419\"]], \"sequential\": [[0.0, \"#0d0887\"], [0.1111111111111111, \"#46039f\"], [0.2222222222222222, \"#7201a8\"], [0.3333333333333333, \"#9c179e\"], [0.4444444444444444, \"#bd3786\"], [0.5555555555555556, \"#d8576b\"], [0.6666666666666666, \"#ed7953\"], [0.7777777777777778, \"#fb9f3a\"], [0.8888888888888888, \"#fdca26\"], [1.0, \"#f0f921\"]], \"sequentialminus\": [[0.0, \"#0d0887\"], [0.1111111111111111, \"#46039f\"], [0.2222222222222222, \"#7201a8\"], [0.3333333333333333, \"#9c179e\"], [0.4444444444444444, \"#bd3786\"], [0.5555555555555556, \"#d8576b\"], [0.6666666666666666, \"#ed7953\"], [0.7777777777777778, \"#fb9f3a\"], [0.8888888888888888, \"#fdca26\"], [1.0, \"#f0f921\"]]}, \"colorway\": [\"#636efa\", \"#EF553B\", \"#00cc96\", \"#ab63fa\", \"#FFA15A\", \"#19d3f3\", \"#FF6692\", \"#B6E880\", \"#FF97FF\", \"#FECB52\"], \"font\": {\"color\": \"#2a3f5f\"}, \"geo\": {\"bgcolor\": \"white\", \"lakecolor\": \"white\", \"landcolor\": \"#E5ECF6\", \"showlakes\": true, \"showland\": true, \"subunitcolor\": \"white\"}, \"hoverlabel\": {\"align\": \"left\"}, \"hovermode\": \"closest\", \"mapbox\": {\"style\": \"light\"}, \"paper_bgcolor\": \"white\", \"plot_bgcolor\": \"#E5ECF6\", \"polar\": {\"angularaxis\": {\"gridcolor\": \"white\", \"linecolor\": \"white\", \"ticks\": \"\"}, \"bgcolor\": \"#E5ECF6\", \"radialaxis\": {\"gridcolor\": \"white\", \"linecolor\": \"white\", \"ticks\": \"\"}}, \"scene\": {\"xaxis\": {\"backgroundcolor\": \"#E5ECF6\", \"gridcolor\": \"white\", \"gridwidth\": 2, \"linecolor\": \"white\", \"showbackground\": true, \"ticks\": \"\", \"zerolinecolor\": \"white\"}, \"yaxis\": {\"backgroundcolor\": \"#E5ECF6\", \"gridcolor\": \"white\", \"gridwidth\": 2, \"linecolor\": \"white\", \"showbackground\": true, \"ticks\": \"\", \"zerolinecolor\": \"white\"}, \"zaxis\": {\"backgroundcolor\": \"#E5ECF6\", \"gridcolor\": \"white\", \"gridwidth\": 2, \"linecolor\": \"white\", \"showbackground\": true, \"ticks\": \"\", \"zerolinecolor\": \"white\"}}, \"shapedefaults\": {\"line\": {\"color\": \"#2a3f5f\"}}, \"ternary\": {\"aaxis\": {\"gridcolor\": \"white\", \"linecolor\": \"white\", \"ticks\": \"\"}, \"baxis\": {\"gridcolor\": \"white\", \"linecolor\": \"white\", \"ticks\": \"\"}, \"bgcolor\": \"#E5ECF6\", \"caxis\": {\"gridcolor\": \"white\", \"linecolor\": \"white\", \"ticks\": \"\"}}, \"title\": {\"x\": 0.05}, \"xaxis\": {\"automargin\": true, \"gridcolor\": \"white\", \"linecolor\": \"white\", \"ticks\": \"\", \"title\": {\"standoff\": 15}, \"zerolinecolor\": \"white\", \"zerolinewidth\": 2}, \"yaxis\": {\"automargin\": true, \"gridcolor\": \"white\", \"linecolor\": \"white\", \"ticks\": \"\", \"title\": {\"standoff\": 15}, \"zerolinecolor\": \"white\", \"zerolinewidth\": 2}}}, \"title\": {\"text\": \"Impacto da t\\u00e1bua no Seguro Vida\", \"x\": 0.5, \"xanchor\": \"center\", \"y\": 0.9, \"yanchor\": \"top\"}, \"xaxis\": {\"tickfont\": {\"size\": 13}}, \"yaxis\": {\"tickfont\": {\"size\": 15}, \"title\": {\"text\": \"PNA\"}}},\n",
       "                        {\"responsive\": true}\n",
       "                    ).then(function(){\n",
       "                            \n",
       "var gd = document.getElementById('e19e0587-5140-4094-8630-769064e224bb');\n",
       "var x = new MutationObserver(function (mutations, observer) {{\n",
       "        var display = window.getComputedStyle(gd).display;\n",
       "        if (!display || display === 'none') {{\n",
       "            console.log([gd, 'removed!']);\n",
       "            Plotly.purge(gd);\n",
       "            observer.disconnect();\n",
       "        }}\n",
       "}});\n",
       "\n",
       "// Listen for the removal of the full notebook cells\n",
       "var notebookContainer = gd.closest('#notebook-container');\n",
       "if (notebookContainer) {{\n",
       "    x.observe(notebookContainer, {childList: true});\n",
       "}}\n",
       "\n",
       "// Listen for the clearing of the current output cell\n",
       "var outputEl = gd.closest('.output');\n",
       "if (outputEl) {{\n",
       "    x.observe(outputEl, {childList: true});\n",
       "}}\n",
       "\n",
       "                        })\n",
       "                };\n",
       "                });\n",
       "            </script>\n",
       "        </div>"
      ]
     },
     "metadata": {},
     "output_type": "display_data"
    }
   ],
   "source": [
    "tables = [' AT2000 (Suavizada 10%)', 'BR-EMSsb-v.2015', 'BR-EMSmt-v.2015', ' AT2000', 'AT-49']\n",
    "pna_ =[]\n",
    "for gender in [\"M\", \"F\"] :\n",
    "    for tb in tables:\n",
    "        b.select_table(tb, gender)\n",
    "        b.gen_commutations(0.04)\n",
    "        b.calc_premium(age=30, dif_benef=0, \n",
    "             term_benef=20, dif_pay=0, \n",
    "             term_pay=5, antecip_pay=False, prod='A')\n",
    "        pna_.append(b.pna*value)\n",
    "    \n",
    "fig = go.Figure(data=[\n",
    "    go.Bar(name='Masculino', x=tables, y=pna_[:5]),\n",
    "    go.Bar(name='Feminino', x=tables, y=pna_[5:])\n",
    "])\n",
    "# Change the bar mode\n",
    "fig.update_layout(barmode='group')\n",
    "\n",
    "title = \"Impacto da tábua no Seguro Vida\"\n",
    "    \n",
    "fig.update_layout(title={'text':title,\n",
    "                              'y':0.9,\n",
    "                              'x':0.5,\n",
    "                             'xanchor': 'center',\n",
    "                             'yanchor': 'top'},\n",
    "                      yaxis_title='PNA', \n",
    "                      legend_orientation=\"h\",\n",
    "                      legend=dict(x=0.30, y=-0.08,\n",
    "                                  font=dict(\n",
    "                                  family=\"arial\",\n",
    "                                  size=15,\n",
    "                                  color=\"black\"\n",
    "                      )))\n",
    "fig.update_xaxes(tickfont = dict(size=13))\n",
    "fig.update_yaxes(tickfont = dict(size=15))\n",
    "fig.show()"
   ]
  },
  {
   "cell_type": "code",
   "execution_count": 59,
   "metadata": {},
   "outputs": [
    {
     "data": {
      "application/vnd.plotly.v1+json": {
       "config": {
        "plotlyServerURL": "https://plot.ly"
       },
       "data": [
        {
         "name": "Masculino",
         "type": "bar",
         "x": [
          " AT2000 (Suavizada 10%)",
          "BR-EMSsb-v.2015",
          "BR-EMSmt-v.2015",
          " AT2000",
          "AT-49"
         ],
         "y": [
          10023.060261072957,
          10027.438079268024,
          9940.128144530463,
          9998.357292154104,
          9781.527556326546
         ]
        },
        {
         "name": "Feminino",
         "type": "bar",
         "x": [
          " AT2000 (Suavizada 10%)",
          "BR-EMSsb-v.2015",
          "BR-EMSmt-v.2015",
          " AT2000",
          "AT-49"
         ],
         "y": [
          10120.825914679188,
          10126.603268821345,
          10053.862307062174,
          10106.36810488382,
          9976.304709377657
         ]
        }
       ],
       "layout": {
        "barmode": "group",
        "legend": {
         "font": {
          "color": "black",
          "family": "arial",
          "size": 15
         },
         "orientation": "h",
         "x": 0.3,
         "y": -0.08
        },
        "template": {
         "data": {
          "bar": [
           {
            "error_x": {
             "color": "#2a3f5f"
            },
            "error_y": {
             "color": "#2a3f5f"
            },
            "marker": {
             "line": {
              "color": "#E5ECF6",
              "width": 0.5
             }
            },
            "type": "bar"
           }
          ],
          "barpolar": [
           {
            "marker": {
             "line": {
              "color": "#E5ECF6",
              "width": 0.5
             }
            },
            "type": "barpolar"
           }
          ],
          "carpet": [
           {
            "aaxis": {
             "endlinecolor": "#2a3f5f",
             "gridcolor": "white",
             "linecolor": "white",
             "minorgridcolor": "white",
             "startlinecolor": "#2a3f5f"
            },
            "baxis": {
             "endlinecolor": "#2a3f5f",
             "gridcolor": "white",
             "linecolor": "white",
             "minorgridcolor": "white",
             "startlinecolor": "#2a3f5f"
            },
            "type": "carpet"
           }
          ],
          "choropleth": [
           {
            "colorbar": {
             "outlinewidth": 0,
             "ticks": ""
            },
            "type": "choropleth"
           }
          ],
          "contour": [
           {
            "colorbar": {
             "outlinewidth": 0,
             "ticks": ""
            },
            "colorscale": [
             [
              0,
              "#0d0887"
             ],
             [
              0.1111111111111111,
              "#46039f"
             ],
             [
              0.2222222222222222,
              "#7201a8"
             ],
             [
              0.3333333333333333,
              "#9c179e"
             ],
             [
              0.4444444444444444,
              "#bd3786"
             ],
             [
              0.5555555555555556,
              "#d8576b"
             ],
             [
              0.6666666666666666,
              "#ed7953"
             ],
             [
              0.7777777777777778,
              "#fb9f3a"
             ],
             [
              0.8888888888888888,
              "#fdca26"
             ],
             [
              1,
              "#f0f921"
             ]
            ],
            "type": "contour"
           }
          ],
          "contourcarpet": [
           {
            "colorbar": {
             "outlinewidth": 0,
             "ticks": ""
            },
            "type": "contourcarpet"
           }
          ],
          "heatmap": [
           {
            "colorbar": {
             "outlinewidth": 0,
             "ticks": ""
            },
            "colorscale": [
             [
              0,
              "#0d0887"
             ],
             [
              0.1111111111111111,
              "#46039f"
             ],
             [
              0.2222222222222222,
              "#7201a8"
             ],
             [
              0.3333333333333333,
              "#9c179e"
             ],
             [
              0.4444444444444444,
              "#bd3786"
             ],
             [
              0.5555555555555556,
              "#d8576b"
             ],
             [
              0.6666666666666666,
              "#ed7953"
             ],
             [
              0.7777777777777778,
              "#fb9f3a"
             ],
             [
              0.8888888888888888,
              "#fdca26"
             ],
             [
              1,
              "#f0f921"
             ]
            ],
            "type": "heatmap"
           }
          ],
          "heatmapgl": [
           {
            "colorbar": {
             "outlinewidth": 0,
             "ticks": ""
            },
            "colorscale": [
             [
              0,
              "#0d0887"
             ],
             [
              0.1111111111111111,
              "#46039f"
             ],
             [
              0.2222222222222222,
              "#7201a8"
             ],
             [
              0.3333333333333333,
              "#9c179e"
             ],
             [
              0.4444444444444444,
              "#bd3786"
             ],
             [
              0.5555555555555556,
              "#d8576b"
             ],
             [
              0.6666666666666666,
              "#ed7953"
             ],
             [
              0.7777777777777778,
              "#fb9f3a"
             ],
             [
              0.8888888888888888,
              "#fdca26"
             ],
             [
              1,
              "#f0f921"
             ]
            ],
            "type": "heatmapgl"
           }
          ],
          "histogram": [
           {
            "marker": {
             "colorbar": {
              "outlinewidth": 0,
              "ticks": ""
             }
            },
            "type": "histogram"
           }
          ],
          "histogram2d": [
           {
            "colorbar": {
             "outlinewidth": 0,
             "ticks": ""
            },
            "colorscale": [
             [
              0,
              "#0d0887"
             ],
             [
              0.1111111111111111,
              "#46039f"
             ],
             [
              0.2222222222222222,
              "#7201a8"
             ],
             [
              0.3333333333333333,
              "#9c179e"
             ],
             [
              0.4444444444444444,
              "#bd3786"
             ],
             [
              0.5555555555555556,
              "#d8576b"
             ],
             [
              0.6666666666666666,
              "#ed7953"
             ],
             [
              0.7777777777777778,
              "#fb9f3a"
             ],
             [
              0.8888888888888888,
              "#fdca26"
             ],
             [
              1,
              "#f0f921"
             ]
            ],
            "type": "histogram2d"
           }
          ],
          "histogram2dcontour": [
           {
            "colorbar": {
             "outlinewidth": 0,
             "ticks": ""
            },
            "colorscale": [
             [
              0,
              "#0d0887"
             ],
             [
              0.1111111111111111,
              "#46039f"
             ],
             [
              0.2222222222222222,
              "#7201a8"
             ],
             [
              0.3333333333333333,
              "#9c179e"
             ],
             [
              0.4444444444444444,
              "#bd3786"
             ],
             [
              0.5555555555555556,
              "#d8576b"
             ],
             [
              0.6666666666666666,
              "#ed7953"
             ],
             [
              0.7777777777777778,
              "#fb9f3a"
             ],
             [
              0.8888888888888888,
              "#fdca26"
             ],
             [
              1,
              "#f0f921"
             ]
            ],
            "type": "histogram2dcontour"
           }
          ],
          "mesh3d": [
           {
            "colorbar": {
             "outlinewidth": 0,
             "ticks": ""
            },
            "type": "mesh3d"
           }
          ],
          "parcoords": [
           {
            "line": {
             "colorbar": {
              "outlinewidth": 0,
              "ticks": ""
             }
            },
            "type": "parcoords"
           }
          ],
          "pie": [
           {
            "automargin": true,
            "type": "pie"
           }
          ],
          "scatter": [
           {
            "marker": {
             "colorbar": {
              "outlinewidth": 0,
              "ticks": ""
             }
            },
            "type": "scatter"
           }
          ],
          "scatter3d": [
           {
            "line": {
             "colorbar": {
              "outlinewidth": 0,
              "ticks": ""
             }
            },
            "marker": {
             "colorbar": {
              "outlinewidth": 0,
              "ticks": ""
             }
            },
            "type": "scatter3d"
           }
          ],
          "scattercarpet": [
           {
            "marker": {
             "colorbar": {
              "outlinewidth": 0,
              "ticks": ""
             }
            },
            "type": "scattercarpet"
           }
          ],
          "scattergeo": [
           {
            "marker": {
             "colorbar": {
              "outlinewidth": 0,
              "ticks": ""
             }
            },
            "type": "scattergeo"
           }
          ],
          "scattergl": [
           {
            "marker": {
             "colorbar": {
              "outlinewidth": 0,
              "ticks": ""
             }
            },
            "type": "scattergl"
           }
          ],
          "scattermapbox": [
           {
            "marker": {
             "colorbar": {
              "outlinewidth": 0,
              "ticks": ""
             }
            },
            "type": "scattermapbox"
           }
          ],
          "scatterpolar": [
           {
            "marker": {
             "colorbar": {
              "outlinewidth": 0,
              "ticks": ""
             }
            },
            "type": "scatterpolar"
           }
          ],
          "scatterpolargl": [
           {
            "marker": {
             "colorbar": {
              "outlinewidth": 0,
              "ticks": ""
             }
            },
            "type": "scatterpolargl"
           }
          ],
          "scatterternary": [
           {
            "marker": {
             "colorbar": {
              "outlinewidth": 0,
              "ticks": ""
             }
            },
            "type": "scatterternary"
           }
          ],
          "surface": [
           {
            "colorbar": {
             "outlinewidth": 0,
             "ticks": ""
            },
            "colorscale": [
             [
              0,
              "#0d0887"
             ],
             [
              0.1111111111111111,
              "#46039f"
             ],
             [
              0.2222222222222222,
              "#7201a8"
             ],
             [
              0.3333333333333333,
              "#9c179e"
             ],
             [
              0.4444444444444444,
              "#bd3786"
             ],
             [
              0.5555555555555556,
              "#d8576b"
             ],
             [
              0.6666666666666666,
              "#ed7953"
             ],
             [
              0.7777777777777778,
              "#fb9f3a"
             ],
             [
              0.8888888888888888,
              "#fdca26"
             ],
             [
              1,
              "#f0f921"
             ]
            ],
            "type": "surface"
           }
          ],
          "table": [
           {
            "cells": {
             "fill": {
              "color": "#EBF0F8"
             },
             "line": {
              "color": "white"
             }
            },
            "header": {
             "fill": {
              "color": "#C8D4E3"
             },
             "line": {
              "color": "white"
             }
            },
            "type": "table"
           }
          ]
         },
         "layout": {
          "annotationdefaults": {
           "arrowcolor": "#2a3f5f",
           "arrowhead": 0,
           "arrowwidth": 1
          },
          "coloraxis": {
           "colorbar": {
            "outlinewidth": 0,
            "ticks": ""
           }
          },
          "colorscale": {
           "diverging": [
            [
             0,
             "#8e0152"
            ],
            [
             0.1,
             "#c51b7d"
            ],
            [
             0.2,
             "#de77ae"
            ],
            [
             0.3,
             "#f1b6da"
            ],
            [
             0.4,
             "#fde0ef"
            ],
            [
             0.5,
             "#f7f7f7"
            ],
            [
             0.6,
             "#e6f5d0"
            ],
            [
             0.7,
             "#b8e186"
            ],
            [
             0.8,
             "#7fbc41"
            ],
            [
             0.9,
             "#4d9221"
            ],
            [
             1,
             "#276419"
            ]
           ],
           "sequential": [
            [
             0,
             "#0d0887"
            ],
            [
             0.1111111111111111,
             "#46039f"
            ],
            [
             0.2222222222222222,
             "#7201a8"
            ],
            [
             0.3333333333333333,
             "#9c179e"
            ],
            [
             0.4444444444444444,
             "#bd3786"
            ],
            [
             0.5555555555555556,
             "#d8576b"
            ],
            [
             0.6666666666666666,
             "#ed7953"
            ],
            [
             0.7777777777777778,
             "#fb9f3a"
            ],
            [
             0.8888888888888888,
             "#fdca26"
            ],
            [
             1,
             "#f0f921"
            ]
           ],
           "sequentialminus": [
            [
             0,
             "#0d0887"
            ],
            [
             0.1111111111111111,
             "#46039f"
            ],
            [
             0.2222222222222222,
             "#7201a8"
            ],
            [
             0.3333333333333333,
             "#9c179e"
            ],
            [
             0.4444444444444444,
             "#bd3786"
            ],
            [
             0.5555555555555556,
             "#d8576b"
            ],
            [
             0.6666666666666666,
             "#ed7953"
            ],
            [
             0.7777777777777778,
             "#fb9f3a"
            ],
            [
             0.8888888888888888,
             "#fdca26"
            ],
            [
             1,
             "#f0f921"
            ]
           ]
          },
          "colorway": [
           "#636efa",
           "#EF553B",
           "#00cc96",
           "#ab63fa",
           "#FFA15A",
           "#19d3f3",
           "#FF6692",
           "#B6E880",
           "#FF97FF",
           "#FECB52"
          ],
          "font": {
           "color": "#2a3f5f"
          },
          "geo": {
           "bgcolor": "white",
           "lakecolor": "white",
           "landcolor": "#E5ECF6",
           "showlakes": true,
           "showland": true,
           "subunitcolor": "white"
          },
          "hoverlabel": {
           "align": "left"
          },
          "hovermode": "closest",
          "mapbox": {
           "style": "light"
          },
          "paper_bgcolor": "white",
          "plot_bgcolor": "#E5ECF6",
          "polar": {
           "angularaxis": {
            "gridcolor": "white",
            "linecolor": "white",
            "ticks": ""
           },
           "bgcolor": "#E5ECF6",
           "radialaxis": {
            "gridcolor": "white",
            "linecolor": "white",
            "ticks": ""
           }
          },
          "scene": {
           "xaxis": {
            "backgroundcolor": "#E5ECF6",
            "gridcolor": "white",
            "gridwidth": 2,
            "linecolor": "white",
            "showbackground": true,
            "ticks": "",
            "zerolinecolor": "white"
           },
           "yaxis": {
            "backgroundcolor": "#E5ECF6",
            "gridcolor": "white",
            "gridwidth": 2,
            "linecolor": "white",
            "showbackground": true,
            "ticks": "",
            "zerolinecolor": "white"
           },
           "zaxis": {
            "backgroundcolor": "#E5ECF6",
            "gridcolor": "white",
            "gridwidth": 2,
            "linecolor": "white",
            "showbackground": true,
            "ticks": "",
            "zerolinecolor": "white"
           }
          },
          "shapedefaults": {
           "line": {
            "color": "#2a3f5f"
           }
          },
          "ternary": {
           "aaxis": {
            "gridcolor": "white",
            "linecolor": "white",
            "ticks": ""
           },
           "baxis": {
            "gridcolor": "white",
            "linecolor": "white",
            "ticks": ""
           },
           "bgcolor": "#E5ECF6",
           "caxis": {
            "gridcolor": "white",
            "linecolor": "white",
            "ticks": ""
           }
          },
          "title": {
           "x": 0.05
          },
          "xaxis": {
           "automargin": true,
           "gridcolor": "white",
           "linecolor": "white",
           "ticks": "",
           "title": {
            "standoff": 15
           },
           "zerolinecolor": "white",
           "zerolinewidth": 2
          },
          "yaxis": {
           "automargin": true,
           "gridcolor": "white",
           "linecolor": "white",
           "ticks": "",
           "title": {
            "standoff": 15
           },
           "zerolinecolor": "white",
           "zerolinewidth": 2
          }
         }
        },
        "title": {
         "text": "Impacto da tábua no Dotal Puro",
         "x": 0.5,
         "xanchor": "center",
         "y": 0.9,
         "yanchor": "top"
        },
        "xaxis": {
         "tickfont": {
          "size": 13
         }
        },
        "yaxis": {
         "tickfont": {
          "size": 15
         },
         "title": {
          "text": "PNA"
         }
        }
       }
      },
      "text/html": [
       "<div>\n",
       "        \n",
       "        \n",
       "            <div id=\"70b2fe48-0c75-4bfc-962a-d24d29b0bd2a\" class=\"plotly-graph-div\" style=\"height:525px; width:100%;\"></div>\n",
       "            <script type=\"text/javascript\">\n",
       "                require([\"plotly\"], function(Plotly) {\n",
       "                    window.PLOTLYENV=window.PLOTLYENV || {};\n",
       "                    \n",
       "                if (document.getElementById(\"70b2fe48-0c75-4bfc-962a-d24d29b0bd2a\")) {\n",
       "                    Plotly.newPlot(\n",
       "                        '70b2fe48-0c75-4bfc-962a-d24d29b0bd2a',\n",
       "                        [{\"name\": \"Masculino\", \"type\": \"bar\", \"x\": [\" AT2000 (Suavizada 10%)\", \"BR-EMSsb-v.2015\", \"BR-EMSmt-v.2015\", \" AT2000\", \"AT-49\"], \"y\": [10023.060261072957, 10027.438079268024, 9940.128144530463, 9998.357292154104, 9781.527556326546]}, {\"name\": \"Feminino\", \"type\": \"bar\", \"x\": [\" AT2000 (Suavizada 10%)\", \"BR-EMSsb-v.2015\", \"BR-EMSmt-v.2015\", \" AT2000\", \"AT-49\"], \"y\": [10120.825914679188, 10126.603268821345, 10053.862307062174, 10106.36810488382, 9976.304709377657]}],\n",
       "                        {\"barmode\": \"group\", \"legend\": {\"font\": {\"color\": \"black\", \"family\": \"arial\", \"size\": 15}, \"orientation\": \"h\", \"x\": 0.3, \"y\": -0.08}, \"template\": {\"data\": {\"bar\": [{\"error_x\": {\"color\": \"#2a3f5f\"}, \"error_y\": {\"color\": \"#2a3f5f\"}, \"marker\": {\"line\": {\"color\": \"#E5ECF6\", \"width\": 0.5}}, \"type\": \"bar\"}], \"barpolar\": [{\"marker\": {\"line\": {\"color\": \"#E5ECF6\", \"width\": 0.5}}, \"type\": \"barpolar\"}], \"carpet\": [{\"aaxis\": {\"endlinecolor\": \"#2a3f5f\", \"gridcolor\": \"white\", \"linecolor\": \"white\", \"minorgridcolor\": \"white\", \"startlinecolor\": \"#2a3f5f\"}, \"baxis\": {\"endlinecolor\": \"#2a3f5f\", \"gridcolor\": \"white\", \"linecolor\": \"white\", \"minorgridcolor\": \"white\", \"startlinecolor\": \"#2a3f5f\"}, \"type\": \"carpet\"}], \"choropleth\": [{\"colorbar\": {\"outlinewidth\": 0, \"ticks\": \"\"}, \"type\": \"choropleth\"}], \"contour\": [{\"colorbar\": {\"outlinewidth\": 0, \"ticks\": \"\"}, \"colorscale\": [[0.0, \"#0d0887\"], [0.1111111111111111, \"#46039f\"], [0.2222222222222222, \"#7201a8\"], [0.3333333333333333, \"#9c179e\"], [0.4444444444444444, \"#bd3786\"], [0.5555555555555556, \"#d8576b\"], [0.6666666666666666, \"#ed7953\"], [0.7777777777777778, \"#fb9f3a\"], [0.8888888888888888, \"#fdca26\"], [1.0, \"#f0f921\"]], \"type\": \"contour\"}], \"contourcarpet\": [{\"colorbar\": {\"outlinewidth\": 0, \"ticks\": \"\"}, \"type\": \"contourcarpet\"}], \"heatmap\": [{\"colorbar\": {\"outlinewidth\": 0, \"ticks\": \"\"}, \"colorscale\": [[0.0, \"#0d0887\"], [0.1111111111111111, \"#46039f\"], [0.2222222222222222, \"#7201a8\"], [0.3333333333333333, \"#9c179e\"], [0.4444444444444444, \"#bd3786\"], [0.5555555555555556, \"#d8576b\"], [0.6666666666666666, \"#ed7953\"], [0.7777777777777778, \"#fb9f3a\"], [0.8888888888888888, \"#fdca26\"], [1.0, \"#f0f921\"]], \"type\": \"heatmap\"}], \"heatmapgl\": [{\"colorbar\": {\"outlinewidth\": 0, \"ticks\": \"\"}, \"colorscale\": [[0.0, \"#0d0887\"], [0.1111111111111111, \"#46039f\"], [0.2222222222222222, \"#7201a8\"], [0.3333333333333333, \"#9c179e\"], [0.4444444444444444, \"#bd3786\"], [0.5555555555555556, \"#d8576b\"], [0.6666666666666666, \"#ed7953\"], [0.7777777777777778, \"#fb9f3a\"], [0.8888888888888888, \"#fdca26\"], [1.0, \"#f0f921\"]], \"type\": \"heatmapgl\"}], \"histogram\": [{\"marker\": {\"colorbar\": {\"outlinewidth\": 0, \"ticks\": \"\"}}, \"type\": \"histogram\"}], \"histogram2d\": [{\"colorbar\": {\"outlinewidth\": 0, \"ticks\": \"\"}, \"colorscale\": [[0.0, \"#0d0887\"], [0.1111111111111111, \"#46039f\"], [0.2222222222222222, \"#7201a8\"], [0.3333333333333333, \"#9c179e\"], [0.4444444444444444, \"#bd3786\"], [0.5555555555555556, \"#d8576b\"], [0.6666666666666666, \"#ed7953\"], [0.7777777777777778, \"#fb9f3a\"], [0.8888888888888888, \"#fdca26\"], [1.0, \"#f0f921\"]], \"type\": \"histogram2d\"}], \"histogram2dcontour\": [{\"colorbar\": {\"outlinewidth\": 0, \"ticks\": \"\"}, \"colorscale\": [[0.0, \"#0d0887\"], [0.1111111111111111, \"#46039f\"], [0.2222222222222222, \"#7201a8\"], [0.3333333333333333, \"#9c179e\"], [0.4444444444444444, \"#bd3786\"], [0.5555555555555556, \"#d8576b\"], [0.6666666666666666, \"#ed7953\"], [0.7777777777777778, \"#fb9f3a\"], [0.8888888888888888, \"#fdca26\"], [1.0, \"#f0f921\"]], \"type\": \"histogram2dcontour\"}], \"mesh3d\": [{\"colorbar\": {\"outlinewidth\": 0, \"ticks\": \"\"}, \"type\": \"mesh3d\"}], \"parcoords\": [{\"line\": {\"colorbar\": {\"outlinewidth\": 0, \"ticks\": \"\"}}, \"type\": \"parcoords\"}], \"pie\": [{\"automargin\": true, \"type\": \"pie\"}], \"scatter\": [{\"marker\": {\"colorbar\": {\"outlinewidth\": 0, \"ticks\": \"\"}}, \"type\": \"scatter\"}], \"scatter3d\": [{\"line\": {\"colorbar\": {\"outlinewidth\": 0, \"ticks\": \"\"}}, \"marker\": {\"colorbar\": {\"outlinewidth\": 0, \"ticks\": \"\"}}, \"type\": \"scatter3d\"}], \"scattercarpet\": [{\"marker\": {\"colorbar\": {\"outlinewidth\": 0, \"ticks\": \"\"}}, \"type\": \"scattercarpet\"}], \"scattergeo\": [{\"marker\": {\"colorbar\": {\"outlinewidth\": 0, \"ticks\": \"\"}}, \"type\": \"scattergeo\"}], \"scattergl\": [{\"marker\": {\"colorbar\": {\"outlinewidth\": 0, \"ticks\": \"\"}}, \"type\": \"scattergl\"}], \"scattermapbox\": [{\"marker\": {\"colorbar\": {\"outlinewidth\": 0, \"ticks\": \"\"}}, \"type\": \"scattermapbox\"}], \"scatterpolar\": [{\"marker\": {\"colorbar\": {\"outlinewidth\": 0, \"ticks\": \"\"}}, \"type\": \"scatterpolar\"}], \"scatterpolargl\": [{\"marker\": {\"colorbar\": {\"outlinewidth\": 0, \"ticks\": \"\"}}, \"type\": \"scatterpolargl\"}], \"scatterternary\": [{\"marker\": {\"colorbar\": {\"outlinewidth\": 0, \"ticks\": \"\"}}, \"type\": \"scatterternary\"}], \"surface\": [{\"colorbar\": {\"outlinewidth\": 0, \"ticks\": \"\"}, \"colorscale\": [[0.0, \"#0d0887\"], [0.1111111111111111, \"#46039f\"], [0.2222222222222222, \"#7201a8\"], [0.3333333333333333, \"#9c179e\"], [0.4444444444444444, \"#bd3786\"], [0.5555555555555556, \"#d8576b\"], [0.6666666666666666, \"#ed7953\"], [0.7777777777777778, \"#fb9f3a\"], [0.8888888888888888, \"#fdca26\"], [1.0, \"#f0f921\"]], \"type\": \"surface\"}], \"table\": [{\"cells\": {\"fill\": {\"color\": \"#EBF0F8\"}, \"line\": {\"color\": \"white\"}}, \"header\": {\"fill\": {\"color\": \"#C8D4E3\"}, \"line\": {\"color\": \"white\"}}, \"type\": \"table\"}]}, \"layout\": {\"annotationdefaults\": {\"arrowcolor\": \"#2a3f5f\", \"arrowhead\": 0, \"arrowwidth\": 1}, \"coloraxis\": {\"colorbar\": {\"outlinewidth\": 0, \"ticks\": \"\"}}, \"colorscale\": {\"diverging\": [[0, \"#8e0152\"], [0.1, \"#c51b7d\"], [0.2, \"#de77ae\"], [0.3, \"#f1b6da\"], [0.4, \"#fde0ef\"], [0.5, \"#f7f7f7\"], [0.6, \"#e6f5d0\"], [0.7, \"#b8e186\"], [0.8, \"#7fbc41\"], [0.9, \"#4d9221\"], [1, \"#276419\"]], \"sequential\": [[0.0, \"#0d0887\"], [0.1111111111111111, \"#46039f\"], [0.2222222222222222, \"#7201a8\"], [0.3333333333333333, \"#9c179e\"], [0.4444444444444444, \"#bd3786\"], [0.5555555555555556, \"#d8576b\"], [0.6666666666666666, \"#ed7953\"], [0.7777777777777778, \"#fb9f3a\"], [0.8888888888888888, \"#fdca26\"], [1.0, \"#f0f921\"]], \"sequentialminus\": [[0.0, \"#0d0887\"], [0.1111111111111111, \"#46039f\"], [0.2222222222222222, \"#7201a8\"], [0.3333333333333333, \"#9c179e\"], [0.4444444444444444, \"#bd3786\"], [0.5555555555555556, \"#d8576b\"], [0.6666666666666666, \"#ed7953\"], [0.7777777777777778, \"#fb9f3a\"], [0.8888888888888888, \"#fdca26\"], [1.0, \"#f0f921\"]]}, \"colorway\": [\"#636efa\", \"#EF553B\", \"#00cc96\", \"#ab63fa\", \"#FFA15A\", \"#19d3f3\", \"#FF6692\", \"#B6E880\", \"#FF97FF\", \"#FECB52\"], \"font\": {\"color\": \"#2a3f5f\"}, \"geo\": {\"bgcolor\": \"white\", \"lakecolor\": \"white\", \"landcolor\": \"#E5ECF6\", \"showlakes\": true, \"showland\": true, \"subunitcolor\": \"white\"}, \"hoverlabel\": {\"align\": \"left\"}, \"hovermode\": \"closest\", \"mapbox\": {\"style\": \"light\"}, \"paper_bgcolor\": \"white\", \"plot_bgcolor\": \"#E5ECF6\", \"polar\": {\"angularaxis\": {\"gridcolor\": \"white\", \"linecolor\": \"white\", \"ticks\": \"\"}, \"bgcolor\": \"#E5ECF6\", \"radialaxis\": {\"gridcolor\": \"white\", \"linecolor\": \"white\", \"ticks\": \"\"}}, \"scene\": {\"xaxis\": {\"backgroundcolor\": \"#E5ECF6\", \"gridcolor\": \"white\", \"gridwidth\": 2, \"linecolor\": \"white\", \"showbackground\": true, \"ticks\": \"\", \"zerolinecolor\": \"white\"}, \"yaxis\": {\"backgroundcolor\": \"#E5ECF6\", \"gridcolor\": \"white\", \"gridwidth\": 2, \"linecolor\": \"white\", \"showbackground\": true, \"ticks\": \"\", \"zerolinecolor\": \"white\"}, \"zaxis\": {\"backgroundcolor\": \"#E5ECF6\", \"gridcolor\": \"white\", \"gridwidth\": 2, \"linecolor\": \"white\", \"showbackground\": true, \"ticks\": \"\", \"zerolinecolor\": \"white\"}}, \"shapedefaults\": {\"line\": {\"color\": \"#2a3f5f\"}}, \"ternary\": {\"aaxis\": {\"gridcolor\": \"white\", \"linecolor\": \"white\", \"ticks\": \"\"}, \"baxis\": {\"gridcolor\": \"white\", \"linecolor\": \"white\", \"ticks\": \"\"}, \"bgcolor\": \"#E5ECF6\", \"caxis\": {\"gridcolor\": \"white\", \"linecolor\": \"white\", \"ticks\": \"\"}}, \"title\": {\"x\": 0.05}, \"xaxis\": {\"automargin\": true, \"gridcolor\": \"white\", \"linecolor\": \"white\", \"ticks\": \"\", \"title\": {\"standoff\": 15}, \"zerolinecolor\": \"white\", \"zerolinewidth\": 2}, \"yaxis\": {\"automargin\": true, \"gridcolor\": \"white\", \"linecolor\": \"white\", \"ticks\": \"\", \"title\": {\"standoff\": 15}, \"zerolinecolor\": \"white\", \"zerolinewidth\": 2}}}, \"title\": {\"text\": \"Impacto da t\\u00e1bua no Dotal Puro\", \"x\": 0.5, \"xanchor\": \"center\", \"y\": 0.9, \"yanchor\": \"top\"}, \"xaxis\": {\"tickfont\": {\"size\": 13}}, \"yaxis\": {\"tickfont\": {\"size\": 15}, \"title\": {\"text\": \"PNA\"}}},\n",
       "                        {\"responsive\": true}\n",
       "                    ).then(function(){\n",
       "                            \n",
       "var gd = document.getElementById('70b2fe48-0c75-4bfc-962a-d24d29b0bd2a');\n",
       "var x = new MutationObserver(function (mutations, observer) {{\n",
       "        var display = window.getComputedStyle(gd).display;\n",
       "        if (!display || display === 'none') {{\n",
       "            console.log([gd, 'removed!']);\n",
       "            Plotly.purge(gd);\n",
       "            observer.disconnect();\n",
       "        }}\n",
       "}});\n",
       "\n",
       "// Listen for the removal of the full notebook cells\n",
       "var notebookContainer = gd.closest('#notebook-container');\n",
       "if (notebookContainer) {{\n",
       "    x.observe(notebookContainer, {childList: true});\n",
       "}}\n",
       "\n",
       "// Listen for the clearing of the current output cell\n",
       "var outputEl = gd.closest('.output');\n",
       "if (outputEl) {{\n",
       "    x.observe(outputEl, {childList: true});\n",
       "}}\n",
       "\n",
       "                        })\n",
       "                };\n",
       "                });\n",
       "            </script>\n",
       "        </div>"
      ]
     },
     "metadata": {},
     "output_type": "display_data"
    }
   ],
   "source": [
    "tables = [' AT2000 (Suavizada 10%)', 'BR-EMSsb-v.2015', 'BR-EMSmt-v.2015', ' AT2000', 'AT-49']\n",
    "pna_ =[]\n",
    "for gender in [\"M\", \"F\"] :\n",
    "    for tb in tables:\n",
    "        b.select_table(tb, gender)\n",
    "        b.gen_commutations(0.04)\n",
    "        b.calc_premium(age=30, dif_benef=0, \n",
    "             term_benef=20, dif_pay=0, \n",
    "             term_pay=5, antecip_pay=False, prod='d')\n",
    "        pna_.append(b.pna*value)\n",
    "    \n",
    "fig = go.Figure(data=[\n",
    "    go.Bar(name='Masculino', x=tables, y=pna_[:5]),\n",
    "    go.Bar(name='Feminino', x=tables, y=pna_[5:])\n",
    "])\n",
    "# Change the bar mode\n",
    "fig.update_layout(barmode='group')\n",
    "\n",
    "title = \"Impacto da tábua no Dotal Puro\"\n",
    "    \n",
    "fig.update_layout(title={'text':title,\n",
    "                              'y':0.9,\n",
    "                              'x':0.5,\n",
    "                             'xanchor': 'center',\n",
    "                             'yanchor': 'top'},\n",
    "                      yaxis_title='PNA', \n",
    "                      legend_orientation=\"h\",\n",
    "                      legend=dict(x=0.30, y=-0.08,\n",
    "                                  font=dict(\n",
    "                                  family=\"arial\",\n",
    "                                  size=15,\n",
    "                                  color=\"black\"\n",
    "                      )))\n",
    "fig.update_xaxes(tickfont = dict(size=13))\n",
    "fig.update_yaxes(tickfont = dict(size=15))\n",
    "fig.show()"
   ]
  },
  {
   "cell_type": "code",
   "execution_count": 251,
   "metadata": {},
   "outputs": [],
   "source": [
    "df_3d = pd.DataFrame(np.array(values))"
   ]
  },
  {
   "cell_type": "code",
   "execution_count": 252,
   "metadata": {},
   "outputs": [],
   "source": [
    "df_matrix = pd.crosstab(index=df_3d[0], columns= df_3d[1], values=df_3d[2], aggfunc=np.sum)"
   ]
  },
  {
   "cell_type": "code",
   "execution_count": 253,
   "metadata": {},
   "outputs": [
    {
     "data": {
      "application/vnd.plotly.v1+json": {
       "config": {
        "plotlyServerURL": "https://plot.ly"
       },
       "data": [
        {
         "type": "surface",
         "x": [
          2,
          2.5,
          3,
          3.5000000000000004,
          4,
          4.5,
          5,
          5.5,
          6,
          6.5,
          7.000000000000001,
          7.5,
          8,
          8.5,
          9,
          9.5,
          10
         ],
         "y": [
          0,
          1,
          2,
          3,
          4,
          5,
          6,
          7,
          8,
          9,
          10,
          11,
          12,
          13,
          14,
          15,
          16,
          17,
          18,
          19,
          20,
          21,
          22,
          23,
          24,
          25,
          26,
          27,
          28,
          29,
          30,
          31,
          32,
          33,
          34,
          35,
          36,
          37,
          38,
          39,
          40,
          41,
          42,
          43,
          44,
          45,
          46,
          47,
          48,
          49,
          50,
          51,
          52,
          53,
          54,
          55,
          56,
          57,
          58,
          59,
          60,
          61,
          62,
          63,
          64,
          65,
          66,
          67,
          68,
          69,
          70,
          71,
          72,
          73,
          74,
          75,
          76,
          77,
          78,
          79,
          80
         ],
         "z": [
          [
           101223.73378751348,
           91867.88737721804,
           83421.47741724079,
           75792.23754924319,
           68897.64551061661,
           62663.85411885934,
           57024.7438738453,
           51921.082853419066,
           47299.78132192838,
           43113.229996265625,
           39318.71224808088,
           35877.88168873873,
           32756.297606614004,
           29923.011623036742,
           27350.199719643326,
           25012.834480089103,
           22888.392995139915
          ],
          [
           101137.88869591274,
           91765.87705499107,
           83304.99982352558,
           75662.81862763243,
           68756.65723286178,
           62512.53056012703,
           56864.19554252533,
           51752.30947230059,
           47123.68323455936,
           42930.618352089325,
           39130.3181021567,
           35684.36413619862,
           32558.251058217644,
           29720.97231603772,
           27144.65154746421,
           24804.214214849544,
           22677.09496873661
          ],
          [
           101115.43005132362,
           91739.1125336176,
           83274.35323882081,
           75628.67274972727,
           68719.35796435033,
           62472.390665877145,
           56821.4979832643,
           51707.31038595369,
           47076.61460423899,
           42881.69039516318,
           39079.72141088559,
           35632.271596964594,
           32504.81957330293,
           29666.34434921407,
           27088.95651226782,
           24747.56972230987,
           22619.60794946429
          ],
          [
           101111.50493979237,
           91734.34140009116,
           83268.78512330439,
           75622.35428244986,
           68712.33344618767,
           62464.70215273705,
           56813.18537295038,
           51698.411506289434,
           47067.165301458714,
           42871.724621766574,
           39069.27131231209,
           35621.367596579075,
           32493.490455296327,
           29654.617339117776,
           27076.85735485913,
           24735.122756751283,
           22606.836181573926
          ],
          [
           101112.38522802005,
           91735.2605190318,
           83269.69131479514,
           75623.20389914923,
           68713.08991081287,
           62465.335044933534,
           56813.669628177406,
           51698.7267130413,
           47067.29508483458,
           42871.65610287925,
           39068.99463431928,
           35620.875509250815,
           32492.777951021937,
           29653.68133412153,
           27075.696410152595,
           24733.73683401512,
           22605.226429744504
          ],
          [
           101116.21624434328,
           91739.67273377396,
           83274.57081551448,
           75628.45138975575,
           68718.61897419192,
           62471.07061044151,
           56819.54661952395,
           51704.68885506283,
           47073.29385027949,
           42877.64978261505,
           39074.94751637701,
           35626.75715387846,
           32498.562550459632,
           29659.347147161374,
           27081.225262731863,
           24739.11367813239,
           22610.438953902365
          ],
          [
           101122.33953373582,
           91746.80084830981,
           83282.54230482533,
           75637.12439806125,
           68727.86896657226,
           62480.78836382125,
           56829.63644697614,
           51715.067035855944,
           47083.88724142741,
           42888.39459061329,
           39085.78821036954,
           35637.64550374584,
           32509.456775287617,
           29670.211161279338,
           27092.02800802765,
           24749.8285326841,
           22621.043208140094
          ],
          [
           101130.43627893382,
           91756.27093708138,
           83293.18458430811,
           75648.76146824863,
           68740.34445596824,
           62493.96452031367,
           56843.392006691814,
           51729.29533727299,
           47098.49455596936,
           42903.298644409675,
           39100.916874900904,
           35652.93563574976,
           32524.853188637397,
           29685.665715595103,
           27107.498800579746,
           24765.279181730362,
           22636.442217229538
          ],
          [
           101140.25691129532,
           91767.79114476811,
           83306.1699379976,
           75663.00478872069,
           68755.66270844082,
           62510.19606687836,
           56860.394174644396,
           51746.942266238686,
           47116.675291191954,
           42921.91544749067,
           39119.88372670823,
           35672.17690922743,
           32544.302471891147,
           29705.264767949713,
           27127.196626343804,
           24785.0312081966,
           22656.209565015524
          ],
          [
           101149.12847945474,
           91778.18141679751,
           83317.86283023319,
           75675.8097251444,
           68769.41168803546,
           62524.741070943885,
           56875.60487387064,
           51762.70399220265,
           47132.88724121633,
           42938.48909553682,
           39136.74141625304,
           35689.250606947266,
           32561.532663495913,
           29722.599479724136,
           27144.59055789605,
           24802.444963622896,
           22673.608971191592
          ],
          [
           101157.37891939086,
           91787.82954026824,
           83328.7038056703,
           75687.66321063029,
           68782.11899775291,
           62538.162671209495,
           56889.618169701986,
           51777.2013701086,
           47147.77433804723,
           42953.68326686516,
           39152.170380939846,
           35704.851247341096,
           32577.2499631621,
           29738.385582751394,
           27160.403935717088,
           24818.249676944637,
           22689.374016089983
          ],
          [
           101165.25292860862,
           91797.02550847075,
           83339.02300495117,
           75698.93088476374,
           68794.181579059,
           62550.88532152659,
           56902.88260705869,
           51790.90394734569,
           47161.824343719854,
           42968.001422328925,
           39166.687510656106,
           35719.50710218379,
           32591.9921789175,
           29753.168758118238,
           27175.18881597187,
           24833.002431070137,
           22704.06559659979
          ],
          [
           101172.95121892107,
           91806.00830863952,
           83349.09375204268,
           75709.91681743039,
           68805.93097395079,
           62563.26505117064,
           56915.77598116646,
           51804.20880411731,
           47175.45136174844,
           42981.8726272433,
           39180.7349537392,
           35733.67169092219,
           32606.22264182296,
           29767.420728256537,
           27189.42401947412,
           24847.18796851894,
           22718.17330660483
          ],
          [
           101180.67851451234,
           91815.02290132227,
           83359.1975700388,
           75720.93572137854,
           68817.71198772485,
           62575.67391371543,
           56928.694981481734,
           51817.53486609538,
           47189.09434957816,
           42995.753845605206,
           39194.785820096884,
           35747.83255991707,
           32620.441764152078,
           29781.65332849675,
           27203.631479147465,
           24861.33710230349,
           22732.23572101212
          ],
          [
           101188.54598222845,
           91824.20398668139,
           83369.49113101503,
           75732.1647509265,
           68829.7208383691,
           62588.32584222986,
           56941.86997605928,
           51831.12772293358,
           47203.01296977286,
           43009.91772672308,
           39209.12471984821,
           35762.28531202889,
           32634.95522889406,
           29796.181462379063,
           27218.134510127224,
           24875.780798435182,
           22746.59074188379
          ],
          [
           101196.67501882052,
           91833.69871047714,
           83380.14569342733,
           75743.79773318612,
           68842.17246485755,
           62601.45551324123,
           56955.55408264473,
           51845.25771096217,
           47217.4936242683,
           43024.66565098086,
           39224.06698686074,
           35777.35826840091,
           32650.103433763936,
           29811.356745911587,
           27233.295137948073,
           24890.890729964365,
           22761.61897192327
          ],
          [
           101205.04900171731,
           91843.49015707085,
           83391.14515233657,
           75755.82030297055,
           68855.05501758069,
           62615.054234331394,
           56969.74229024332,
           51859.92392234739,
           47232.539840801575,
           43040.00583640886,
           39239.62571677897,
           35793.06953129681,
           32665.909566353155,
           29827.207487500775,
           27249.146790333816,
           24906.705410942828,
           22777.363951862997
          ],
          [
           101213.69980809143,
           91853.61918930324,
           83402.53958046221,
           75768.29189506754,
           68868.43738267277,
           62629.20037748411,
           56984.522443676266,
           51875.22362069442,
           47248.25821243342,
           43056.054086051474,
           39255.925777576886,
           35809.55286703355,
           32682.516106793315,
           29843.884681801548,
           27265.84876521856,
           24923.392221866285,
           22794.000916752666
          ],
          [
           101222.46875404264,
           91863.89957772446,
           83414.11902904585,
           75780.98224841586,
           68882.07201860426,
           62643.631816759626,
           56999.62022810733,
           51890.872428761126,
           47264.3561851929,
           43072.5113393275,
           39272.66307923904,
           35826.500460653355,
           32699.61266514406,
           29861.076375586817,
           27283.088434103436,
           24940.638636373893,
           22811.218120900034
          ],
          [
           101231.33942960254,
           91874.31099958163,
           83425.85953177883,
           75793.86407869875,
           68895.92868812915,
           62658.3157528324,
           57015.000687549815,
           51906.833644839244,
           47280.79572087723,
           43089.338623340045,
           39289.798104107125,
           35843.87262442094,
           32717.159740529758,
           29878.743592258426,
           27300.827661395742,
           24958.407655235147,
           22828.979975139013
          ],
          [
           101240.23538337786,
           91884.75924626457,
           83437.6499305417,
           75806.81016056573,
           68909.86503113536,
           62673.095653417506,
           57030.494093835936,
           51922.92532154694,
           47297.3836192315,
           43106.33243247566,
           39307.117963254284,
           35861.447977586686,
           32734.928317530706,
           29896.65050184202,
           27318.824583843212,
           24976.452123297164,
           22847.034733439534
          ],
          [
           101249.12044147537,
           91895.19514247666,
           83449.42732418238,
           75819.74344896365,
           68923.7896927884,
           62687.865893916045,
           57045.98075912313,
           51939.01404735282,
           47313.97318925681,
           43123.3333211783,
           39324.45104196482,
           35879.043365201476,
           32752.724359244432,
           29914.592861326768,
           27336.865435990487,
           24994.549436142548,
           22865.151629212607
          ],
          [
           101258.00145098695,
           91905.61786791813,
           83461.18090584171,
           75832.64136478557,
           68937.66698745007,
           62702.57672845389,
           57061.39624311424,
           51955.02032028287,
           47330.46972175323,
           43140.23141033104,
           39341.67247805989,
           35896.519249911034,
           32770.39405770199,
           29932.40307260659,
           27354.769368346504,
           25012.506074973808,
           22883.12508713887
          ],
          [
           101266.98180866618,
           91916.13871143856,
           83473.02491069624,
           75845.61700074935,
           68951.60551453666,
           62717.32954662593,
           57076.83255322964,
           51971.0250589921,
           47346.94173763763,
           43157.08185257055,
           39358.82337241517,
           35913.90223986636,
           32787.94929129367,
           29950.07821781042,
           27372.5187419542,
           25030.28987169341,
           22900.908697236646
          ],
          [
           101276.22049543413,
           91926.93240428086,
           83485.14303955891,
           75858.85733725206,
           68965.79078925778,
           62732.304471710886,
           57092.46120099027,
           51987.18855329537,
           47363.53622023284,
           43174.016691176825,
           39376.01958147338,
           35931.29108842844,
           32805.471075643676,
           29967.681179142237,
           27390.15811182254,
           25047.92703004825,
           22918.51042968678
          ],
          [
           101285.93303133258,
           91938.2385281501,
           83497.79034858037,
           75872.62562205433,
           68980.48810420504,
           62747.763682843644,
           57108.53695292758,
           52003.75460374977,
           47380.48309719205,
           43191.249633393985,
           39393.45672778626,
           35948.86188568949,
           32823.114878766806,
           29985.346020028468,
           27407.79961677471,
           25065.507467777825,
           22935.99787419778
          ],
          [
           101296.53463008864,
           91950.53265833775,
           83511.48982502334,
           75887.48105736518,
           68996.28321826608,
           62764.31118774638,
           57125.67494227117,
           52021.34338412286,
           47398.402407443165,
           43209.39620408341,
           39411.74213913685,
           35967.21068752628,
           32841.462940455094,
           30003.639082369016,
           27425.992021268725,
           25083.56104169484,
           22953.88095252368
          ],
          [
           101308.49573440604,
           91964.35545318521,
           83526.83806119542,
           75904.06375081082,
           69013.84897742776,
           62782.64324001134,
           57144.58677298055,
           52040.67491245614,
           47418.016632975516,
           43229.17626608287,
           39431.58873788534,
           35987.039823250416,
           32861.2039309572,
           30023.23282526002,
           27445.38947091029,
           25102.721874637555,
           22972.772398447116
          ],
          [
           101322.47702003118,
           91980.47459578043,
           83544.69187595912,
           75923.30395473151,
           69034.17528737467,
           62803.797321625745,
           57166.34693512476,
           52062.85145517992,
           47440.447768474536,
           43251.72454216954,
           39454.13790226245,
           36009.49207453646,
           32883.47750910385,
           30045.259899851655,
           27467.114290949827,
           25124.099147898163,
           22993.765872385313
          ],
          [
           101339.18862251016,
           91999.71806248766,
           83565.97855656043,
           75946.21190162866,
           69058.3408847984,
           62828.90794384467,
           57192.13450681898,
           52089.086802913735,
           47466.93566606134,
           43278.29936481781,
           39480.659814954524,
           36035.84368931883,
           32909.56095403319,
           30070.99424939255,
           27492.433313789632,
           25148.94933354316,
           23018.10470262929
          ],
          [
           101359.38467670964,
           92022.9683242214,
           83591.69002409626,
           75973.87219243956,
           69087.50816819134,
           62859.20210572593,
           57223.22939518193,
           52120.70342152059,
           47498.83620027288,
           43310.28193791683,
           39512.55388588056,
           36067.5060137202,
           32940.87204014995,
           30101.855248688495,
           27522.763293607582,
           25178.682885497426,
           23047.18984609051
          ],
          [
           101383.95894022186,
           92051.27679427246,
           83623.0144754999,
           76007.5911651038,
           69123.08497018465,
           62896.17427636672,
           57261.19944953491,
           52159.330719883066,
           47537.82980561404,
           43349.39434116528,
           39551.57549375076,
           36106.26030670726,
           32979.21131964029,
           30139.65690203949,
           27559.926514722665,
           25215.1257960205,
           23082.846969001934
          ],
          [
           101413.81069924169,
           92085.70436341029,
           83661.15419930761,
           76048.69438850222,
           69166.50389772939,
           62941.34954202129,
           57307.64918865957,
           52206.64096093846,
           47585.64602160989,
           43397.41402057134,
           39599.541607803374,
           36153.95556510328,
           33026.453119790225,
           30186.292888591972,
           27605.83067618158,
           25260.195034136104,
           23126.998084385206
          ],
          [
           101449.8926148996,
           92127.37859052642,
           83707.39129552855,
           76098.60018844351,
           69219.30302200708,
           62996.37088894732,
           57364.31316825751,
           52264.44826059484,
           47644.16771859152,
           43456.28287929698,
           39658.444419576816,
           36212.62640535949,
           33084.667413092684,
           30243.862184922127,
           27662.598053720605,
           25316.03105396154,
           23181.79723147207
          ],
          [
           101492.92139213333,
           92177.14914882614,
           83762.69341128452,
           76158.38063807931,
           69282.64659854207,
           63062.48368804657,
           57432.50786978451,
           52334.1311653871,
           47714.82732964113,
           43527.479842284316,
           39729.80266025364,
           36283.82532101611,
           33155.43499263386,
           30313.968947228514,
           27731.851707256108,
           25384.2717922396,
           23248.893589219795
          ],
          [
           101543.70448317632,
           92235.97644697876,
           83828.15798459106,
           76229.25578363375,
           69357.86421808132,
           63141.11523534745,
           57513.74756053583,
           52417.28117815404,
           47799.28475971995,
           43612.72519927439,
           39815.38972558162,
           36369.37220390078,
           33240.616242476666,
           30398.50859750766,
           27815.51714099255,
           25466.8683322579,
           23330.259727974168
          ],
          [
           101603.09031203591,
           92304.87308247607,
           83904.94610242773,
           76312.52096381866,
           69446.3725375842,
           63233.79174971972,
           57609.65732818523,
           52515.61252333922,
           47899.33450739591,
           43713.88564735728,
           39917.13714860145,
           36471.25670688985,
           33342.2528057474,
           30499.569172094696,
           27915.723671310494,
           25565.986597250576,
           23428.093904963014
          ],
          [
           101671.91185539274,
           92384.83743367062,
           83994.20741453813,
           76409.46422064993,
           69549.5862430291,
           63342.04383566866,
           57721.87389633196,
           52630.85908319457,
           48016.79941391135,
           43832.8654775238,
           40037.02378788873,
           36591.52594398923,
           33462.45425828028,
           30619.317387171104,
           28034.690263448374,
           25683.89330252015,
           23544.70644458564
          ],
          [
           101749.77059468636,
           92475.40439563837,
           84095.42037334669,
           76519.51647588244,
           69666.89654812409,
           63465.229858028804,
           57849.72878804817,
           52762.33079264982,
           48150.97241343317,
           43968.9446215696,
           40174.320050685725,
           36729.443815733524,
           33600.48060546567,
           30757.01160583853,
           28171.675574528672,
           25819.849056342005,
           23679.36131734784
          ],
          [
           101836.5580272677,
           92576.45503574077,
           84208.46049409658,
           76642.55186056737,
           69798.17974575872,
           63603.23127312596,
           57993.11114841814,
           52909.92659456635,
           48301.763992088534,
           44122.04653728456,
           40328.9635186123,
           36884.96293946177,
           33756.30020360075,
           30912.636445759475,
           28326.680849615976,
           25973.871962352456,
           23832.093600655833
          ],
          [
           101931.9445772803,
           92687.60821791211,
           84332.90448325926,
           76778.11315463668,
           69942.95188517951,
           63755.54368112022,
           58151.50160262708,
           53073.11690015989,
           48468.63847847827,
           44291.63304617141,
           40500.416591052424,
           37057.548944662885,
           33929.38418288561,
           31085.67047210008,
           28499.193726820253,
           26145.4601087873,
           24002.41298067491
          ],
          [
           102035.54620105757,
           92808.41646923046,
           84468.2515553484,
           76925.65519817383,
           70100.63132284771,
           63921.55591483596,
           58324.26559249143,
           53251.24915743262,
           48650.93007024075,
           44477.029257836024,
           40687.99893537539,
           37246.51924317945,
           34119.05047837809,
           31275.434559403628,
           28688.540114470412,
           26333.946246155538,
           24189.6606047023
          ],
          [
           102146.91589742132,
           92938.35316555428,
           84613.90575832326,
           77084.52194930415,
           70270.51021399029,
           64100.51575752068,
           58510.61318965733,
           53443.50169310613,
           48847.7906912434,
           44677.365472906386,
           40890.82350204755,
           37450.97325218377,
           34324.38837991947,
           31481.010906034688,
           28893.797821944998,
           26538.406197080596,
           24392.91244040798
          ],
          [
           102265.57842125834,
           93076.85138988757,
           84769.21764749313,
           77253.98983427527,
           70451.79856532757,
           64291.573869429645,
           58709.64219348915,
           53648.92538927082,
           49058.22975023431,
           44891.61461023738,
           41107.83127931891,
           37669.8241980718,
           34544.28716136507,
           31701.268311930773,
           29113.8183497495,
           26757.677057498713,
           24610.993817017734
          ],
          [
           102391.16169604787,
           93223.45820841957,
           84933.65831574932,
           77433.45877975281,
           70643.82983418238,
           64494.00179965177,
           58920.566650998095,
           53866.68102820649,
           49281.35882383969,
           45118.84291577102,
           41338.04687042644,
           37902.058541881976,
           34777.69845603581,
           31935.126714131085,
           29347.492891213693,
           26990.62405584354,
           24842.746608919282
          ],
          [
           102523.5301371202,
           93377.9919497742,
           85106.997669328,
           77622.6488474509,
           70846.2735714743,
           64707.4185431954,
           59142.955462431295,
           54096.28828500781,
           49516.64955697856,
           45358.4754541763,
           41580.85040514707,
           38147.013269147086,
           35023.91799906765,
           32181.842559240253,
           29594.04060503527,
           27236.431078099322,
           25087.321439288728
          ],
          [
           102662.91773130652,
           93540.70007904743,
           85289.48437477207,
           77821.7998085491,
           71059.35242617849,
           64932.02300105356,
           59376.97852296863,
           54337.88395717969,
           49764.20254870224,
           45610.574365038985,
           41836.26401154171,
           38404.669540314266,
           35282.88552569969,
           32441.314114194374,
           29853.31858897233,
           27494.914632090513,
           25344.495032119405
          ],
          [
           102810.06603171979,
           93712.42354287354,
           85482.03391811863,
           78031.88053931182,
           71284.07073264771,
           65168.83982450981,
           59623.66807865194,
           54592.4972575961,
           50025.03516161696,
           45876.13790713325,
           42105.260938828695,
           38675.97084910033,
           35555.511024084364,
           32714.4149646437,
           30126.161858088843,
           27766.86961496035,
           25615.02114608315
          ],
          [
           102966.08173827478,
           93894.42743050307,
           85686.03509273897,
           78254.3737892361,
           71521.97975309716,
           65419.46709570974,
           59884.650604321694,
           54861.767467403144,
           50300.78636581687,
           46156.793765715825,
           42389.44847238654,
           38962.49657550378,
           35843.339854904065,
           33002.65153899676,
           30414.034029968225,
           28053.7138438105,
           25900.269569994372
          ],
          [
           103132.5165827961,
           94088.49667076586,
           85903.4601030219,
           78491.39939925511,
           71775.31282266365,
           65686.22230860972,
           60162.302618882546,
           55148.108666619446,
           50593.88954210103,
           46454.97915602432,
           42691.25463012157,
           39266.654627486925,
           36148.75074597208,
           33308.36591435138,
           30719.234447161645,
           28357.699042899316,
           26202.440562586213
          ],
          [
           103311.29856811617,
           94296.85545785567,
           86136.77378220171,
           78745.61470464389,
           72046.87814567042,
           65972.02860618154,
           60459.631271310616,
           55454.585455393215,
           50907.44401947345,
           46773.80876647635,
           43013.79302141657,
           39591.54365688997,
           36474.81574670321,
           33634.593839507404,
           31044.754554103423,
           28681.76582126816,
           26524.418644383757
          ],
          [
           103504.52535356561,
           94521.92445713331,
           86388.6592958303,
           79019.91281932525,
           72339.73322406357,
           66280.06846148118,
           60779.909985040875,
           55784.532924478706,
           51244.82143026483,
           47116.66929105756,
           43360.44711699752,
           39940.528423948585,
           36824.8678671371,
           33984.62567356252,
           31393.833025289117,
           29029.093762732824,
           26869.318319089285
          ],
          [
           103714.51921181692,
           94766.38989037782,
           86662.10117998795,
           79317.51933903327,
           72657.29484818023,
           66613.906509031,
           61126.81362999748,
           56141.7036290287,
           51609.823919691546,
           47487.388291418574,
           43735.04917132842,
           40317.42818553291,
           37202.6983409342,
           34362.21194048619,
           31770.169039808843,
           29403.321863214685,
           27240.711133261364
          ],
          [
           103943.78934239308,
           95033.16254072581,
           86960.34272159597,
           79641.9494881599,
           73003.29714870261,
           66977.44942295666,
           61504.38096111083,
           56530.23316151654,
           52006.65329031006,
           47890.2072333649,
           44141.857372657556,
           40726.49809662742,
           37612.54234584703,
           34771.55337737651,
           32177.916617433242,
           29808.547074609745,
           27642.62831531098
          ],
          [
           104194.94637151895,
           95325.27966519623,
           87286.7778638439,
           79996.89222949866,
           73381.66979911359,
           67374.81981789574,
           61916.88557633526,
           56954.509309771514,
           52439.77931483799,
           48329.64974540287,
           44585.42469580257,
           41172.29918228326,
           38058.950512751784,
           35217.174306039706,
           32621.56009857122,
           30249.202070563042,
           28079.44094600771
          ],
          [
           104470.86091517849,
           95646.0969072991,
           87645.17431430038,
           80386.4625648572,
           73796.81764288626,
           67810.66146157654,
           62369.16508724475,
           57419.523662349704,
           52914.31234857405,
           48810.91389831865,
           45071.009589970876,
           41660.12624958172,
           38547.23294694844,
           35704.38171312916,
           33106.38729255697,
           30730.541527939287,
           28556.358490190047
          ],
          [
           104774.78610749541,
           95999.43503015167,
           88039.84252747336,
           80815.39104529304,
           74253.82921020252,
           68290.36544915786,
           62866.86375026571,
           57931.12962333452,
           53436.275764098325,
           49340.158190581446,
           45604.87472714949,
           42196.31868167003,
           39083.78141138768,
           36239.59821889091,
           33638.832674105426,
           31258.99503314208,
           29079.79093003119
          ],
          [
           105110.36126996348,
           96389.58459852006,
           88475.64160343278,
           81289.03113601102,
           74758.48582954297,
           68820.08136028534,
           63416.44597634203,
           58496.05858214439,
           54012.62508285214,
           49924.52393253356,
           46194.31291523987,
           42788.29013893445,
           39676.10305580294,
           36830.400053732534,
           34226.519805625525,
           31842.214127018204,
           29657.4005879815
          ],
          [
           105481.5484545155,
           96821.23197408977,
           88957.89652171473,
           81813.26932524286,
           75317.16610817656,
           69406.61747789009,
           64025.093533995794,
           59121.815234689166,
           54651.14244420068,
           50572.02979673308,
           46847.54257372215,
           43444.42572134163,
           40332.71995061169,
           37485.41957789834,
           34878.167391629795,
           32488.98238276027,
           30298.016661429523
          ],
          [
           105892.60794822662,
           97299.43193313175,
           89492.36898841971,
           82394.49523589798,
           75936.81626638697,
           70057.41223003423,
           64700.67891483735,
           59816.65362343585,
           55360.41600948911,
           51291.55521753456,
           47573.69570580356,
           44174.07503897246,
           41063.16773354786,
           38214.34993678734,
           35603.60033303826,
           33209.233209912316,
           31011.660090107507
          ],
          [
           106347.34359668878,
           97828.70928418219,
           90084.22984911191,
           83038.45790659047,
           76623.70207970636,
           70779.19243855096,
           65450.339503509866,
           60588.0759181077,
           56148.27121107381,
           52091.21121772789,
           48381.134738330045,
           44985.820894064644,
           41876.22141568069,
           39026.1327793392,
           36411.90370087462,
           34012.174023933854,
           31807.641498351495
          ],
          [
           106848.8282124182,
           98412.73262404314,
           90737.6865699231,
           83749.85180576459,
           77382.9577293909,
           71577.48886176012,
           66279.96327139667,
           61442.29136629047,
           57021.20575192639,
           52977.75396986212,
           49276.846908565916,
           45886.85653484725,
           42779.25734550362,
           39928.30659818121,
           37310.75895948301,
           34905.61171719684,
           32693.87715091836
          ],
          [
           107399.38480176238,
           99054.29279884064,
           91455.95944671269,
           84532.29121092254,
           78218.55869749028,
           72456.60788828213,
           67194.15950040647,
           62384.18623613784,
           57984.358921796535,
           53956.553612552205,
           50266.4126849396,
           46882.953767151084,
           43778.221083696604,
           40926.97442875706,
           38306.41154266558,
           35895.9201582325,
           33676.85641653429
          ],
          [
           108000.48482915944,
           99755.18222041114,
           92241.14395587292,
           85388.15733804795,
           79133.15521184218,
           73419.45265411404,
           68196.06877150314,
           63417.12373883701,
           59041.302396799016,
           55031.37676636448,
           51353.780747675344,
           47978.231069039146,
           44877.38925183048,
           42026.559971699215,
           39403.42173638892,
           36987.78627506379,
           34761.38345146193
          ],
          [
           108652.74065984016,
           100516.18598097972,
           93094.20063775142,
           86318.58704802203,
           80128.05979642668,
           74467.50943229908,
           69287.34816995909,
           64542.9280119776,
           60194.02295412952,
           56204.367927449486,
           52541.2480062089,
           49175.13217654777,
           46079.34663254077,
           43229.78315658261,
           40604.63865942867,
           38184.18241104888,
           35950.54789443352
          ],
          [
           109355.9554105048,
           101337.14092887891,
           94015.02231053372,
           87323.54720228181,
           81203.32785614472,
           75600.93361167502,
           70468.26189468688,
           65761.97866253693,
           61443.02031332204,
           57476.15002868917,
           53829.56235462528,
           50474.53055668289,
           47385.09192858218,
           44537.766797388475,
           41911.307464302095,
           39486.4737561247,
           37245.832246109334
          ],
          [
           110109.060777276,
           102216.86050876252,
           95002.34673268542,
           88401.73587253239,
           82357.64808390857,
           76818.42988540811,
           71737.55175413475,
           67073.07204491699,
           62787.159626281544,
           58845.6685321558,
           55217.75872241588,
           51875.557742087345,
           48793.858680548816,
           45949.85036929035,
           43322.8762289403,
           40894.218591572804,
           38646.905689792424
          ],
          [
           110910.11606610035,
           103153.13145165643,
           96053.75032154033,
           89550.57253827548,
           83588.32865896147,
           78117.23403470776,
           73092.41417524147,
           68473.39318372385,
           64223.6380455778,
           60310.15241282429,
           56703.11427747544,
           53375.55258744489,
           50303.05843782903,
           47463.52697949439,
           44836.92663445567,
           42405.09260127793,
           40151.54198033759
          ],
          [
           111756.3532504541,
           104142.76531272691,
           97165.70465493281,
           90766.25819590579,
           84891.35974893154,
           79493.1767355266,
           74528.56433888737,
           69958.57936238391,
           65748.046980301,
           61865.17437602462,
           58281.20597152279,
           54970.11557395565,
           51908.33131148391,
           49074.48971041649,
           46449.21568799436,
           44014.92560661426,
           41755.650862407885
          ],
          [
           112644.34657613562,
           105181.79895605355,
           98333.80413129581,
           92044.02685605337,
           86261.6858331949,
           80940.97398848868,
           76040.54225767491,
           71523.03962335816,
           67354.70300227746,
           63504.99134067121,
           59946.25893969409,
           56653.46361601876,
           53603.90581504704,
           50776.99524452571,
           48154.04199251401,
           45718.06944237736,
           43453.64660462314
          ],
          [
           113570.81161213249,
           106266.4513977515,
           99553.86688014676,
           93379.37805889102,
           87694.55849539232,
           82455.68988225276,
           77623.27612353215,
           73161.61014245212,
           69038.38743754852,
           65224.36111382257,
           61693.033734585646,
           58420.381883443806,
           55384.609803676154,
           52565.92890244865,
           49946.36027702581,
           47509.55774570792,
           45240.649153057806
          ],
          [
           114532.7195502407,
           107393.2661836656,
           100822.1048317644,
           94768.27418168692,
           89185.76045838608,
           84032.98679916115,
           79272.35808989342,
           74869.85496355506,
           70794.6714064989,
           67018.89107156961,
           63517.1979707751,
           60266.617724266005,
           57246.28598540733,
           54437.24105147357,
           51822.23801255243,
           49385.58209343685,
           47112.97910962366
          ],
          [
           115527.31489654463,
           108559.13763776788,
           102135.1597969938,
           96207.18746339872,
           90731.6645201588,
           85669.19709520582,
           80984.12940680484,
           76644.16518935715,
           72620.02957024917,
           68885.16687011518,
           65415.470327136376,
           62189.04021025932,
           59185.96719446695,
           56388.13823051656,
           53779.062457922024,
           51343.714988746884,
           49068.39663558397
          ],
          [
           116552.11678930638,
           109761.31661361309,
           103490.11507764964,
           97693.11879306143,
           92329.26073546891,
           87361.35978971954,
           82755.72763662583,
           78481.81764830301,
           74511.9110856604,
           70820.83644161164,
           67385.7182567592,
           64185.75215913985,
           61202.00325334901,
           58417.22531340396,
           55815.698523563646,
           53383.08376686611,
           51106.29168655517
          ],
          [
           117604.5820848721,
           110997.00769138591,
           104884.03311740873,
           99223.08171213735,
           93975.59224971333,
           89106.61331952042,
           84584.44105092283,
           80380.29531409919,
           76468.03010713928,
           72823.87433893936,
           69426.19965632439,
           66255.31234988576,
           63293.26671279748,
           60523.69752616088,
           57931.66960819208,
           55503.54259721986,
           53226.84934377368
          ],
          [
           118681.15240390891,
           112262.21934245837,
           106312.62306573053,
           100792.60066598604,
           95666.09660348376,
           90900.3914047509,
           86465.76976916463,
           82335.22368864591,
           78484.1866974184,
           74890.29581886918,
           71533.17817231233,
           68394.25955075397,
           65456.59258744439,
           62704.70239928541,
           60124.44783348121,
           57702.896654140095,
           55428.21319123494
          ],
          [
           119776.98907762713,
           113551.43217946416,
           107769.84308608383,
           102395.24844753652,
           97394.07964961487,
           92735.83498454557,
           88392.77742007279,
           84339.66401922621,
           80553.50352096102,
           77013.33899446923,
           73700.05283416627,
           70596.19167425098,
           67685.80907651357,
           64954.32408736231,
           62388.393973796716,
           59975.79963680789,
           57705.34236743414
          ],
          [
           120886.381953404,
           114858.07503842673,
           109248.43306981282,
           104023.22622396544,
           99151.33474298505,
           94604.44345132021,
           90356.76821085287,
           86384.8107945522,
           82667.13906504758,
           79184.18970185268,
           75918.09103556407,
           72852.50382452947,
           69972.47805381341,
           67264.3240518643,
           64715.49641058758,
           62314.48936267033,
           60050.74241863325
          ],
          [
           122002.7958766128,
           116174.56568410603,
           110739.94462724085,
           105667.3786680752,
           100928.13955802667,
           96496.05030286372,
           92347.23908690193,
           88459.91854114283,
           84814.18759764984,
           81391.85348722235,
           78176.27171467761,
           75152.2020904785,
           72305.67911304612,
           69623.89518645013,
           67095.09532630931,
           64708.4821553974,
           62454.130121945476
          ],
          [
           123119.32679516403,
           117492.84567747168,
           112235.34367051083,
           107317.85444951348,
           102713.96578608835,
           98399.57432755991,
           94352.66556307668,
           90553.11623963785,
           86982.51680344346,
           83624.01171704705,
           80462.15574523584,
           77482.7845164587,
           74672.89785541713,
           72020.55454924067,
           69514.7773571083,
           67145.4672036346,
           64903.32561181136
          ],
          [
           124229.47924005848,
           118805.30101553169,
           113726.05809175232,
           108965.26659161666,
           104498.73937604508,
           100304.36832459203,
           96361.92875590609,
           92652.90360139201,
           89160.3252159687,
           85868.63294831415,
           82763.54480335039,
           79831.94171544797,
           77061.76311488269,
           74441.91261513146,
           71962.17277690767,
           69613.12801845408,
           67386.09484225781
          ]
         ]
        }
       ],
       "layout": {
        "autosize": true,
        "height": 500,
        "margin": {
         "b": 65,
         "l": 65,
         "r": 50,
         "t": 90
        },
        "scene": {
         "xaxis": {
          "title": {
           "text": "Taxa de Juros a.a"
          }
         },
         "yaxis": {
          "title": {
           "text": "Idade"
          }
         },
         "zaxis": {
          "title": {
           "text": "PNA"
          }
         }
        },
        "template": {
         "data": {
          "bar": [
           {
            "error_x": {
             "color": "#2a3f5f"
            },
            "error_y": {
             "color": "#2a3f5f"
            },
            "marker": {
             "line": {
              "color": "#E5ECF6",
              "width": 0.5
             }
            },
            "type": "bar"
           }
          ],
          "barpolar": [
           {
            "marker": {
             "line": {
              "color": "#E5ECF6",
              "width": 0.5
             }
            },
            "type": "barpolar"
           }
          ],
          "carpet": [
           {
            "aaxis": {
             "endlinecolor": "#2a3f5f",
             "gridcolor": "white",
             "linecolor": "white",
             "minorgridcolor": "white",
             "startlinecolor": "#2a3f5f"
            },
            "baxis": {
             "endlinecolor": "#2a3f5f",
             "gridcolor": "white",
             "linecolor": "white",
             "minorgridcolor": "white",
             "startlinecolor": "#2a3f5f"
            },
            "type": "carpet"
           }
          ],
          "choropleth": [
           {
            "colorbar": {
             "outlinewidth": 0,
             "ticks": ""
            },
            "type": "choropleth"
           }
          ],
          "contour": [
           {
            "colorbar": {
             "outlinewidth": 0,
             "ticks": ""
            },
            "colorscale": [
             [
              0,
              "#0d0887"
             ],
             [
              0.1111111111111111,
              "#46039f"
             ],
             [
              0.2222222222222222,
              "#7201a8"
             ],
             [
              0.3333333333333333,
              "#9c179e"
             ],
             [
              0.4444444444444444,
              "#bd3786"
             ],
             [
              0.5555555555555556,
              "#d8576b"
             ],
             [
              0.6666666666666666,
              "#ed7953"
             ],
             [
              0.7777777777777778,
              "#fb9f3a"
             ],
             [
              0.8888888888888888,
              "#fdca26"
             ],
             [
              1,
              "#f0f921"
             ]
            ],
            "type": "contour"
           }
          ],
          "contourcarpet": [
           {
            "colorbar": {
             "outlinewidth": 0,
             "ticks": ""
            },
            "type": "contourcarpet"
           }
          ],
          "heatmap": [
           {
            "colorbar": {
             "outlinewidth": 0,
             "ticks": ""
            },
            "colorscale": [
             [
              0,
              "#0d0887"
             ],
             [
              0.1111111111111111,
              "#46039f"
             ],
             [
              0.2222222222222222,
              "#7201a8"
             ],
             [
              0.3333333333333333,
              "#9c179e"
             ],
             [
              0.4444444444444444,
              "#bd3786"
             ],
             [
              0.5555555555555556,
              "#d8576b"
             ],
             [
              0.6666666666666666,
              "#ed7953"
             ],
             [
              0.7777777777777778,
              "#fb9f3a"
             ],
             [
              0.8888888888888888,
              "#fdca26"
             ],
             [
              1,
              "#f0f921"
             ]
            ],
            "type": "heatmap"
           }
          ],
          "heatmapgl": [
           {
            "colorbar": {
             "outlinewidth": 0,
             "ticks": ""
            },
            "colorscale": [
             [
              0,
              "#0d0887"
             ],
             [
              0.1111111111111111,
              "#46039f"
             ],
             [
              0.2222222222222222,
              "#7201a8"
             ],
             [
              0.3333333333333333,
              "#9c179e"
             ],
             [
              0.4444444444444444,
              "#bd3786"
             ],
             [
              0.5555555555555556,
              "#d8576b"
             ],
             [
              0.6666666666666666,
              "#ed7953"
             ],
             [
              0.7777777777777778,
              "#fb9f3a"
             ],
             [
              0.8888888888888888,
              "#fdca26"
             ],
             [
              1,
              "#f0f921"
             ]
            ],
            "type": "heatmapgl"
           }
          ],
          "histogram": [
           {
            "marker": {
             "colorbar": {
              "outlinewidth": 0,
              "ticks": ""
             }
            },
            "type": "histogram"
           }
          ],
          "histogram2d": [
           {
            "colorbar": {
             "outlinewidth": 0,
             "ticks": ""
            },
            "colorscale": [
             [
              0,
              "#0d0887"
             ],
             [
              0.1111111111111111,
              "#46039f"
             ],
             [
              0.2222222222222222,
              "#7201a8"
             ],
             [
              0.3333333333333333,
              "#9c179e"
             ],
             [
              0.4444444444444444,
              "#bd3786"
             ],
             [
              0.5555555555555556,
              "#d8576b"
             ],
             [
              0.6666666666666666,
              "#ed7953"
             ],
             [
              0.7777777777777778,
              "#fb9f3a"
             ],
             [
              0.8888888888888888,
              "#fdca26"
             ],
             [
              1,
              "#f0f921"
             ]
            ],
            "type": "histogram2d"
           }
          ],
          "histogram2dcontour": [
           {
            "colorbar": {
             "outlinewidth": 0,
             "ticks": ""
            },
            "colorscale": [
             [
              0,
              "#0d0887"
             ],
             [
              0.1111111111111111,
              "#46039f"
             ],
             [
              0.2222222222222222,
              "#7201a8"
             ],
             [
              0.3333333333333333,
              "#9c179e"
             ],
             [
              0.4444444444444444,
              "#bd3786"
             ],
             [
              0.5555555555555556,
              "#d8576b"
             ],
             [
              0.6666666666666666,
              "#ed7953"
             ],
             [
              0.7777777777777778,
              "#fb9f3a"
             ],
             [
              0.8888888888888888,
              "#fdca26"
             ],
             [
              1,
              "#f0f921"
             ]
            ],
            "type": "histogram2dcontour"
           }
          ],
          "mesh3d": [
           {
            "colorbar": {
             "outlinewidth": 0,
             "ticks": ""
            },
            "type": "mesh3d"
           }
          ],
          "parcoords": [
           {
            "line": {
             "colorbar": {
              "outlinewidth": 0,
              "ticks": ""
             }
            },
            "type": "parcoords"
           }
          ],
          "pie": [
           {
            "automargin": true,
            "type": "pie"
           }
          ],
          "scatter": [
           {
            "marker": {
             "colorbar": {
              "outlinewidth": 0,
              "ticks": ""
             }
            },
            "type": "scatter"
           }
          ],
          "scatter3d": [
           {
            "line": {
             "colorbar": {
              "outlinewidth": 0,
              "ticks": ""
             }
            },
            "marker": {
             "colorbar": {
              "outlinewidth": 0,
              "ticks": ""
             }
            },
            "type": "scatter3d"
           }
          ],
          "scattercarpet": [
           {
            "marker": {
             "colorbar": {
              "outlinewidth": 0,
              "ticks": ""
             }
            },
            "type": "scattercarpet"
           }
          ],
          "scattergeo": [
           {
            "marker": {
             "colorbar": {
              "outlinewidth": 0,
              "ticks": ""
             }
            },
            "type": "scattergeo"
           }
          ],
          "scattergl": [
           {
            "marker": {
             "colorbar": {
              "outlinewidth": 0,
              "ticks": ""
             }
            },
            "type": "scattergl"
           }
          ],
          "scattermapbox": [
           {
            "marker": {
             "colorbar": {
              "outlinewidth": 0,
              "ticks": ""
             }
            },
            "type": "scattermapbox"
           }
          ],
          "scatterpolar": [
           {
            "marker": {
             "colorbar": {
              "outlinewidth": 0,
              "ticks": ""
             }
            },
            "type": "scatterpolar"
           }
          ],
          "scatterpolargl": [
           {
            "marker": {
             "colorbar": {
              "outlinewidth": 0,
              "ticks": ""
             }
            },
            "type": "scatterpolargl"
           }
          ],
          "scatterternary": [
           {
            "marker": {
             "colorbar": {
              "outlinewidth": 0,
              "ticks": ""
             }
            },
            "type": "scatterternary"
           }
          ],
          "surface": [
           {
            "colorbar": {
             "outlinewidth": 0,
             "ticks": ""
            },
            "colorscale": [
             [
              0,
              "#0d0887"
             ],
             [
              0.1111111111111111,
              "#46039f"
             ],
             [
              0.2222222222222222,
              "#7201a8"
             ],
             [
              0.3333333333333333,
              "#9c179e"
             ],
             [
              0.4444444444444444,
              "#bd3786"
             ],
             [
              0.5555555555555556,
              "#d8576b"
             ],
             [
              0.6666666666666666,
              "#ed7953"
             ],
             [
              0.7777777777777778,
              "#fb9f3a"
             ],
             [
              0.8888888888888888,
              "#fdca26"
             ],
             [
              1,
              "#f0f921"
             ]
            ],
            "type": "surface"
           }
          ],
          "table": [
           {
            "cells": {
             "fill": {
              "color": "#EBF0F8"
             },
             "line": {
              "color": "white"
             }
            },
            "header": {
             "fill": {
              "color": "#C8D4E3"
             },
             "line": {
              "color": "white"
             }
            },
            "type": "table"
           }
          ]
         },
         "layout": {
          "annotationdefaults": {
           "arrowcolor": "#2a3f5f",
           "arrowhead": 0,
           "arrowwidth": 1
          },
          "coloraxis": {
           "colorbar": {
            "outlinewidth": 0,
            "ticks": ""
           }
          },
          "colorscale": {
           "diverging": [
            [
             0,
             "#8e0152"
            ],
            [
             0.1,
             "#c51b7d"
            ],
            [
             0.2,
             "#de77ae"
            ],
            [
             0.3,
             "#f1b6da"
            ],
            [
             0.4,
             "#fde0ef"
            ],
            [
             0.5,
             "#f7f7f7"
            ],
            [
             0.6,
             "#e6f5d0"
            ],
            [
             0.7,
             "#b8e186"
            ],
            [
             0.8,
             "#7fbc41"
            ],
            [
             0.9,
             "#4d9221"
            ],
            [
             1,
             "#276419"
            ]
           ],
           "sequential": [
            [
             0,
             "#0d0887"
            ],
            [
             0.1111111111111111,
             "#46039f"
            ],
            [
             0.2222222222222222,
             "#7201a8"
            ],
            [
             0.3333333333333333,
             "#9c179e"
            ],
            [
             0.4444444444444444,
             "#bd3786"
            ],
            [
             0.5555555555555556,
             "#d8576b"
            ],
            [
             0.6666666666666666,
             "#ed7953"
            ],
            [
             0.7777777777777778,
             "#fb9f3a"
            ],
            [
             0.8888888888888888,
             "#fdca26"
            ],
            [
             1,
             "#f0f921"
            ]
           ],
           "sequentialminus": [
            [
             0,
             "#0d0887"
            ],
            [
             0.1111111111111111,
             "#46039f"
            ],
            [
             0.2222222222222222,
             "#7201a8"
            ],
            [
             0.3333333333333333,
             "#9c179e"
            ],
            [
             0.4444444444444444,
             "#bd3786"
            ],
            [
             0.5555555555555556,
             "#d8576b"
            ],
            [
             0.6666666666666666,
             "#ed7953"
            ],
            [
             0.7777777777777778,
             "#fb9f3a"
            ],
            [
             0.8888888888888888,
             "#fdca26"
            ],
            [
             1,
             "#f0f921"
            ]
           ]
          },
          "colorway": [
           "#636efa",
           "#EF553B",
           "#00cc96",
           "#ab63fa",
           "#FFA15A",
           "#19d3f3",
           "#FF6692",
           "#B6E880",
           "#FF97FF",
           "#FECB52"
          ],
          "font": {
           "color": "#2a3f5f"
          },
          "geo": {
           "bgcolor": "white",
           "lakecolor": "white",
           "landcolor": "#E5ECF6",
           "showlakes": true,
           "showland": true,
           "subunitcolor": "white"
          },
          "hoverlabel": {
           "align": "left"
          },
          "hovermode": "closest",
          "mapbox": {
           "style": "light"
          },
          "paper_bgcolor": "white",
          "plot_bgcolor": "#E5ECF6",
          "polar": {
           "angularaxis": {
            "gridcolor": "white",
            "linecolor": "white",
            "ticks": ""
           },
           "bgcolor": "#E5ECF6",
           "radialaxis": {
            "gridcolor": "white",
            "linecolor": "white",
            "ticks": ""
           }
          },
          "scene": {
           "xaxis": {
            "backgroundcolor": "#E5ECF6",
            "gridcolor": "white",
            "gridwidth": 2,
            "linecolor": "white",
            "showbackground": true,
            "ticks": "",
            "zerolinecolor": "white"
           },
           "yaxis": {
            "backgroundcolor": "#E5ECF6",
            "gridcolor": "white",
            "gridwidth": 2,
            "linecolor": "white",
            "showbackground": true,
            "ticks": "",
            "zerolinecolor": "white"
           },
           "zaxis": {
            "backgroundcolor": "#E5ECF6",
            "gridcolor": "white",
            "gridwidth": 2,
            "linecolor": "white",
            "showbackground": true,
            "ticks": "",
            "zerolinecolor": "white"
           }
          },
          "shapedefaults": {
           "line": {
            "color": "#2a3f5f"
           }
          },
          "ternary": {
           "aaxis": {
            "gridcolor": "white",
            "linecolor": "white",
            "ticks": ""
           },
           "baxis": {
            "gridcolor": "white",
            "linecolor": "white",
            "ticks": ""
           },
           "bgcolor": "#E5ECF6",
           "caxis": {
            "gridcolor": "white",
            "linecolor": "white",
            "ticks": ""
           }
          },
          "title": {
           "x": 0.05
          },
          "xaxis": {
           "automargin": true,
           "gridcolor": "white",
           "linecolor": "white",
           "ticks": "",
           "title": {
            "standoff": 15
           },
           "zerolinecolor": "white",
           "zerolinewidth": 2
          },
          "yaxis": {
           "automargin": true,
           "gridcolor": "white",
           "linecolor": "white",
           "ticks": "",
           "title": {
            "standoff": 15
           },
           "zerolinecolor": "white",
           "zerolinewidth": 2
          }
         }
        },
        "title": {
         "text": "Dotal Misto"
        },
        "width": 500
       }
      },
      "text/html": [
       "<div>\n",
       "        \n",
       "        \n",
       "            <div id=\"9e405e6a-0f74-45ea-b1e6-86f3e7e1165c\" class=\"plotly-graph-div\" style=\"height:500px; width:500px;\"></div>\n",
       "            <script type=\"text/javascript\">\n",
       "                require([\"plotly\"], function(Plotly) {\n",
       "                    window.PLOTLYENV=window.PLOTLYENV || {};\n",
       "                    \n",
       "                if (document.getElementById(\"9e405e6a-0f74-45ea-b1e6-86f3e7e1165c\")) {\n",
       "                    Plotly.newPlot(\n",
       "                        '9e405e6a-0f74-45ea-b1e6-86f3e7e1165c',\n",
       "                        [{\"type\": \"surface\", \"x\": [2.0, 2.5, 3.0, 3.5000000000000004, 4.0, 4.5, 5.0, 5.5, 6.0, 6.5, 7.000000000000001, 7.5, 8.0, 8.5, 9.0, 9.5, 10.0], \"y\": [0.0, 1.0, 2.0, 3.0, 4.0, 5.0, 6.0, 7.0, 8.0, 9.0, 10.0, 11.0, 12.0, 13.0, 14.0, 15.0, 16.0, 17.0, 18.0, 19.0, 20.0, 21.0, 22.0, 23.0, 24.0, 25.0, 26.0, 27.0, 28.0, 29.0, 30.0, 31.0, 32.0, 33.0, 34.0, 35.0, 36.0, 37.0, 38.0, 39.0, 40.0, 41.0, 42.0, 43.0, 44.0, 45.0, 46.0, 47.0, 48.0, 49.0, 50.0, 51.0, 52.0, 53.0, 54.0, 55.0, 56.0, 57.0, 58.0, 59.0, 60.0, 61.0, 62.0, 63.0, 64.0, 65.0, 66.0, 67.0, 68.0, 69.0, 70.0, 71.0, 72.0, 73.0, 74.0, 75.0, 76.0, 77.0, 78.0, 79.0, 80.0], \"z\": [[101223.73378751348, 91867.88737721804, 83421.47741724079, 75792.23754924319, 68897.64551061661, 62663.85411885934, 57024.7438738453, 51921.082853419066, 47299.78132192838, 43113.229996265625, 39318.71224808088, 35877.88168873873, 32756.297606614004, 29923.011623036742, 27350.199719643326, 25012.834480089103, 22888.392995139915], [101137.88869591274, 91765.87705499107, 83304.99982352558, 75662.81862763243, 68756.65723286178, 62512.53056012703, 56864.19554252533, 51752.30947230059, 47123.68323455936, 42930.618352089325, 39130.3181021567, 35684.36413619862, 32558.251058217644, 29720.97231603772, 27144.65154746421, 24804.214214849544, 22677.09496873661], [101115.43005132362, 91739.1125336176, 83274.35323882081, 75628.67274972727, 68719.35796435033, 62472.390665877145, 56821.4979832643, 51707.31038595369, 47076.61460423899, 42881.69039516318, 39079.72141088559, 35632.271596964594, 32504.81957330293, 29666.34434921407, 27088.95651226782, 24747.56972230987, 22619.60794946429], [101111.50493979237, 91734.34140009116, 83268.78512330439, 75622.35428244986, 68712.33344618767, 62464.70215273705, 56813.18537295038, 51698.411506289434, 47067.165301458714, 42871.724621766574, 39069.27131231209, 35621.367596579075, 32493.490455296327, 29654.617339117776, 27076.85735485913, 24735.122756751283, 22606.836181573926], [101112.38522802005, 91735.2605190318, 83269.69131479514, 75623.20389914923, 68713.08991081287, 62465.335044933534, 56813.669628177406, 51698.7267130413, 47067.29508483458, 42871.65610287925, 39068.99463431928, 35620.875509250815, 32492.777951021937, 29653.68133412153, 27075.696410152595, 24733.73683401512, 22605.226429744504], [101116.21624434328, 91739.67273377396, 83274.57081551448, 75628.45138975575, 68718.61897419192, 62471.07061044151, 56819.54661952395, 51704.68885506283, 47073.29385027949, 42877.64978261505, 39074.94751637701, 35626.75715387846, 32498.562550459632, 29659.347147161374, 27081.225262731863, 24739.11367813239, 22610.438953902365], [101122.33953373582, 91746.80084830981, 83282.54230482533, 75637.12439806125, 68727.86896657226, 62480.78836382125, 56829.63644697614, 51715.067035855944, 47083.88724142741, 42888.39459061329, 39085.78821036954, 35637.64550374584, 32509.456775287617, 29670.211161279338, 27092.02800802765, 24749.8285326841, 22621.043208140094], [101130.43627893382, 91756.27093708138, 83293.18458430811, 75648.76146824863, 68740.34445596824, 62493.96452031367, 56843.392006691814, 51729.29533727299, 47098.49455596936, 42903.298644409675, 39100.916874900904, 35652.93563574976, 32524.853188637397, 29685.665715595103, 27107.498800579746, 24765.279181730362, 22636.442217229538], [101140.25691129532, 91767.79114476811, 83306.1699379976, 75663.00478872069, 68755.66270844082, 62510.19606687836, 56860.394174644396, 51746.942266238686, 47116.675291191954, 42921.91544749067, 39119.88372670823, 35672.17690922743, 32544.302471891147, 29705.264767949713, 27127.196626343804, 24785.0312081966, 22656.209565015524], [101149.12847945474, 91778.18141679751, 83317.86283023319, 75675.8097251444, 68769.41168803546, 62524.741070943885, 56875.60487387064, 51762.70399220265, 47132.88724121633, 42938.48909553682, 39136.74141625304, 35689.250606947266, 32561.532663495913, 29722.599479724136, 27144.59055789605, 24802.444963622896, 22673.608971191592], [101157.37891939086, 91787.82954026824, 83328.7038056703, 75687.66321063029, 68782.11899775291, 62538.162671209495, 56889.618169701986, 51777.2013701086, 47147.77433804723, 42953.68326686516, 39152.170380939846, 35704.851247341096, 32577.2499631621, 29738.385582751394, 27160.403935717088, 24818.249676944637, 22689.374016089983], [101165.25292860862, 91797.02550847075, 83339.02300495117, 75698.93088476374, 68794.181579059, 62550.88532152659, 56902.88260705869, 51790.90394734569, 47161.824343719854, 42968.001422328925, 39166.687510656106, 35719.50710218379, 32591.9921789175, 29753.168758118238, 27175.18881597187, 24833.002431070137, 22704.06559659979], [101172.95121892107, 91806.00830863952, 83349.09375204268, 75709.91681743039, 68805.93097395079, 62563.26505117064, 56915.77598116646, 51804.20880411731, 47175.45136174844, 42981.8726272433, 39180.7349537392, 35733.67169092219, 32606.22264182296, 29767.420728256537, 27189.42401947412, 24847.18796851894, 22718.17330660483], [101180.67851451234, 91815.02290132227, 83359.1975700388, 75720.93572137854, 68817.71198772485, 62575.67391371543, 56928.694981481734, 51817.53486609538, 47189.09434957816, 42995.753845605206, 39194.785820096884, 35747.83255991707, 32620.441764152078, 29781.65332849675, 27203.631479147465, 24861.33710230349, 22732.23572101212], [101188.54598222845, 91824.20398668139, 83369.49113101503, 75732.1647509265, 68829.7208383691, 62588.32584222986, 56941.86997605928, 51831.12772293358, 47203.01296977286, 43009.91772672308, 39209.12471984821, 35762.28531202889, 32634.95522889406, 29796.181462379063, 27218.134510127224, 24875.780798435182, 22746.59074188379], [101196.67501882052, 91833.69871047714, 83380.14569342733, 75743.79773318612, 68842.17246485755, 62601.45551324123, 56955.55408264473, 51845.25771096217, 47217.4936242683, 43024.66565098086, 39224.06698686074, 35777.35826840091, 32650.103433763936, 29811.356745911587, 27233.295137948073, 24890.890729964365, 22761.61897192327], [101205.04900171731, 91843.49015707085, 83391.14515233657, 75755.82030297055, 68855.05501758069, 62615.054234331394, 56969.74229024332, 51859.92392234739, 47232.539840801575, 43040.00583640886, 39239.62571677897, 35793.06953129681, 32665.909566353155, 29827.207487500775, 27249.146790333816, 24906.705410942828, 22777.363951862997], [101213.69980809143, 91853.61918930324, 83402.53958046221, 75768.29189506754, 68868.43738267277, 62629.20037748411, 56984.522443676266, 51875.22362069442, 47248.25821243342, 43056.054086051474, 39255.925777576886, 35809.55286703355, 32682.516106793315, 29843.884681801548, 27265.84876521856, 24923.392221866285, 22794.000916752666], [101222.46875404264, 91863.89957772446, 83414.11902904585, 75780.98224841586, 68882.07201860426, 62643.631816759626, 56999.62022810733, 51890.872428761126, 47264.3561851929, 43072.5113393275, 39272.66307923904, 35826.500460653355, 32699.61266514406, 29861.076375586817, 27283.088434103436, 24940.638636373893, 22811.218120900034], [101231.33942960254, 91874.31099958163, 83425.85953177883, 75793.86407869875, 68895.92868812915, 62658.3157528324, 57015.000687549815, 51906.833644839244, 47280.79572087723, 43089.338623340045, 39289.798104107125, 35843.87262442094, 32717.159740529758, 29878.743592258426, 27300.827661395742, 24958.407655235147, 22828.979975139013], [101240.23538337786, 91884.75924626457, 83437.6499305417, 75806.81016056573, 68909.86503113536, 62673.095653417506, 57030.494093835936, 51922.92532154694, 47297.3836192315, 43106.33243247566, 39307.117963254284, 35861.447977586686, 32734.928317530706, 29896.65050184202, 27318.824583843212, 24976.452123297164, 22847.034733439534], [101249.12044147537, 91895.19514247666, 83449.42732418238, 75819.74344896365, 68923.7896927884, 62687.865893916045, 57045.98075912313, 51939.01404735282, 47313.97318925681, 43123.3333211783, 39324.45104196482, 35879.043365201476, 32752.724359244432, 29914.592861326768, 27336.865435990487, 24994.549436142548, 22865.151629212607], [101258.00145098695, 91905.61786791813, 83461.18090584171, 75832.64136478557, 68937.66698745007, 62702.57672845389, 57061.39624311424, 51955.02032028287, 47330.46972175323, 43140.23141033104, 39341.67247805989, 35896.519249911034, 32770.39405770199, 29932.40307260659, 27354.769368346504, 25012.506074973808, 22883.12508713887], [101266.98180866618, 91916.13871143856, 83473.02491069624, 75845.61700074935, 68951.60551453666, 62717.32954662593, 57076.83255322964, 51971.0250589921, 47346.94173763763, 43157.08185257055, 39358.82337241517, 35913.90223986636, 32787.94929129367, 29950.07821781042, 27372.5187419542, 25030.28987169341, 22900.908697236646], [101276.22049543413, 91926.93240428086, 83485.14303955891, 75858.85733725206, 68965.79078925778, 62732.304471710886, 57092.46120099027, 51987.18855329537, 47363.53622023284, 43174.016691176825, 39376.01958147338, 35931.29108842844, 32805.471075643676, 29967.681179142237, 27390.15811182254, 25047.92703004825, 22918.51042968678], [101285.93303133258, 91938.2385281501, 83497.79034858037, 75872.62562205433, 68980.48810420504, 62747.763682843644, 57108.53695292758, 52003.75460374977, 47380.48309719205, 43191.249633393985, 39393.45672778626, 35948.86188568949, 32823.114878766806, 29985.346020028468, 27407.79961677471, 25065.507467777825, 22935.99787419778], [101296.53463008864, 91950.53265833775, 83511.48982502334, 75887.48105736518, 68996.28321826608, 62764.31118774638, 57125.67494227117, 52021.34338412286, 47398.402407443165, 43209.39620408341, 39411.74213913685, 35967.21068752628, 32841.462940455094, 30003.639082369016, 27425.992021268725, 25083.56104169484, 22953.88095252368], [101308.49573440604, 91964.35545318521, 83526.83806119542, 75904.06375081082, 69013.84897742776, 62782.64324001134, 57144.58677298055, 52040.67491245614, 47418.016632975516, 43229.17626608287, 39431.58873788534, 35987.039823250416, 32861.2039309572, 30023.23282526002, 27445.38947091029, 25102.721874637555, 22972.772398447116], [101322.47702003118, 91980.47459578043, 83544.69187595912, 75923.30395473151, 69034.17528737467, 62803.797321625745, 57166.34693512476, 52062.85145517992, 47440.447768474536, 43251.72454216954, 39454.13790226245, 36009.49207453646, 32883.47750910385, 30045.259899851655, 27467.114290949827, 25124.099147898163, 22993.765872385313], [101339.18862251016, 91999.71806248766, 83565.97855656043, 75946.21190162866, 69058.3408847984, 62828.90794384467, 57192.13450681898, 52089.086802913735, 47466.93566606134, 43278.29936481781, 39480.659814954524, 36035.84368931883, 32909.56095403319, 30070.99424939255, 27492.433313789632, 25148.94933354316, 23018.10470262929], [101359.38467670964, 92022.9683242214, 83591.69002409626, 75973.87219243956, 69087.50816819134, 62859.20210572593, 57223.22939518193, 52120.70342152059, 47498.83620027288, 43310.28193791683, 39512.55388588056, 36067.5060137202, 32940.87204014995, 30101.855248688495, 27522.763293607582, 25178.682885497426, 23047.18984609051], [101383.95894022186, 92051.27679427246, 83623.0144754999, 76007.5911651038, 69123.08497018465, 62896.17427636672, 57261.19944953491, 52159.330719883066, 47537.82980561404, 43349.39434116528, 39551.57549375076, 36106.26030670726, 32979.21131964029, 30139.65690203949, 27559.926514722665, 25215.1257960205, 23082.846969001934], [101413.81069924169, 92085.70436341029, 83661.15419930761, 76048.69438850222, 69166.50389772939, 62941.34954202129, 57307.64918865957, 52206.64096093846, 47585.64602160989, 43397.41402057134, 39599.541607803374, 36153.95556510328, 33026.453119790225, 30186.292888591972, 27605.83067618158, 25260.195034136104, 23126.998084385206], [101449.8926148996, 92127.37859052642, 83707.39129552855, 76098.60018844351, 69219.30302200708, 62996.37088894732, 57364.31316825751, 52264.44826059484, 47644.16771859152, 43456.28287929698, 39658.444419576816, 36212.62640535949, 33084.667413092684, 30243.862184922127, 27662.598053720605, 25316.03105396154, 23181.79723147207], [101492.92139213333, 92177.14914882614, 83762.69341128452, 76158.38063807931, 69282.64659854207, 63062.48368804657, 57432.50786978451, 52334.1311653871, 47714.82732964113, 43527.479842284316, 39729.80266025364, 36283.82532101611, 33155.43499263386, 30313.968947228514, 27731.851707256108, 25384.2717922396, 23248.893589219795], [101543.70448317632, 92235.97644697876, 83828.15798459106, 76229.25578363375, 69357.86421808132, 63141.11523534745, 57513.74756053583, 52417.28117815404, 47799.28475971995, 43612.72519927439, 39815.38972558162, 36369.37220390078, 33240.616242476666, 30398.50859750766, 27815.51714099255, 25466.8683322579, 23330.259727974168], [101603.09031203591, 92304.87308247607, 83904.94610242773, 76312.52096381866, 69446.3725375842, 63233.79174971972, 57609.65732818523, 52515.61252333922, 47899.33450739591, 43713.88564735728, 39917.13714860145, 36471.25670688985, 33342.2528057474, 30499.569172094696, 27915.723671310494, 25565.986597250576, 23428.093904963014], [101671.91185539274, 92384.83743367062, 83994.20741453813, 76409.46422064993, 69549.5862430291, 63342.04383566866, 57721.87389633196, 52630.85908319457, 48016.79941391135, 43832.8654775238, 40037.02378788873, 36591.52594398923, 33462.45425828028, 30619.317387171104, 28034.690263448374, 25683.89330252015, 23544.70644458564], [101749.77059468636, 92475.40439563837, 84095.42037334669, 76519.51647588244, 69666.89654812409, 63465.229858028804, 57849.72878804817, 52762.33079264982, 48150.97241343317, 43968.9446215696, 40174.320050685725, 36729.443815733524, 33600.48060546567, 30757.01160583853, 28171.675574528672, 25819.849056342005, 23679.36131734784], [101836.5580272677, 92576.45503574077, 84208.46049409658, 76642.55186056737, 69798.17974575872, 63603.23127312596, 57993.11114841814, 52909.92659456635, 48301.763992088534, 44122.04653728456, 40328.9635186123, 36884.96293946177, 33756.30020360075, 30912.636445759475, 28326.680849615976, 25973.871962352456, 23832.093600655833], [101931.9445772803, 92687.60821791211, 84332.90448325926, 76778.11315463668, 69942.95188517951, 63755.54368112022, 58151.50160262708, 53073.11690015989, 48468.63847847827, 44291.63304617141, 40500.416591052424, 37057.548944662885, 33929.38418288561, 31085.67047210008, 28499.193726820253, 26145.4601087873, 24002.41298067491], [102035.54620105757, 92808.41646923046, 84468.2515553484, 76925.65519817383, 70100.63132284771, 63921.55591483596, 58324.26559249143, 53251.24915743262, 48650.93007024075, 44477.029257836024, 40687.99893537539, 37246.51924317945, 34119.05047837809, 31275.434559403628, 28688.540114470412, 26333.946246155538, 24189.6606047023], [102146.91589742132, 92938.35316555428, 84613.90575832326, 77084.52194930415, 70270.51021399029, 64100.51575752068, 58510.61318965733, 53443.50169310613, 48847.7906912434, 44677.365472906386, 40890.82350204755, 37450.97325218377, 34324.38837991947, 31481.010906034688, 28893.797821944998, 26538.406197080596, 24392.91244040798], [102265.57842125834, 93076.85138988757, 84769.21764749313, 77253.98983427527, 70451.79856532757, 64291.573869429645, 58709.64219348915, 53648.92538927082, 49058.22975023431, 44891.61461023738, 41107.83127931891, 37669.8241980718, 34544.28716136507, 31701.268311930773, 29113.8183497495, 26757.677057498713, 24610.993817017734], [102391.16169604787, 93223.45820841957, 84933.65831574932, 77433.45877975281, 70643.82983418238, 64494.00179965177, 58920.566650998095, 53866.68102820649, 49281.35882383969, 45118.84291577102, 41338.04687042644, 37902.058541881976, 34777.69845603581, 31935.126714131085, 29347.492891213693, 26990.62405584354, 24842.746608919282], [102523.5301371202, 93377.9919497742, 85106.997669328, 77622.6488474509, 70846.2735714743, 64707.4185431954, 59142.955462431295, 54096.28828500781, 49516.64955697856, 45358.4754541763, 41580.85040514707, 38147.013269147086, 35023.91799906765, 32181.842559240253, 29594.04060503527, 27236.431078099322, 25087.321439288728], [102662.91773130652, 93540.70007904743, 85289.48437477207, 77821.7998085491, 71059.35242617849, 64932.02300105356, 59376.97852296863, 54337.88395717969, 49764.20254870224, 45610.574365038985, 41836.26401154171, 38404.669540314266, 35282.88552569969, 32441.314114194374, 29853.31858897233, 27494.914632090513, 25344.495032119405], [102810.06603171979, 93712.42354287354, 85482.03391811863, 78031.88053931182, 71284.07073264771, 65168.83982450981, 59623.66807865194, 54592.4972575961, 50025.03516161696, 45876.13790713325, 42105.260938828695, 38675.97084910033, 35555.511024084364, 32714.4149646437, 30126.161858088843, 27766.86961496035, 25615.02114608315], [102966.08173827478, 93894.42743050307, 85686.03509273897, 78254.3737892361, 71521.97975309716, 65419.46709570974, 59884.650604321694, 54861.767467403144, 50300.78636581687, 46156.793765715825, 42389.44847238654, 38962.49657550378, 35843.339854904065, 33002.65153899676, 30414.034029968225, 28053.7138438105, 25900.269569994372], [103132.5165827961, 94088.49667076586, 85903.4601030219, 78491.39939925511, 71775.31282266365, 65686.22230860972, 60162.302618882546, 55148.108666619446, 50593.88954210103, 46454.97915602432, 42691.25463012157, 39266.654627486925, 36148.75074597208, 33308.36591435138, 30719.234447161645, 28357.699042899316, 26202.440562586213], [103311.29856811617, 94296.85545785567, 86136.77378220171, 78745.61470464389, 72046.87814567042, 65972.02860618154, 60459.631271310616, 55454.585455393215, 50907.44401947345, 46773.80876647635, 43013.79302141657, 39591.54365688997, 36474.81574670321, 33634.593839507404, 31044.754554103423, 28681.76582126816, 26524.418644383757], [103504.52535356561, 94521.92445713331, 86388.6592958303, 79019.91281932525, 72339.73322406357, 66280.06846148118, 60779.909985040875, 55784.532924478706, 51244.82143026483, 47116.66929105756, 43360.44711699752, 39940.528423948585, 36824.8678671371, 33984.62567356252, 31393.833025289117, 29029.093762732824, 26869.318319089285], [103714.51921181692, 94766.38989037782, 86662.10117998795, 79317.51933903327, 72657.29484818023, 66613.906509031, 61126.81362999748, 56141.7036290287, 51609.823919691546, 47487.388291418574, 43735.04917132842, 40317.42818553291, 37202.6983409342, 34362.21194048619, 31770.169039808843, 29403.321863214685, 27240.711133261364], [103943.78934239308, 95033.16254072581, 86960.34272159597, 79641.9494881599, 73003.29714870261, 66977.44942295666, 61504.38096111083, 56530.23316151654, 52006.65329031006, 47890.2072333649, 44141.857372657556, 40726.49809662742, 37612.54234584703, 34771.55337737651, 32177.916617433242, 29808.547074609745, 27642.62831531098], [104194.94637151895, 95325.27966519623, 87286.7778638439, 79996.89222949866, 73381.66979911359, 67374.81981789574, 61916.88557633526, 56954.509309771514, 52439.77931483799, 48329.64974540287, 44585.42469580257, 41172.29918228326, 38058.950512751784, 35217.174306039706, 32621.56009857122, 30249.202070563042, 28079.44094600771], [104470.86091517849, 95646.0969072991, 87645.17431430038, 80386.4625648572, 73796.81764288626, 67810.66146157654, 62369.16508724475, 57419.523662349704, 52914.31234857405, 48810.91389831865, 45071.009589970876, 41660.12624958172, 38547.23294694844, 35704.38171312916, 33106.38729255697, 30730.541527939287, 28556.358490190047], [104774.78610749541, 95999.43503015167, 88039.84252747336, 80815.39104529304, 74253.82921020252, 68290.36544915786, 62866.86375026571, 57931.12962333452, 53436.275764098325, 49340.158190581446, 45604.87472714949, 42196.31868167003, 39083.78141138768, 36239.59821889091, 33638.832674105426, 31258.99503314208, 29079.79093003119], [105110.36126996348, 96389.58459852006, 88475.64160343278, 81289.03113601102, 74758.48582954297, 68820.08136028534, 63416.44597634203, 58496.05858214439, 54012.62508285214, 49924.52393253356, 46194.31291523987, 42788.29013893445, 39676.10305580294, 36830.400053732534, 34226.519805625525, 31842.214127018204, 29657.4005879815], [105481.5484545155, 96821.23197408977, 88957.89652171473, 81813.26932524286, 75317.16610817656, 69406.61747789009, 64025.093533995794, 59121.815234689166, 54651.14244420068, 50572.02979673308, 46847.54257372215, 43444.42572134163, 40332.71995061169, 37485.41957789834, 34878.167391629795, 32488.98238276027, 30298.016661429523], [105892.60794822662, 97299.43193313175, 89492.36898841971, 82394.49523589798, 75936.81626638697, 70057.41223003423, 64700.67891483735, 59816.65362343585, 55360.41600948911, 51291.55521753456, 47573.69570580356, 44174.07503897246, 41063.16773354786, 38214.34993678734, 35603.60033303826, 33209.233209912316, 31011.660090107507], [106347.34359668878, 97828.70928418219, 90084.22984911191, 83038.45790659047, 76623.70207970636, 70779.19243855096, 65450.339503509866, 60588.0759181077, 56148.27121107381, 52091.21121772789, 48381.134738330045, 44985.820894064644, 41876.22141568069, 39026.1327793392, 36411.90370087462, 34012.174023933854, 31807.641498351495], [106848.8282124182, 98412.73262404314, 90737.6865699231, 83749.85180576459, 77382.9577293909, 71577.48886176012, 66279.96327139667, 61442.29136629047, 57021.20575192639, 52977.75396986212, 49276.846908565916, 45886.85653484725, 42779.25734550362, 39928.30659818121, 37310.75895948301, 34905.61171719684, 32693.87715091836], [107399.38480176238, 99054.29279884064, 91455.95944671269, 84532.29121092254, 78218.55869749028, 72456.60788828213, 67194.15950040647, 62384.18623613784, 57984.358921796535, 53956.553612552205, 50266.4126849396, 46882.953767151084, 43778.221083696604, 40926.97442875706, 38306.41154266558, 35895.9201582325, 33676.85641653429], [108000.48482915944, 99755.18222041114, 92241.14395587292, 85388.15733804795, 79133.15521184218, 73419.45265411404, 68196.06877150314, 63417.12373883701, 59041.302396799016, 55031.37676636448, 51353.780747675344, 47978.231069039146, 44877.38925183048, 42026.559971699215, 39403.42173638892, 36987.78627506379, 34761.38345146193], [108652.74065984016, 100516.18598097972, 93094.20063775142, 86318.58704802203, 80128.05979642668, 74467.50943229908, 69287.34816995909, 64542.9280119776, 60194.02295412952, 56204.367927449486, 52541.2480062089, 49175.13217654777, 46079.34663254077, 43229.78315658261, 40604.63865942867, 38184.18241104888, 35950.54789443352], [109355.9554105048, 101337.14092887891, 94015.02231053372, 87323.54720228181, 81203.32785614472, 75600.93361167502, 70468.26189468688, 65761.97866253693, 61443.02031332204, 57476.15002868917, 53829.56235462528, 50474.53055668289, 47385.09192858218, 44537.766797388475, 41911.307464302095, 39486.4737561247, 37245.832246109334], [110109.060777276, 102216.86050876252, 95002.34673268542, 88401.73587253239, 82357.64808390857, 76818.42988540811, 71737.55175413475, 67073.07204491699, 62787.159626281544, 58845.6685321558, 55217.75872241588, 51875.557742087345, 48793.858680548816, 45949.85036929035, 43322.8762289403, 40894.218591572804, 38646.905689792424], [110910.11606610035, 103153.13145165643, 96053.75032154033, 89550.57253827548, 83588.32865896147, 78117.23403470776, 73092.41417524147, 68473.39318372385, 64223.6380455778, 60310.15241282429, 56703.11427747544, 53375.55258744489, 50303.05843782903, 47463.52697949439, 44836.92663445567, 42405.09260127793, 40151.54198033759], [111756.3532504541, 104142.76531272691, 97165.70465493281, 90766.25819590579, 84891.35974893154, 79493.1767355266, 74528.56433888737, 69958.57936238391, 65748.046980301, 61865.17437602462, 58281.20597152279, 54970.11557395565, 51908.33131148391, 49074.48971041649, 46449.21568799436, 44014.92560661426, 41755.650862407885], [112644.34657613562, 105181.79895605355, 98333.80413129581, 92044.02685605337, 86261.6858331949, 80940.97398848868, 76040.54225767491, 71523.03962335816, 67354.70300227746, 63504.99134067121, 59946.25893969409, 56653.46361601876, 53603.90581504704, 50776.99524452571, 48154.04199251401, 45718.06944237736, 43453.64660462314], [113570.81161213249, 106266.4513977515, 99553.86688014676, 93379.37805889102, 87694.55849539232, 82455.68988225276, 77623.27612353215, 73161.61014245212, 69038.38743754852, 65224.36111382257, 61693.033734585646, 58420.381883443806, 55384.609803676154, 52565.92890244865, 49946.36027702581, 47509.55774570792, 45240.649153057806], [114532.7195502407, 107393.2661836656, 100822.1048317644, 94768.27418168692, 89185.76045838608, 84032.98679916115, 79272.35808989342, 74869.85496355506, 70794.6714064989, 67018.89107156961, 63517.1979707751, 60266.617724266005, 57246.28598540733, 54437.24105147357, 51822.23801255243, 49385.58209343685, 47112.97910962366], [115527.31489654463, 108559.13763776788, 102135.1597969938, 96207.18746339872, 90731.6645201588, 85669.19709520582, 80984.12940680484, 76644.16518935715, 72620.02957024917, 68885.16687011518, 65415.470327136376, 62189.04021025932, 59185.96719446695, 56388.13823051656, 53779.062457922024, 51343.714988746884, 49068.39663558397], [116552.11678930638, 109761.31661361309, 103490.11507764964, 97693.11879306143, 92329.26073546891, 87361.35978971954, 82755.72763662583, 78481.81764830301, 74511.9110856604, 70820.83644161164, 67385.7182567592, 64185.75215913985, 61202.00325334901, 58417.22531340396, 55815.698523563646, 53383.08376686611, 51106.29168655517], [117604.5820848721, 110997.00769138591, 104884.03311740873, 99223.08171213735, 93975.59224971333, 89106.61331952042, 84584.44105092283, 80380.29531409919, 76468.03010713928, 72823.87433893936, 69426.19965632439, 66255.31234988576, 63293.26671279748, 60523.69752616088, 57931.66960819208, 55503.54259721986, 53226.84934377368], [118681.15240390891, 112262.21934245837, 106312.62306573053, 100792.60066598604, 95666.09660348376, 90900.3914047509, 86465.76976916463, 82335.22368864591, 78484.1866974184, 74890.29581886918, 71533.17817231233, 68394.25955075397, 65456.59258744439, 62704.70239928541, 60124.44783348121, 57702.896654140095, 55428.21319123494], [119776.98907762713, 113551.43217946416, 107769.84308608383, 102395.24844753652, 97394.07964961487, 92735.83498454557, 88392.77742007279, 84339.66401922621, 80553.50352096102, 77013.33899446923, 73700.05283416627, 70596.19167425098, 67685.80907651357, 64954.32408736231, 62388.393973796716, 59975.79963680789, 57705.34236743414], [120886.381953404, 114858.07503842673, 109248.43306981282, 104023.22622396544, 99151.33474298505, 94604.44345132021, 90356.76821085287, 86384.8107945522, 82667.13906504758, 79184.18970185268, 75918.09103556407, 72852.50382452947, 69972.47805381341, 67264.3240518643, 64715.49641058758, 62314.48936267033, 60050.74241863325], [122002.7958766128, 116174.56568410603, 110739.94462724085, 105667.3786680752, 100928.13955802667, 96496.05030286372, 92347.23908690193, 88459.91854114283, 84814.18759764984, 81391.85348722235, 78176.27171467761, 75152.2020904785, 72305.67911304612, 69623.89518645013, 67095.09532630931, 64708.4821553974, 62454.130121945476], [123119.32679516403, 117492.84567747168, 112235.34367051083, 107317.85444951348, 102713.96578608835, 98399.57432755991, 94352.66556307668, 90553.11623963785, 86982.51680344346, 83624.01171704705, 80462.15574523584, 77482.7845164587, 74672.89785541713, 72020.55454924067, 69514.7773571083, 67145.4672036346, 64903.32561181136], [124229.47924005848, 118805.30101553169, 113726.05809175232, 108965.26659161666, 104498.73937604508, 100304.36832459203, 96361.92875590609, 92652.90360139201, 89160.3252159687, 85868.63294831415, 82763.54480335039, 79831.94171544797, 77061.76311488269, 74441.91261513146, 71962.17277690767, 69613.12801845408, 67386.09484225781]]}],\n",
       "                        {\"autosize\": true, \"height\": 500, \"margin\": {\"b\": 65, \"l\": 65, \"r\": 50, \"t\": 90}, \"scene\": {\"xaxis\": {\"title\": {\"text\": \"Taxa de Juros a.a\"}}, \"yaxis\": {\"title\": {\"text\": \"Idade\"}}, \"zaxis\": {\"title\": {\"text\": \"PNA\"}}}, \"template\": {\"data\": {\"bar\": [{\"error_x\": {\"color\": \"#2a3f5f\"}, \"error_y\": {\"color\": \"#2a3f5f\"}, \"marker\": {\"line\": {\"color\": \"#E5ECF6\", \"width\": 0.5}}, \"type\": \"bar\"}], \"barpolar\": [{\"marker\": {\"line\": {\"color\": \"#E5ECF6\", \"width\": 0.5}}, \"type\": \"barpolar\"}], \"carpet\": [{\"aaxis\": {\"endlinecolor\": \"#2a3f5f\", \"gridcolor\": \"white\", \"linecolor\": \"white\", \"minorgridcolor\": \"white\", \"startlinecolor\": \"#2a3f5f\"}, \"baxis\": {\"endlinecolor\": \"#2a3f5f\", \"gridcolor\": \"white\", \"linecolor\": \"white\", \"minorgridcolor\": \"white\", \"startlinecolor\": \"#2a3f5f\"}, \"type\": \"carpet\"}], \"choropleth\": [{\"colorbar\": {\"outlinewidth\": 0, \"ticks\": \"\"}, \"type\": \"choropleth\"}], \"contour\": [{\"colorbar\": {\"outlinewidth\": 0, \"ticks\": \"\"}, \"colorscale\": [[0.0, \"#0d0887\"], [0.1111111111111111, \"#46039f\"], [0.2222222222222222, \"#7201a8\"], [0.3333333333333333, \"#9c179e\"], [0.4444444444444444, \"#bd3786\"], [0.5555555555555556, \"#d8576b\"], [0.6666666666666666, \"#ed7953\"], [0.7777777777777778, \"#fb9f3a\"], [0.8888888888888888, \"#fdca26\"], [1.0, \"#f0f921\"]], \"type\": \"contour\"}], \"contourcarpet\": [{\"colorbar\": {\"outlinewidth\": 0, \"ticks\": \"\"}, \"type\": \"contourcarpet\"}], \"heatmap\": [{\"colorbar\": {\"outlinewidth\": 0, \"ticks\": \"\"}, \"colorscale\": [[0.0, \"#0d0887\"], [0.1111111111111111, \"#46039f\"], [0.2222222222222222, \"#7201a8\"], [0.3333333333333333, \"#9c179e\"], [0.4444444444444444, \"#bd3786\"], [0.5555555555555556, \"#d8576b\"], [0.6666666666666666, \"#ed7953\"], [0.7777777777777778, \"#fb9f3a\"], [0.8888888888888888, \"#fdca26\"], [1.0, \"#f0f921\"]], \"type\": \"heatmap\"}], \"heatmapgl\": [{\"colorbar\": {\"outlinewidth\": 0, \"ticks\": \"\"}, \"colorscale\": [[0.0, \"#0d0887\"], [0.1111111111111111, \"#46039f\"], [0.2222222222222222, \"#7201a8\"], [0.3333333333333333, \"#9c179e\"], [0.4444444444444444, \"#bd3786\"], [0.5555555555555556, \"#d8576b\"], [0.6666666666666666, \"#ed7953\"], [0.7777777777777778, \"#fb9f3a\"], [0.8888888888888888, \"#fdca26\"], [1.0, \"#f0f921\"]], \"type\": \"heatmapgl\"}], \"histogram\": [{\"marker\": {\"colorbar\": {\"outlinewidth\": 0, \"ticks\": \"\"}}, \"type\": \"histogram\"}], \"histogram2d\": [{\"colorbar\": {\"outlinewidth\": 0, \"ticks\": \"\"}, \"colorscale\": [[0.0, \"#0d0887\"], [0.1111111111111111, \"#46039f\"], [0.2222222222222222, \"#7201a8\"], [0.3333333333333333, \"#9c179e\"], [0.4444444444444444, \"#bd3786\"], [0.5555555555555556, \"#d8576b\"], [0.6666666666666666, \"#ed7953\"], [0.7777777777777778, \"#fb9f3a\"], [0.8888888888888888, \"#fdca26\"], [1.0, \"#f0f921\"]], \"type\": \"histogram2d\"}], \"histogram2dcontour\": [{\"colorbar\": {\"outlinewidth\": 0, \"ticks\": \"\"}, \"colorscale\": [[0.0, \"#0d0887\"], [0.1111111111111111, \"#46039f\"], [0.2222222222222222, \"#7201a8\"], [0.3333333333333333, \"#9c179e\"], [0.4444444444444444, \"#bd3786\"], [0.5555555555555556, \"#d8576b\"], [0.6666666666666666, \"#ed7953\"], [0.7777777777777778, \"#fb9f3a\"], [0.8888888888888888, \"#fdca26\"], [1.0, \"#f0f921\"]], \"type\": \"histogram2dcontour\"}], \"mesh3d\": [{\"colorbar\": {\"outlinewidth\": 0, \"ticks\": \"\"}, \"type\": \"mesh3d\"}], \"parcoords\": [{\"line\": {\"colorbar\": {\"outlinewidth\": 0, \"ticks\": \"\"}}, \"type\": \"parcoords\"}], \"pie\": [{\"automargin\": true, \"type\": \"pie\"}], \"scatter\": [{\"marker\": {\"colorbar\": {\"outlinewidth\": 0, \"ticks\": \"\"}}, \"type\": \"scatter\"}], \"scatter3d\": [{\"line\": {\"colorbar\": {\"outlinewidth\": 0, \"ticks\": \"\"}}, \"marker\": {\"colorbar\": {\"outlinewidth\": 0, \"ticks\": \"\"}}, \"type\": \"scatter3d\"}], \"scattercarpet\": [{\"marker\": {\"colorbar\": {\"outlinewidth\": 0, \"ticks\": \"\"}}, \"type\": \"scattercarpet\"}], \"scattergeo\": [{\"marker\": {\"colorbar\": {\"outlinewidth\": 0, \"ticks\": \"\"}}, \"type\": \"scattergeo\"}], \"scattergl\": [{\"marker\": {\"colorbar\": {\"outlinewidth\": 0, \"ticks\": \"\"}}, \"type\": \"scattergl\"}], \"scattermapbox\": [{\"marker\": {\"colorbar\": {\"outlinewidth\": 0, \"ticks\": \"\"}}, \"type\": \"scattermapbox\"}], \"scatterpolar\": [{\"marker\": {\"colorbar\": {\"outlinewidth\": 0, \"ticks\": \"\"}}, \"type\": \"scatterpolar\"}], \"scatterpolargl\": [{\"marker\": {\"colorbar\": {\"outlinewidth\": 0, \"ticks\": \"\"}}, \"type\": \"scatterpolargl\"}], \"scatterternary\": [{\"marker\": {\"colorbar\": {\"outlinewidth\": 0, \"ticks\": \"\"}}, \"type\": \"scatterternary\"}], \"surface\": [{\"colorbar\": {\"outlinewidth\": 0, \"ticks\": \"\"}, \"colorscale\": [[0.0, \"#0d0887\"], [0.1111111111111111, \"#46039f\"], [0.2222222222222222, \"#7201a8\"], [0.3333333333333333, \"#9c179e\"], [0.4444444444444444, \"#bd3786\"], [0.5555555555555556, \"#d8576b\"], [0.6666666666666666, \"#ed7953\"], [0.7777777777777778, \"#fb9f3a\"], [0.8888888888888888, \"#fdca26\"], [1.0, \"#f0f921\"]], \"type\": \"surface\"}], \"table\": [{\"cells\": {\"fill\": {\"color\": \"#EBF0F8\"}, \"line\": {\"color\": \"white\"}}, \"header\": {\"fill\": {\"color\": \"#C8D4E3\"}, \"line\": {\"color\": \"white\"}}, \"type\": \"table\"}]}, \"layout\": {\"annotationdefaults\": {\"arrowcolor\": \"#2a3f5f\", \"arrowhead\": 0, \"arrowwidth\": 1}, \"coloraxis\": {\"colorbar\": {\"outlinewidth\": 0, \"ticks\": \"\"}}, \"colorscale\": {\"diverging\": [[0, \"#8e0152\"], [0.1, \"#c51b7d\"], [0.2, \"#de77ae\"], [0.3, \"#f1b6da\"], [0.4, \"#fde0ef\"], [0.5, \"#f7f7f7\"], [0.6, \"#e6f5d0\"], [0.7, \"#b8e186\"], [0.8, \"#7fbc41\"], [0.9, \"#4d9221\"], [1, \"#276419\"]], \"sequential\": [[0.0, \"#0d0887\"], [0.1111111111111111, \"#46039f\"], [0.2222222222222222, \"#7201a8\"], [0.3333333333333333, \"#9c179e\"], [0.4444444444444444, \"#bd3786\"], [0.5555555555555556, \"#d8576b\"], [0.6666666666666666, \"#ed7953\"], [0.7777777777777778, \"#fb9f3a\"], [0.8888888888888888, \"#fdca26\"], [1.0, \"#f0f921\"]], \"sequentialminus\": [[0.0, \"#0d0887\"], [0.1111111111111111, \"#46039f\"], [0.2222222222222222, \"#7201a8\"], [0.3333333333333333, \"#9c179e\"], [0.4444444444444444, \"#bd3786\"], [0.5555555555555556, \"#d8576b\"], [0.6666666666666666, \"#ed7953\"], [0.7777777777777778, \"#fb9f3a\"], [0.8888888888888888, \"#fdca26\"], [1.0, \"#f0f921\"]]}, \"colorway\": [\"#636efa\", \"#EF553B\", \"#00cc96\", \"#ab63fa\", \"#FFA15A\", \"#19d3f3\", \"#FF6692\", \"#B6E880\", \"#FF97FF\", \"#FECB52\"], \"font\": {\"color\": \"#2a3f5f\"}, \"geo\": {\"bgcolor\": \"white\", \"lakecolor\": \"white\", \"landcolor\": \"#E5ECF6\", \"showlakes\": true, \"showland\": true, \"subunitcolor\": \"white\"}, \"hoverlabel\": {\"align\": \"left\"}, \"hovermode\": \"closest\", \"mapbox\": {\"style\": \"light\"}, \"paper_bgcolor\": \"white\", \"plot_bgcolor\": \"#E5ECF6\", \"polar\": {\"angularaxis\": {\"gridcolor\": \"white\", \"linecolor\": \"white\", \"ticks\": \"\"}, \"bgcolor\": \"#E5ECF6\", \"radialaxis\": {\"gridcolor\": \"white\", \"linecolor\": \"white\", \"ticks\": \"\"}}, \"scene\": {\"xaxis\": {\"backgroundcolor\": \"#E5ECF6\", \"gridcolor\": \"white\", \"gridwidth\": 2, \"linecolor\": \"white\", \"showbackground\": true, \"ticks\": \"\", \"zerolinecolor\": \"white\"}, \"yaxis\": {\"backgroundcolor\": \"#E5ECF6\", \"gridcolor\": \"white\", \"gridwidth\": 2, \"linecolor\": \"white\", \"showbackground\": true, \"ticks\": \"\", \"zerolinecolor\": \"white\"}, \"zaxis\": {\"backgroundcolor\": \"#E5ECF6\", \"gridcolor\": \"white\", \"gridwidth\": 2, \"linecolor\": \"white\", \"showbackground\": true, \"ticks\": \"\", \"zerolinecolor\": \"white\"}}, \"shapedefaults\": {\"line\": {\"color\": \"#2a3f5f\"}}, \"ternary\": {\"aaxis\": {\"gridcolor\": \"white\", \"linecolor\": \"white\", \"ticks\": \"\"}, \"baxis\": {\"gridcolor\": \"white\", \"linecolor\": \"white\", \"ticks\": \"\"}, \"bgcolor\": \"#E5ECF6\", \"caxis\": {\"gridcolor\": \"white\", \"linecolor\": \"white\", \"ticks\": \"\"}}, \"title\": {\"x\": 0.05}, \"xaxis\": {\"automargin\": true, \"gridcolor\": \"white\", \"linecolor\": \"white\", \"ticks\": \"\", \"title\": {\"standoff\": 15}, \"zerolinecolor\": \"white\", \"zerolinewidth\": 2}, \"yaxis\": {\"automargin\": true, \"gridcolor\": \"white\", \"linecolor\": \"white\", \"ticks\": \"\", \"title\": {\"standoff\": 15}, \"zerolinecolor\": \"white\", \"zerolinewidth\": 2}}}, \"title\": {\"text\": \"Dotal Misto\"}, \"width\": 500},\n",
       "                        {\"responsive\": true}\n",
       "                    ).then(function(){\n",
       "                            \n",
       "var gd = document.getElementById('9e405e6a-0f74-45ea-b1e6-86f3e7e1165c');\n",
       "var x = new MutationObserver(function (mutations, observer) {{\n",
       "        var display = window.getComputedStyle(gd).display;\n",
       "        if (!display || display === 'none') {{\n",
       "            console.log([gd, 'removed!']);\n",
       "            Plotly.purge(gd);\n",
       "            observer.disconnect();\n",
       "        }}\n",
       "}});\n",
       "\n",
       "// Listen for the removal of the full notebook cells\n",
       "var notebookContainer = gd.closest('#notebook-container');\n",
       "if (notebookContainer) {{\n",
       "    x.observe(notebookContainer, {childList: true});\n",
       "}}\n",
       "\n",
       "// Listen for the clearing of the current output cell\n",
       "var outputEl = gd.closest('.output');\n",
       "if (outputEl) {{\n",
       "    x.observe(outputEl, {childList: true});\n",
       "}}\n",
       "\n",
       "                        })\n",
       "                };\n",
       "                });\n",
       "            </script>\n",
       "        </div>"
      ]
     },
     "metadata": {},
     "output_type": "display_data"
    }
   ],
   "source": [
    "fig = go.Figure(data=[go.Surface(z=df_matrix, y=np.array(list(df_matrix.index)), \n",
    "                                 x=np.array(list(df_matrix.columns)))])\n",
    "\n",
    "\n",
    "fig.update_layout(title='Dotal Misto', autosize=True,\n",
    "                  width=500, height=500,\n",
    "                  margin=dict(l=65, r=50, b=65, t=90),\n",
    "                 scene = dict(\n",
    "                    xaxis_title='Taxa de Juros a.a',\n",
    "                    yaxis_title='Idade',\n",
    "                    zaxis_title='PNA'),)\n",
    "\n",
    "fig.show()"
   ]
  },
  {
   "cell_type": "code",
   "execution_count": null,
   "metadata": {},
   "outputs": [],
   "source": []
  }
 ],
 "metadata": {
  "kernel_info": {
   "name": "python3"
  },
  "kernelspec": {
   "display_name": "Python 3",
   "language": "python",
   "name": "python3"
  },
  "language_info": {
   "codemirror_mode": {
    "name": "ipython",
    "version": 3
   },
   "file_extension": ".py",
   "mimetype": "text/x-python",
   "name": "python",
   "nbconvert_exporter": "python",
   "pygments_lexer": "ipython3",
   "version": "3.5.6"
  }
 },
 "nbformat": 4,
 "nbformat_minor": 4
}
