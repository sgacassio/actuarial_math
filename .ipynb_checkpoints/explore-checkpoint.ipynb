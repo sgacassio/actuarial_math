{
 "cells": [
  {
   "cell_type": "markdown",
   "metadata": {},
   "source": [
    "### Import required libraries"
   ]
  },
  {
   "cell_type": "code",
   "execution_count": null,
   "metadata": {},
   "outputs": [],
   "source": [
    "!pip install plotly"
   ]
  },
  {
   "cell_type": "code",
   "execution_count": 43,
   "metadata": {
    "inputHidden": false,
    "outputHidden": false
   },
   "outputs": [],
   "source": [
    "import numpy as np\n",
    "import pandas as pd\n",
    "import seaborn as sns\n",
    "import plotly.graph_objects as go\n",
    "%matplotlib inline"
   ]
  },
  {
   "cell_type": "code",
   "execution_count": 2,
   "metadata": {
    "inputHidden": false,
    "outputHidden": false
   },
   "outputs": [
    {
     "data": {
      "text/plain": [
       "(2274, 6)"
      ]
     },
     "execution_count": 2,
     "metadata": {},
     "output_type": "execute_result"
    }
   ],
   "source": [
    "df = pd.read_excel('data/life_tables.xlsx')\n",
    "df.shape"
   ]
  },
  {
   "cell_type": "code",
   "execution_count": 3,
   "metadata": {},
   "outputs": [
    {
     "data": {
      "text/html": [
       "<div>\n",
       "<style scoped>\n",
       "    .dataframe tbody tr th:only-of-type {\n",
       "        vertical-align: middle;\n",
       "    }\n",
       "\n",
       "    .dataframe tbody tr th {\n",
       "        vertical-align: top;\n",
       "    }\n",
       "\n",
       "    .dataframe thead th {\n",
       "        text-align: right;\n",
       "    }\n",
       "</style>\n",
       "<table border=\"1\" class=\"dataframe\">\n",
       "  <thead>\n",
       "    <tr style=\"text-align: right;\">\n",
       "      <th></th>\n",
       "      <th>table</th>\n",
       "      <th>gender</th>\n",
       "      <th>age</th>\n",
       "      <th>qx</th>\n",
       "      <th>lx</th>\n",
       "      <th>dx</th>\n",
       "    </tr>\n",
       "  </thead>\n",
       "  <tbody>\n",
       "    <tr>\n",
       "      <th>0</th>\n",
       "      <td>AT2000 (Suavizada 10%)</td>\n",
       "      <td>F</td>\n",
       "      <td>0</td>\n",
       "      <td>0.001615</td>\n",
       "      <td>1000000.000000</td>\n",
       "      <td>1615.000000</td>\n",
       "    </tr>\n",
       "    <tr>\n",
       "      <th>1</th>\n",
       "      <td>AT2000 (Suavizada 10%)</td>\n",
       "      <td>F</td>\n",
       "      <td>1</td>\n",
       "      <td>0.000680</td>\n",
       "      <td>998385.000000</td>\n",
       "      <td>678.901800</td>\n",
       "    </tr>\n",
       "    <tr>\n",
       "      <th>2</th>\n",
       "      <td>AT2000 (Suavizada 10%)</td>\n",
       "      <td>F</td>\n",
       "      <td>2</td>\n",
       "      <td>0.000353</td>\n",
       "      <td>997706.098200</td>\n",
       "      <td>352.190253</td>\n",
       "    </tr>\n",
       "    <tr>\n",
       "      <th>3</th>\n",
       "      <td>AT2000 (Suavizada 10%)</td>\n",
       "      <td>F</td>\n",
       "      <td>3</td>\n",
       "      <td>0.000261</td>\n",
       "      <td>997353.907947</td>\n",
       "      <td>260.309370</td>\n",
       "    </tr>\n",
       "    <tr>\n",
       "      <th>4</th>\n",
       "      <td>AT2000 (Suavizada 10%)</td>\n",
       "      <td>F</td>\n",
       "      <td>4</td>\n",
       "      <td>0.000209</td>\n",
       "      <td>997093.598577</td>\n",
       "      <td>208.392562</td>\n",
       "    </tr>\n",
       "  </tbody>\n",
       "</table>\n",
       "</div>"
      ],
      "text/plain": [
       "                     table gender  age        qx              lx           dx\n",
       "0   AT2000 (Suavizada 10%)      F    0  0.001615  1000000.000000  1615.000000\n",
       "1   AT2000 (Suavizada 10%)      F    1  0.000680   998385.000000   678.901800\n",
       "2   AT2000 (Suavizada 10%)      F    2  0.000353   997706.098200   352.190253\n",
       "3   AT2000 (Suavizada 10%)      F    3  0.000261   997353.907947   260.309370\n",
       "4   AT2000 (Suavizada 10%)      F    4  0.000209   997093.598577   208.392562"
      ]
     },
     "execution_count": 3,
     "metadata": {},
     "output_type": "execute_result"
    }
   ],
   "source": [
    "df.head()"
   ]
  },
  {
   "cell_type": "code",
   "execution_count": 4,
   "metadata": {
    "inputHidden": false,
    "outputHidden": false
   },
   "outputs": [
    {
     "data": {
      "text/plain": [
       "Index(['table', 'gender', 'age', 'qx', 'lx', 'dx'], dtype='object')"
      ]
     },
     "execution_count": 4,
     "metadata": {},
     "output_type": "execute_result"
    }
   ],
   "source": [
    "df.columns"
   ]
  },
  {
   "cell_type": "code",
   "execution_count": 5,
   "metadata": {},
   "outputs": [
    {
     "data": {
      "text/plain": [
       "[{'value': 1, 'label': ' AT2000 (Suavizada 10%)'},\n",
       " {'value': 2, 'label': ' AT2000'},\n",
       " {'value': 3, 'label': 'AT-49'},\n",
       " {'value': 4, 'label': 'BR-EMSmt-v.2010'},\n",
       " {'value': 5, 'label': 'BR-EMSsb-v.2010'},\n",
       " {'value': 6, 'label': 'BR-EMSmt-v.2015'},\n",
       " {'value': 7, 'label': 'BR-EMSsb-v.2015'},\n",
       " {'value': 8, 'label': 'IBGE 2006'},\n",
       " {'value': 9, 'label': 'IBGE 2008'},\n",
       " {'value': 10, 'label': 'IBGE 2007'},\n",
       " {'value': 11, 'label': 'IBGE 2009'}]"
      ]
     },
     "execution_count": 5,
     "metadata": {},
     "output_type": "execute_result"
    }
   ],
   "source": [
    "tables = list(df['table'].unique())\n",
    "\n",
    "[{'value':i+1, 'label':tb} for i, tb in enumerate(tables)]"
   ]
  },
  {
   "cell_type": "code",
   "execution_count": 6,
   "metadata": {},
   "outputs": [],
   "source": [
    "df_interest = pd.read_excel(\"data/risk_free.xlsx\")"
   ]
  },
  {
   "cell_type": "code",
   "execution_count": 159,
   "metadata": {},
   "outputs": [
    {
     "data": {
      "text/html": [
       "<div>\n",
       "<style scoped>\n",
       "    .dataframe tbody tr th:only-of-type {\n",
       "        vertical-align: middle;\n",
       "    }\n",
       "\n",
       "    .dataframe tbody tr th {\n",
       "        vertical-align: top;\n",
       "    }\n",
       "\n",
       "    .dataframe thead th {\n",
       "        text-align: right;\n",
       "    }\n",
       "</style>\n",
       "<table border=\"1\" class=\"dataframe\">\n",
       "  <thead>\n",
       "    <tr style=\"text-align: right;\">\n",
       "      <th></th>\n",
       "      <th>month</th>\n",
       "      <th>selic_year</th>\n",
       "    </tr>\n",
       "  </thead>\n",
       "  <tbody>\n",
       "    <tr>\n",
       "      <th>290</th>\n",
       "      <td>199601</td>\n",
       "      <td>35.75</td>\n",
       "    </tr>\n",
       "  </tbody>\n",
       "</table>\n",
       "</div>"
      ],
      "text/plain": [
       "      month  selic_year\n",
       "290  199601       35.75"
      ]
     },
     "execution_count": 159,
     "metadata": {},
     "output_type": "execute_result"
    }
   ],
   "source": [
    "df_interest.query('month == 199601')"
   ]
  },
  {
   "cell_type": "code",
   "execution_count": 153,
   "metadata": {},
   "outputs": [
    {
     "data": {
      "text/plain": [
       "<matplotlib.axes._subplots.AxesSubplot at 0x1d9ef9478d0>"
      ]
     },
     "execution_count": 153,
     "metadata": {},
     "output_type": "execute_result"
    },
    {
     "data": {
      "image/png": "[encoded data removed]",
      "text/plain": [
       "<Figure size 432x288 with 1 Axes>"
      ]
     },
     "metadata": {
      "needs_background": "light"
     },
     "output_type": "display_data"
    }
   ],
   "source": [
    "df_interest.set_index('month').plot()"
   ]
  },
  {
   "cell_type": "code",
   "execution_count": 7,
   "metadata": {},
   "outputs": [
    {
     "data": {
      "text/plain": [
       "0.0416"
      ]
     },
     "execution_count": 7,
     "metadata": {},
     "output_type": "execute_result"
    }
   ],
   "source": [
    "df_interest[df_interest['month'] == df_interest['month'].max()]['selic_year'].values[0]/100"
   ]
  },
  {
   "cell_type": "code",
   "execution_count": 8,
   "metadata": {},
   "outputs": [
    {
     "data": {
      "text/plain": [
       "0.0"
      ]
     },
     "execution_count": 8,
     "metadata": {},
     "output_type": "execute_result"
    }
   ],
   "source": [
    "df['lx'].values.min()"
   ]
  },
  {
   "cell_type": "code",
   "execution_count": 9,
   "metadata": {},
   "outputs": [],
   "source": [
    "df_ = df.query('table == \" AT2000\" and gender == \"M\"').reset_index(drop=True).copy()"
   ]
  },
  {
   "cell_type": "code",
   "execution_count": 10,
   "metadata": {},
   "outputs": [
    {
     "data": {
      "text/plain": [
       "(116,)"
      ]
     },
     "execution_count": 10,
     "metadata": {},
     "output_type": "execute_result"
    }
   ],
   "source": [
    "df_['lx'].values.shape"
   ]
  },
  {
   "cell_type": "code",
   "execution_count": 138,
   "metadata": {},
   "outputs": [],
   "source": [
    "class InsuranceHandler():\n",
    "    def __init__(self, df):\n",
    "        self.df = df\n",
    "        self.df_ = None\n",
    "        self.last_i_rate_used = None\n",
    "        self.max_age = None\n",
    "        \n",
    "        self.Dx = None\n",
    "        self.Cx = None\n",
    "        self.Nx = None\n",
    "        self.Mx = None\n",
    "        \n",
    "        self.age = None\n",
    "        self.pup = None\n",
    "        self.anui = None\n",
    "        self.pna = None\n",
    "        \n",
    "        self.dif_benef = None\n",
    "        self.term_benef = None \n",
    "        self.antecip_benef = None\n",
    "        self.prod = None\n",
    "        \n",
    "        self.dif_pay = None\n",
    "        self.term_pay = None\n",
    "        self.antecip_pay = None\n",
    "        \n",
    "    def __pv_calc__(self, n):        \n",
    "        '''\n",
    "        This function calculates the present value factor v\n",
    "        Input:\n",
    "            n: period --> int or np.array\n",
    "        Output:\n",
    "            A float or a vector of floats with the factor (1+rate)**(-n)\n",
    "        '''\n",
    "        return 1/(1 + self.last_i_rate_used)**n\n",
    "\n",
    "    def __calc_Dx__(self):\n",
    "        '''\n",
    "        This function calculated the Dx commutation\n",
    "        Output:\n",
    "              An np.array with Dx commutation\n",
    "        '''\n",
    "        lx = self.df_['lx'].values\n",
    "        age = self.df_['age'].values\n",
    "        \n",
    "        return lx*self.__pv_calc__(age)\n",
    "        \n",
    "    def __calc_Nx__(self):\n",
    "        '''\n",
    "        Thist function calculated the Nx commutation\n",
    "        Output:\n",
    "              An np.array with Nx commutation\n",
    "        '''\n",
    "        return self.Dx[::-1].cumsum()[::-1]\n",
    "    \n",
    "    def __calc_Cx__(self):\n",
    "        '''\n",
    "        This function calculated the Cx commutation\n",
    "        Output:\n",
    "              An np.array with Cx commutation\n",
    "        '''\n",
    "        dx = self.df_['dx'].values\n",
    "        age = self.df_['age'].values\n",
    "        age_ = age + 1\n",
    "        \n",
    "        return dx*self.__pv_calc__(age_)\n",
    "    \n",
    "    def __calc_Mx__(self):\n",
    "        '''\n",
    "        This function calculated the Nx commutation\n",
    "        Output:\n",
    "              An np.array with Mx commutation\n",
    "        '''\n",
    "        return self.Cx[::-1].cumsum()[::-1]\n",
    "    \n",
    "    def __verify_prod__(self, x, n, m, antecip, prod):\n",
    "        max_age = self.max_age\n",
    "        \n",
    "        add_one = 1 if antecip and prod == 'a' else 0\n",
    "        \n",
    "        m_ = 0 if m == np.inf else m\n",
    "        \n",
    "        criteria = x + n + m_ - add_one\n",
    "    \n",
    "        if prod == 'd' and n > 0:\n",
    "            raise Exception('Não existe dotal puro diferido')\n",
    "            \n",
    "        if (prod == 'd' or prod == 'D') and m == np.inf:\n",
    "            raise Exception('Não existe dotal vitalício')\n",
    "\n",
    "        if criteria > max_age:\n",
    "            raise Exception('Idade + diferimento + parazo = {} > {} idade máxima'.format(criteria, max_age))\n",
    "        \n",
    "    def __calc_pup__(self, dif, age, term=np.inf, antecip=True, prod='a'):\n",
    "\n",
    "        max_age = self.max_age\n",
    "        \n",
    "        x = age\n",
    "        n = dif\n",
    "        m = term\n",
    "        \n",
    "        add_one = 0 if antecip and prod == 'a' else 1\n",
    "        \n",
    "        remove_term = 0 if term == np.inf else 1\n",
    "        m_ = max_age - x - n - add_one if m == np.inf else m\n",
    "        \n",
    "        self.__verify_prod__(x, n, m, antecip, prod)\n",
    "        \n",
    "        if prod == \"D\":\n",
    "            pup = (self.Mx[x + n] - self.Mx[x + n + m_] + self.Dx[x + m_]) / \\\n",
    "                    self.Dx[x]\n",
    "        elif prod == \"d\":\n",
    "            pup = self.Dx[x + m_] / self.Dx[x]\n",
    "        elif prod == \"A\":\n",
    "            pup = (self.Mx[x + n] - remove_term*self.Mx[x + n + m_]) / \\\n",
    "                    self.Dx[x]\n",
    "        elif prod == \"a\":\n",
    "            pup = (self.Nx[x + n + add_one] - remove_term*self.Nx[x + n + m_ + add_one]) / \\\n",
    "                     self.Dx[x]     \n",
    "        return pup\n",
    "    \n",
    "    def __calc_prov_retro__(self, t):\n",
    "        \n",
    "        max_x = self.max_age\n",
    "        x = self.age\n",
    "        n = self.dif_benef\n",
    "        m = self.term_benef\n",
    "        i = self.dif_pay\n",
    "        k = self.term_pay\n",
    "        prod = self.prod\n",
    "        pay_antecip = self.antecip_pay\n",
    "        benef_antecip = self.antecip_benef\n",
    "        \n",
    "        adjust_pay = 1 if pay_antecip else 0\n",
    "        adjust_benef = 1 if benef_antecip and prod == 'a' else 0\n",
    "\n",
    "        P = self.pna\n",
    "        E = 1/self.__calc_pup__(0, x, t, pay_antecip, 'd')\n",
    "        #payment\n",
    "        if  0 < t <= i - adjust_pay:\n",
    "            a = 0\n",
    "        elif i - adjust_pay < t: \n",
    "            a = self.__calc_pup__(0, x, min(t, k), pay_antecip, 'a')\n",
    "        elif t == 0:\n",
    "            #a t==0 the a*P = A\n",
    "            a = 0\n",
    "            \n",
    "        #benefit     \n",
    "        if 0 < t <= n - adjust_benef:\n",
    "            A = 0\n",
    "        elif n - adjust_benef < t:\n",
    "            #adjustment for endowments\n",
    "            if prod == \"D\" and t<=m+n:\n",
    "                #for t <= m+n the reserve is equal to a term insurance, because you can't \"see\" the pure endowment \n",
    "                A = self.__calc_pup__(n, x, min(t-n,m), benef_antecip, \"A\")\n",
    "            elif prod == 'd' and t <= m:\n",
    "                #for t <= m you only can \"see\" the payments \n",
    "                A = 0\n",
    "            else:\n",
    "                #general case\n",
    "                A = self.__calc_pup__(n, x, min(t-n,m), benef_antecip, prod)\n",
    "        elif t == 0:\n",
    "            #a t==0 the a*P = A\n",
    "            A = 0\n",
    "        \n",
    "        print(A, a)                  \n",
    "        V = (P*a - A)*E\n",
    "        return V\n",
    "\n",
    "    def __calc_prov_prosp__(self, t):\n",
    "        \n",
    "        max_x = self.max_age\n",
    "        x = self.age\n",
    "        n = self.dif_benef\n",
    "        m = self.term_benef\n",
    "        i = self.dif_pay\n",
    "        k = self.term_pay\n",
    "        prod = self.prod\n",
    "        pay_antecip = self.antecip_pay\n",
    "        benef_antecip = self.antecip_benef\n",
    "        \n",
    "        adjust_pay = 1 if pay_antecip else 0\n",
    "        adjust_benef = 1 if benef_antecip and prod == 'a' else 0\n",
    "\n",
    "        P = self.pna\n",
    "\n",
    "        #payment\n",
    "        if 0 < t <= i - adjust_pay:\n",
    "            a = self.__calc_pup__(max(i-t, 0), x+t, k, pay_antecip, 'a')\n",
    "        elif i - adjust_pay < t <= k - adjust_pay:\n",
    "            a = self.__calc_pup__(0, x+t, max(i+k-t,0), pay_antecip, 'a')\n",
    "        elif t > k - adjust_pay or t == 0:\n",
    "            a = 0\n",
    "         \n",
    "        #benefit     \n",
    "        if 0 < t <= n - adjust_benef:\n",
    "            A = self.__calc_pup__(max(n-t,0), x+t, m, benef_antecip, prod)\n",
    "        elif n - adjust_benef < t <= n + m - adjust_benef:\n",
    "            A = self.__calc_pup__(0, x+t, max(n + m - t,0), benef_antecip, prod)\n",
    "        elif t > n + m - adjust_benef or t == 0:\n",
    "            A = 0\n",
    "        print(A, a)\n",
    "        \n",
    "        V = A - P*a\n",
    "        return V\n",
    "     \n",
    "    def select_table(self, table, gender):\n",
    "        query_string = 'table == \"{}\" and gender == \"{}\"'.\\\n",
    "                                          format(table, gender)\n",
    "        self.df_ = self.df.query(query_string).\\\n",
    "                                          reset_index(drop=True).copy()\n",
    "        self.max_age = self.df_['age'].max()\n",
    "        \n",
    "    def gen_commutations(self, i_rate):\n",
    "        \n",
    "        if self.df_ is None:\n",
    "            raise Exception('Life table must be filtered')\n",
    "            \n",
    "        self.last_i_rate_used = i_rate\n",
    "        \n",
    "        self.Dx = self.__calc_Dx__()\n",
    "        self.Nx = self.__calc_Nx__()\n",
    "        self.Cx = self.__calc_Cx__()\n",
    "        self.Mx = self.__calc_Mx__()\n",
    "              \n",
    "    def calc_premium(self, age, dif_benef=0, term_benef=np.inf, \n",
    "                     antecip_benef=True, prod='a', \n",
    "                     dif_pay=0, term_pay=np.inf, antecip_pay=True):\n",
    "        \n",
    "        self.age = age\n",
    "        \n",
    "        self.pup = self.__calc_pup__(dif_benef, age, term_benef, \n",
    "                                     antecip_benef, prod)\n",
    "        self.dif_benef = dif_benef\n",
    "        self.term_benef = term_benef \n",
    "        self.antecip_benef = antecip_benef\n",
    "        self.prod = prod\n",
    "        \n",
    "        self.anui = self.__calc_pup__(dif_pay, age, term_pay, antecip_pay, \"a\")\n",
    "        self.dif_pay = dif_pay\n",
    "        self.term_pay = term_pay\n",
    "        self.antecip_pay = antecip_pay\n",
    "        \n",
    "        self.pna = self.pup / self.anui\n",
    "        \n",
    "    def calc_reserves(self, t, kind=\"prosp\"):\n",
    "        if kind == 'prosp':\n",
    "            result = self.__calc_prov_prosp__(t)\n",
    "        elif kind == 'retrosp':\n",
    "            result = self.__calc_prov_retro__(t)\n",
    "        \n",
    "        return result"
   ]
  },
  {
   "cell_type": "code",
   "execution_count": 139,
   "metadata": {},
   "outputs": [],
   "source": [
    "a = InsuranceHandler(df)\n",
    "#seleção da tábua\n",
    "a.select_table(\" AT2000\", \"M\")\n",
    "a.gen_commutations(0.0416)"
   ]
  },
  {
   "cell_type": "code",
   "execution_count": 170,
   "metadata": {},
   "outputs": [],
   "source": [
    "['A', 'a', 'd', 'D']\n",
    "\n",
    "a.calc_premium(age=40, dif_benef=2, term_benef=20, antecip_pay=False, term_pay=5, prod='A')"
   ]
  },
  {
   "cell_type": "code",
   "execution_count": 171,
   "metadata": {},
   "outputs": [
    {
     "data": {
      "text/plain": [
       "21.101786648894308"
      ]
     },
     "execution_count": 171,
     "metadata": {},
     "output_type": "execute_result"
    }
   ],
   "source": [
    "a.pup*1000"
   ]
  },
  {
   "cell_type": "code",
   "execution_count": 172,
   "metadata": {},
   "outputs": [
    {
     "data": {
      "text/plain": [
       "5.5858160948768685"
      ]
     },
     "execution_count": 172,
     "metadata": {},
     "output_type": "execute_result"
    }
   ],
   "source": [
    "a.pna*1000"
   ]
  },
  {
   "cell_type": "code",
   "execution_count": 173,
   "metadata": {},
   "outputs": [
    {
     "name": "stdout",
     "output_type": "stream",
     "text": [
      "0.0070127272727272755 0\n"
     ]
    },
    {
     "data": {
      "text/plain": [
       "7.012727272727275"
      ]
     },
     "execution_count": 173,
     "metadata": {},
     "output_type": "execute_result"
    }
   ],
   "source": [
    "a.calc_reserves(21)*1000"
   ]
  },
  {
   "cell_type": "code",
   "execution_count": 174,
   "metadata": {},
   "outputs": [
    {
     "name": "stdout",
     "output_type": "stream",
     "text": [
      "0.02022334813092093 3.777744610720032\n"
     ]
    },
    {
     "data": {
      "text/plain": [
       "7.012727272727277"
      ]
     },
     "execution_count": 174,
     "metadata": {},
     "output_type": "execute_result"
    }
   ],
   "source": [
    "a.calc_reserves(21, 'retrosp')*1000"
   ]
  },
  {
   "cell_type": "code",
   "execution_count": null,
   "metadata": {},
   "outputs": [],
   "source": []
  },
  {
   "cell_type": "code",
   "execution_count": 118,
   "metadata": {},
   "outputs": [],
   "source": [
    "i_rates = df_interest.selic_year.unique() / 100"
   ]
  },
  {
   "cell_type": "code",
   "execution_count": 119,
   "metadata": {},
   "outputs": [
    {
     "name": "stderr",
     "output_type": "stream",
     "text": [
      "C:\\ProgramData\\Anaconda3\\lib\\site-packages\\ipykernel_launcher.py:35: RuntimeWarning:\n",
      "\n",
      "overflow encountered in power\n",
      "\n"
     ]
    }
   ],
   "source": [
    "result = dict()\n",
    "for i_rate in i_rates:\n",
    "    pna = []\n",
    "    for age in range(0, 70):\n",
    "        a.gen_commutations(i_rate)    \n",
    "        a.calc_premium(age=age, term_benef=20, term_pay=5, prod='D')\n",
    "        pna.append(a.pna)\n",
    "    \n",
    "    key = i_rate\n",
    "    result[key] = np.array(pna)"
   ]
  },
  {
   "cell_type": "code",
   "execution_count": 148,
   "metadata": {},
   "outputs": [
    {
     "data": {
      "image/png": "[encoded data removed]",
      "text/plain": [
       "<Figure size 432x288 with 1 Axes>"
      ]
     },
     "metadata": {
      "needs_background": "light"
     },
     "output_type": "display_data"
    }
   ],
   "source": [
    "pd.DataFrame(result[0.1335]).plot();"
   ]
  },
  {
   "cell_type": "code",
   "execution_count": 150,
   "metadata": {},
   "outputs": [
    {
     "data": {
      "image/png": "[encoded data removed]",
      "text/plain": [
       "<Figure size 432x288 with 1 Axes>"
      ]
     },
     "metadata": {
      "needs_background": "light"
     },
     "output_type": "display_data"
    }
   ],
   "source": [
    "pd.DataFrame(result[0.0416]).plot();"
   ]
  },
  {
   "cell_type": "code",
   "execution_count": 145,
   "metadata": {},
   "outputs": [],
   "source": [
    "values = []\n",
    "for i_rate in [0.02, 0.025, 0.03, 0.035, 0.04, 0.045, 0.05,\n",
    "               0.055, 0.06, 0.065, 0.07, 0.075, 0.08, 0.085, 0.09, 0.095, 0.1]:\n",
    "    for age in range(0, 70):\n",
    "        cell = []\n",
    "        a.gen_commutations(i_rate)    \n",
    "        a.calc_premium(age=age, term_benef=20, term_pay=5, prod='D')\n",
    "        cell = [age, i_rate*100, a.pna*1000]\n",
    "        values.append(cell)"
   ]
  },
  {
   "cell_type": "code",
   "execution_count": 121,
   "metadata": {},
   "outputs": [],
   "source": [
    "df_3d = pd.DataFrame(np.array(values))"
   ]
  },
  {
   "cell_type": "code",
   "execution_count": 122,
   "metadata": {},
   "outputs": [],
   "source": [
    "df_matrix = pd.crosstab(index=df_3d[0], columns= df_3d[1], values=100*df_3d[2], aggfunc=np.sum)"
   ]
  },
  {
   "cell_type": "code",
   "execution_count": 123,
   "metadata": {},
   "outputs": [
    {
     "data": {
      "application/vnd.plotly.v1+json": {
       "config": {
        "plotlyServerURL": "https://plot.ly"
       },
       "data": [
        {
         "type": "surface",
         "x": [
          2,
          2.5,
          3,
          3.5000000000000004,
          4,
          4.5,
          5,
          5.5,
          6,
          6.5,
          7.000000000000001,
          7.5,
          8,
          8.5,
          9,
          9.5,
          10
         ],
         "y": [
          0,
          1,
          2,
          3,
          4,
          5,
          6,
          7,
          8,
          9,
          10,
          11,
          12,
          13,
          14,
          15,
          16,
          17,
          18,
          19,
          20,
          21,
          22,
          23,
          24,
          25,
          26,
          27,
          28,
          29,
          30,
          31,
          32,
          33,
          34,
          35,
          36,
          37,
          38,
          39,
          40,
          41,
          42,
          43,
          44,
          45,
          46,
          47,
          48,
          49,
          50,
          51,
          52,
          53,
          54,
          55,
          56,
          57,
          58,
          59,
          60,
          61,
          62,
          63,
          64,
          65,
          66,
          67,
          68,
          69
         ],
         "z": [
          [
           14073.334731020668,
           12895.172579777582,
           11820.865434166753,
           10840.86149420188,
           9946.523602232173,
           9130.038218882642,
           8384.333798648137,
           7703.007559389759,
           7080.259751335602,
           6510.834629805289,
           5989.967423252195,
           5513.336665681495,
           5077.02133120828,
           4677.462269496935,
           4311.427494962776,
           3975.980930715804,
           3668.4542509755133
          ],
          [
           14041.763742926028,
           12862.922879827163,
           11787.979718677947,
           10807.379309497923,
           9912.481596861748,
           9095.470374744025,
           8349.271642841039,
           7667.480358455929,
           7044.294689402472,
           6474.456972012773,
           5953.200665721278,
           5476.2026731724,
           5039.540463515168,
           4639.653497534543,
           4273.308507416767,
           3937.5682320526666,
           3629.7632515386886
          ],
          [
           14033.015794304594,
           12854.031132316859,
           11778.948162409068,
           10798.211984923824,
           9903.182564705225,
           9086.043690803584,
           8339.721337000146,
           7657.810417322463,
           7034.509042079243,
           6464.559478564024,
           5943.195107956431,
           5466.092747417173,
           5029.329775083184,
           4629.345556649883,
           4262.906726370702,
           3927.0759234063225,
           3619.1836272083774
          ],
          [
           14030.741415125733,
           12851.784522006454,
           11776.720139226052,
           10795.994540103236,
           9900.96873104569,
           9083.827425664043,
           8337.497418112736,
           7655.574350007639,
           7032.256976608429,
           6462.288136555415,
           5940.901716814252,
           5463.774981934841,
           5026.985705428503,
           4626.973602037075,
           4260.505613800837,
           3924.6446509258385,
           3616.7214311958887
          ],
          [
           14029.858794103187,
           12850.996733649623,
           11776.011879086816,
           10795.352225579185,
           9900.380318546426,
           9083.282247213983,
           8336.98603528594,
           7655.088423323782,
           7031.789148725902,
           6461.8319277808905,
           5940.451431610698,
           5463.325625254322,
           5026.532907824094,
           4626.513552622002,
           4260.035000224035,
           3924.1606056228648,
           3616.2214832540512
          ],
          [
           14029.865363869189,
           12851.135187500302,
           11776.26356142856,
           10795.700494934948,
           9900.810337898874,
           9083.780796353463,
           8337.541342804094,
           7655.690016152959,
           7032.42771735503,
           6462.499205482688,
           5941.140086196436,
           5464.029162033403,
           5027.245582588874,
           4627.230293605373,
           4260.751338090474,
           3924.872610654235,
           3616.9257089810108
          ],
          [
           14030.655920757505,
           12852.07837809593,
           11777.339015439802,
           10796.890000612202,
           9902.097619274431,
           9085.151313724155,
           8338.982113976905,
           7657.189456245717,
           7033.9754951850155,
           6464.086114790252,
           5942.757930140594,
           5465.6706495653825,
           5028.90423545958,
           4628.9003628964,
           4262.42772927688,
           3926.550816313243,
           3618.6017483547603
          ],
          [
           14032.219819044807,
           12853.805287123478,
           11779.207952944575,
           10798.882193971076,
           9904.196277829216,
           9087.341424831387,
           8341.250260255038,
           7659.523651768849,
           7036.365038617481,
           6466.521457674427,
           5945.2305587436185,
           5468.172978862571,
           5031.429513985189,
           4631.442587328407,
           4264.981567743512,
           3929.1115395166953,
           3621.1651677036343
          ],
          [
           14034.544466708718,
           12856.296363121033,
           11781.844625403597,
           10801.645834777433,
           9907.070234599307,
           9090.31081670462,
           8344.301794965257,
           7662.64546173198,
           7039.54653401919,
           6469.753194761027,
           5948.504121714054,
           5471.480873932225,
           5034.765074346216,
           4634.799887867963,
           4268.35534850308,
           3932.4971369840646,
           3624.558453125567
          ],
          [
           14036.558473388033,
           12858.466002499878,
           11784.149723082668,
           10804.068384361008,
           9909.594171480694,
           9092.921815602589,
           8346.987088669237,
           7665.393678792606,
           7042.347553368561,
           6472.598015466515,
           5951.38474626468,
           5474.390203630018,
           5037.69681552892,
           4637.748467826581,
           4271.31584007956,
           3935.465190942873,
           3627.530237489581
          ],
          [
           14038.343136126634,
           12860.401165483114,
           11786.215315560365,
           10806.246515087372,
           9911.868900269601,
           9095.278948921226,
           8349.413996694078,
           7667.879131634466,
           7044.881574424436,
           6475.1717500787645,
           5953.990344065845,
           5477.020713127267,
           5040.346089638379,
           4640.411079206615,
           4273.987005235626,
           3938.1407021865057,
           3630.206401931978
          ],
          [
           14039.95436522589,
           12862.162480898254,
           11788.106323332424,
           10808.249045610977,
           9913.96677500154,
           9097.457771626241,
           8351.660966600473,
           7670.182876160046,
           7047.231999389401,
           6477.559905549,
           5956.408304171967,
           5479.461468383776,
           5042.803450446578,
           4642.879589366594,
           4276.461864418605,
           3940.617696430926,
           3632.6818413265983
          ],
          [
           14041.444573450823,
           12863.805773981025,
           11789.881737185478,
           10810.137898896603,
           9915.952430449468,
           9099.525422381785,
           8353.797444929343,
           7672.376482129145,
           7049.472347402472,
           6479.837786846719,
           5958.715563610951,
           5481.790893991084,
           5045.148674408118,
           4645.234999251898,
           4278.822523572499,
           3942.979272576761,
           3635.040542527251
          ],
          [
           14042.878040207179,
           12865.398082256672,
           11791.61122949519,
           10811.985259504287,
           9917.900442006456,
           9101.558747961213,
           8355.902432754467,
           7674.540990588523,
           7051.68558820683,
           6482.090184414695,
           5960.998628977552,
           5484.097111716396,
           5047.471401127201,
           4647.568372652018,
           4281.161380713436,
           3945.319076584993,
           3637.3773167975783
          ],
          [
           14044.30029241297,
           12866.985676918262,
           11793.341910356065,
           10813.83915043629,
           9919.859801732224,
           9103.607750207504,
           8358.026969144517,
           7676.72849387397,
           7053.924873699707,
           6484.371307710982,
           5963.312758268903,
           5486.43641316934,
           5049.8289359714645,
           4649.938004764358,
           4283.537693611944,
           3947.697298863842,
           3639.7532551342165
          ],
          [
           14045.769698025986,
           12868.627075056607,
           11795.132613349318,
           10815.758864361942,
           9921.890382073801,
           9105.73298266966,
           8360.23237297609,
           7679.00114533704,
           7056.253247577403,
           6486.745134972997,
           5965.72289821543,
           5488.874738553004,
           5052.288229756573,
           4652.411867324696,
           4286.02045929505,
           3950.1839609624326,
           3642.239398406092
          ],
          [
           14047.300364176146,
           12870.334846014965,
           11796.994663615713,
           10817.754741823679,
           9924.001768115808,
           9107.943476810526,
           8362.527299460944,
           7681.367379395473,
           7058.679059300453,
           6489.220048982527,
           5968.23756749366,
           5491.420830973549,
           5054.858326012676,
           4654.999369087933,
           4288.619506560348,
           3952.789357644715,
           3644.846545351322
          ],
          [
           14048.935623733607,
           12872.1502659418,
           11798.967640127808,
           10819.864986115077,
           9926.231074650994,
           9110.27551514596,
           8364.947427143592,
           7683.862473749168,
           7061.237366145443,
           6491.831046541657,
           5970.891843924319,
           5494.109974129508,
           5057.574824187153,
           4657.73652162033,
           4291.371343306077,
           3955.5505664118114,
           3647.6124065007566
          ],
          [
           14050.64774012742,
           12874.041985418251,
           11801.017010276268,
           10822.052269901007,
           9928.538530703829,
           9112.687200221226,
           8367.449018458154,
           7686.441109134938,
           7063.881500185778,
           6494.530321050019,
           5973.636971298013,
           5496.892632266259,
           5060.387561789955,
           4660.572672838903,
           4294.224950772977,
           3958.416311828968,
           3650.4855480196397
          ],
          [
           14052.4540241566,
           12876.02508283013,
           11803.155795869534,
           10824.327729617857,
           9930.933553120949,
           9115.186389055321,
           8370.038523905061,
           7689.108476095221,
           7066.615531637412,
           6497.320955013606,
           5976.475170004752,
           5499.770282285347,
           5063.297384002806,
           4663.508141264066,
           4297.180219349434,
           3961.386148358263,
           3653.465274550039
          ],
          [
           14054.33844134366,
           12878.081430319333,
           11805.363795636124,
           10826.669129071543,
           9933.39192421842,
           9117.746947779522,
           8372.68796798407,
           7691.83483906284,
           7069.408051541493,
           6500.16995625934,
           5979.371956981318,
           5502.707043567834,
           5066.267106049101,
           4666.5045306401025,
           4300.197632617776,
           3964.41952885531,
           3656.510095357951
          ],
          [
           14056.287734127562,
           12880.196632279301,
           11807.625271132772,
           10829.059229575234,
           9935.894788217664,
           9120.348321272166,
           8375.375043373282,
           7694.596110517196,
           7072.233185089491,
           6503.04967307594,
           5982.297928490344,
           5505.671797132084,
           5069.263940151322,
           4669.527438575116,
           4303.241233820099,
           3967.4790070792815,
           3659.5811430100903
          ],
          [
           14058.283644344481,
           12882.353075785453,
           11809.92274688994,
           10831.480267679644,
           9938.423740077955,
           9122.971171835743,
           8378.079243026667,
           7697.37042454877,
           7075.067558835859,
           6505.935111079566,
           5985.226386179246,
           5508.636083694806,
           5072.2576314247635,
           4672.544798890839,
           4306.277145868699,
           3970.528908953612,
           3662.640971678132
          ],
          [
           14060.32418127226,
           12884.551496717642,
           11812.258866364173,
           10833.936091762998,
           9940.9832328377,
           9125.620046920194,
           8380.804777605008,
           7700.161293167248,
           7077.913685020675,
           6508.827534758542,
           5988.157145208476,
           5511.598107966223,
           5075.244648198732,
           4675.551248147177,
           4309.298104601808,
           3973.5600234549815,
           3665.678396953816
          ],
          [
           14062.39852713221,
           12886.786437487615,
           11814.63233968795,
           10836.428542562859,
           9943.5773382387,
           9128.300471327573,
           8383.5579545868,
           7702.975231173276,
           7080.777794304153,
           6511.732473162967,
           5991.09468074467,
           5514.560996336745,
           5078.226523632443,
           4678.546526088983,
           4312.301894964141,
           3976.5680532808146,
           3668.6869414679704
          ],
          [
           14064.486816637222,
           12889.046045550305,
           11817.037776931214,
           10838.957332635977,
           9946.209680132632,
           9131.018939171383,
           8386.347230731146,
           7705.821868844318,
           7083.670006532765,
           6514.659945067084,
           5994.048402572446,
           5517.533114969958,
           5081.210210507939,
           4681.535859724754,
           4315.291756479208,
           3979.554033477758,
           3671.6652582061065
          ],
          [
           14066.62188102042,
           12891.374355141246,
           11819.528541257754,
           10841.58349787278,
           9948.947505412705,
           9133.847620189099,
           8389.24856533002,
           7708.779959887653,
           7086.670997889543,
           6517.691787017773,
           5997.100643357309,
           5520.596715571922,
           5084.2773800894,
           4684.599909427225,
           4318.34696955143,
           3982.5955499251363,
           3674.6889723559393
          ],
          [
           14068.830192936739,
           12893.811680516765,
           11822.156647013466,
           10844.368849257844,
           9951.860731480414,
           9136.863038955773,
           8392.343761924676,
           7711.935411762063,
           7089.869741831329,
           6520.91912330455,
           6000.343872916395,
           5523.844906475985,
           5087.521160130917,
           4687.831281879885,
           4321.5591495500885,
           3985.7828191828025,
           3677.846550190384
          ],
          [
           14071.195253771395,
           12896.45814136949,
           11825.036518783912,
           10847.440047797418,
           9955.086407514696,
           9140.210982587223,
           8395.785873378323,
           7715.44723098308,
           7093.430030380294,
           6524.509492736252,
           6003.948454482705,
           5527.450057573143,
           5091.115203424733,
           4691.404273497053,
           4325.102673126756,
           3989.2898029187377,
           3681.3111043738054
          ],
          [
           14073.804556301497,
           12899.419660864633,
           11828.290113764815,
           10850.932931514366,
           9958.772318494379,
           9144.049447020232,
           8399.741549123884,
           7719.489324124002,
           7097.531776283937,
           6528.647694482414,
           6008.103072320356,
           5531.603843777395,
           5095.253377553741,
           4695.5142336055715,
           4329.173738986716,
           3993.3129877350543,
           3685.2789118722058
          ],
          [
           14076.76497054598,
           12902.821785829074,
           11832.059365043871,
           10855.00375077011,
           9963.087163707589,
           9148.557893857049,
           8404.399491108135,
           7724.258260692343,
           7102.378179028569,
           6533.542442972617,
           6013.020951856044,
           5536.523098280283,
           5100.155311557126,
           4700.382857973255,
           4333.995455585759,
           3998.0763088139256,
           3689.97421036372
          ],
          [
           14080.241783312356,
           12906.849428043904,
           11836.546617219756,
           10859.870292422136,
           9968.262364926117,
           9153.979738995691,
           8410.013620022413,
           7730.017114599526,
           7108.240239506558,
           6539.4715538970995,
           6018.98571521063,
           5542.496335780439,
           5106.113584920862,
           4706.306041462791,
           4339.866355146536,
           4003.8803227605526,
           3695.6990271159652
          ],
          [
           14084.404058157887,
           12911.691625883639,
           11841.958810882707,
           10865.75550991444,
           9974.535165971536,
           9160.564946209703,
           8416.845187753226,
           7737.037120367199,
           7115.397984651848,
           6546.722761540382,
           6026.291814940396,
           5549.823825660655,
           5113.4334624439225,
           4713.593295995384,
           4347.099515232974,
           4011.041052373807,
           3702.771765591355
          ],
          [
           14089.445459489165,
           12917.56258223696,
           11848.528744591677,
           10872.909020223013,
           9982.17037599,
           9168.592028369429,
           8425.185048260162,
           7745.620225327974,
           7124.163312472204,
           6555.616867901916,
           6035.2679981746,
           5558.841381680922,
           5122.457019586695,
           4722.592221178478,
           4356.047383777479,
           4019.915174669746,
           3711.5527645281377
          ],
          [
           14095.530210642957,
           12924.640097688269,
           11856.446612739399,
           10881.532315685297,
           9991.379770307252,
           9178.282103605114,
           8435.262791420942,
           7756.003683979155,
           7134.78039409881,
           6566.404267493101,
           6046.170240218743,
           5569.809964274904,
           5133.449649709109,
           4733.572131371658,
           4366.982721544924,
           4030.7784568390884,
           3722.320389668606
          ],
          [
           14102.90218238473,
           12933.178826102136,
           11865.977102475914,
           10891.899411445655,
           10002.446028655044,
           9189.92589222522,
           8447.376591161874,
           7768.492571749579,
           7147.56068711246,
           6579.4023115049185,
           6059.321326300953,
           5583.057360373509,
           5146.743734722717,
           4746.869620828653,
           4380.245975140068,
           4043.974859144387,
           3735.4217962701214
          ],
          [
           14111.879062325335,
           12943.503299760323,
           11877.451387215793,
           10904.347911834227,
           10015.712971469955,
           9203.873213157545,
           8461.88204600315,
           7783.448047862055,
           7162.870693649761,
           6594.9826292166745,
           6075.0977998544795,
           5598.964817989318,
           5162.7250215757,
           4762.874734137152,
           4396.231290171942,
           4059.9024365312366,
           3751.2587620545346
          ],
          [
           14122.834919050203,
           12955.990188596752,
           11891.249112461346,
           10919.260753797804,
           10031.56709147981,
           9220.514333759442,
           8479.173376673714,
           7801.268429838431,
           7181.112940381586,
           6613.55204152282,
           6093.910837153782,
           5617.9479090045215,
           5181.813499713188,
           4782.01188434741,
           4415.367495520152,
           4078.994413974445,
           3770.268878048987
          ],
          [
           14135.682068935748,
           12970.544980175382,
           11907.26991794691,
           10936.532600778592,
           10049.898849398782,
           9239.736197877364,
           8499.13461750474,
           7821.835379576158,
           7202.167190961893,
           6634.988831746048,
           6115.637608752236,
           5639.883013729341,
           5203.885041458152,
           4804.156682054747,
           4437.530154149475,
           4101.126492182177,
           3792.3281424416145
          ],
          [
           14150.477252229663,
           12987.217137132768,
           11925.557149105605,
           10956.20171317375,
           10070.742337929749,
           9261.569545038301,
           8521.793877285356,
           7845.175015102101,
           7226.058138782262,
           6659.316768637318,
           6140.301399536936,
           5664.7933209431285,
           5228.963079773642,
           4829.333102214797,
           4462.744042802884,
           4126.3244754739435,
           3817.46358250873
          ],
          [
           14167.216432078445,
           13005.991981326577,
           11946.08693109605,
           10978.236311377328,
           10094.05902765254,
           9285.970128012848,
           8547.10211261707,
           7871.234319401994,
           7252.729526792585,
           6686.477008789395,
           6167.841361661737,
           5692.61649582562,
           5256.9842524373635,
           4857.477162774965,
           4490.944920462345,
           4154.5241827810005,
           3845.6113583710076
          ],
          [
           14185.88341156659,
           13026.841532624258,
           11968.820951067297,
           11002.589056325818,
           10119.79372991647,
           9312.87596800707,
           8574.99150825654,
           7899.9404990207295,
           7282.104355380415,
           6716.389040659828,
           6198.1740955869855,
           5723.266811270535,
           5287.861007831694,
           4888.49993881468,
           4522.042893255762,
           4185.635113279434,
           3876.680685969575
          ],
          [
           14206.420680081137,
           13049.697109562849,
           11993.680511533983,
           11029.172290449502,
           10147.850792505957,
           9342.184300766208,
           8605.352994693383,
           7931.178916559884,
           7314.063093068866,
           6748.929054301754,
           6231.1720752023475,
           5756.613538490017,
           5321.459883256433,
           4922.2656615170845,
           4555.900276508755,
           4219.518022302088,
           3910.5310849911943
          ],
          [
           14228.711446417372,
           13074.433838514884,
           12020.533175179553,
           11057.846514670833,
           10178.084138448896,
           9373.742936359167,
           8638.028714495505,
           7964.786472787023,
           7348.437804708692,
           6783.924664835121,
           6266.658832650321,
           5792.476474350676,
           5357.597269424113,
           4958.587626525191,
           4592.327564437277,
           4255.9808794712335,
           3946.9682611474277
          ],
          [
           14252.613831522282,
           13100.906701361058,
           12049.23043543283,
           11088.459473748813,
           10210.33757948658,
           9407.391633469002,
           8672.854307510419,
           8000.594668485132,
           7385.055869785543,
           6821.199179676506,
           6304.453678321702,
           5830.671028206687,
           5396.084787396768,
           4997.273792510256,
           4631.129189298343,
           4294.824734049872,
           3985.7900293318153
          ],
          [
           14277.998537990385,
           13128.990034255386,
           12079.648846359789,
           11120.88873825662,
           10244.488688399948,
           9443.007116002687,
           8709.7049398863,
           8038.476526863494,
           7423.787690832943,
           6860.619996096342,
           6344.420700228125,
           5871.057744380059,
           5436.779263264499,
           5038.1771441914925,
           4672.154215269465,
           4335.894687962081,
           4026.8375192693507
          ],
          [
           14304.798110673684,
           13158.627838237217,
           12111.741298159395,
           11155.093866320169,
           10280.501774427692,
           9480.556795316059,
           8748.549711546959,
           8078.401629682374,
           7464.602306219341,
           6902.154742966725,
           6386.525390984358,
           5913.59937433274,
           5479.640208867482,
           5081.253548112034,
           4715.354538682193,
           4379.138412558011,
           4070.0539833429084
          ],
          [
           14333.074481615495,
           13189.901266321445,
           12145.604491649667,
           11191.183904657899,
           10318.495444787079,
           9520.166421647664,
           8789.519423111133,
           8120.504021918835,
           7507.635451982603,
           6945.939516754687,
           6430.90307286807,
           5958.429503918439,
           5524.798662840459,
           5126.630817772019,
           4760.854186422889,
           4424.675688505142,
           4115.554585377785
          ],
          [
           14362.962838121746,
           13222.971622707291,
           12181.421106095602,
           11229.358758088538,
           10358.683205134055,
           9562.059941564681,
           8832.845713593175,
           8165.020650637105,
           7553.127320784976,
           6992.215977781451,
           6477.795347169657,
           6005.788370400457,
           5572.492388859109,
           5174.5433058108465,
           4808.883314044265,
           4472.731821226275,
           4163.559244306514
          ],
          [
           14394.706347186655,
           13258.115660135525,
           12219.4956576673,
           11269.945595033361,
           10401.41039638508,
           9606.596949184026,
           8878.899008305874,
           8212.329791392072,
           7601.461448450688,
           7041.37067857176,
           6527.589846263403,
           6056.063020539433,
           5623.106422545391,
           5225.372823132438,
           4859.8194811866715,
           4523.679257420163,
           4214.434577356496
          ],
          [
           14428.63323595255,
           13295.702177152221,
           12260.230689459137,
           11313.374693986516,
           10447.129750757354,
           9654.247995795362,
           8928.163618260467,
           8262.925966907369,
           7653.139475713556,
           7093.909687610992,
           6580.7947342103635,
           6109.761699425499,
           5677.147357025104,
           5279.622827287558,
           4914.161746912527,
           4578.011589870145,
           4268.667815565672
          ],
          [
           14465.068527677064,
           13336.103314690758,
           12304.037756173868,
           11360.090218674148,
           10496.312038210872,
           9705.505169931073,
           8981.148300456278,
           8317.330520787893,
           7708.691757228229,
           7150.369245998405,
           6637.949415425402,
           6167.424608914822,
           5735.154143449062,
           5337.829252971243,
           4972.441514526498,
           4636.254398145508,
           4326.777619785987
          ],
          [
           14504.35060425137,
           13379.712535724113,
           12351.356884948837,
           11410.57120288941,
           10549.46860006107,
           9760.906189205025,
           9038.411904472763,
           8376.118804564709,
           7768.706065765084,
           7211.345958075336,
           6699.656174988215,
           6229.656956036512,
           5797.732502108224,
           5400.59623755237,
           5035.259521089835,
           4699.003450195931,
           4389.353441543658
          ],
          [
           14546.814327943463,
           13426.92815084518,
           12402.640656927013,
           11465.316311890889,
           10607.136889340016,
           9821.020797269928,
           9100.550684983667,
           8439.908448554814,
           7833.816850241598,
           7277.487053441493,
           6766.571451165669,
           6297.121233765803,
           5865.548201761571,
           5468.590382993263,
           5103.281060733475,
           4766.9208615298085,
           4457.052589017237
          ],
          [
           14592.75780178647,
           13478.11968720449,
           12458.32040135152,
           11524.81004520155,
           10669.846836643652,
           9886.417421290122,
           9168.165356729693,
           8509.326900234762,
           7904.6733258567965,
           7349.45908183459,
           6839.375174573431,
           6370.507232272991,
           5939.29776057196,
           5542.512155223177,
           5177.208083576399,
           4840.707888211279,
           4530.573703022995
          ],
          [
           14642.515694183934,
           13533.701948989523,
           12518.881148884844,
           11589.598717382572,
           10738.197972875305,
           9957.741533114679,
           9241.940774381488,
           8585.092488538183,
           7982.021975579467,
           7428.03189296164,
           6918.856257153945,
           6450.6190586395605,
           6019.797009969149,
           5623.185998305695,
           5257.870859945987,
           4921.198135234887,
           4610.751498686053
          ],
          [
           14696.559274798048,
           13594.231950502473,
           12584.955850176673,
           11660.38231862396,
           10812.949258814537,
           10035.80374726978,
           9322.732572837667,
           8668.099856608847,
           8066.791003491461,
           7514.1623181647465,
           7005.995691002338,
           6538.45782419793,
           6108.063525691103,
           5711.64264943311,
           5346.310305787568,
           5009.440006091147,
           4698.639441175862
          ],
          [
           14755.559112539468,
           13660.467178342236,
           12657.37962708679,
           11738.06515116598,
           10895.066475723812,
           10121.62430904883,
           9411.609071846713,
           8759.459579143115,
           8160.127939518055,
           7609.030016969291,
           7102.0008721536715,
           6635.2546631428095,
           6205.34854208471,
           5809.1501341229,
           5443.808229310502,
           5106.72635771647,
           4795.538953015551
          ],
          [
           14820.421363267516,
           13733.39768300514,
           12737.218081728111,
           11823.78074050696,
           10985.74409648405,
           10216.452258123169,
           9509.868041059604,
           8860.512815802686,
           8263.412447506844,
           7714.048686868392,
           7208.315441106546,
           6742.479416002768,
           6313.144675015489,
           5917.22071037322,
           5551.893664484501,
           5214.600378621024,
           4903.0049801780015
          ],
          [
           14892.344995992475,
           13814.299786091999,
           12825.81783039586,
           11918.939521564615,
           11086.450430340623,
           10321.808320071239,
           9619.077609344691,
           8972.870493036142,
           8378.294018866392,
           7830.902493509005,
           7326.654660496766,
           6861.875152703045,
           6433.219775897234,
           6037.644227591789,
           5672.375897799787,
           5334.888436023512,
           5022.8788023303505
          ],
          [
           14972.534454667919,
           13904.44247987634,
           12924.506984894459,
           12024.92372382729,
           11198.617213729955,
           10439.169486058032,
           9740.756099221655,
           9098.088643163022,
           8506.363051346074,
           7961.213110416636,
           7458.668624182464,
           6995.11774747359,
           6567.273057739627,
           6172.140978695283,
           5806.994211607316,
           5469.346866526094,
           5156.93201842146
          ],
          [
           15062.097169738481,
           14004.9828380834,
           13034.488591848714,
           12142.978954921042,
           11323.529442094195,
           10569.857186745772,
           9876.258627940659,
           9237.553510093441,
           8649.034530277308,
           8106.4220409157415,
           7605.82328002073,
           7143.695658315766,
           6716.813683341237,
           6322.239145733697,
           5957.294232947534,
           5619.5372713291545,
           5306.740829163671
          ],
          [
           15162.053314890889,
           14116.975102600034,
           13156.849120410248,
           12274.22214936673,
           11462.332830510817,
           10715.044307885777,
           10026.783714675961,
           9392.487779405998,
           8807.553908391674,
           8267.796170906036,
           7769.405675849678,
           7308.914884029655,
           6883.165449265281,
           6489.279225176135,
           6124.632113293842,
           5786.830462637132,
           5473.68976158508
          ],
          [
           15273.30681304729,
           14241.34051075147,
           13292.527195781173,
           12419.609280455443,
           11616.000565105829,
           10875.721033214688,
           10193.338259059561,
           9563.914730132514,
           8982.96046300524,
           8446.390359053623,
           7950.48580654333,
           7491.860088915087,
           7067.427206470306,
           6674.373760743801,
           6310.133588262529,
           5972.364863669058,
           5658.929421803908
          ],
          [
           15396.653378999246,
           14378.874985426206,
           13442.32095358737,
           12579.942389306958,
           11785.340012097435,
           11052.70123466602,
           10376.743610500653,
           9752.66397863063,
           9176.09270803225,
           8643.052509216554,
           8149.921338258425,
           7693.398969769633,
           7270.476860827328,
           6878.410968314431,
           6514.69721808627,
           6177.049356368525,
           5863.378942263624
          ],
          [
           15532.803756864001,
           14530.273216653746,
           13606.912867679233,
           12755.89506710763,
           11971.018768523667,
           11246.649011216972,
           10577.66252010704,
           9959.39877362089,
           9387.61596703236,
           8858.451361026784,
           8368.38556048976,
           7914.210317561381,
           7492.999496557913,
           7102.08287708215,
           6739.022506072286,
           6401.591340174165,
           6087.75394709124
          ],
          [
           15682.288077932088,
           14696.037627718933,
           13786.782858377765,
           12947.929279823833,
           12173.484814502448,
           11458.001813169794,
           10796.524911847264,
           10184.54411676272,
           9617.952570964715,
           9093.008515613596,
           8606.3010115908,
           8154.719033811623,
           7735.423592151875,
           7345.822569815114,
           6983.548002797852,
           6646.435553328045,
           6332.505956164919
          ],
          [
           15845.361351906055,
           14876.389232358006,
           13982.124002631623,
           13156.215461089707,
           12392.890557473536,
           11686.898041710103,
           11033.458673564575,
           10428.220410595159,
           9867.218055294356,
           9346.836898570296,
           8863.779946663606,
           8415.0383629528,
           7997.864795513463,
           7609.7492963405075,
           7248.397569314117,
           6911.711311736477,
           6597.770438973265
          ],
          [
           16021.91774643064,
           15071.18679536591,
           14192.766170075443,
           13380.560245841132,
           12629.024311090572,
           11933.11194430599,
           11288.227661888604,
           10690.184286075977,
           10135.16454188276,
           9619.686445161347,
           9140.572091040352,
           8694.919493894244,
           8280.07716722977,
           7893.621164986896,
           7533.334335210712,
           7197.187563278163,
           6883.322805222431
          ],
          [
           16211.462670878584,
           15279.90340800922,
           14418.156801621137,
           13620.39117790991,
           12881.298671023957,
           12196.045410485558,
           11560.226681558011,
           10969.826540127906,
           10421.181419901686,
           9910.947319620156,
           9436.070202305036,
           8993.759277923324,
           8581.46287585156,
           8196.846644653044,
           7837.7738443826875,
           7502.2875213034695,
           7188.5943768740035
          ]
         ]
        }
       ],
       "layout": {
        "autosize": true,
        "height": 1000,
        "margin": {
         "b": 65,
         "l": 65,
         "r": 50,
         "t": 90
        },
        "template": {
         "data": {
          "bar": [
           {
            "error_x": {
             "color": "#2a3f5f"
            },
            "error_y": {
             "color": "#2a3f5f"
            },
            "marker": {
             "line": {
              "color": "#E5ECF6",
              "width": 0.5
             }
            },
            "type": "bar"
           }
          ],
          "barpolar": [
           {
            "marker": {
             "line": {
              "color": "#E5ECF6",
              "width": 0.5
             }
            },
            "type": "barpolar"
           }
          ],
          "carpet": [
           {
            "aaxis": {
             "endlinecolor": "#2a3f5f",
             "gridcolor": "white",
             "linecolor": "white",
             "minorgridcolor": "white",
             "startlinecolor": "#2a3f5f"
            },
            "baxis": {
             "endlinecolor": "#2a3f5f",
             "gridcolor": "white",
             "linecolor": "white",
             "minorgridcolor": "white",
             "startlinecolor": "#2a3f5f"
            },
            "type": "carpet"
           }
          ],
          "choropleth": [
           {
            "colorbar": {
             "outlinewidth": 0,
             "ticks": ""
            },
            "type": "choropleth"
           }
          ],
          "contour": [
           {
            "colorbar": {
             "outlinewidth": 0,
             "ticks": ""
            },
            "colorscale": [
             [
              0,
              "#0d0887"
             ],
             [
              0.1111111111111111,
              "#46039f"
             ],
             [
              0.2222222222222222,
              "#7201a8"
             ],
             [
              0.3333333333333333,
              "#9c179e"
             ],
             [
              0.4444444444444444,
              "#bd3786"
             ],
             [
              0.5555555555555556,
              "#d8576b"
             ],
             [
              0.6666666666666666,
              "#ed7953"
             ],
             [
              0.7777777777777778,
              "#fb9f3a"
             ],
             [
              0.8888888888888888,
              "#fdca26"
             ],
             [
              1,
              "#f0f921"
             ]
            ],
            "type": "contour"
           }
          ],
          "contourcarpet": [
           {
            "colorbar": {
             "outlinewidth": 0,
             "ticks": ""
            },
            "type": "contourcarpet"
           }
          ],
          "heatmap": [
           {
            "colorbar": {
             "outlinewidth": 0,
             "ticks": ""
            },
            "colorscale": [
             [
              0,
              "#0d0887"
             ],
             [
              0.1111111111111111,
              "#46039f"
             ],
             [
              0.2222222222222222,
              "#7201a8"
             ],
             [
              0.3333333333333333,
              "#9c179e"
             ],
             [
              0.4444444444444444,
              "#bd3786"
             ],
             [
              0.5555555555555556,
              "#d8576b"
             ],
             [
              0.6666666666666666,
              "#ed7953"
             ],
             [
              0.7777777777777778,
              "#fb9f3a"
             ],
             [
              0.8888888888888888,
              "#fdca26"
             ],
             [
              1,
              "#f0f921"
             ]
            ],
            "type": "heatmap"
           }
          ],
          "heatmapgl": [
           {
            "colorbar": {
             "outlinewidth": 0,
             "ticks": ""
            },
            "colorscale": [
             [
              0,
              "#0d0887"
             ],
             [
              0.1111111111111111,
              "#46039f"
             ],
             [
              0.2222222222222222,
              "#7201a8"
             ],
             [
              0.3333333333333333,
              "#9c179e"
             ],
             [
              0.4444444444444444,
              "#bd3786"
             ],
             [
              0.5555555555555556,
              "#d8576b"
             ],
             [
              0.6666666666666666,
              "#ed7953"
             ],
             [
              0.7777777777777778,
              "#fb9f3a"
             ],
             [
              0.8888888888888888,
              "#fdca26"
             ],
             [
              1,
              "#f0f921"
             ]
            ],
            "type": "heatmapgl"
           }
          ],
          "histogram": [
           {
            "marker": {
             "colorbar": {
              "outlinewidth": 0,
              "ticks": ""
             }
            },
            "type": "histogram"
           }
          ],
          "histogram2d": [
           {
            "colorbar": {
             "outlinewidth": 0,
             "ticks": ""
            },
            "colorscale": [
             [
              0,
              "#0d0887"
             ],
             [
              0.1111111111111111,
              "#46039f"
             ],
             [
              0.2222222222222222,
              "#7201a8"
             ],
             [
              0.3333333333333333,
              "#9c179e"
             ],
             [
              0.4444444444444444,
              "#bd3786"
             ],
             [
              0.5555555555555556,
              "#d8576b"
             ],
             [
              0.6666666666666666,
              "#ed7953"
             ],
             [
              0.7777777777777778,
              "#fb9f3a"
             ],
             [
              0.8888888888888888,
              "#fdca26"
             ],
             [
              1,
              "#f0f921"
             ]
            ],
            "type": "histogram2d"
           }
          ],
          "histogram2dcontour": [
           {
            "colorbar": {
             "outlinewidth": 0,
             "ticks": ""
            },
            "colorscale": [
             [
              0,
              "#0d0887"
             ],
             [
              0.1111111111111111,
              "#46039f"
             ],
             [
              0.2222222222222222,
              "#7201a8"
             ],
             [
              0.3333333333333333,
              "#9c179e"
             ],
             [
              0.4444444444444444,
              "#bd3786"
             ],
             [
              0.5555555555555556,
              "#d8576b"
             ],
             [
              0.6666666666666666,
              "#ed7953"
             ],
             [
              0.7777777777777778,
              "#fb9f3a"
             ],
             [
              0.8888888888888888,
              "#fdca26"
             ],
             [
              1,
              "#f0f921"
             ]
            ],
            "type": "histogram2dcontour"
           }
          ],
          "mesh3d": [
           {
            "colorbar": {
             "outlinewidth": 0,
             "ticks": ""
            },
            "type": "mesh3d"
           }
          ],
          "parcoords": [
           {
            "line": {
             "colorbar": {
              "outlinewidth": 0,
              "ticks": ""
             }
            },
            "type": "parcoords"
           }
          ],
          "pie": [
           {
            "automargin": true,
            "type": "pie"
           }
          ],
          "scatter": [
           {
            "marker": {
             "colorbar": {
              "outlinewidth": 0,
              "ticks": ""
             }
            },
            "type": "scatter"
           }
          ],
          "scatter3d": [
           {
            "line": {
             "colorbar": {
              "outlinewidth": 0,
              "ticks": ""
             }
            },
            "marker": {
             "colorbar": {
              "outlinewidth": 0,
              "ticks": ""
             }
            },
            "type": "scatter3d"
           }
          ],
          "scattercarpet": [
           {
            "marker": {
             "colorbar": {
              "outlinewidth": 0,
              "ticks": ""
             }
            },
            "type": "scattercarpet"
           }
          ],
          "scattergeo": [
           {
            "marker": {
             "colorbar": {
              "outlinewidth": 0,
              "ticks": ""
             }
            },
            "type": "scattergeo"
           }
          ],
          "scattergl": [
           {
            "marker": {
             "colorbar": {
              "outlinewidth": 0,
              "ticks": ""
             }
            },
            "type": "scattergl"
           }
          ],
          "scattermapbox": [
           {
            "marker": {
             "colorbar": {
              "outlinewidth": 0,
              "ticks": ""
             }
            },
            "type": "scattermapbox"
           }
          ],
          "scatterpolar": [
           {
            "marker": {
             "colorbar": {
              "outlinewidth": 0,
              "ticks": ""
             }
            },
            "type": "scatterpolar"
           }
          ],
          "scatterpolargl": [
           {
            "marker": {
             "colorbar": {
              "outlinewidth": 0,
              "ticks": ""
             }
            },
            "type": "scatterpolargl"
           }
          ],
          "scatterternary": [
           {
            "marker": {
             "colorbar": {
              "outlinewidth": 0,
              "ticks": ""
             }
            },
            "type": "scatterternary"
           }
          ],
          "surface": [
           {
            "colorbar": {
             "outlinewidth": 0,
             "ticks": ""
            },
            "colorscale": [
             [
              0,
              "#0d0887"
             ],
             [
              0.1111111111111111,
              "#46039f"
             ],
             [
              0.2222222222222222,
              "#7201a8"
             ],
             [
              0.3333333333333333,
              "#9c179e"
             ],
             [
              0.4444444444444444,
              "#bd3786"
             ],
             [
              0.5555555555555556,
              "#d8576b"
             ],
             [
              0.6666666666666666,
              "#ed7953"
             ],
             [
              0.7777777777777778,
              "#fb9f3a"
             ],
             [
              0.8888888888888888,
              "#fdca26"
             ],
             [
              1,
              "#f0f921"
             ]
            ],
            "type": "surface"
           }
          ],
          "table": [
           {
            "cells": {
             "fill": {
              "color": "#EBF0F8"
             },
             "line": {
              "color": "white"
             }
            },
            "header": {
             "fill": {
              "color": "#C8D4E3"
             },
             "line": {
              "color": "white"
             }
            },
            "type": "table"
           }
          ]
         },
         "layout": {
          "annotationdefaults": {
           "arrowcolor": "#2a3f5f",
           "arrowhead": 0,
           "arrowwidth": 1
          },
          "coloraxis": {
           "colorbar": {
            "outlinewidth": 0,
            "ticks": ""
           }
          },
          "colorscale": {
           "diverging": [
            [
             0,
             "#8e0152"
            ],
            [
             0.1,
             "#c51b7d"
            ],
            [
             0.2,
             "#de77ae"
            ],
            [
             0.3,
             "#f1b6da"
            ],
            [
             0.4,
             "#fde0ef"
            ],
            [
             0.5,
             "#f7f7f7"
            ],
            [
             0.6,
             "#e6f5d0"
            ],
            [
             0.7,
             "#b8e186"
            ],
            [
             0.8,
             "#7fbc41"
            ],
            [
             0.9,
             "#4d9221"
            ],
            [
             1,
             "#276419"
            ]
           ],
           "sequential": [
            [
             0,
             "#0d0887"
            ],
            [
             0.1111111111111111,
             "#46039f"
            ],
            [
             0.2222222222222222,
             "#7201a8"
            ],
            [
             0.3333333333333333,
             "#9c179e"
            ],
            [
             0.4444444444444444,
             "#bd3786"
            ],
            [
             0.5555555555555556,
             "#d8576b"
            ],
            [
             0.6666666666666666,
             "#ed7953"
            ],
            [
             0.7777777777777778,
             "#fb9f3a"
            ],
            [
             0.8888888888888888,
             "#fdca26"
            ],
            [
             1,
             "#f0f921"
            ]
           ],
           "sequentialminus": [
            [
             0,
             "#0d0887"
            ],
            [
             0.1111111111111111,
             "#46039f"
            ],
            [
             0.2222222222222222,
             "#7201a8"
            ],
            [
             0.3333333333333333,
             "#9c179e"
            ],
            [
             0.4444444444444444,
             "#bd3786"
            ],
            [
             0.5555555555555556,
             "#d8576b"
            ],
            [
             0.6666666666666666,
             "#ed7953"
            ],
            [
             0.7777777777777778,
             "#fb9f3a"
            ],
            [
             0.8888888888888888,
             "#fdca26"
            ],
            [
             1,
             "#f0f921"
            ]
           ]
          },
          "colorway": [
           "#636efa",
           "#EF553B",
           "#00cc96",
           "#ab63fa",
           "#FFA15A",
           "#19d3f3",
           "#FF6692",
           "#B6E880",
           "#FF97FF",
           "#FECB52"
          ],
          "font": {
           "color": "#2a3f5f"
          },
          "geo": {
           "bgcolor": "white",
           "lakecolor": "white",
           "landcolor": "#E5ECF6",
           "showlakes": true,
           "showland": true,
           "subunitcolor": "white"
          },
          "hoverlabel": {
           "align": "left"
          },
          "hovermode": "closest",
          "mapbox": {
           "style": "light"
          },
          "paper_bgcolor": "white",
          "plot_bgcolor": "#E5ECF6",
          "polar": {
           "angularaxis": {
            "gridcolor": "white",
            "linecolor": "white",
            "ticks": ""
           },
           "bgcolor": "#E5ECF6",
           "radialaxis": {
            "gridcolor": "white",
            "linecolor": "white",
            "ticks": ""
           }
          },
          "scene": {
           "xaxis": {
            "backgroundcolor": "#E5ECF6",
            "gridcolor": "white",
            "gridwidth": 2,
            "linecolor": "white",
            "showbackground": true,
            "ticks": "",
            "zerolinecolor": "white"
           },
           "yaxis": {
            "backgroundcolor": "#E5ECF6",
            "gridcolor": "white",
            "gridwidth": 2,
            "linecolor": "white",
            "showbackground": true,
            "ticks": "",
            "zerolinecolor": "white"
           },
           "zaxis": {
            "backgroundcolor": "#E5ECF6",
            "gridcolor": "white",
            "gridwidth": 2,
            "linecolor": "white",
            "showbackground": true,
            "ticks": "",
            "zerolinecolor": "white"
           }
          },
          "shapedefaults": {
           "line": {
            "color": "#2a3f5f"
           }
          },
          "ternary": {
           "aaxis": {
            "gridcolor": "white",
            "linecolor": "white",
            "ticks": ""
           },
           "baxis": {
            "gridcolor": "white",
            "linecolor": "white",
            "ticks": ""
           },
           "bgcolor": "#E5ECF6",
           "caxis": {
            "gridcolor": "white",
            "linecolor": "white",
            "ticks": ""
           }
          },
          "title": {
           "x": 0.05
          },
          "xaxis": {
           "automargin": true,
           "gridcolor": "white",
           "linecolor": "white",
           "ticks": "",
           "title": {
            "standoff": 15
           },
           "zerolinecolor": "white",
           "zerolinewidth": 2
          },
          "yaxis": {
           "automargin": true,
           "gridcolor": "white",
           "linecolor": "white",
           "ticks": "",
           "title": {
            "standoff": 15
           },
           "zerolinecolor": "white",
           "zerolinewidth": 2
          }
         }
        },
        "title": {
         "text": "Dotal Misto"
        },
        "width": 1000
       }
      },
      "text/html": [
       "<div>\n",
       "        \n",
       "        \n",
       "            <div id=\"ceb1b64d-8970-4470-977e-c37ff24f4ad6\" class=\"plotly-graph-div\" style=\"height:1000px; width:1000px;\"></div>\n",
       "            <script type=\"text/javascript\">\n",
       "                require([\"plotly\"], function(Plotly) {\n",
       "                    window.PLOTLYENV=window.PLOTLYENV || {};\n",
       "                    \n",
       "                if (document.getElementById(\"ceb1b64d-8970-4470-977e-c37ff24f4ad6\")) {\n",
       "                    Plotly.newPlot(\n",
       "                        'ceb1b64d-8970-4470-977e-c37ff24f4ad6',\n",
       "                        [{\"type\": \"surface\", \"x\": [2.0, 2.5, 3.0, 3.5000000000000004, 4.0, 4.5, 5.0, 5.5, 6.0, 6.5, 7.000000000000001, 7.5, 8.0, 8.5, 9.0, 9.5, 10.0], \"y\": [0.0, 1.0, 2.0, 3.0, 4.0, 5.0, 6.0, 7.0, 8.0, 9.0, 10.0, 11.0, 12.0, 13.0, 14.0, 15.0, 16.0, 17.0, 18.0, 19.0, 20.0, 21.0, 22.0, 23.0, 24.0, 25.0, 26.0, 27.0, 28.0, 29.0, 30.0, 31.0, 32.0, 33.0, 34.0, 35.0, 36.0, 37.0, 38.0, 39.0, 40.0, 41.0, 42.0, 43.0, 44.0, 45.0, 46.0, 47.0, 48.0, 49.0, 50.0, 51.0, 52.0, 53.0, 54.0, 55.0, 56.0, 57.0, 58.0, 59.0, 60.0, 61.0, 62.0, 63.0, 64.0, 65.0, 66.0, 67.0, 68.0, 69.0], \"z\": [[14073.334731020668, 12895.172579777582, 11820.865434166753, 10840.86149420188, 9946.523602232173, 9130.038218882642, 8384.333798648137, 7703.007559389759, 7080.259751335602, 6510.834629805289, 5989.967423252195, 5513.336665681495, 5077.02133120828, 4677.462269496935, 4311.427494962776, 3975.980930715804, 3668.4542509755133], [14041.763742926028, 12862.922879827163, 11787.979718677947, 10807.379309497923, 9912.481596861748, 9095.470374744025, 8349.271642841039, 7667.480358455929, 7044.294689402472, 6474.456972012773, 5953.200665721278, 5476.2026731724, 5039.540463515168, 4639.653497534543, 4273.308507416767, 3937.5682320526666, 3629.7632515386886], [14033.015794304594, 12854.031132316859, 11778.948162409068, 10798.211984923824, 9903.182564705225, 9086.043690803584, 8339.721337000146, 7657.810417322463, 7034.509042079243, 6464.559478564024, 5943.195107956431, 5466.092747417173, 5029.329775083184, 4629.345556649883, 4262.906726370702, 3927.0759234063225, 3619.1836272083774], [14030.741415125733, 12851.784522006454, 11776.720139226052, 10795.994540103236, 9900.96873104569, 9083.827425664043, 8337.497418112736, 7655.574350007639, 7032.256976608429, 6462.288136555415, 5940.901716814252, 5463.774981934841, 5026.985705428503, 4626.973602037075, 4260.505613800837, 3924.6446509258385, 3616.7214311958887], [14029.858794103187, 12850.996733649623, 11776.011879086816, 10795.352225579185, 9900.380318546426, 9083.282247213983, 8336.98603528594, 7655.088423323782, 7031.789148725902, 6461.8319277808905, 5940.451431610698, 5463.325625254322, 5026.532907824094, 4626.513552622002, 4260.035000224035, 3924.1606056228648, 3616.2214832540512], [14029.865363869189, 12851.135187500302, 11776.26356142856, 10795.700494934948, 9900.810337898874, 9083.780796353463, 8337.541342804094, 7655.690016152959, 7032.42771735503, 6462.499205482688, 5941.140086196436, 5464.029162033403, 5027.245582588874, 4627.230293605373, 4260.751338090474, 3924.872610654235, 3616.9257089810108], [14030.655920757505, 12852.07837809593, 11777.339015439802, 10796.890000612202, 9902.097619274431, 9085.151313724155, 8338.982113976905, 7657.189456245717, 7033.9754951850155, 6464.086114790252, 5942.757930140594, 5465.6706495653825, 5028.90423545958, 4628.9003628964, 4262.42772927688, 3926.550816313243, 3618.6017483547603], [14032.219819044807, 12853.805287123478, 11779.207952944575, 10798.882193971076, 9904.196277829216, 9087.341424831387, 8341.250260255038, 7659.523651768849, 7036.365038617481, 6466.521457674427, 5945.2305587436185, 5468.172978862571, 5031.429513985189, 4631.442587328407, 4264.981567743512, 3929.1115395166953, 3621.1651677036343], [14034.544466708718, 12856.296363121033, 11781.844625403597, 10801.645834777433, 9907.070234599307, 9090.31081670462, 8344.301794965257, 7662.64546173198, 7039.54653401919, 6469.753194761027, 5948.504121714054, 5471.480873932225, 5034.765074346216, 4634.799887867963, 4268.35534850308, 3932.4971369840646, 3624.558453125567], [14036.558473388033, 12858.466002499878, 11784.149723082668, 10804.068384361008, 9909.594171480694, 9092.921815602589, 8346.987088669237, 7665.393678792606, 7042.347553368561, 6472.598015466515, 5951.38474626468, 5474.390203630018, 5037.69681552892, 4637.748467826581, 4271.31584007956, 3935.465190942873, 3627.530237489581], [14038.343136126634, 12860.401165483114, 11786.215315560365, 10806.246515087372, 9911.868900269601, 9095.278948921226, 8349.413996694078, 7667.879131634466, 7044.881574424436, 6475.1717500787645, 5953.990344065845, 5477.020713127267, 5040.346089638379, 4640.411079206615, 4273.987005235626, 3938.1407021865057, 3630.206401931978], [14039.95436522589, 12862.162480898254, 11788.106323332424, 10808.249045610977, 9913.96677500154, 9097.457771626241, 8351.660966600473, 7670.182876160046, 7047.231999389401, 6477.559905549, 5956.408304171967, 5479.461468383776, 5042.803450446578, 4642.879589366594, 4276.461864418605, 3940.617696430926, 3632.6818413265983], [14041.444573450823, 12863.805773981025, 11789.881737185478, 10810.137898896603, 9915.952430449468, 9099.525422381785, 8353.797444929343, 7672.376482129145, 7049.472347402472, 6479.837786846719, 5958.715563610951, 5481.790893991084, 5045.148674408118, 4645.234999251898, 4278.822523572499, 3942.979272576761, 3635.040542527251], [14042.878040207179, 12865.398082256672, 11791.61122949519, 10811.985259504287, 9917.900442006456, 9101.558747961213, 8355.902432754467, 7674.540990588523, 7051.68558820683, 6482.090184414695, 5960.998628977552, 5484.097111716396, 5047.471401127201, 4647.568372652018, 4281.161380713436, 3945.319076584993, 3637.3773167975783], [14044.30029241297, 12866.985676918262, 11793.341910356065, 10813.83915043629, 9919.859801732224, 9103.607750207504, 8358.026969144517, 7676.72849387397, 7053.924873699707, 6484.371307710982, 5963.312758268903, 5486.43641316934, 5049.8289359714645, 4649.938004764358, 4283.537693611944, 3947.697298863842, 3639.7532551342165], [14045.769698025986, 12868.627075056607, 11795.132613349318, 10815.758864361942, 9921.890382073801, 9105.73298266966, 8360.23237297609, 7679.00114533704, 7056.253247577403, 6486.745134972997, 5965.72289821543, 5488.874738553004, 5052.288229756573, 4652.411867324696, 4286.02045929505, 3950.1839609624326, 3642.239398406092], [14047.300364176146, 12870.334846014965, 11796.994663615713, 10817.754741823679, 9924.001768115808, 9107.943476810526, 8362.527299460944, 7681.367379395473, 7058.679059300453, 6489.220048982527, 5968.23756749366, 5491.420830973549, 5054.858326012676, 4654.999369087933, 4288.619506560348, 3952.789357644715, 3644.846545351322], [14048.935623733607, 12872.1502659418, 11798.967640127808, 10819.864986115077, 9926.231074650994, 9110.27551514596, 8364.947427143592, 7683.862473749168, 7061.237366145443, 6491.831046541657, 5970.891843924319, 5494.109974129508, 5057.574824187153, 4657.73652162033, 4291.371343306077, 3955.5505664118114, 3647.6124065007566], [14050.64774012742, 12874.041985418251, 11801.017010276268, 10822.052269901007, 9928.538530703829, 9112.687200221226, 8367.449018458154, 7686.441109134938, 7063.881500185778, 6494.530321050019, 5973.636971298013, 5496.892632266259, 5060.387561789955, 4660.572672838903, 4294.224950772977, 3958.416311828968, 3650.4855480196397], [14052.4540241566, 12876.02508283013, 11803.155795869534, 10824.327729617857, 9930.933553120949, 9115.186389055321, 8370.038523905061, 7689.108476095221, 7066.615531637412, 6497.320955013606, 5976.475170004752, 5499.770282285347, 5063.297384002806, 4663.508141264066, 4297.180219349434, 3961.386148358263, 3653.465274550039], [14054.33844134366, 12878.081430319333, 11805.363795636124, 10826.669129071543, 9933.39192421842, 9117.746947779522, 8372.68796798407, 7691.83483906284, 7069.408051541493, 6500.16995625934, 5979.371956981318, 5502.707043567834, 5066.267106049101, 4666.5045306401025, 4300.197632617776, 3964.41952885531, 3656.510095357951], [14056.287734127562, 12880.196632279301, 11807.625271132772, 10829.059229575234, 9935.894788217664, 9120.348321272166, 8375.375043373282, 7694.596110517196, 7072.233185089491, 6503.04967307594, 5982.297928490344, 5505.671797132084, 5069.263940151322, 4669.527438575116, 4303.241233820099, 3967.4790070792815, 3659.5811430100903], [14058.283644344481, 12882.353075785453, 11809.92274688994, 10831.480267679644, 9938.423740077955, 9122.971171835743, 8378.079243026667, 7697.37042454877, 7075.067558835859, 6505.935111079566, 5985.226386179246, 5508.636083694806, 5072.2576314247635, 4672.544798890839, 4306.277145868699, 3970.528908953612, 3662.640971678132], [14060.32418127226, 12884.551496717642, 11812.258866364173, 10833.936091762998, 9940.9832328377, 9125.620046920194, 8380.804777605008, 7700.161293167248, 7077.913685020675, 6508.827534758542, 5988.157145208476, 5511.598107966223, 5075.244648198732, 4675.551248147177, 4309.298104601808, 3973.5600234549815, 3665.678396953816], [14062.39852713221, 12886.786437487615, 11814.63233968795, 10836.428542562859, 9943.5773382387, 9128.300471327573, 8383.5579545868, 7702.975231173276, 7080.777794304153, 6511.732473162967, 5991.09468074467, 5514.560996336745, 5078.226523632443, 4678.546526088983, 4312.301894964141, 3976.5680532808146, 3668.6869414679704], [14064.486816637222, 12889.046045550305, 11817.037776931214, 10838.957332635977, 9946.209680132632, 9131.018939171383, 8386.347230731146, 7705.821868844318, 7083.670006532765, 6514.659945067084, 5994.048402572446, 5517.533114969958, 5081.210210507939, 4681.535859724754, 4315.291756479208, 3979.554033477758, 3671.6652582061065], [14066.62188102042, 12891.374355141246, 11819.528541257754, 10841.58349787278, 9948.947505412705, 9133.847620189099, 8389.24856533002, 7708.779959887653, 7086.670997889543, 6517.691787017773, 5997.100643357309, 5520.596715571922, 5084.2773800894, 4684.599909427225, 4318.34696955143, 3982.5955499251363, 3674.6889723559393], [14068.830192936739, 12893.811680516765, 11822.156647013466, 10844.368849257844, 9951.860731480414, 9136.863038955773, 8392.343761924676, 7711.935411762063, 7089.869741831329, 6520.91912330455, 6000.343872916395, 5523.844906475985, 5087.521160130917, 4687.831281879885, 4321.5591495500885, 3985.7828191828025, 3677.846550190384], [14071.195253771395, 12896.45814136949, 11825.036518783912, 10847.440047797418, 9955.086407514696, 9140.210982587223, 8395.785873378323, 7715.44723098308, 7093.430030380294, 6524.509492736252, 6003.948454482705, 5527.450057573143, 5091.115203424733, 4691.404273497053, 4325.102673126756, 3989.2898029187377, 3681.3111043738054], [14073.804556301497, 12899.419660864633, 11828.290113764815, 10850.932931514366, 9958.772318494379, 9144.049447020232, 8399.741549123884, 7719.489324124002, 7097.531776283937, 6528.647694482414, 6008.103072320356, 5531.603843777395, 5095.253377553741, 4695.5142336055715, 4329.173738986716, 3993.3129877350543, 3685.2789118722058], [14076.76497054598, 12902.821785829074, 11832.059365043871, 10855.00375077011, 9963.087163707589, 9148.557893857049, 8404.399491108135, 7724.258260692343, 7102.378179028569, 6533.542442972617, 6013.020951856044, 5536.523098280283, 5100.155311557126, 4700.382857973255, 4333.995455585759, 3998.0763088139256, 3689.97421036372], [14080.241783312356, 12906.849428043904, 11836.546617219756, 10859.870292422136, 9968.262364926117, 9153.979738995691, 8410.013620022413, 7730.017114599526, 7108.240239506558, 6539.4715538970995, 6018.98571521063, 5542.496335780439, 5106.113584920862, 4706.306041462791, 4339.866355146536, 4003.8803227605526, 3695.6990271159652], [14084.404058157887, 12911.691625883639, 11841.958810882707, 10865.75550991444, 9974.535165971536, 9160.564946209703, 8416.845187753226, 7737.037120367199, 7115.397984651848, 6546.722761540382, 6026.291814940396, 5549.823825660655, 5113.4334624439225, 4713.593295995384, 4347.099515232974, 4011.041052373807, 3702.771765591355], [14089.445459489165, 12917.56258223696, 11848.528744591677, 10872.909020223013, 9982.17037599, 9168.592028369429, 8425.185048260162, 7745.620225327974, 7124.163312472204, 6555.616867901916, 6035.2679981746, 5558.841381680922, 5122.457019586695, 4722.592221178478, 4356.047383777479, 4019.915174669746, 3711.5527645281377], [14095.530210642957, 12924.640097688269, 11856.446612739399, 10881.532315685297, 9991.379770307252, 9178.282103605114, 8435.262791420942, 7756.003683979155, 7134.78039409881, 6566.404267493101, 6046.170240218743, 5569.809964274904, 5133.449649709109, 4733.572131371658, 4366.982721544924, 4030.7784568390884, 3722.320389668606], [14102.90218238473, 12933.178826102136, 11865.977102475914, 10891.899411445655, 10002.446028655044, 9189.92589222522, 8447.376591161874, 7768.492571749579, 7147.56068711246, 6579.4023115049185, 6059.321326300953, 5583.057360373509, 5146.743734722717, 4746.869620828653, 4380.245975140068, 4043.974859144387, 3735.4217962701214], [14111.879062325335, 12943.503299760323, 11877.451387215793, 10904.347911834227, 10015.712971469955, 9203.873213157545, 8461.88204600315, 7783.448047862055, 7162.870693649761, 6594.9826292166745, 6075.0977998544795, 5598.964817989318, 5162.7250215757, 4762.874734137152, 4396.231290171942, 4059.9024365312366, 3751.2587620545346], [14122.834919050203, 12955.990188596752, 11891.249112461346, 10919.260753797804, 10031.56709147981, 9220.514333759442, 8479.173376673714, 7801.268429838431, 7181.112940381586, 6613.55204152282, 6093.910837153782, 5617.9479090045215, 5181.813499713188, 4782.01188434741, 4415.367495520152, 4078.994413974445, 3770.268878048987], [14135.682068935748, 12970.544980175382, 11907.26991794691, 10936.532600778592, 10049.898849398782, 9239.736197877364, 8499.13461750474, 7821.835379576158, 7202.167190961893, 6634.988831746048, 6115.637608752236, 5639.883013729341, 5203.885041458152, 4804.156682054747, 4437.530154149475, 4101.126492182177, 3792.3281424416145], [14150.477252229663, 12987.217137132768, 11925.557149105605, 10956.20171317375, 10070.742337929749, 9261.569545038301, 8521.793877285356, 7845.175015102101, 7226.058138782262, 6659.316768637318, 6140.301399536936, 5664.7933209431285, 5228.963079773642, 4829.333102214797, 4462.744042802884, 4126.3244754739435, 3817.46358250873], [14167.216432078445, 13005.991981326577, 11946.08693109605, 10978.236311377328, 10094.05902765254, 9285.970128012848, 8547.10211261707, 7871.234319401994, 7252.729526792585, 6686.477008789395, 6167.841361661737, 5692.61649582562, 5256.9842524373635, 4857.477162774965, 4490.944920462345, 4154.5241827810005, 3845.6113583710076], [14185.88341156659, 13026.841532624258, 11968.820951067297, 11002.589056325818, 10119.79372991647, 9312.87596800707, 8574.99150825654, 7899.9404990207295, 7282.104355380415, 6716.389040659828, 6198.1740955869855, 5723.266811270535, 5287.861007831694, 4888.49993881468, 4522.042893255762, 4185.635113279434, 3876.680685969575], [14206.420680081137, 13049.697109562849, 11993.680511533983, 11029.172290449502, 10147.850792505957, 9342.184300766208, 8605.352994693383, 7931.178916559884, 7314.063093068866, 6748.929054301754, 6231.1720752023475, 5756.613538490017, 5321.459883256433, 4922.2656615170845, 4555.900276508755, 4219.518022302088, 3910.5310849911943], [14228.711446417372, 13074.433838514884, 12020.533175179553, 11057.846514670833, 10178.084138448896, 9373.742936359167, 8638.028714495505, 7964.786472787023, 7348.437804708692, 6783.924664835121, 6266.658832650321, 5792.476474350676, 5357.597269424113, 4958.587626525191, 4592.327564437277, 4255.9808794712335, 3946.9682611474277], [14252.613831522282, 13100.906701361058, 12049.23043543283, 11088.459473748813, 10210.33757948658, 9407.391633469002, 8672.854307510419, 8000.594668485132, 7385.055869785543, 6821.199179676506, 6304.453678321702, 5830.671028206687, 5396.084787396768, 4997.273792510256, 4631.129189298343, 4294.824734049872, 3985.7900293318153], [14277.998537990385, 13128.990034255386, 12079.648846359789, 11120.88873825662, 10244.488688399948, 9443.007116002687, 8709.7049398863, 8038.476526863494, 7423.787690832943, 6860.619996096342, 6344.420700228125, 5871.057744380059, 5436.779263264499, 5038.1771441914925, 4672.154215269465, 4335.894687962081, 4026.8375192693507], [14304.798110673684, 13158.627838237217, 12111.741298159395, 11155.093866320169, 10280.501774427692, 9480.556795316059, 8748.549711546959, 8078.401629682374, 7464.602306219341, 6902.154742966725, 6386.525390984358, 5913.59937433274, 5479.640208867482, 5081.253548112034, 4715.354538682193, 4379.138412558011, 4070.0539833429084], [14333.074481615495, 13189.901266321445, 12145.604491649667, 11191.183904657899, 10318.495444787079, 9520.166421647664, 8789.519423111133, 8120.504021918835, 7507.635451982603, 6945.939516754687, 6430.90307286807, 5958.429503918439, 5524.798662840459, 5126.630817772019, 4760.854186422889, 4424.675688505142, 4115.554585377785], [14362.962838121746, 13222.971622707291, 12181.421106095602, 11229.358758088538, 10358.683205134055, 9562.059941564681, 8832.845713593175, 8165.020650637105, 7553.127320784976, 6992.215977781451, 6477.795347169657, 6005.788370400457, 5572.492388859109, 5174.5433058108465, 4808.883314044265, 4472.731821226275, 4163.559244306514], [14394.706347186655, 13258.115660135525, 12219.4956576673, 11269.945595033361, 10401.41039638508, 9606.596949184026, 8878.899008305874, 8212.329791392072, 7601.461448450688, 7041.37067857176, 6527.589846263403, 6056.063020539433, 5623.106422545391, 5225.372823132438, 4859.8194811866715, 4523.679257420163, 4214.434577356496], [14428.63323595255, 13295.702177152221, 12260.230689459137, 11313.374693986516, 10447.129750757354, 9654.247995795362, 8928.163618260467, 8262.925966907369, 7653.139475713556, 7093.909687610992, 6580.7947342103635, 6109.761699425499, 5677.147357025104, 5279.622827287558, 4914.161746912527, 4578.011589870145, 4268.667815565672], [14465.068527677064, 13336.103314690758, 12304.037756173868, 11360.090218674148, 10496.312038210872, 9705.505169931073, 8981.148300456278, 8317.330520787893, 7708.691757228229, 7150.369245998405, 6637.949415425402, 6167.424608914822, 5735.154143449062, 5337.829252971243, 4972.441514526498, 4636.254398145508, 4326.777619785987], [14504.35060425137, 13379.712535724113, 12351.356884948837, 11410.57120288941, 10549.46860006107, 9760.906189205025, 9038.411904472763, 8376.118804564709, 7768.706065765084, 7211.345958075336, 6699.656174988215, 6229.656956036512, 5797.732502108224, 5400.59623755237, 5035.259521089835, 4699.003450195931, 4389.353441543658], [14546.814327943463, 13426.92815084518, 12402.640656927013, 11465.316311890889, 10607.136889340016, 9821.020797269928, 9100.550684983667, 8439.908448554814, 7833.816850241598, 7277.487053441493, 6766.571451165669, 6297.121233765803, 5865.548201761571, 5468.590382993263, 5103.281060733475, 4766.9208615298085, 4457.052589017237], [14592.75780178647, 13478.11968720449, 12458.32040135152, 11524.81004520155, 10669.846836643652, 9886.417421290122, 9168.165356729693, 8509.326900234762, 7904.6733258567965, 7349.45908183459, 6839.375174573431, 6370.507232272991, 5939.29776057196, 5542.512155223177, 5177.208083576399, 4840.707888211279, 4530.573703022995], [14642.515694183934, 13533.701948989523, 12518.881148884844, 11589.598717382572, 10738.197972875305, 9957.741533114679, 9241.940774381488, 8585.092488538183, 7982.021975579467, 7428.03189296164, 6918.856257153945, 6450.6190586395605, 6019.797009969149, 5623.185998305695, 5257.870859945987, 4921.198135234887, 4610.751498686053], [14696.559274798048, 13594.231950502473, 12584.955850176673, 11660.38231862396, 10812.949258814537, 10035.80374726978, 9322.732572837667, 8668.099856608847, 8066.791003491461, 7514.1623181647465, 7005.995691002338, 6538.45782419793, 6108.063525691103, 5711.64264943311, 5346.310305787568, 5009.440006091147, 4698.639441175862], [14755.559112539468, 13660.467178342236, 12657.37962708679, 11738.06515116598, 10895.066475723812, 10121.62430904883, 9411.609071846713, 8759.459579143115, 8160.127939518055, 7609.030016969291, 7102.0008721536715, 6635.2546631428095, 6205.34854208471, 5809.1501341229, 5443.808229310502, 5106.72635771647, 4795.538953015551], [14820.421363267516, 13733.39768300514, 12737.218081728111, 11823.78074050696, 10985.74409648405, 10216.452258123169, 9509.868041059604, 8860.512815802686, 8263.412447506844, 7714.048686868392, 7208.315441106546, 6742.479416002768, 6313.144675015489, 5917.22071037322, 5551.893664484501, 5214.600378621024, 4903.0049801780015], [14892.344995992475, 13814.299786091999, 12825.81783039586, 11918.939521564615, 11086.450430340623, 10321.808320071239, 9619.077609344691, 8972.870493036142, 8378.294018866392, 7830.902493509005, 7326.654660496766, 6861.875152703045, 6433.219775897234, 6037.644227591789, 5672.375897799787, 5334.888436023512, 5022.8788023303505], [14972.534454667919, 13904.44247987634, 12924.506984894459, 12024.92372382729, 11198.617213729955, 10439.169486058032, 9740.756099221655, 9098.088643163022, 8506.363051346074, 7961.213110416636, 7458.668624182464, 6995.11774747359, 6567.273057739627, 6172.140978695283, 5806.994211607316, 5469.346866526094, 5156.93201842146], [15062.097169738481, 14004.9828380834, 13034.488591848714, 12142.978954921042, 11323.529442094195, 10569.857186745772, 9876.258627940659, 9237.553510093441, 8649.034530277308, 8106.4220409157415, 7605.82328002073, 7143.695658315766, 6716.813683341237, 6322.239145733697, 5957.294232947534, 5619.5372713291545, 5306.740829163671], [15162.053314890889, 14116.975102600034, 13156.849120410248, 12274.22214936673, 11462.332830510817, 10715.044307885777, 10026.783714675961, 9392.487779405998, 8807.553908391674, 8267.796170906036, 7769.405675849678, 7308.914884029655, 6883.165449265281, 6489.279225176135, 6124.632113293842, 5786.830462637132, 5473.68976158508], [15273.30681304729, 14241.34051075147, 13292.527195781173, 12419.609280455443, 11616.000565105829, 10875.721033214688, 10193.338259059561, 9563.914730132514, 8982.96046300524, 8446.390359053623, 7950.48580654333, 7491.860088915087, 7067.427206470306, 6674.373760743801, 6310.133588262529, 5972.364863669058, 5658.929421803908], [15396.653378999246, 14378.874985426206, 13442.32095358737, 12579.942389306958, 11785.340012097435, 11052.70123466602, 10376.743610500653, 9752.66397863063, 9176.09270803225, 8643.052509216554, 8149.921338258425, 7693.398969769633, 7270.476860827328, 6878.410968314431, 6514.69721808627, 6177.049356368525, 5863.378942263624], [15532.803756864001, 14530.273216653746, 13606.912867679233, 12755.89506710763, 11971.018768523667, 11246.649011216972, 10577.66252010704, 9959.39877362089, 9387.61596703236, 8858.451361026784, 8368.38556048976, 7914.210317561381, 7492.999496557913, 7102.08287708215, 6739.022506072286, 6401.591340174165, 6087.75394709124], [15682.288077932088, 14696.037627718933, 13786.782858377765, 12947.929279823833, 12173.484814502448, 11458.001813169794, 10796.524911847264, 10184.54411676272, 9617.952570964715, 9093.008515613596, 8606.3010115908, 8154.719033811623, 7735.423592151875, 7345.822569815114, 6983.548002797852, 6646.435553328045, 6332.505956164919], [15845.361351906055, 14876.389232358006, 13982.124002631623, 13156.215461089707, 12392.890557473536, 11686.898041710103, 11033.458673564575, 10428.220410595159, 9867.218055294356, 9346.836898570296, 8863.779946663606, 8415.0383629528, 7997.864795513463, 7609.7492963405075, 7248.397569314117, 6911.711311736477, 6597.770438973265], [16021.91774643064, 15071.18679536591, 14192.766170075443, 13380.560245841132, 12629.024311090572, 11933.11194430599, 11288.227661888604, 10690.184286075977, 10135.16454188276, 9619.686445161347, 9140.572091040352, 8694.919493894244, 8280.07716722977, 7893.621164986896, 7533.334335210712, 7197.187563278163, 6883.322805222431], [16211.462670878584, 15279.90340800922, 14418.156801621137, 13620.39117790991, 12881.298671023957, 12196.045410485558, 11560.226681558011, 10969.826540127906, 10421.181419901686, 9910.947319620156, 9436.070202305036, 8993.759277923324, 8581.46287585156, 8196.846644653044, 7837.7738443826875, 7502.2875213034695, 7188.5943768740035]]}],\n",
       "                        {\"autosize\": true, \"height\": 1000, \"margin\": {\"b\": 65, \"l\": 65, \"r\": 50, \"t\": 90}, \"template\": {\"data\": {\"bar\": [{\"error_x\": {\"color\": \"#2a3f5f\"}, \"error_y\": {\"color\": \"#2a3f5f\"}, \"marker\": {\"line\": {\"color\": \"#E5ECF6\", \"width\": 0.5}}, \"type\": \"bar\"}], \"barpolar\": [{\"marker\": {\"line\": {\"color\": \"#E5ECF6\", \"width\": 0.5}}, \"type\": \"barpolar\"}], \"carpet\": [{\"aaxis\": {\"endlinecolor\": \"#2a3f5f\", \"gridcolor\": \"white\", \"linecolor\": \"white\", \"minorgridcolor\": \"white\", \"startlinecolor\": \"#2a3f5f\"}, \"baxis\": {\"endlinecolor\": \"#2a3f5f\", \"gridcolor\": \"white\", \"linecolor\": \"white\", \"minorgridcolor\": \"white\", \"startlinecolor\": \"#2a3f5f\"}, \"type\": \"carpet\"}], \"choropleth\": [{\"colorbar\": {\"outlinewidth\": 0, \"ticks\": \"\"}, \"type\": \"choropleth\"}], \"contour\": [{\"colorbar\": {\"outlinewidth\": 0, \"ticks\": \"\"}, \"colorscale\": [[0.0, \"#0d0887\"], [0.1111111111111111, \"#46039f\"], [0.2222222222222222, \"#7201a8\"], [0.3333333333333333, \"#9c179e\"], [0.4444444444444444, \"#bd3786\"], [0.5555555555555556, \"#d8576b\"], [0.6666666666666666, \"#ed7953\"], [0.7777777777777778, \"#fb9f3a\"], [0.8888888888888888, \"#fdca26\"], [1.0, \"#f0f921\"]], \"type\": \"contour\"}], \"contourcarpet\": [{\"colorbar\": {\"outlinewidth\": 0, \"ticks\": \"\"}, \"type\": \"contourcarpet\"}], \"heatmap\": [{\"colorbar\": {\"outlinewidth\": 0, \"ticks\": \"\"}, \"colorscale\": [[0.0, \"#0d0887\"], [0.1111111111111111, \"#46039f\"], [0.2222222222222222, \"#7201a8\"], [0.3333333333333333, \"#9c179e\"], [0.4444444444444444, \"#bd3786\"], [0.5555555555555556, \"#d8576b\"], [0.6666666666666666, \"#ed7953\"], [0.7777777777777778, \"#fb9f3a\"], [0.8888888888888888, \"#fdca26\"], [1.0, \"#f0f921\"]], \"type\": \"heatmap\"}], \"heatmapgl\": [{\"colorbar\": {\"outlinewidth\": 0, \"ticks\": \"\"}, \"colorscale\": [[0.0, \"#0d0887\"], [0.1111111111111111, \"#46039f\"], [0.2222222222222222, \"#7201a8\"], [0.3333333333333333, \"#9c179e\"], [0.4444444444444444, \"#bd3786\"], [0.5555555555555556, \"#d8576b\"], [0.6666666666666666, \"#ed7953\"], [0.7777777777777778, \"#fb9f3a\"], [0.8888888888888888, \"#fdca26\"], [1.0, \"#f0f921\"]], \"type\": \"heatmapgl\"}], \"histogram\": [{\"marker\": {\"colorbar\": {\"outlinewidth\": 0, \"ticks\": \"\"}}, \"type\": \"histogram\"}], \"histogram2d\": [{\"colorbar\": {\"outlinewidth\": 0, \"ticks\": \"\"}, \"colorscale\": [[0.0, \"#0d0887\"], [0.1111111111111111, \"#46039f\"], [0.2222222222222222, \"#7201a8\"], [0.3333333333333333, \"#9c179e\"], [0.4444444444444444, \"#bd3786\"], [0.5555555555555556, \"#d8576b\"], [0.6666666666666666, \"#ed7953\"], [0.7777777777777778, \"#fb9f3a\"], [0.8888888888888888, \"#fdca26\"], [1.0, \"#f0f921\"]], \"type\": \"histogram2d\"}], \"histogram2dcontour\": [{\"colorbar\": {\"outlinewidth\": 0, \"ticks\": \"\"}, \"colorscale\": [[0.0, \"#0d0887\"], [0.1111111111111111, \"#46039f\"], [0.2222222222222222, \"#7201a8\"], [0.3333333333333333, \"#9c179e\"], [0.4444444444444444, \"#bd3786\"], [0.5555555555555556, \"#d8576b\"], [0.6666666666666666, \"#ed7953\"], [0.7777777777777778, \"#fb9f3a\"], [0.8888888888888888, \"#fdca26\"], [1.0, \"#f0f921\"]], \"type\": \"histogram2dcontour\"}], \"mesh3d\": [{\"colorbar\": {\"outlinewidth\": 0, \"ticks\": \"\"}, \"type\": \"mesh3d\"}], \"parcoords\": [{\"line\": {\"colorbar\": {\"outlinewidth\": 0, \"ticks\": \"\"}}, \"type\": \"parcoords\"}], \"pie\": [{\"automargin\": true, \"type\": \"pie\"}], \"scatter\": [{\"marker\": {\"colorbar\": {\"outlinewidth\": 0, \"ticks\": \"\"}}, \"type\": \"scatter\"}], \"scatter3d\": [{\"line\": {\"colorbar\": {\"outlinewidth\": 0, \"ticks\": \"\"}}, \"marker\": {\"colorbar\": {\"outlinewidth\": 0, \"ticks\": \"\"}}, \"type\": \"scatter3d\"}], \"scattercarpet\": [{\"marker\": {\"colorbar\": {\"outlinewidth\": 0, \"ticks\": \"\"}}, \"type\": \"scattercarpet\"}], \"scattergeo\": [{\"marker\": {\"colorbar\": {\"outlinewidth\": 0, \"ticks\": \"\"}}, \"type\": \"scattergeo\"}], \"scattergl\": [{\"marker\": {\"colorbar\": {\"outlinewidth\": 0, \"ticks\": \"\"}}, \"type\": \"scattergl\"}], \"scattermapbox\": [{\"marker\": {\"colorbar\": {\"outlinewidth\": 0, \"ticks\": \"\"}}, \"type\": \"scattermapbox\"}], \"scatterpolar\": [{\"marker\": {\"colorbar\": {\"outlinewidth\": 0, \"ticks\": \"\"}}, \"type\": \"scatterpolar\"}], \"scatterpolargl\": [{\"marker\": {\"colorbar\": {\"outlinewidth\": 0, \"ticks\": \"\"}}, \"type\": \"scatterpolargl\"}], \"scatterternary\": [{\"marker\": {\"colorbar\": {\"outlinewidth\": 0, \"ticks\": \"\"}}, \"type\": \"scatterternary\"}], \"surface\": [{\"colorbar\": {\"outlinewidth\": 0, \"ticks\": \"\"}, \"colorscale\": [[0.0, \"#0d0887\"], [0.1111111111111111, \"#46039f\"], [0.2222222222222222, \"#7201a8\"], [0.3333333333333333, \"#9c179e\"], [0.4444444444444444, \"#bd3786\"], [0.5555555555555556, \"#d8576b\"], [0.6666666666666666, \"#ed7953\"], [0.7777777777777778, \"#fb9f3a\"], [0.8888888888888888, \"#fdca26\"], [1.0, \"#f0f921\"]], \"type\": \"surface\"}], \"table\": [{\"cells\": {\"fill\": {\"color\": \"#EBF0F8\"}, \"line\": {\"color\": \"white\"}}, \"header\": {\"fill\": {\"color\": \"#C8D4E3\"}, \"line\": {\"color\": \"white\"}}, \"type\": \"table\"}]}, \"layout\": {\"annotationdefaults\": {\"arrowcolor\": \"#2a3f5f\", \"arrowhead\": 0, \"arrowwidth\": 1}, \"coloraxis\": {\"colorbar\": {\"outlinewidth\": 0, \"ticks\": \"\"}}, \"colorscale\": {\"diverging\": [[0, \"#8e0152\"], [0.1, \"#c51b7d\"], [0.2, \"#de77ae\"], [0.3, \"#f1b6da\"], [0.4, \"#fde0ef\"], [0.5, \"#f7f7f7\"], [0.6, \"#e6f5d0\"], [0.7, \"#b8e186\"], [0.8, \"#7fbc41\"], [0.9, \"#4d9221\"], [1, \"#276419\"]], \"sequential\": [[0.0, \"#0d0887\"], [0.1111111111111111, \"#46039f\"], [0.2222222222222222, \"#7201a8\"], [0.3333333333333333, \"#9c179e\"], [0.4444444444444444, \"#bd3786\"], [0.5555555555555556, \"#d8576b\"], [0.6666666666666666, \"#ed7953\"], [0.7777777777777778, \"#fb9f3a\"], [0.8888888888888888, \"#fdca26\"], [1.0, \"#f0f921\"]], \"sequentialminus\": [[0.0, \"#0d0887\"], [0.1111111111111111, \"#46039f\"], [0.2222222222222222, \"#7201a8\"], [0.3333333333333333, \"#9c179e\"], [0.4444444444444444, \"#bd3786\"], [0.5555555555555556, \"#d8576b\"], [0.6666666666666666, \"#ed7953\"], [0.7777777777777778, \"#fb9f3a\"], [0.8888888888888888, \"#fdca26\"], [1.0, \"#f0f921\"]]}, \"colorway\": [\"#636efa\", \"#EF553B\", \"#00cc96\", \"#ab63fa\", \"#FFA15A\", \"#19d3f3\", \"#FF6692\", \"#B6E880\", \"#FF97FF\", \"#FECB52\"], \"font\": {\"color\": \"#2a3f5f\"}, \"geo\": {\"bgcolor\": \"white\", \"lakecolor\": \"white\", \"landcolor\": \"#E5ECF6\", \"showlakes\": true, \"showland\": true, \"subunitcolor\": \"white\"}, \"hoverlabel\": {\"align\": \"left\"}, \"hovermode\": \"closest\", \"mapbox\": {\"style\": \"light\"}, \"paper_bgcolor\": \"white\", \"plot_bgcolor\": \"#E5ECF6\", \"polar\": {\"angularaxis\": {\"gridcolor\": \"white\", \"linecolor\": \"white\", \"ticks\": \"\"}, \"bgcolor\": \"#E5ECF6\", \"radialaxis\": {\"gridcolor\": \"white\", \"linecolor\": \"white\", \"ticks\": \"\"}}, \"scene\": {\"xaxis\": {\"backgroundcolor\": \"#E5ECF6\", \"gridcolor\": \"white\", \"gridwidth\": 2, \"linecolor\": \"white\", \"showbackground\": true, \"ticks\": \"\", \"zerolinecolor\": \"white\"}, \"yaxis\": {\"backgroundcolor\": \"#E5ECF6\", \"gridcolor\": \"white\", \"gridwidth\": 2, \"linecolor\": \"white\", \"showbackground\": true, \"ticks\": \"\", \"zerolinecolor\": \"white\"}, \"zaxis\": {\"backgroundcolor\": \"#E5ECF6\", \"gridcolor\": \"white\", \"gridwidth\": 2, \"linecolor\": \"white\", \"showbackground\": true, \"ticks\": \"\", \"zerolinecolor\": \"white\"}}, \"shapedefaults\": {\"line\": {\"color\": \"#2a3f5f\"}}, \"ternary\": {\"aaxis\": {\"gridcolor\": \"white\", \"linecolor\": \"white\", \"ticks\": \"\"}, \"baxis\": {\"gridcolor\": \"white\", \"linecolor\": \"white\", \"ticks\": \"\"}, \"bgcolor\": \"#E5ECF6\", \"caxis\": {\"gridcolor\": \"white\", \"linecolor\": \"white\", \"ticks\": \"\"}}, \"title\": {\"x\": 0.05}, \"xaxis\": {\"automargin\": true, \"gridcolor\": \"white\", \"linecolor\": \"white\", \"ticks\": \"\", \"title\": {\"standoff\": 15}, \"zerolinecolor\": \"white\", \"zerolinewidth\": 2}, \"yaxis\": {\"automargin\": true, \"gridcolor\": \"white\", \"linecolor\": \"white\", \"ticks\": \"\", \"title\": {\"standoff\": 15}, \"zerolinecolor\": \"white\", \"zerolinewidth\": 2}}}, \"title\": {\"text\": \"Dotal Misto\"}, \"width\": 1000},\n",
       "                        {\"responsive\": true}\n",
       "                    ).then(function(){\n",
       "                            \n",
       "var gd = document.getElementById('ceb1b64d-8970-4470-977e-c37ff24f4ad6');\n",
       "var x = new MutationObserver(function (mutations, observer) {{\n",
       "        var display = window.getComputedStyle(gd).display;\n",
       "        if (!display || display === 'none') {{\n",
       "            console.log([gd, 'removed!']);\n",
       "            Plotly.purge(gd);\n",
       "            observer.disconnect();\n",
       "        }}\n",
       "}});\n",
       "\n",
       "// Listen for the removal of the full notebook cells\n",
       "var notebookContainer = gd.closest('#notebook-container');\n",
       "if (notebookContainer) {{\n",
       "    x.observe(notebookContainer, {childList: true});\n",
       "}}\n",
       "\n",
       "// Listen for the clearing of the current output cell\n",
       "var outputEl = gd.closest('.output');\n",
       "if (outputEl) {{\n",
       "    x.observe(outputEl, {childList: true});\n",
       "}}\n",
       "\n",
       "                        })\n",
       "                };\n",
       "                });\n",
       "            </script>\n",
       "        </div>"
      ]
     },
     "metadata": {},
     "output_type": "display_data"
    }
   ],
   "source": [
    "fig = go.Figure(data=[go.Surface(z=df_matrix, y=np.array(list(df_matrix.index)), \n",
    "                                 x=np.array(list(df_matrix.columns)))])\n",
    "\n",
    "\n",
    "fig.update_layout(title='Dotal Misto', autosize=True,\n",
    "                  width=1000, height=1000,\n",
    "                  margin=dict(l=65, r=50, b=65, t=90),)\n",
    "\n",
    "fig.show()"
   ]
  },
  {
   "cell_type": "code",
   "execution_count": null,
   "metadata": {},
   "outputs": [],
   "source": []
  }
 ],
 "metadata": {
  "kernel_info": {
   "name": "python3"
  },
  "kernelspec": {
   "display_name": "Python 3",
   "language": "python",
   "name": "python3"
  },
  "language_info": {
   "codemirror_mode": {
    "name": "ipython",
    "version": 3
   },
   "file_extension": ".py",
   "mimetype": "text/x-python",
   "name": "python",
   "nbconvert_exporter": "python",
   "pygments_lexer": "ipython3",
   "version": "3.7.3"
  }
 },
 "nbformat": 4,
 "nbformat_minor": 4
}
